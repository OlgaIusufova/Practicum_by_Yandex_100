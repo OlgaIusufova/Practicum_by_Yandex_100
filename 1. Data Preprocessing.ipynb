{
 "cells": [
  {
   "cell_type": "markdown",
   "metadata": {},
   "source": [
    "# Project description (Analyzing borrowers’ risk of defaulting)\n",
    "\n",
    "Your project is to prepare a report for a bank’s loan division. You’ll need to find out if a customer’s marital status and number of children has an impact on whether they will default on a loan. The bank already has some data on customers’ credit worthiness.\n",
    "\n",
    "Your report will be considered when building a **credit scoring** of a potential customer. A ** credit scoring ** is used to evaluate the ability of a potential borrower to repay their loan.\n",
    "\n",
    "# Description of the data\n",
    "**children:** the number of children in the family <br>\n",
    "**days_employed:** how long the customer has been working <br>\n",
    "**dob_years:** the customer’s age <br>\n",
    "**education:** the customer’s education level <br>\n",
    "**education_id:** identifier for the customer’s education <br>\n",
    "**family_status:** the customer’s marital status <br>\n",
    "**family_status_id:** identifier for the customer’s marital status <br>\n",
    "**gender:** the customer’s gender <br>\n",
    "**income_type:** the customer’s income type <br>\n",
    "**debt:** whether the customer has ever defaulted on a loan <br>\n",
    "**total_income:** monthly income <br>\n",
    "**purpose:** reason for taking out a loan <br>"
   ]
  },
  {
   "cell_type": "markdown",
   "metadata": {},
   "source": [
    "## Open the data file and have a look at the general information. "
   ]
  },
  {
   "cell_type": "code",
   "execution_count": 1,
   "metadata": {},
   "outputs": [
    {
     "name": "stdout",
     "output_type": "stream",
     "text": [
      "<class 'pandas.core.frame.DataFrame'>\n",
      "RangeIndex: 21525 entries, 0 to 21524\n",
      "Data columns (total 12 columns):\n",
      "children            21525 non-null int64\n",
      "days_employed       19351 non-null float64\n",
      "dob_years           21525 non-null int64\n",
      "education           21525 non-null object\n",
      "education_id        21525 non-null int64\n",
      "family_status       21525 non-null object\n",
      "family_status_id    21525 non-null int64\n",
      "gender              21525 non-null object\n",
      "income_type         21525 non-null object\n",
      "debt                21525 non-null int64\n",
      "total_income        19351 non-null float64\n",
      "purpose             21525 non-null object\n",
      "dtypes: float64(2), int64(5), object(5)\n",
      "memory usage: 2.0+ MB\n"
     ]
    }
   ],
   "source": [
    "import pandas as pd\n",
    "credit = pd.read_csv('/datasets/credit_scoring_eng.csv')\n",
    "\n",
    "credit.info()"
   ]
  },
  {
   "cell_type": "code",
   "execution_count": 2,
   "metadata": {},
   "outputs": [
    {
     "data": {
      "text/html": [
       "<div>\n",
       "<style scoped>\n",
       "    .dataframe tbody tr th:only-of-type {\n",
       "        vertical-align: middle;\n",
       "    }\n",
       "\n",
       "    .dataframe tbody tr th {\n",
       "        vertical-align: top;\n",
       "    }\n",
       "\n",
       "    .dataframe thead th {\n",
       "        text-align: right;\n",
       "    }\n",
       "</style>\n",
       "<table border=\"1\" class=\"dataframe\">\n",
       "  <thead>\n",
       "    <tr style=\"text-align: right;\">\n",
       "      <th></th>\n",
       "      <th>children</th>\n",
       "      <th>days_employed</th>\n",
       "      <th>dob_years</th>\n",
       "      <th>education</th>\n",
       "      <th>education_id</th>\n",
       "      <th>family_status</th>\n",
       "      <th>family_status_id</th>\n",
       "      <th>gender</th>\n",
       "      <th>income_type</th>\n",
       "      <th>debt</th>\n",
       "      <th>total_income</th>\n",
       "      <th>purpose</th>\n",
       "    </tr>\n",
       "  </thead>\n",
       "  <tbody>\n",
       "    <tr>\n",
       "      <td>0</td>\n",
       "      <td>1</td>\n",
       "      <td>-8437.673028</td>\n",
       "      <td>42</td>\n",
       "      <td>bachelor's degree</td>\n",
       "      <td>0</td>\n",
       "      <td>married</td>\n",
       "      <td>0</td>\n",
       "      <td>F</td>\n",
       "      <td>employee</td>\n",
       "      <td>0</td>\n",
       "      <td>40620.102</td>\n",
       "      <td>purchase of the house</td>\n",
       "    </tr>\n",
       "    <tr>\n",
       "      <td>1</td>\n",
       "      <td>1</td>\n",
       "      <td>-4024.803754</td>\n",
       "      <td>36</td>\n",
       "      <td>secondary education</td>\n",
       "      <td>1</td>\n",
       "      <td>married</td>\n",
       "      <td>0</td>\n",
       "      <td>F</td>\n",
       "      <td>employee</td>\n",
       "      <td>0</td>\n",
       "      <td>17932.802</td>\n",
       "      <td>car purchase</td>\n",
       "    </tr>\n",
       "    <tr>\n",
       "      <td>2</td>\n",
       "      <td>0</td>\n",
       "      <td>-5623.422610</td>\n",
       "      <td>33</td>\n",
       "      <td>Secondary Education</td>\n",
       "      <td>1</td>\n",
       "      <td>married</td>\n",
       "      <td>0</td>\n",
       "      <td>M</td>\n",
       "      <td>employee</td>\n",
       "      <td>0</td>\n",
       "      <td>23341.752</td>\n",
       "      <td>purchase of the house</td>\n",
       "    </tr>\n",
       "    <tr>\n",
       "      <td>3</td>\n",
       "      <td>3</td>\n",
       "      <td>-4124.747207</td>\n",
       "      <td>32</td>\n",
       "      <td>secondary education</td>\n",
       "      <td>1</td>\n",
       "      <td>married</td>\n",
       "      <td>0</td>\n",
       "      <td>M</td>\n",
       "      <td>employee</td>\n",
       "      <td>0</td>\n",
       "      <td>42820.568</td>\n",
       "      <td>supplementary education</td>\n",
       "    </tr>\n",
       "    <tr>\n",
       "      <td>4</td>\n",
       "      <td>0</td>\n",
       "      <td>340266.072047</td>\n",
       "      <td>53</td>\n",
       "      <td>secondary education</td>\n",
       "      <td>1</td>\n",
       "      <td>civil partnership</td>\n",
       "      <td>1</td>\n",
       "      <td>F</td>\n",
       "      <td>retiree</td>\n",
       "      <td>0</td>\n",
       "      <td>25378.572</td>\n",
       "      <td>to have a wedding</td>\n",
       "    </tr>\n",
       "    <tr>\n",
       "      <td>5</td>\n",
       "      <td>0</td>\n",
       "      <td>-926.185831</td>\n",
       "      <td>27</td>\n",
       "      <td>bachelor's degree</td>\n",
       "      <td>0</td>\n",
       "      <td>civil partnership</td>\n",
       "      <td>1</td>\n",
       "      <td>M</td>\n",
       "      <td>business</td>\n",
       "      <td>0</td>\n",
       "      <td>40922.170</td>\n",
       "      <td>purchase of the house</td>\n",
       "    </tr>\n",
       "    <tr>\n",
       "      <td>6</td>\n",
       "      <td>0</td>\n",
       "      <td>-2879.202052</td>\n",
       "      <td>43</td>\n",
       "      <td>bachelor's degree</td>\n",
       "      <td>0</td>\n",
       "      <td>married</td>\n",
       "      <td>0</td>\n",
       "      <td>F</td>\n",
       "      <td>business</td>\n",
       "      <td>0</td>\n",
       "      <td>38484.156</td>\n",
       "      <td>housing transactions</td>\n",
       "    </tr>\n",
       "    <tr>\n",
       "      <td>7</td>\n",
       "      <td>0</td>\n",
       "      <td>-152.779569</td>\n",
       "      <td>50</td>\n",
       "      <td>SECONDARY EDUCATION</td>\n",
       "      <td>1</td>\n",
       "      <td>married</td>\n",
       "      <td>0</td>\n",
       "      <td>M</td>\n",
       "      <td>employee</td>\n",
       "      <td>0</td>\n",
       "      <td>21731.829</td>\n",
       "      <td>education</td>\n",
       "    </tr>\n",
       "    <tr>\n",
       "      <td>8</td>\n",
       "      <td>2</td>\n",
       "      <td>-6929.865299</td>\n",
       "      <td>35</td>\n",
       "      <td>BACHELOR'S DEGREE</td>\n",
       "      <td>0</td>\n",
       "      <td>civil partnership</td>\n",
       "      <td>1</td>\n",
       "      <td>F</td>\n",
       "      <td>employee</td>\n",
       "      <td>0</td>\n",
       "      <td>15337.093</td>\n",
       "      <td>having a wedding</td>\n",
       "    </tr>\n",
       "    <tr>\n",
       "      <td>9</td>\n",
       "      <td>0</td>\n",
       "      <td>-2188.756445</td>\n",
       "      <td>41</td>\n",
       "      <td>secondary education</td>\n",
       "      <td>1</td>\n",
       "      <td>married</td>\n",
       "      <td>0</td>\n",
       "      <td>M</td>\n",
       "      <td>employee</td>\n",
       "      <td>0</td>\n",
       "      <td>23108.150</td>\n",
       "      <td>purchase of the house for my family</td>\n",
       "    </tr>\n",
       "  </tbody>\n",
       "</table>\n",
       "</div>"
      ],
      "text/plain": [
       "   children  days_employed  dob_years            education  education_id  \\\n",
       "0         1   -8437.673028         42    bachelor's degree             0   \n",
       "1         1   -4024.803754         36  secondary education             1   \n",
       "2         0   -5623.422610         33  Secondary Education             1   \n",
       "3         3   -4124.747207         32  secondary education             1   \n",
       "4         0  340266.072047         53  secondary education             1   \n",
       "5         0    -926.185831         27    bachelor's degree             0   \n",
       "6         0   -2879.202052         43    bachelor's degree             0   \n",
       "7         0    -152.779569         50  SECONDARY EDUCATION             1   \n",
       "8         2   -6929.865299         35    BACHELOR'S DEGREE             0   \n",
       "9         0   -2188.756445         41  secondary education             1   \n",
       "\n",
       "       family_status  family_status_id gender income_type  debt  total_income  \\\n",
       "0            married                 0      F    employee     0     40620.102   \n",
       "1            married                 0      F    employee     0     17932.802   \n",
       "2            married                 0      M    employee     0     23341.752   \n",
       "3            married                 0      M    employee     0     42820.568   \n",
       "4  civil partnership                 1      F     retiree     0     25378.572   \n",
       "5  civil partnership                 1      M    business     0     40922.170   \n",
       "6            married                 0      F    business     0     38484.156   \n",
       "7            married                 0      M    employee     0     21731.829   \n",
       "8  civil partnership                 1      F    employee     0     15337.093   \n",
       "9            married                 0      M    employee     0     23108.150   \n",
       "\n",
       "                               purpose  \n",
       "0                purchase of the house  \n",
       "1                         car purchase  \n",
       "2                purchase of the house  \n",
       "3              supplementary education  \n",
       "4                    to have a wedding  \n",
       "5                purchase of the house  \n",
       "6                 housing transactions  \n",
       "7                            education  \n",
       "8                     having a wedding  \n",
       "9  purchase of the house for my family  "
      ]
     },
     "execution_count": 2,
     "metadata": {},
     "output_type": "execute_result"
    }
   ],
   "source": [
    "credit.head(10)"
   ]
  },
  {
   "cell_type": "markdown",
   "metadata": {},
   "source": [
    "### Conclusion"
   ]
  },
  {
   "cell_type": "markdown",
   "metadata": {},
   "source": [
    "I used the info() method to figure out what type pandas assigned to each column and printed the first 10 rows.\n",
    "- There are missing values in 'days_employed' and 'total_income'.\n",
    "- In 'days_employed' and 'total_income' are of type float64, it is better to correct it to integers for convenience.\n",
    "- There are negative values in 'days_employed', this is either an error or the person may not be working.\n",
    "- In 'days_employed', not all records are in lowercase, but their values are the same. This can interfere with further grouping of data.\n"
   ]
  },
  {
   "cell_type": "markdown",
   "metadata": {},
   "source": [
    "## Data preprocessing"
   ]
  },
  {
   "cell_type": "markdown",
   "metadata": {},
   "source": [
    "### Processing missing values"
   ]
  },
  {
   "cell_type": "code",
   "execution_count": 3,
   "metadata": {},
   "outputs": [
    {
     "name": "stdout",
     "output_type": "stream",
     "text": [
      "[ 0  1  2 -1  3  4 20  5]\n"
     ]
    }
   ],
   "source": [
    "print(credit['children'][credit['total_income'].isnull()].unique())"
   ]
  },
  {
   "cell_type": "code",
   "execution_count": 4,
   "metadata": {},
   "outputs": [],
   "source": [
    "credit['children'] = credit['children'].replace(-1,0)\n",
    "credit['children'] = credit['children'].replace(20,0)\n",
    "credit['children'].fillna(0,inplace=True)\n"
   ]
  },
  {
   "cell_type": "code",
   "execution_count": 5,
   "metadata": {},
   "outputs": [
    {
     "name": "stdout",
     "output_type": "stream",
     "text": [
      "[0 1 2 3 4 5]\n"
     ]
    }
   ],
   "source": [
    "print(credit['children'][credit['total_income'].isnull()].unique())  \n",
    "#First, I checked the unique values in the 'children' column, there were strange values -1 and 20, I replaced them with 0."
   ]
  },
  {
   "cell_type": "code",
   "execution_count": 6,
   "metadata": {},
   "outputs": [
    {
     "data": {
      "text/plain": [
       "2174"
      ]
     },
     "execution_count": 6,
     "metadata": {},
     "output_type": "execute_result"
    }
   ],
   "source": [
    "credit['days_employed'].isnull().sum()"
   ]
  },
  {
   "cell_type": "code",
   "execution_count": 7,
   "metadata": {},
   "outputs": [
    {
     "data": {
      "text/plain": [
       "2174"
      ]
     },
     "execution_count": 7,
     "metadata": {},
     "output_type": "execute_result"
    }
   ],
   "source": [
    "credit['total_income'].isnull().sum()"
   ]
  },
  {
   "cell_type": "code",
   "execution_count": 8,
   "metadata": {},
   "outputs": [],
   "source": [
    "credit['days_employed'] = credit['days_employed'].fillna(value=0)  \n",
    "\n",
    "#Then I looked at the number of missing values (2174) and I replaced null values with 0 in order to fill in \n",
    "# those missing values."
   ]
  },
  {
   "cell_type": "code",
   "execution_count": 9,
   "metadata": {},
   "outputs": [
    {
     "data": {
      "text/plain": [
       "0"
      ]
     },
     "execution_count": 9,
     "metadata": {},
     "output_type": "execute_result"
    }
   ],
   "source": [
    "credit['days_employed'].isnull().sum()"
   ]
  },
  {
   "cell_type": "code",
   "execution_count": 10,
   "metadata": {},
   "outputs": [
    {
     "name": "stdout",
     "output_type": "stream",
     "text": [
      "<class 'pandas.core.frame.DataFrame'>\n",
      "RangeIndex: 21525 entries, 0 to 21524\n",
      "Data columns (total 12 columns):\n",
      "children            21525 non-null int64\n",
      "days_employed       21525 non-null float64\n",
      "dob_years           21525 non-null int64\n",
      "education           21525 non-null object\n",
      "education_id        21525 non-null int64\n",
      "family_status       21525 non-null object\n",
      "family_status_id    21525 non-null int64\n",
      "gender              21525 non-null object\n",
      "income_type         21525 non-null object\n",
      "debt                21525 non-null int64\n",
      "total_income        19351 non-null float64\n",
      "purpose             21525 non-null object\n",
      "dtypes: float64(2), int64(5), object(5)\n",
      "memory usage: 2.0+ MB\n"
     ]
    }
   ],
   "source": [
    "credit.info()"
   ]
  },
  {
   "cell_type": "code",
   "execution_count": 11,
   "metadata": {},
   "outputs": [
    {
     "data": {
      "text/plain": [
       "children             0.000000\n",
       "days_employed        0.000000\n",
       "dob_years            0.000000\n",
       "education            0.000000\n",
       "education_id         0.000000\n",
       "family_status        0.000000\n",
       "family_status_id     0.000000\n",
       "gender               0.000000\n",
       "income_type          0.000000\n",
       "debt                 0.000000\n",
       "total_income        10.099884\n",
       "purpose              0.000000\n",
       "dtype: float64"
      ]
     },
     "execution_count": 11,
     "metadata": {},
     "output_type": "execute_result"
    }
   ],
   "source": [
    "credit.isna().sum()*100/len(credit)\n",
    "pd.DataFrame(round((credit.isna().mean()*100),2)).style.background_gradient('coolwarm')\n",
    "credit.isna().mean() * 100\n",
    "\n"
   ]
  },
  {
   "cell_type": "code",
   "execution_count": 12,
   "metadata": {},
   "outputs": [],
   "source": [
    "#credit['days_employed_in_years'] = credit['days_employed']/365"
   ]
  },
  {
   "cell_type": "code",
   "execution_count": 13,
   "metadata": {},
   "outputs": [],
   "source": [
    "#credit['days_employed_in_years'].head(20)"
   ]
  },
  {
   "cell_type": "code",
   "execution_count": 14,
   "metadata": {},
   "outputs": [],
   "source": [
    "#credit['days_employed_in_years'].loc[credit['days_employed_in_years']>100]\n",
    "\n",
    "#I divided 'days_employed' by the number of days in a year for clarity, it turned out that many \n",
    "# have been working for more than 100 years, this is not possible."
   ]
  },
  {
   "cell_type": "code",
   "execution_count": 15,
   "metadata": {},
   "outputs": [
    {
     "data": {
      "text/plain": [
       "income_type\n",
       "business                        5085\n",
       "civil servant                   1459\n",
       "employee                       11119\n",
       "entrepreneur                       2\n",
       "paternity / maternity leave        1\n",
       "retiree                         3856\n",
       "student                            1\n",
       "unemployed                         2\n",
       "Name: dob_years, dtype: int64"
      ]
     },
     "execution_count": 15,
     "metadata": {},
     "output_type": "execute_result"
    }
   ],
   "source": [
    "credit.groupby('income_type')['dob_years'].count()"
   ]
  },
  {
   "cell_type": "code",
   "execution_count": 16,
   "metadata": {},
   "outputs": [],
   "source": [
    "del credit['days_employed'] \n",
    "\n",
    "#Also, negative values remain in the column. Since the 'days_employed' column shows strange numbers, \n",
    "#I decided to delete it. In real life, it would be possible to contact the employee who provided this data \n",
    "#and clarify with him, but unfortunately now there is no such possibility.\n",
    "# !! Also, in the future, we will not need this data to solve the main issues of the project.\n"
   ]
  },
  {
   "cell_type": "code",
   "execution_count": 17,
   "metadata": {},
   "outputs": [
    {
     "data": {
      "text/plain": [
       "Index(['children', 'dob_years', 'education', 'education_id', 'family_status',\n",
       "       'family_status_id', 'gender', 'income_type', 'debt', 'total_income',\n",
       "       'purpose'],\n",
       "      dtype='object')"
      ]
     },
     "execution_count": 17,
     "metadata": {},
     "output_type": "execute_result"
    }
   ],
   "source": [
    "credit.columns"
   ]
  },
  {
   "cell_type": "code",
   "execution_count": 18,
   "metadata": {},
   "outputs": [],
   "source": [
    "# I replaced null values with the median.\n",
    "                                \n",
    "total_income_median = credit['total_income'].median()\n",
    "credit['total_income'] = credit['total_income'].fillna(total_income_median)    "
   ]
  },
  {
   "cell_type": "code",
   "execution_count": 19,
   "metadata": {},
   "outputs": [
    {
     "data": {
      "text/plain": [
       "children            0\n",
       "dob_years           0\n",
       "education           0\n",
       "education_id        0\n",
       "family_status       0\n",
       "family_status_id    0\n",
       "gender              0\n",
       "income_type         0\n",
       "debt                0\n",
       "total_income        0\n",
       "purpose             0\n",
       "dtype: int64"
      ]
     },
     "execution_count": 19,
     "metadata": {},
     "output_type": "execute_result"
    }
   ],
   "source": [
    "credit.isna().sum()"
   ]
  },
  {
   "cell_type": "markdown",
   "metadata": {},
   "source": [
    "### Conclusion"
   ]
  },
  {
   "cell_type": "markdown",
   "metadata": {},
   "source": [
    "- The number of children was changed from -1 and 20 to 0.\n",
    "- All missing values have been filled in.\n",
    "- Column 'days_employed' was deleted due to incorrect data.\n"
   ]
  },
  {
   "cell_type": "markdown",
   "metadata": {},
   "source": [
    "### Data type replacement"
   ]
  },
  {
   "cell_type": "code",
   "execution_count": 20,
   "metadata": {},
   "outputs": [
    {
     "name": "stdout",
     "output_type": "stream",
     "text": [
      "<class 'pandas.core.frame.DataFrame'>\n",
      "RangeIndex: 21525 entries, 0 to 21524\n",
      "Data columns (total 11 columns):\n",
      "children            21525 non-null int64\n",
      "dob_years           21525 non-null int64\n",
      "education           21525 non-null object\n",
      "education_id        21525 non-null int64\n",
      "family_status       21525 non-null object\n",
      "family_status_id    21525 non-null int64\n",
      "gender              21525 non-null object\n",
      "income_type         21525 non-null object\n",
      "debt                21525 non-null int64\n",
      "total_income        21525 non-null float64\n",
      "purpose             21525 non-null object\n",
      "dtypes: float64(1), int64(5), object(5)\n",
      "memory usage: 1.8+ MB\n"
     ]
    }
   ],
   "source": [
    "credit.info()"
   ]
  },
  {
   "cell_type": "code",
   "execution_count": 21,
   "metadata": {},
   "outputs": [],
   "source": [
    "credit['total_income'] = credit['total_income'].astype('int')"
   ]
  },
  {
   "cell_type": "code",
   "execution_count": 22,
   "metadata": {},
   "outputs": [
    {
     "data": {
      "text/html": [
       "<div>\n",
       "<style scoped>\n",
       "    .dataframe tbody tr th:only-of-type {\n",
       "        vertical-align: middle;\n",
       "    }\n",
       "\n",
       "    .dataframe tbody tr th {\n",
       "        vertical-align: top;\n",
       "    }\n",
       "\n",
       "    .dataframe thead th {\n",
       "        text-align: right;\n",
       "    }\n",
       "</style>\n",
       "<table border=\"1\" class=\"dataframe\">\n",
       "  <thead>\n",
       "    <tr style=\"text-align: right;\">\n",
       "      <th></th>\n",
       "      <th>children</th>\n",
       "      <th>dob_years</th>\n",
       "      <th>education</th>\n",
       "      <th>education_id</th>\n",
       "      <th>family_status</th>\n",
       "      <th>family_status_id</th>\n",
       "      <th>gender</th>\n",
       "      <th>income_type</th>\n",
       "      <th>debt</th>\n",
       "      <th>total_income</th>\n",
       "      <th>purpose</th>\n",
       "    </tr>\n",
       "  </thead>\n",
       "  <tbody>\n",
       "    <tr>\n",
       "      <td>0</td>\n",
       "      <td>1</td>\n",
       "      <td>42</td>\n",
       "      <td>bachelor's degree</td>\n",
       "      <td>0</td>\n",
       "      <td>married</td>\n",
       "      <td>0</td>\n",
       "      <td>F</td>\n",
       "      <td>employee</td>\n",
       "      <td>0</td>\n",
       "      <td>40620</td>\n",
       "      <td>purchase of the house</td>\n",
       "    </tr>\n",
       "    <tr>\n",
       "      <td>1</td>\n",
       "      <td>1</td>\n",
       "      <td>36</td>\n",
       "      <td>secondary education</td>\n",
       "      <td>1</td>\n",
       "      <td>married</td>\n",
       "      <td>0</td>\n",
       "      <td>F</td>\n",
       "      <td>employee</td>\n",
       "      <td>0</td>\n",
       "      <td>17932</td>\n",
       "      <td>car purchase</td>\n",
       "    </tr>\n",
       "    <tr>\n",
       "      <td>2</td>\n",
       "      <td>0</td>\n",
       "      <td>33</td>\n",
       "      <td>Secondary Education</td>\n",
       "      <td>1</td>\n",
       "      <td>married</td>\n",
       "      <td>0</td>\n",
       "      <td>M</td>\n",
       "      <td>employee</td>\n",
       "      <td>0</td>\n",
       "      <td>23341</td>\n",
       "      <td>purchase of the house</td>\n",
       "    </tr>\n",
       "    <tr>\n",
       "      <td>3</td>\n",
       "      <td>3</td>\n",
       "      <td>32</td>\n",
       "      <td>secondary education</td>\n",
       "      <td>1</td>\n",
       "      <td>married</td>\n",
       "      <td>0</td>\n",
       "      <td>M</td>\n",
       "      <td>employee</td>\n",
       "      <td>0</td>\n",
       "      <td>42820</td>\n",
       "      <td>supplementary education</td>\n",
       "    </tr>\n",
       "    <tr>\n",
       "      <td>4</td>\n",
       "      <td>0</td>\n",
       "      <td>53</td>\n",
       "      <td>secondary education</td>\n",
       "      <td>1</td>\n",
       "      <td>civil partnership</td>\n",
       "      <td>1</td>\n",
       "      <td>F</td>\n",
       "      <td>retiree</td>\n",
       "      <td>0</td>\n",
       "      <td>25378</td>\n",
       "      <td>to have a wedding</td>\n",
       "    </tr>\n",
       "    <tr>\n",
       "      <td>5</td>\n",
       "      <td>0</td>\n",
       "      <td>27</td>\n",
       "      <td>bachelor's degree</td>\n",
       "      <td>0</td>\n",
       "      <td>civil partnership</td>\n",
       "      <td>1</td>\n",
       "      <td>M</td>\n",
       "      <td>business</td>\n",
       "      <td>0</td>\n",
       "      <td>40922</td>\n",
       "      <td>purchase of the house</td>\n",
       "    </tr>\n",
       "    <tr>\n",
       "      <td>6</td>\n",
       "      <td>0</td>\n",
       "      <td>43</td>\n",
       "      <td>bachelor's degree</td>\n",
       "      <td>0</td>\n",
       "      <td>married</td>\n",
       "      <td>0</td>\n",
       "      <td>F</td>\n",
       "      <td>business</td>\n",
       "      <td>0</td>\n",
       "      <td>38484</td>\n",
       "      <td>housing transactions</td>\n",
       "    </tr>\n",
       "    <tr>\n",
       "      <td>7</td>\n",
       "      <td>0</td>\n",
       "      <td>50</td>\n",
       "      <td>SECONDARY EDUCATION</td>\n",
       "      <td>1</td>\n",
       "      <td>married</td>\n",
       "      <td>0</td>\n",
       "      <td>M</td>\n",
       "      <td>employee</td>\n",
       "      <td>0</td>\n",
       "      <td>21731</td>\n",
       "      <td>education</td>\n",
       "    </tr>\n",
       "    <tr>\n",
       "      <td>8</td>\n",
       "      <td>2</td>\n",
       "      <td>35</td>\n",
       "      <td>BACHELOR'S DEGREE</td>\n",
       "      <td>0</td>\n",
       "      <td>civil partnership</td>\n",
       "      <td>1</td>\n",
       "      <td>F</td>\n",
       "      <td>employee</td>\n",
       "      <td>0</td>\n",
       "      <td>15337</td>\n",
       "      <td>having a wedding</td>\n",
       "    </tr>\n",
       "    <tr>\n",
       "      <td>9</td>\n",
       "      <td>0</td>\n",
       "      <td>41</td>\n",
       "      <td>secondary education</td>\n",
       "      <td>1</td>\n",
       "      <td>married</td>\n",
       "      <td>0</td>\n",
       "      <td>M</td>\n",
       "      <td>employee</td>\n",
       "      <td>0</td>\n",
       "      <td>23108</td>\n",
       "      <td>purchase of the house for my family</td>\n",
       "    </tr>\n",
       "  </tbody>\n",
       "</table>\n",
       "</div>"
      ],
      "text/plain": [
       "   children  dob_years            education  education_id      family_status  \\\n",
       "0         1         42    bachelor's degree             0            married   \n",
       "1         1         36  secondary education             1            married   \n",
       "2         0         33  Secondary Education             1            married   \n",
       "3         3         32  secondary education             1            married   \n",
       "4         0         53  secondary education             1  civil partnership   \n",
       "5         0         27    bachelor's degree             0  civil partnership   \n",
       "6         0         43    bachelor's degree             0            married   \n",
       "7         0         50  SECONDARY EDUCATION             1            married   \n",
       "8         2         35    BACHELOR'S DEGREE             0  civil partnership   \n",
       "9         0         41  secondary education             1            married   \n",
       "\n",
       "   family_status_id gender income_type  debt  total_income  \\\n",
       "0                 0      F    employee     0         40620   \n",
       "1                 0      F    employee     0         17932   \n",
       "2                 0      M    employee     0         23341   \n",
       "3                 0      M    employee     0         42820   \n",
       "4                 1      F     retiree     0         25378   \n",
       "5                 1      M    business     0         40922   \n",
       "6                 0      F    business     0         38484   \n",
       "7                 0      M    employee     0         21731   \n",
       "8                 1      F    employee     0         15337   \n",
       "9                 0      M    employee     0         23108   \n",
       "\n",
       "                               purpose  \n",
       "0                purchase of the house  \n",
       "1                         car purchase  \n",
       "2                purchase of the house  \n",
       "3              supplementary education  \n",
       "4                    to have a wedding  \n",
       "5                purchase of the house  \n",
       "6                 housing transactions  \n",
       "7                            education  \n",
       "8                     having a wedding  \n",
       "9  purchase of the house for my family  "
      ]
     },
     "execution_count": 22,
     "metadata": {},
     "output_type": "execute_result"
    }
   ],
   "source": [
    "credit.head(10)"
   ]
  },
  {
   "cell_type": "markdown",
   "metadata": {},
   "source": [
    "### Conclusion"
   ]
  },
  {
   "cell_type": "markdown",
   "metadata": {},
   "source": [
    "Float64 value has been replaced with integers\n"
   ]
  },
  {
   "cell_type": "markdown",
   "metadata": {},
   "source": [
    "### Processing duplicates"
   ]
  },
  {
   "cell_type": "code",
   "execution_count": 23,
   "metadata": {},
   "outputs": [
    {
     "data": {
      "text/plain": [
       "secondary education    13750\n",
       "bachelor's degree       4718\n",
       "SECONDARY EDUCATION      772\n",
       "Secondary Education      711\n",
       "some college             668\n",
       "BACHELOR'S DEGREE        274\n",
       "Bachelor's Degree        268\n",
       "primary education        250\n",
       "Some College              47\n",
       "SOME COLLEGE              29\n",
       "PRIMARY EDUCATION         17\n",
       "Primary Education         15\n",
       "graduate degree            4\n",
       "Graduate Degree            1\n",
       "GRADUATE DEGREE            1\n",
       "Name: education, dtype: int64"
      ]
     },
     "execution_count": 23,
     "metadata": {},
     "output_type": "execute_result"
    }
   ],
   "source": [
    "credit['education'].value_counts()"
   ]
  },
  {
   "cell_type": "code",
   "execution_count": 24,
   "metadata": {},
   "outputs": [
    {
     "data": {
      "text/plain": [
       "secondary education    15233\n",
       "bachelor's degree       5260\n",
       "some college             744\n",
       "primary education        282\n",
       "graduate degree            6\n",
       "Name: education, dtype: int64"
      ]
     },
     "execution_count": 24,
     "metadata": {},
     "output_type": "execute_result"
    }
   ],
   "source": [
    "credit['education'] = credit['education'].str.lower()\n",
    "credit['education'].value_counts()\n",
    "\n"
   ]
  },
  {
   "cell_type": "code",
   "execution_count": 25,
   "metadata": {},
   "outputs": [
    {
     "data": {
      "text/plain": [
       "married              12380\n",
       "civil partnership     4177\n",
       "unmarried             2813\n",
       "divorced              1195\n",
       "widow / widower        960\n",
       "Name: family_status, dtype: int64"
      ]
     },
     "execution_count": 25,
     "metadata": {},
     "output_type": "execute_result"
    }
   ],
   "source": [
    "credit['family_status'].value_counts()"
   ]
  },
  {
   "cell_type": "code",
   "execution_count": 26,
   "metadata": {},
   "outputs": [
    {
     "data": {
      "text/plain": [
       "F      14236\n",
       "M       7288\n",
       "XNA        1\n",
       "Name: gender, dtype: int64"
      ]
     },
     "execution_count": 26,
     "metadata": {},
     "output_type": "execute_result"
    }
   ],
   "source": [
    "credit['gender'].value_counts() \n"
   ]
  },
  {
   "cell_type": "code",
   "execution_count": 27,
   "metadata": {},
   "outputs": [
    {
     "data": {
      "text/plain": [
       "wedding ceremony                            797\n",
       "having a wedding                            777\n",
       "to have a wedding                           774\n",
       "real estate transactions                    676\n",
       "buy commercial real estate                  664\n",
       "housing transactions                        653\n",
       "buying property for renting out             653\n",
       "transactions with commercial real estate    651\n",
       "housing                                     647\n",
       "purchase of the house                       647\n",
       "purchase of the house for my family         641\n",
       "construction of own property                635\n",
       "property                                    634\n",
       "transactions with my real estate            630\n",
       "building a real estate                      626\n",
       "buy real estate                             624\n",
       "building a property                         620\n",
       "purchase of my own house                    620\n",
       "housing renovation                          612\n",
       "buy residential real estate                 607\n",
       "buying my own car                           505\n",
       "going to university                         496\n",
       "car                                         495\n",
       "second-hand car purchase                    489\n",
       "to own a car                                480\n",
       "buying a second-hand car                    479\n",
       "cars                                        478\n",
       "to buy a car                                472\n",
       "supplementary education                     462\n",
       "car purchase                                462\n",
       "purchase of a car                           455\n",
       "university education                        453\n",
       "to get a supplementary education            447\n",
       "education                                   447\n",
       "getting an education                        443\n",
       "profile education                           436\n",
       "getting higher education                    426\n",
       "to become educated                          412\n",
       "Name: purpose, dtype: int64"
      ]
     },
     "execution_count": 27,
     "metadata": {},
     "output_type": "execute_result"
    }
   ],
   "source": [
    "credit['purpose'].value_counts()"
   ]
  },
  {
   "cell_type": "code",
   "execution_count": 28,
   "metadata": {},
   "outputs": [
    {
     "data": {
      "text/plain": [
       "71"
      ]
     },
     "execution_count": 28,
     "metadata": {},
     "output_type": "execute_result"
    }
   ],
   "source": [
    "credit.duplicated().sum()"
   ]
  },
  {
   "cell_type": "code",
   "execution_count": 29,
   "metadata": {},
   "outputs": [],
   "source": [
    "credit = credit.drop_duplicates()"
   ]
  },
  {
   "cell_type": "code",
   "execution_count": 30,
   "metadata": {},
   "outputs": [
    {
     "data": {
      "text/plain": [
       "0"
      ]
     },
     "execution_count": 30,
     "metadata": {},
     "output_type": "execute_result"
    }
   ],
   "source": [
    "credit.duplicated().sum()"
   ]
  },
  {
   "cell_type": "markdown",
   "metadata": {},
   "source": [
    "### Conclusion"
   ]
  },
  {
   "cell_type": "markdown",
   "metadata": {},
   "source": [
    "- In the \"education\" column, everything has been corrected to lowercase letters.\n",
    "- The columns 'family_status', 'gender' and 'purpose' were checked. There was one obscure value \"XNA\" found in the 'gender' column, but it will not affect the overall data. In the 'purpose' column there are many similar reasons for taking out a loan, but written in different words, I will correct them using lemmatization.\n",
    "- Duplicates have been removed.\n"
   ]
  },
  {
   "cell_type": "markdown",
   "metadata": {},
   "source": [
    "### Categorizing Data"
   ]
  },
  {
   "cell_type": "code",
   "execution_count": 31,
   "metadata": {},
   "outputs": [
    {
     "data": {
      "text/plain": [
       "array(['purchase of the house', 'car purchase', 'supplementary education',\n",
       "       'to have a wedding', 'housing transactions', 'education',\n",
       "       'having a wedding', 'purchase of the house for my family',\n",
       "       'buy real estate', 'buy commercial real estate',\n",
       "       'buy residential real estate', 'construction of own property',\n",
       "       'property', 'building a property', 'buying a second-hand car',\n",
       "       'buying my own car', 'transactions with commercial real estate',\n",
       "       'building a real estate', 'housing',\n",
       "       'transactions with my real estate', 'cars', 'to become educated',\n",
       "       'second-hand car purchase', 'getting an education', 'car',\n",
       "       'wedding ceremony', 'to get a supplementary education',\n",
       "       'purchase of my own house', 'real estate transactions',\n",
       "       'getting higher education', 'to own a car', 'purchase of a car',\n",
       "       'profile education', 'university education',\n",
       "       'buying property for renting out', 'to buy a car',\n",
       "       'housing renovation', 'going to university'], dtype=object)"
      ]
     },
     "execution_count": 31,
     "metadata": {},
     "output_type": "execute_result"
    }
   ],
   "source": [
    "credit.purpose.unique()"
   ]
  },
  {
   "cell_type": "code",
   "execution_count": 32,
   "metadata": {},
   "outputs": [],
   "source": [
    "from pymystem3 import Mystem\n"
   ]
  },
  {
   "cell_type": "code",
   "execution_count": 33,
   "metadata": {},
   "outputs": [],
   "source": [
    "m = Mystem()"
   ]
  },
  {
   "cell_type": "code",
   "execution_count": 34,
   "metadata": {},
   "outputs": [
    {
     "data": {
      "text/plain": [
       "['buy', ' ', 'residential', ' ', 'real', ' ', 'estate', '\\n']"
      ]
     },
     "execution_count": 34,
     "metadata": {},
     "output_type": "execute_result"
    }
   ],
   "source": [
    "m.lemmatize('buy residential real estate')"
   ]
  },
  {
   "cell_type": "code",
   "execution_count": 35,
   "metadata": {},
   "outputs": [],
   "source": [
    "estate_category = ['housing transactions', 'house','purchase', 'estate', 'property', 'housing']\n",
    "car_category = ['car purchase', 'buying a second-hand car', 'buying my own car', 'cars', 'second-hand car purchase', \n",
    "                'car','to own a car', 'purchase of a car', 'to buy a car']\n",
    "education_category = ['supplementary education', 'education', 'educated', 'getting an education',\n",
    "                      'to get a supplementary education', 'getting higher education', 'profile education', \n",
    "                      'university education', 'university']\n",
    "wedding_category = [\"wedding\",'having a wedding','wedding ceremony']\n"
   ]
  },
  {
   "cell_type": "code",
   "execution_count": 36,
   "metadata": {},
   "outputs": [],
   "source": [
    "def lemmatization_func(line):\n",
    "    lemmatized = m.lemmatize(line)\n",
    "    return lemmatized"
   ]
  },
  {
   "cell_type": "code",
   "execution_count": 37,
   "metadata": {},
   "outputs": [
    {
     "data": {
      "text/plain": [
       "False"
      ]
     },
     "execution_count": 37,
     "metadata": {},
     "output_type": "execute_result"
    }
   ],
   "source": [
    "any(word in lemmatization_func('car purchase') for word in education_category)"
   ]
  },
  {
   "cell_type": "code",
   "execution_count": 38,
   "metadata": {},
   "outputs": [
    {
     "data": {
      "text/plain": [
       "True"
      ]
     },
     "execution_count": 38,
     "metadata": {},
     "output_type": "execute_result"
    }
   ],
   "source": [
    "any(word in lemmatization_func('car purchase') for word in car_category)"
   ]
  },
  {
   "cell_type": "code",
   "execution_count": 39,
   "metadata": {},
   "outputs": [],
   "source": [
    "def lemmatization_func(line):\n",
    "    lemmatized = m.lemmatize(line)\n",
    "    lemmatized = [word.lower() for word in lemmatized]\n",
    "    if any(word in lemmatized for word in estate_category):\n",
    "        return 'estate'\n",
    "    elif any(word in lemmatized for word in car_category):\n",
    "        return 'car'\n",
    "    elif any(word in lemmatized for word in education_category):\n",
    "        return 'education'\n",
    "    elif any(word in lemmatized for word in wedding_category):\n",
    "        return 'wedding'\n",
    "    else:\n",
    "        return 'other'"
   ]
  },
  {
   "cell_type": "code",
   "execution_count": 40,
   "metadata": {},
   "outputs": [],
   "source": [
    "credit['clean_purchase'] = credit['purpose'].apply(lemmatization_func)"
   ]
  },
  {
   "cell_type": "code",
   "execution_count": 41,
   "metadata": {},
   "outputs": [
    {
     "data": {
      "text/plain": [
       "estate       12213\n",
       "education     4013\n",
       "car           2904\n",
       "wedding       2324\n",
       "Name: clean_purchase, dtype: int64"
      ]
     },
     "execution_count": 41,
     "metadata": {},
     "output_type": "execute_result"
    }
   ],
   "source": [
    "credit['clean_purchase'].value_counts()"
   ]
  },
  {
   "cell_type": "markdown",
   "metadata": {},
   "source": [
    "### Conclusion"
   ]
  },
  {
   "cell_type": "markdown",
   "metadata": {},
   "source": [
    "Now it is convenient to work with the data in the purpose column - they are all brought to the 4th categories.\n"
   ]
  },
  {
   "cell_type": "markdown",
   "metadata": {},
   "source": [
    "## Answer these questions"
   ]
  },
  {
   "cell_type": "markdown",
   "metadata": {},
   "source": [
    "- Is there a relation between having kids and repaying a loan on time?"
   ]
  },
  {
   "cell_type": "code",
   "execution_count": 42,
   "metadata": {},
   "outputs": [
    {
     "data": {
      "text/html": [
       "<div>\n",
       "<style scoped>\n",
       "    .dataframe tbody tr th:only-of-type {\n",
       "        vertical-align: middle;\n",
       "    }\n",
       "\n",
       "    .dataframe tbody tr th {\n",
       "        vertical-align: top;\n",
       "    }\n",
       "\n",
       "    .dataframe thead th {\n",
       "        text-align: right;\n",
       "    }\n",
       "</style>\n",
       "<table border=\"1\" class=\"dataframe\">\n",
       "  <thead>\n",
       "    <tr style=\"text-align: right;\">\n",
       "      <th>debt</th>\n",
       "      <th>0</th>\n",
       "      <th>1</th>\n",
       "    </tr>\n",
       "    <tr>\n",
       "      <th>children</th>\n",
       "      <th></th>\n",
       "      <th></th>\n",
       "    </tr>\n",
       "  </thead>\n",
       "  <tbody>\n",
       "    <tr>\n",
       "      <td>0</td>\n",
       "      <td>13142.0</td>\n",
       "      <td>1072.0</td>\n",
       "    </tr>\n",
       "    <tr>\n",
       "      <td>1</td>\n",
       "      <td>4364.0</td>\n",
       "      <td>444.0</td>\n",
       "    </tr>\n",
       "    <tr>\n",
       "      <td>2</td>\n",
       "      <td>1858.0</td>\n",
       "      <td>194.0</td>\n",
       "    </tr>\n",
       "    <tr>\n",
       "      <td>3</td>\n",
       "      <td>303.0</td>\n",
       "      <td>27.0</td>\n",
       "    </tr>\n",
       "    <tr>\n",
       "      <td>4</td>\n",
       "      <td>37.0</td>\n",
       "      <td>4.0</td>\n",
       "    </tr>\n",
       "    <tr>\n",
       "      <td>5</td>\n",
       "      <td>9.0</td>\n",
       "      <td>NaN</td>\n",
       "    </tr>\n",
       "  </tbody>\n",
       "</table>\n",
       "</div>"
      ],
      "text/plain": [
       "debt            0       1\n",
       "children                 \n",
       "0         13142.0  1072.0\n",
       "1          4364.0   444.0\n",
       "2          1858.0   194.0\n",
       "3           303.0    27.0\n",
       "4            37.0     4.0\n",
       "5             9.0     NaN"
      ]
     },
     "execution_count": 42,
     "metadata": {},
     "output_type": "execute_result"
    }
   ],
   "source": [
    "children_debt = credit.pivot_table(index=['children'], columns=['debt'], values='education', aggfunc='count')\n",
    "children_debt"
   ]
  },
  {
   "cell_type": "code",
   "execution_count": 43,
   "metadata": {},
   "outputs": [
    {
     "data": {
      "text/plain": [
       "children\n",
       "0    7.541860\n",
       "1    9.234609\n",
       "2    9.454191\n",
       "3    8.181818\n",
       "4    9.756098\n",
       "5         NaN\n",
       "dtype: float64"
      ]
     },
     "execution_count": 43,
     "metadata": {},
     "output_type": "execute_result"
    }
   ],
   "source": [
    "children_debt[1] / (children_debt[0] + children_debt[1]) *100\n",
    "#percentage of no repaying a loan on time"
   ]
  },
  {
   "cell_type": "markdown",
   "metadata": {},
   "source": [
    "### Conclusion"
   ]
  },
  {
   "cell_type": "markdown",
   "metadata": {},
   "source": [
    "Based on the percentages obtained, it turns out that childless people pay out loans 1.7% better than people with children (that is, it is preferable to give them a loan, all other things being equal).\n",
    "If there are children, then it is not so important how many there are; the percentage of unpaid payments will not differ very much (from 8.1 to 9.7 percent).\n",
    "The table shows that people who have 5 children all paid off the loan on time. But in fact there are only 9 of them, so it is impossible to rely on this data.\n"
   ]
  },
  {
   "cell_type": "markdown",
   "metadata": {},
   "source": [
    "- Is there a relation between marital status and repaying a loan on time?"
   ]
  },
  {
   "cell_type": "code",
   "execution_count": 44,
   "metadata": {},
   "outputs": [
    {
     "data": {
      "text/html": [
       "<div>\n",
       "<style scoped>\n",
       "    .dataframe tbody tr th:only-of-type {\n",
       "        vertical-align: middle;\n",
       "    }\n",
       "\n",
       "    .dataframe tbody tr th {\n",
       "        vertical-align: top;\n",
       "    }\n",
       "\n",
       "    .dataframe thead th {\n",
       "        text-align: right;\n",
       "    }\n",
       "</style>\n",
       "<table border=\"1\" class=\"dataframe\">\n",
       "  <thead>\n",
       "    <tr style=\"text-align: right;\">\n",
       "      <th>debt</th>\n",
       "      <th>0</th>\n",
       "      <th>1</th>\n",
       "    </tr>\n",
       "    <tr>\n",
       "      <th>family_status</th>\n",
       "      <th></th>\n",
       "      <th></th>\n",
       "    </tr>\n",
       "  </thead>\n",
       "  <tbody>\n",
       "    <tr>\n",
       "      <td>civil partnership</td>\n",
       "      <td>3763</td>\n",
       "      <td>388</td>\n",
       "    </tr>\n",
       "    <tr>\n",
       "      <td>divorced</td>\n",
       "      <td>1110</td>\n",
       "      <td>85</td>\n",
       "    </tr>\n",
       "    <tr>\n",
       "      <td>married</td>\n",
       "      <td>11408</td>\n",
       "      <td>931</td>\n",
       "    </tr>\n",
       "    <tr>\n",
       "      <td>unmarried</td>\n",
       "      <td>2536</td>\n",
       "      <td>274</td>\n",
       "    </tr>\n",
       "    <tr>\n",
       "      <td>widow / widower</td>\n",
       "      <td>896</td>\n",
       "      <td>63</td>\n",
       "    </tr>\n",
       "  </tbody>\n",
       "</table>\n",
       "</div>"
      ],
      "text/plain": [
       "debt                   0    1\n",
       "family_status                \n",
       "civil partnership   3763  388\n",
       "divorced            1110   85\n",
       "married            11408  931\n",
       "unmarried           2536  274\n",
       "widow / widower      896   63"
      ]
     },
     "execution_count": 44,
     "metadata": {},
     "output_type": "execute_result"
    }
   ],
   "source": [
    "marital_status_debt = credit.pivot_table(index=['family_status'], columns=['debt'], values='family_status_id', aggfunc='count')\n",
    "marital_status_debt"
   ]
  },
  {
   "cell_type": "code",
   "execution_count": 45,
   "metadata": {},
   "outputs": [
    {
     "data": {
      "text/plain": [
       "family_status\n",
       "civil partnership    9.347145\n",
       "divorced             7.112971\n",
       "married              7.545182\n",
       "unmarried            9.750890\n",
       "widow / widower      6.569343\n",
       "dtype: float64"
      ]
     },
     "execution_count": 45,
     "metadata": {},
     "output_type": "execute_result"
    }
   ],
   "source": [
    "marital_status_debt[1] / (marital_status_debt[0] + marital_status_debt[1]) *100"
   ]
  },
  {
   "cell_type": "markdown",
   "metadata": {},
   "source": [
    "### Conclusion"
   ]
  },
  {
   "cell_type": "markdown",
   "metadata": {},
   "source": [
    "From the data obtained, it is clear that widowers are the best to repay the debt. Next come the married and divorced. "
   ]
  },
  {
   "cell_type": "markdown",
   "metadata": {},
   "source": [
    "- Is there a relation between income level and repaying a loan on time?"
   ]
  },
  {
   "cell_type": "code",
   "execution_count": 46,
   "metadata": {},
   "outputs": [
    {
     "data": {
      "text/html": [
       "<div>\n",
       "<style scoped>\n",
       "    .dataframe tbody tr th:only-of-type {\n",
       "        vertical-align: middle;\n",
       "    }\n",
       "\n",
       "    .dataframe tbody tr th {\n",
       "        vertical-align: top;\n",
       "    }\n",
       "\n",
       "    .dataframe thead th {\n",
       "        text-align: right;\n",
       "    }\n",
       "</style>\n",
       "<table border=\"1\" class=\"dataframe\">\n",
       "  <thead>\n",
       "    <tr style=\"text-align: right;\">\n",
       "      <th></th>\n",
       "      <th>children</th>\n",
       "      <th>dob_years</th>\n",
       "      <th>education</th>\n",
       "      <th>education_id</th>\n",
       "      <th>family_status</th>\n",
       "      <th>family_status_id</th>\n",
       "      <th>gender</th>\n",
       "      <th>income_type</th>\n",
       "      <th>debt</th>\n",
       "      <th>total_income</th>\n",
       "      <th>purpose</th>\n",
       "      <th>clean_purchase</th>\n",
       "    </tr>\n",
       "    <tr>\n",
       "      <th>total_income_category</th>\n",
       "      <th></th>\n",
       "      <th></th>\n",
       "      <th></th>\n",
       "      <th></th>\n",
       "      <th></th>\n",
       "      <th></th>\n",
       "      <th></th>\n",
       "      <th></th>\n",
       "      <th></th>\n",
       "      <th></th>\n",
       "      <th></th>\n",
       "      <th></th>\n",
       "    </tr>\n",
       "  </thead>\n",
       "  <tbody>\n",
       "    <tr>\n",
       "      <td>(3305.999, 15765.6]</td>\n",
       "      <td>4291</td>\n",
       "      <td>4291</td>\n",
       "      <td>4291</td>\n",
       "      <td>4291</td>\n",
       "      <td>4291</td>\n",
       "      <td>4291</td>\n",
       "      <td>4291</td>\n",
       "      <td>4291</td>\n",
       "      <td>4291</td>\n",
       "      <td>4291</td>\n",
       "      <td>4291</td>\n",
       "      <td>4291</td>\n",
       "    </tr>\n",
       "    <tr>\n",
       "      <td>(15765.6, 21671.2]</td>\n",
       "      <td>4291</td>\n",
       "      <td>4291</td>\n",
       "      <td>4291</td>\n",
       "      <td>4291</td>\n",
       "      <td>4291</td>\n",
       "      <td>4291</td>\n",
       "      <td>4291</td>\n",
       "      <td>4291</td>\n",
       "      <td>4291</td>\n",
       "      <td>4291</td>\n",
       "      <td>4291</td>\n",
       "      <td>4291</td>\n",
       "    </tr>\n",
       "    <tr>\n",
       "      <td>(21671.2, 25027.8]</td>\n",
       "      <td>4290</td>\n",
       "      <td>4290</td>\n",
       "      <td>4290</td>\n",
       "      <td>4290</td>\n",
       "      <td>4290</td>\n",
       "      <td>4290</td>\n",
       "      <td>4290</td>\n",
       "      <td>4290</td>\n",
       "      <td>4290</td>\n",
       "      <td>4290</td>\n",
       "      <td>4290</td>\n",
       "      <td>4290</td>\n",
       "    </tr>\n",
       "    <tr>\n",
       "      <td>(25027.8, 34336.4]</td>\n",
       "      <td>4291</td>\n",
       "      <td>4291</td>\n",
       "      <td>4291</td>\n",
       "      <td>4291</td>\n",
       "      <td>4291</td>\n",
       "      <td>4291</td>\n",
       "      <td>4291</td>\n",
       "      <td>4291</td>\n",
       "      <td>4291</td>\n",
       "      <td>4291</td>\n",
       "      <td>4291</td>\n",
       "      <td>4291</td>\n",
       "    </tr>\n",
       "    <tr>\n",
       "      <td>(34336.4, 362496.0]</td>\n",
       "      <td>4291</td>\n",
       "      <td>4291</td>\n",
       "      <td>4291</td>\n",
       "      <td>4291</td>\n",
       "      <td>4291</td>\n",
       "      <td>4291</td>\n",
       "      <td>4291</td>\n",
       "      <td>4291</td>\n",
       "      <td>4291</td>\n",
       "      <td>4291</td>\n",
       "      <td>4291</td>\n",
       "      <td>4291</td>\n",
       "    </tr>\n",
       "  </tbody>\n",
       "</table>\n",
       "</div>"
      ],
      "text/plain": [
       "                       children  dob_years  education  education_id  \\\n",
       "total_income_category                                                 \n",
       "(3305.999, 15765.6]        4291       4291       4291          4291   \n",
       "(15765.6, 21671.2]         4291       4291       4291          4291   \n",
       "(21671.2, 25027.8]         4290       4290       4290          4290   \n",
       "(25027.8, 34336.4]         4291       4291       4291          4291   \n",
       "(34336.4, 362496.0]        4291       4291       4291          4291   \n",
       "\n",
       "                       family_status  family_status_id  gender  income_type  \\\n",
       "total_income_category                                                         \n",
       "(3305.999, 15765.6]             4291              4291    4291         4291   \n",
       "(15765.6, 21671.2]              4291              4291    4291         4291   \n",
       "(21671.2, 25027.8]              4290              4290    4290         4290   \n",
       "(25027.8, 34336.4]              4291              4291    4291         4291   \n",
       "(34336.4, 362496.0]             4291              4291    4291         4291   \n",
       "\n",
       "                       debt  total_income  purpose  clean_purchase  \n",
       "total_income_category                                               \n",
       "(3305.999, 15765.6]    4291          4291     4291            4291  \n",
       "(15765.6, 21671.2]     4291          4291     4291            4291  \n",
       "(21671.2, 25027.8]     4290          4290     4290            4290  \n",
       "(25027.8, 34336.4]     4291          4291     4291            4291  \n",
       "(34336.4, 362496.0]    4291          4291     4291            4291  "
      ]
     },
     "execution_count": 46,
     "metadata": {},
     "output_type": "execute_result"
    }
   ],
   "source": [
    "credit['total_income_category'] = pd.qcut(credit['total_income'], 5)\n",
    "credit.groupby('total_income_category').count()\n",
    "\n",
    "# I divided 'total_income' into 5 equal categories using qcut\n",
    "# (which will leave the same number of people in each category)."
   ]
  },
  {
   "cell_type": "code",
   "execution_count": 47,
   "metadata": {},
   "outputs": [
    {
     "data": {
      "text/html": [
       "<div>\n",
       "<style scoped>\n",
       "    .dataframe tbody tr th:only-of-type {\n",
       "        vertical-align: middle;\n",
       "    }\n",
       "\n",
       "    .dataframe tbody tr th {\n",
       "        vertical-align: top;\n",
       "    }\n",
       "\n",
       "    .dataframe thead th {\n",
       "        text-align: right;\n",
       "    }\n",
       "</style>\n",
       "<table border=\"1\" class=\"dataframe\">\n",
       "  <thead>\n",
       "    <tr style=\"text-align: right;\">\n",
       "      <th>debt</th>\n",
       "      <th>0</th>\n",
       "      <th>1</th>\n",
       "    </tr>\n",
       "    <tr>\n",
       "      <th>total_income_category</th>\n",
       "      <th></th>\n",
       "      <th></th>\n",
       "    </tr>\n",
       "  </thead>\n",
       "  <tbody>\n",
       "    <tr>\n",
       "      <td>(3305.999, 15765.6]</td>\n",
       "      <td>3947</td>\n",
       "      <td>344</td>\n",
       "    </tr>\n",
       "    <tr>\n",
       "      <td>(15765.6, 21671.2]</td>\n",
       "      <td>3936</td>\n",
       "      <td>355</td>\n",
       "    </tr>\n",
       "    <tr>\n",
       "      <td>(21671.2, 25027.8]</td>\n",
       "      <td>3918</td>\n",
       "      <td>372</td>\n",
       "    </tr>\n",
       "    <tr>\n",
       "      <td>(25027.8, 34336.4]</td>\n",
       "      <td>3921</td>\n",
       "      <td>370</td>\n",
       "    </tr>\n",
       "    <tr>\n",
       "      <td>(34336.4, 362496.0]</td>\n",
       "      <td>3991</td>\n",
       "      <td>300</td>\n",
       "    </tr>\n",
       "  </tbody>\n",
       "</table>\n",
       "</div>"
      ],
      "text/plain": [
       "debt                      0    1\n",
       "total_income_category           \n",
       "(3305.999, 15765.6]    3947  344\n",
       "(15765.6, 21671.2]     3936  355\n",
       "(21671.2, 25027.8]     3918  372\n",
       "(25027.8, 34336.4]     3921  370\n",
       "(34336.4, 362496.0]    3991  300"
      ]
     },
     "execution_count": 47,
     "metadata": {},
     "output_type": "execute_result"
    }
   ],
   "source": [
    "total_income_debt = credit.pivot_table(index=['total_income_category'], columns=['debt'], values='education', aggfunc='count')\n",
    "total_income_debt"
   ]
  },
  {
   "cell_type": "code",
   "execution_count": 48,
   "metadata": {},
   "outputs": [
    {
     "data": {
      "text/plain": [
       "total_income_category\n",
       "(3305.999, 15765.6]    8.016779\n",
       "(15765.6, 21671.2]     8.273130\n",
       "(21671.2, 25027.8]     8.671329\n",
       "(25027.8, 34336.4]     8.622699\n",
       "(34336.4, 362496.0]    6.991377\n",
       "dtype: float64"
      ]
     },
     "execution_count": 48,
     "metadata": {},
     "output_type": "execute_result"
    }
   ],
   "source": [
    "total_income_debt[1] / (total_income_debt[0] + total_income_debt[1]) *100\n",
    "\n"
   ]
  },
  {
   "cell_type": "markdown",
   "metadata": {},
   "source": [
    "### Conclusion"
   ]
  },
  {
   "cell_type": "markdown",
   "metadata": {},
   "source": [
    "From the data obtained, it can be seen that people whose income is higher than 34328.8 are the best to repay the debt.\n",
    "\n",
    "\n"
   ]
  },
  {
   "cell_type": "markdown",
   "metadata": {},
   "source": [
    "- How do different loan purposes affect on-time repayment of the loan?"
   ]
  },
  {
   "cell_type": "code",
   "execution_count": 49,
   "metadata": {},
   "outputs": [
    {
     "data": {
      "text/html": [
       "<div>\n",
       "<style scoped>\n",
       "    .dataframe tbody tr th:only-of-type {\n",
       "        vertical-align: middle;\n",
       "    }\n",
       "\n",
       "    .dataframe tbody tr th {\n",
       "        vertical-align: top;\n",
       "    }\n",
       "\n",
       "    .dataframe thead th {\n",
       "        text-align: right;\n",
       "    }\n",
       "</style>\n",
       "<table border=\"1\" class=\"dataframe\">\n",
       "  <thead>\n",
       "    <tr style=\"text-align: right;\">\n",
       "      <th>debt</th>\n",
       "      <th>0</th>\n",
       "      <th>1</th>\n",
       "    </tr>\n",
       "    <tr>\n",
       "      <th>clean_purchase</th>\n",
       "      <th></th>\n",
       "      <th></th>\n",
       "    </tr>\n",
       "  </thead>\n",
       "  <tbody>\n",
       "    <tr>\n",
       "      <td>car</td>\n",
       "      <td>2644</td>\n",
       "      <td>260</td>\n",
       "    </tr>\n",
       "    <tr>\n",
       "      <td>education</td>\n",
       "      <td>3643</td>\n",
       "      <td>370</td>\n",
       "    </tr>\n",
       "    <tr>\n",
       "      <td>estate</td>\n",
       "      <td>11288</td>\n",
       "      <td>925</td>\n",
       "    </tr>\n",
       "    <tr>\n",
       "      <td>wedding</td>\n",
       "      <td>2138</td>\n",
       "      <td>186</td>\n",
       "    </tr>\n",
       "  </tbody>\n",
       "</table>\n",
       "</div>"
      ],
      "text/plain": [
       "debt                0    1\n",
       "clean_purchase            \n",
       "car              2644  260\n",
       "education        3643  370\n",
       "estate          11288  925\n",
       "wedding          2138  186"
      ]
     },
     "execution_count": 49,
     "metadata": {},
     "output_type": "execute_result"
    }
   ],
   "source": [
    "purpose_debt = credit.pivot_table(index=['clean_purchase'], columns=['debt'], values='education', aggfunc='count')\n",
    "purpose_debt"
   ]
  },
  {
   "cell_type": "code",
   "execution_count": 50,
   "metadata": {},
   "outputs": [
    {
     "data": {
      "text/plain": [
       "clean_purchase\n",
       "car          8.953168\n",
       "education    9.220035\n",
       "estate       7.573897\n",
       "wedding      8.003442\n",
       "dtype: float64"
      ]
     },
     "execution_count": 50,
     "metadata": {},
     "output_type": "execute_result"
    }
   ],
   "source": [
    "purpose_debt[1] / (purpose_debt[0] + purpose_debt[1]) *100"
   ]
  },
  {
   "cell_type": "markdown",
   "metadata": {},
   "source": [
    "### Conclusion"
   ]
  },
  {
   "cell_type": "markdown",
   "metadata": {},
   "source": [
    "From the data obtained, it can be seen that people who take out a loan for real estate pay it off on time a little better than others.\n"
   ]
  },
  {
   "cell_type": "markdown",
   "metadata": {},
   "source": [
    "## General conclusion"
   ]
  },
  {
   "cell_type": "markdown",
   "metadata": {
    "pycharm": {
     "name": "#%% md\n"
    }
   },
   "source": [
    "- Most people take out real estate loans. Those who take out real estate loans are the best to repay their debts. Those who take on education have more delays.\n",
    "- Widowers pay off debts best of all, it can be assumed that these are people of the adult generation. People who are married and divorced can also be called reliable, they have approximately the same percentage of debt repayment.\n",
    "- The more income a person has, the higher the likelihood of debt repayment on time.\n",
    "- People without children are better at repaying debts, presumably due to the fact that they have a lower financial load\n",
    "\n"
   ]
  }
 ],
 "metadata": {
  "ExecuteTimeLog": [
   {
    "duration": 870,
    "start_time": "2021-10-12T19:05:12.556Z"
   },
   {
    "duration": 135,
    "start_time": "2021-10-12T19:05:44.649Z"
   },
   {
    "duration": 48,
    "start_time": "2021-10-12T19:05:54.311Z"
   },
   {
    "duration": 39,
    "start_time": "2021-10-12T19:06:35.301Z"
   },
   {
    "duration": 46,
    "start_time": "2021-10-12T19:06:45.512Z"
   },
   {
    "duration": 167,
    "start_time": "2021-10-12T19:15:53.809Z"
   },
   {
    "duration": 40,
    "start_time": "2021-10-12T19:16:16.062Z"
   },
   {
    "duration": 48,
    "start_time": "2021-10-12T19:17:41.981Z"
   },
   {
    "duration": 58,
    "start_time": "2021-10-12T19:18:20.130Z"
   },
   {
    "duration": 45,
    "start_time": "2021-10-12T19:18:54.530Z"
   },
   {
    "duration": 3548,
    "start_time": "2021-10-12T19:23:36.292Z"
   },
   {
    "duration": 11,
    "start_time": "2021-10-12T19:24:13.352Z"
   },
   {
    "duration": 6,
    "start_time": "2021-10-12T19:25:50.164Z"
   },
   {
    "duration": 43,
    "start_time": "2021-10-13T10:47:29.601Z"
   },
   {
    "duration": 51,
    "start_time": "2021-10-13T10:47:32.644Z"
   },
   {
    "duration": 16,
    "start_time": "2021-10-13T10:54:38.714Z"
   },
   {
    "duration": 44,
    "start_time": "2021-10-13T10:58:09.224Z"
   },
   {
    "duration": 47,
    "start_time": "2021-10-13T10:58:20.622Z"
   },
   {
    "duration": 44,
    "start_time": "2021-10-13T10:59:05.581Z"
   },
   {
    "duration": 128,
    "start_time": "2021-10-13T11:00:29.603Z"
   },
   {
    "duration": 46,
    "start_time": "2021-10-13T11:01:00.944Z"
   },
   {
    "duration": 5,
    "start_time": "2021-10-13T11:01:05.817Z"
   },
   {
    "duration": 6,
    "start_time": "2021-10-13T11:03:54.406Z"
   },
   {
    "duration": 5,
    "start_time": "2021-10-13T11:04:08.819Z"
   },
   {
    "duration": 170,
    "start_time": "2021-10-13T11:06:13.425Z"
   },
   {
    "duration": 52,
    "start_time": "2021-10-13T11:06:24.713Z"
   },
   {
    "duration": 56,
    "start_time": "2021-10-13T11:06:43.635Z"
   },
   {
    "duration": 6,
    "start_time": "2021-10-13T11:06:50.253Z"
   },
   {
    "duration": 5,
    "start_time": "2021-10-13T11:15:44.577Z"
   },
   {
    "duration": 11,
    "start_time": "2021-10-13T11:17:08.211Z"
   },
   {
    "duration": 18,
    "start_time": "2021-10-13T11:17:28.440Z"
   },
   {
    "duration": 12,
    "start_time": "2021-10-13T11:17:31.966Z"
   },
   {
    "duration": 5,
    "start_time": "2021-10-13T11:18:31.861Z"
   },
   {
    "duration": 5,
    "start_time": "2021-10-13T11:18:42.335Z"
   },
   {
    "duration": 5,
    "start_time": "2021-10-13T11:22:00.869Z"
   },
   {
    "duration": 7,
    "start_time": "2021-10-13T11:22:11.085Z"
   },
   {
    "duration": 16,
    "start_time": "2021-10-13T11:22:13.298Z"
   },
   {
    "duration": 4,
    "start_time": "2021-10-13T11:22:26.228Z"
   },
   {
    "duration": 5,
    "start_time": "2021-10-13T11:23:01.749Z"
   },
   {
    "duration": 6,
    "start_time": "2021-10-13T11:23:07.817Z"
   },
   {
    "duration": 6,
    "start_time": "2021-10-13T11:23:15.634Z"
   },
   {
    "duration": 5,
    "start_time": "2021-10-13T11:23:23.952Z"
   },
   {
    "duration": 4,
    "start_time": "2021-10-13T11:24:04.860Z"
   },
   {
    "duration": 17,
    "start_time": "2021-10-13T11:24:39.830Z"
   },
   {
    "duration": 5,
    "start_time": "2021-10-13T11:24:51.183Z"
   },
   {
    "duration": 4,
    "start_time": "2021-10-13T11:25:13.350Z"
   },
   {
    "duration": 16,
    "start_time": "2021-10-13T11:25:15.693Z"
   },
   {
    "duration": 4,
    "start_time": "2021-10-13T11:25:18.183Z"
   },
   {
    "duration": 15,
    "start_time": "2021-10-13T11:28:10.781Z"
   },
   {
    "duration": 4,
    "start_time": "2021-10-13T11:28:13.565Z"
   },
   {
    "duration": 20,
    "start_time": "2021-10-13T11:29:08.917Z"
   },
   {
    "duration": 7,
    "start_time": "2021-10-13T11:29:11.405Z"
   },
   {
    "duration": 19,
    "start_time": "2021-10-13T11:30:14.516Z"
   },
   {
    "duration": 5,
    "start_time": "2021-10-13T11:30:18.175Z"
   },
   {
    "duration": 19,
    "start_time": "2021-10-13T11:30:25.942Z"
   },
   {
    "duration": 4,
    "start_time": "2021-10-13T11:30:26.956Z"
   },
   {
    "duration": 5,
    "start_time": "2021-10-13T11:30:29.656Z"
   },
   {
    "duration": 12,
    "start_time": "2021-10-13T11:31:03.913Z"
   },
   {
    "duration": 6,
    "start_time": "2021-10-13T11:31:21.796Z"
   },
   {
    "duration": 5,
    "start_time": "2021-10-13T11:31:23.324Z"
   },
   {
    "duration": 10,
    "start_time": "2021-10-13T11:31:25.577Z"
   },
   {
    "duration": 5,
    "start_time": "2021-10-13T11:31:59.017Z"
   },
   {
    "duration": 5,
    "start_time": "2021-10-13T11:32:01.795Z"
   },
   {
    "duration": 46,
    "start_time": "2021-10-13T11:32:17.300Z"
   },
   {
    "duration": 5,
    "start_time": "2021-10-13T11:32:25.506Z"
   },
   {
    "duration": 7,
    "start_time": "2021-10-13T11:32:26.581Z"
   },
   {
    "duration": 5,
    "start_time": "2021-10-13T11:32:27.771Z"
   },
   {
    "duration": 5,
    "start_time": "2021-10-13T11:32:29.479Z"
   },
   {
    "duration": 5,
    "start_time": "2021-10-13T11:32:30.476Z"
   },
   {
    "duration": 5,
    "start_time": "2021-10-13T11:32:31.556Z"
   },
   {
    "duration": 5,
    "start_time": "2021-10-13T11:32:43.934Z"
   },
   {
    "duration": 5,
    "start_time": "2021-10-13T11:32:45.916Z"
   },
   {
    "duration": 11,
    "start_time": "2021-10-13T11:34:16.448Z"
   },
   {
    "duration": 45,
    "start_time": "2021-10-13T11:39:03.726Z"
   },
   {
    "duration": 4,
    "start_time": "2021-10-13T11:39:11.104Z"
   },
   {
    "duration": 4,
    "start_time": "2021-10-13T11:39:12.031Z"
   },
   {
    "duration": 5,
    "start_time": "2021-10-13T11:39:14.624Z"
   },
   {
    "duration": 7,
    "start_time": "2021-10-13T11:39:15.269Z"
   },
   {
    "duration": 5,
    "start_time": "2021-10-13T11:39:18.659Z"
   },
   {
    "duration": 5,
    "start_time": "2021-10-13T11:39:49.828Z"
   },
   {
    "duration": 5,
    "start_time": "2021-10-13T11:40:01.392Z"
   },
   {
    "duration": 51,
    "start_time": "2021-10-13T11:40:29.508Z"
   },
   {
    "duration": 5,
    "start_time": "2021-10-13T11:40:37.179Z"
   },
   {
    "duration": 11,
    "start_time": "2021-10-13T11:40:38.241Z"
   },
   {
    "duration": 4,
    "start_time": "2021-10-13T11:41:02.858Z"
   },
   {
    "duration": 46,
    "start_time": "2021-10-13T11:41:07.769Z"
   },
   {
    "duration": 5,
    "start_time": "2021-10-13T11:41:07.817Z"
   },
   {
    "duration": 8,
    "start_time": "2021-10-13T11:41:07.824Z"
   },
   {
    "duration": 7,
    "start_time": "2021-10-13T11:41:07.834Z"
   },
   {
    "duration": 7,
    "start_time": "2021-10-13T11:41:07.843Z"
   },
   {
    "duration": 6,
    "start_time": "2021-10-13T11:41:07.851Z"
   },
   {
    "duration": 6,
    "start_time": "2021-10-13T11:41:07.858Z"
   },
   {
    "duration": 41,
    "start_time": "2021-10-13T11:41:07.867Z"
   },
   {
    "duration": 8,
    "start_time": "2021-10-13T11:41:21.089Z"
   },
   {
    "duration": 5,
    "start_time": "2021-10-13T11:41:21.971Z"
   },
   {
    "duration": 4,
    "start_time": "2021-10-13T11:41:23.220Z"
   },
   {
    "duration": 6,
    "start_time": "2021-10-13T11:41:42.605Z"
   },
   {
    "duration": 5,
    "start_time": "2021-10-13T11:41:43.363Z"
   },
   {
    "duration": 5,
    "start_time": "2021-10-13T11:41:44.109Z"
   },
   {
    "duration": 11,
    "start_time": "2021-10-13T11:41:45.081Z"
   },
   {
    "duration": 47,
    "start_time": "2021-10-13T11:43:26.483Z"
   },
   {
    "duration": 4,
    "start_time": "2021-10-13T11:43:30.837Z"
   },
   {
    "duration": 4,
    "start_time": "2021-10-13T11:43:31.801Z"
   },
   {
    "duration": 5,
    "start_time": "2021-10-13T11:43:32.589Z"
   },
   {
    "duration": 6,
    "start_time": "2021-10-13T11:43:33.918Z"
   },
   {
    "duration": 5,
    "start_time": "2021-10-13T11:43:35.184Z"
   },
   {
    "duration": 5,
    "start_time": "2021-10-13T11:43:36.129Z"
   },
   {
    "duration": 10,
    "start_time": "2021-10-13T11:43:36.902Z"
   },
   {
    "duration": 13,
    "start_time": "2021-10-13T11:59:30.580Z"
   },
   {
    "duration": 47,
    "start_time": "2021-10-13T12:18:31.019Z"
   },
   {
    "duration": 12,
    "start_time": "2021-10-13T12:18:32.419Z"
   },
   {
    "duration": 4,
    "start_time": "2021-10-13T12:18:38.752Z"
   },
   {
    "duration": 4,
    "start_time": "2021-10-13T12:18:39.665Z"
   },
   {
    "duration": 5,
    "start_time": "2021-10-13T12:18:51.879Z"
   },
   {
    "duration": 4,
    "start_time": "2021-10-13T12:19:27.787Z"
   },
   {
    "duration": 5,
    "start_time": "2021-10-13T12:19:29.565Z"
   },
   {
    "duration": 4,
    "start_time": "2021-10-13T12:19:45.446Z"
   },
   {
    "duration": 5,
    "start_time": "2021-10-13T12:27:04.434Z"
   },
   {
    "duration": 4,
    "start_time": "2021-10-13T12:27:06.031Z"
   },
   {
    "duration": 5,
    "start_time": "2021-10-13T12:27:08.394Z"
   },
   {
    "duration": 4,
    "start_time": "2021-10-13T12:27:10.906Z"
   },
   {
    "duration": 5,
    "start_time": "2021-10-13T12:27:11.652Z"
   },
   {
    "duration": 47,
    "start_time": "2021-10-13T12:27:16.489Z"
   },
   {
    "duration": 13,
    "start_time": "2021-10-13T12:27:17.699Z"
   },
   {
    "duration": 5,
    "start_time": "2021-10-13T12:27:21.846Z"
   },
   {
    "duration": 6,
    "start_time": "2021-10-13T12:27:24.606Z"
   },
   {
    "duration": 6,
    "start_time": "2021-10-13T12:27:25.809Z"
   },
   {
    "duration": 5,
    "start_time": "2021-10-13T12:27:28.258Z"
   },
   {
    "duration": 5,
    "start_time": "2021-10-13T12:27:29.773Z"
   },
   {
    "duration": 5,
    "start_time": "2021-10-13T12:27:30.318Z"
   },
   {
    "duration": 5,
    "start_time": "2021-10-13T12:27:43.296Z"
   },
   {
    "duration": 4,
    "start_time": "2021-10-13T12:27:43.867Z"
   },
   {
    "duration": 46,
    "start_time": "2021-10-13T12:27:47.458Z"
   },
   {
    "duration": 12,
    "start_time": "2021-10-13T12:27:48.390Z"
   },
   {
    "duration": 5,
    "start_time": "2021-10-13T12:27:51.267Z"
   },
   {
    "duration": 5,
    "start_time": "2021-10-13T12:27:51.912Z"
   },
   {
    "duration": 5,
    "start_time": "2021-10-13T12:27:52.792Z"
   },
   {
    "duration": 5,
    "start_time": "2021-10-13T12:28:02.252Z"
   },
   {
    "duration": 5,
    "start_time": "2021-10-13T12:28:03.008Z"
   },
   {
    "duration": 5,
    "start_time": "2021-10-13T12:28:03.984Z"
   },
   {
    "duration": 6,
    "start_time": "2021-10-13T12:28:05.126Z"
   },
   {
    "duration": 6,
    "start_time": "2021-10-13T12:35:44.706Z"
   },
   {
    "duration": 6,
    "start_time": "2021-10-13T12:35:57.065Z"
   },
   {
    "duration": 5,
    "start_time": "2021-10-13T12:36:34.633Z"
   },
   {
    "duration": 5,
    "start_time": "2021-10-13T12:36:54.154Z"
   },
   {
    "duration": 5,
    "start_time": "2021-10-13T12:37:04.379Z"
   },
   {
    "duration": 5,
    "start_time": "2021-10-13T12:37:14.529Z"
   },
   {
    "duration": 143,
    "start_time": "2021-10-13T12:37:57.999Z"
   },
   {
    "duration": 6,
    "start_time": "2021-10-13T12:38:17.618Z"
   },
   {
    "duration": 7,
    "start_time": "2021-10-13T12:38:42.004Z"
   },
   {
    "duration": 135,
    "start_time": "2021-10-13T14:19:32.061Z"
   },
   {
    "duration": 48,
    "start_time": "2021-10-13T14:19:37.821Z"
   },
   {
    "duration": 16,
    "start_time": "2021-10-13T14:19:38.750Z"
   },
   {
    "duration": 6,
    "start_time": "2021-10-13T14:19:42.138Z"
   },
   {
    "duration": 6,
    "start_time": "2021-10-13T14:19:42.898Z"
   },
   {
    "duration": 5,
    "start_time": "2021-10-13T14:19:44.406Z"
   },
   {
    "duration": 5,
    "start_time": "2021-10-13T14:19:45.474Z"
   },
   {
    "duration": 5,
    "start_time": "2021-10-13T14:19:46.209Z"
   },
   {
    "duration": 5,
    "start_time": "2021-10-13T14:19:46.857Z"
   },
   {
    "duration": 5,
    "start_time": "2021-10-13T14:19:47.617Z"
   },
   {
    "duration": 12,
    "start_time": "2021-10-13T14:19:48.783Z"
   },
   {
    "duration": 5,
    "start_time": "2021-10-13T14:19:50.159Z"
   },
   {
    "duration": 5,
    "start_time": "2021-10-13T14:19:52.194Z"
   },
   {
    "duration": 6,
    "start_time": "2021-10-13T14:19:54.928Z"
   },
   {
    "duration": 162,
    "start_time": "2021-10-13T14:19:56.276Z"
   },
   {
    "duration": 241,
    "start_time": "2021-10-13T14:20:03.212Z"
   },
   {
    "duration": 7,
    "start_time": "2021-10-13T14:21:01.487Z"
   },
   {
    "duration": 7,
    "start_time": "2021-10-13T14:21:32.510Z"
   },
   {
    "duration": 8,
    "start_time": "2021-10-13T14:21:42.717Z"
   },
   {
    "duration": 25,
    "start_time": "2021-10-13T14:21:59.280Z"
   },
   {
    "duration": 16,
    "start_time": "2021-10-13T14:22:36.132Z"
   },
   {
    "duration": 276,
    "start_time": "2021-10-13T14:23:29.133Z"
   },
   {
    "duration": 7,
    "start_time": "2021-10-13T14:23:40.745Z"
   },
   {
    "duration": 7,
    "start_time": "2021-10-13T14:31:02.404Z"
   },
   {
    "duration": 6,
    "start_time": "2021-10-13T14:31:31.279Z"
   },
   {
    "duration": 47,
    "start_time": "2021-10-13T14:31:37.731Z"
   },
   {
    "duration": 12,
    "start_time": "2021-10-13T14:31:38.512Z"
   },
   {
    "duration": 5,
    "start_time": "2021-10-13T14:31:41.830Z"
   },
   {
    "duration": 5,
    "start_time": "2021-10-13T14:31:42.348Z"
   },
   {
    "duration": 5,
    "start_time": "2021-10-13T14:31:42.968Z"
   },
   {
    "duration": 5,
    "start_time": "2021-10-13T14:31:43.470Z"
   },
   {
    "duration": 5,
    "start_time": "2021-10-13T14:31:43.945Z"
   },
   {
    "duration": 5,
    "start_time": "2021-10-13T14:31:44.626Z"
   },
   {
    "duration": 5,
    "start_time": "2021-10-13T14:31:45.172Z"
   },
   {
    "duration": 12,
    "start_time": "2021-10-13T14:31:45.984Z"
   },
   {
    "duration": 4,
    "start_time": "2021-10-13T14:31:47.308Z"
   },
   {
    "duration": 5,
    "start_time": "2021-10-13T14:31:49.065Z"
   },
   {
    "duration": 7,
    "start_time": "2021-10-13T14:31:52.430Z"
   },
   {
    "duration": 8,
    "start_time": "2021-10-13T14:31:53.895Z"
   },
   {
    "duration": 4,
    "start_time": "2021-10-13T14:32:02.357Z"
   },
   {
    "duration": 6,
    "start_time": "2021-10-13T14:32:03.528Z"
   },
   {
    "duration": 6,
    "start_time": "2021-10-13T14:32:10.620Z"
   },
   {
    "duration": 7,
    "start_time": "2021-10-13T14:32:51.471Z"
   },
   {
    "duration": 7,
    "start_time": "2021-10-13T14:32:52.396Z"
   },
   {
    "duration": 8,
    "start_time": "2021-10-13T14:33:01.609Z"
   },
   {
    "duration": 7,
    "start_time": "2021-10-13T14:33:03.943Z"
   },
   {
    "duration": 7,
    "start_time": "2021-10-13T14:33:25.617Z"
   },
   {
    "duration": 11,
    "start_time": "2021-10-13T14:33:58.993Z"
   },
   {
    "duration": 7,
    "start_time": "2021-10-13T14:34:22.013Z"
   },
   {
    "duration": 230,
    "start_time": "2021-10-13T14:34:54.905Z"
   },
   {
    "duration": 155,
    "start_time": "2021-10-13T14:35:02.411Z"
   },
   {
    "duration": 155,
    "start_time": "2021-10-13T14:35:31.670Z"
   },
   {
    "duration": 45,
    "start_time": "2021-10-13T14:35:48.475Z"
   },
   {
    "duration": 149,
    "start_time": "2021-10-13T14:35:59.038Z"
   },
   {
    "duration": 20,
    "start_time": "2021-10-13T14:36:41.742Z"
   },
   {
    "duration": 9,
    "start_time": "2021-10-13T14:37:10.000Z"
   },
   {
    "duration": 5548,
    "start_time": "2021-10-13T14:38:35.628Z"
   },
   {
    "duration": 136,
    "start_time": "2021-10-13T14:38:56.274Z"
   },
   {
    "duration": 188,
    "start_time": "2021-10-13T14:39:04.971Z"
   },
   {
    "duration": 141,
    "start_time": "2021-10-13T14:39:17.597Z"
   },
   {
    "duration": 131,
    "start_time": "2021-10-13T14:39:29.052Z"
   },
   {
    "duration": 141,
    "start_time": "2021-10-13T14:42:26.183Z"
   },
   {
    "duration": 134,
    "start_time": "2021-10-13T14:42:32.822Z"
   },
   {
    "duration": 147,
    "start_time": "2021-10-13T14:42:40.702Z"
   },
   {
    "duration": 132,
    "start_time": "2021-10-13T14:42:46.564Z"
   },
   {
    "duration": 20,
    "start_time": "2021-10-13T14:43:15.365Z"
   },
   {
    "duration": 7,
    "start_time": "2021-10-13T14:43:37.596Z"
   },
   {
    "duration": 7,
    "start_time": "2021-10-13T15:00:46.293Z"
   },
   {
    "duration": 4,
    "start_time": "2021-10-13T15:00:47.243Z"
   },
   {
    "duration": 6,
    "start_time": "2021-10-13T15:00:47.863Z"
   },
   {
    "duration": 47,
    "start_time": "2021-10-13T15:01:04.242Z"
   },
   {
    "duration": 13,
    "start_time": "2021-10-13T15:01:04.944Z"
   },
   {
    "duration": 5,
    "start_time": "2021-10-13T15:01:07.468Z"
   },
   {
    "duration": 5,
    "start_time": "2021-10-13T15:01:07.931Z"
   },
   {
    "duration": 5,
    "start_time": "2021-10-13T15:01:08.576Z"
   },
   {
    "duration": 5,
    "start_time": "2021-10-13T15:01:09.012Z"
   },
   {
    "duration": 4,
    "start_time": "2021-10-13T15:01:09.435Z"
   },
   {
    "duration": 4,
    "start_time": "2021-10-13T15:01:09.837Z"
   },
   {
    "duration": 5,
    "start_time": "2021-10-13T15:01:10.428Z"
   },
   {
    "duration": 10,
    "start_time": "2021-10-13T15:01:11.138Z"
   },
   {
    "duration": 4,
    "start_time": "2021-10-13T15:01:11.879Z"
   },
   {
    "duration": 5,
    "start_time": "2021-10-13T15:01:12.672Z"
   },
   {
    "duration": 6,
    "start_time": "2021-10-13T15:01:13.796Z"
   },
   {
    "duration": 6,
    "start_time": "2021-10-13T15:01:14.580Z"
   },
   {
    "duration": 3,
    "start_time": "2021-10-13T15:01:15.585Z"
   },
   {
    "duration": 6,
    "start_time": "2021-10-13T15:01:16.364Z"
   },
   {
    "duration": 10,
    "start_time": "2021-10-13T15:01:45.054Z"
   },
   {
    "duration": 48,
    "start_time": "2021-10-13T15:02:54.648Z"
   },
   {
    "duration": 4,
    "start_time": "2021-10-13T15:02:59.357Z"
   },
   {
    "duration": 47,
    "start_time": "2021-10-13T15:25:51.388Z"
   },
   {
    "duration": 12,
    "start_time": "2021-10-13T15:25:52.668Z"
   },
   {
    "duration": 4,
    "start_time": "2021-10-13T15:25:57.074Z"
   },
   {
    "duration": 5,
    "start_time": "2021-10-13T15:25:58.113Z"
   },
   {
    "duration": 5,
    "start_time": "2021-10-13T15:25:58.938Z"
   },
   {
    "duration": 5,
    "start_time": "2021-10-13T15:25:59.904Z"
   },
   {
    "duration": 4,
    "start_time": "2021-10-13T15:26:00.650Z"
   },
   {
    "duration": 4,
    "start_time": "2021-10-13T15:26:01.201Z"
   },
   {
    "duration": 5,
    "start_time": "2021-10-13T15:26:02.371Z"
   },
   {
    "duration": 11,
    "start_time": "2021-10-13T15:26:03.432Z"
   },
   {
    "duration": 4,
    "start_time": "2021-10-13T15:26:03.934Z"
   },
   {
    "duration": 5,
    "start_time": "2021-10-13T15:26:04.760Z"
   },
   {
    "duration": 6,
    "start_time": "2021-10-13T15:26:05.581Z"
   },
   {
    "duration": 8,
    "start_time": "2021-10-13T15:26:06.844Z"
   },
   {
    "duration": 3,
    "start_time": "2021-10-13T15:26:07.790Z"
   },
   {
    "duration": 4,
    "start_time": "2021-10-13T15:26:09.529Z"
   },
   {
    "duration": 4,
    "start_time": "2021-10-13T15:31:00.118Z"
   },
   {
    "duration": 3,
    "start_time": "2021-10-13T15:31:17.224Z"
   },
   {
    "duration": 3,
    "start_time": "2021-10-13T15:32:01.197Z"
   },
   {
    "duration": 11,
    "start_time": "2021-10-13T15:33:06.795Z"
   },
   {
    "duration": 11,
    "start_time": "2021-10-13T15:33:41.088Z"
   },
   {
    "duration": 3426,
    "start_time": "2021-10-13T15:34:48.662Z"
   },
   {
    "duration": -68,
    "start_time": "2021-10-13T15:34:52.158Z"
   },
   {
    "duration": -70,
    "start_time": "2021-10-13T15:34:52.161Z"
   },
   {
    "duration": 3087,
    "start_time": "2021-10-13T15:34:55.284Z"
   },
   {
    "duration": -24,
    "start_time": "2021-10-13T15:34:58.396Z"
   },
   {
    "duration": 48,
    "start_time": "2021-10-13T15:35:03.069Z"
   },
   {
    "duration": 12,
    "start_time": "2021-10-13T15:35:04.037Z"
   },
   {
    "duration": 5,
    "start_time": "2021-10-13T15:35:07.690Z"
   },
   {
    "duration": 5,
    "start_time": "2021-10-13T15:35:08.215Z"
   },
   {
    "duration": 5,
    "start_time": "2021-10-13T15:35:09.110Z"
   },
   {
    "duration": 4,
    "start_time": "2021-10-13T15:35:10.042Z"
   },
   {
    "duration": 4,
    "start_time": "2021-10-13T15:35:10.714Z"
   },
   {
    "duration": 5,
    "start_time": "2021-10-13T15:35:11.327Z"
   },
   {
    "duration": 4,
    "start_time": "2021-10-13T15:35:12.249Z"
   },
   {
    "duration": 10,
    "start_time": "2021-10-13T15:35:13.879Z"
   },
   {
    "duration": 5,
    "start_time": "2021-10-13T15:35:15.979Z"
   },
   {
    "duration": 5,
    "start_time": "2021-10-13T15:35:17.247Z"
   },
   {
    "duration": 6,
    "start_time": "2021-10-13T15:35:18.290Z"
   },
   {
    "duration": 8,
    "start_time": "2021-10-13T15:35:19.444Z"
   },
   {
    "duration": 6,
    "start_time": "2021-10-13T15:35:38.012Z"
   },
   {
    "duration": 7,
    "start_time": "2021-10-13T15:35:38.995Z"
   },
   {
    "duration": 4,
    "start_time": "2021-10-13T15:35:43.207Z"
   },
   {
    "duration": 4,
    "start_time": "2021-10-13T15:35:46.115Z"
   },
   {
    "duration": 3560,
    "start_time": "2021-10-13T15:36:02.445Z"
   },
   {
    "duration": -84,
    "start_time": "2021-10-13T15:36:06.090Z"
   },
   {
    "duration": 2,
    "start_time": "2021-10-13T15:36:49.534Z"
   },
   {
    "duration": 7,
    "start_time": "2021-10-13T15:36:50.788Z"
   },
   {
    "duration": 3514,
    "start_time": "2021-10-13T15:36:51.968Z"
   },
   {
    "duration": 17,
    "start_time": "2021-10-13T15:36:55.467Z"
   },
   {
    "duration": 48,
    "start_time": "2021-10-13T15:37:04.954Z"
   },
   {
    "duration": 12,
    "start_time": "2021-10-13T15:37:05.903Z"
   },
   {
    "duration": 5,
    "start_time": "2021-10-13T15:37:09.687Z"
   },
   {
    "duration": 5,
    "start_time": "2021-10-13T15:37:10.470Z"
   },
   {
    "duration": 5,
    "start_time": "2021-10-13T15:37:11.142Z"
   },
   {
    "duration": 5,
    "start_time": "2021-10-13T15:37:13.671Z"
   },
   {
    "duration": 5,
    "start_time": "2021-10-13T15:37:14.083Z"
   },
   {
    "duration": 4,
    "start_time": "2021-10-13T15:37:15.029Z"
   },
   {
    "duration": 5,
    "start_time": "2021-10-13T15:37:16.138Z"
   },
   {
    "duration": 10,
    "start_time": "2021-10-13T15:37:18.007Z"
   },
   {
    "duration": 5,
    "start_time": "2021-10-13T15:37:19.205Z"
   },
   {
    "duration": 5,
    "start_time": "2021-10-13T15:37:30.397Z"
   },
   {
    "duration": 2,
    "start_time": "2021-10-13T15:37:33.426Z"
   },
   {
    "duration": 7,
    "start_time": "2021-10-13T15:37:34.474Z"
   },
   {
    "duration": 4,
    "start_time": "2021-10-13T15:37:35.482Z"
   },
   {
    "duration": 5,
    "start_time": "2021-10-13T15:37:37.059Z"
   },
   {
    "duration": 3133,
    "start_time": "2021-10-13T15:38:21.579Z"
   },
   {
    "duration": -25,
    "start_time": "2021-10-13T15:38:24.739Z"
   },
   {
    "duration": 2,
    "start_time": "2021-10-13T15:38:59.026Z"
   },
   {
    "duration": 2,
    "start_time": "2021-10-13T15:38:59.957Z"
   },
   {
    "duration": 3,
    "start_time": "2021-10-13T15:39:00.786Z"
   },
   {
    "duration": 7,
    "start_time": "2021-10-13T15:39:01.854Z"
   },
   {
    "duration": 3404,
    "start_time": "2021-10-13T15:39:03.056Z"
   },
   {
    "duration": -57,
    "start_time": "2021-10-13T15:39:06.519Z"
   },
   {
    "duration": 4,
    "start_time": "2021-10-13T15:39:06.915Z"
   },
   {
    "duration": 45,
    "start_time": "2021-10-13T15:39:34.094Z"
   },
   {
    "duration": 11,
    "start_time": "2021-10-13T15:39:35.451Z"
   },
   {
    "duration": 5,
    "start_time": "2021-10-13T15:39:38.968Z"
   },
   {
    "duration": 5,
    "start_time": "2021-10-13T15:39:39.492Z"
   },
   {
    "duration": 5,
    "start_time": "2021-10-13T15:39:40.280Z"
   },
   {
    "duration": 5,
    "start_time": "2021-10-13T15:39:41.020Z"
   },
   {
    "duration": 4,
    "start_time": "2021-10-13T15:39:41.669Z"
   },
   {
    "duration": 4,
    "start_time": "2021-10-13T15:39:42.285Z"
   },
   {
    "duration": 5,
    "start_time": "2021-10-13T15:39:42.841Z"
   },
   {
    "duration": 10,
    "start_time": "2021-10-13T15:39:43.493Z"
   },
   {
    "duration": 2,
    "start_time": "2021-10-13T15:39:44.006Z"
   },
   {
    "duration": 2,
    "start_time": "2021-10-13T15:39:44.663Z"
   },
   {
    "duration": 3,
    "start_time": "2021-10-13T15:39:45.147Z"
   },
   {
    "duration": 6,
    "start_time": "2021-10-13T15:39:45.669Z"
   },
   {
    "duration": 4,
    "start_time": "2021-10-13T15:39:46.622Z"
   },
   {
    "duration": 4,
    "start_time": "2021-10-13T15:39:47.744Z"
   },
   {
    "duration": 5,
    "start_time": "2021-10-13T15:39:51.980Z"
   },
   {
    "duration": 4,
    "start_time": "2021-10-13T15:39:52.870Z"
   },
   {
    "duration": 4,
    "start_time": "2021-10-13T15:39:53.826Z"
   },
   {
    "duration": 11,
    "start_time": "2021-10-13T15:39:54.540Z"
   },
   {
    "duration": 11,
    "start_time": "2021-10-13T15:39:55.591Z"
   },
   {
    "duration": 16,
    "start_time": "2021-10-13T15:42:33.574Z"
   },
   {
    "duration": 11,
    "start_time": "2021-10-13T15:43:53.959Z"
   },
   {
    "duration": 10,
    "start_time": "2021-10-13T15:44:59.339Z"
   },
   {
    "duration": 5,
    "start_time": "2021-10-13T15:48:34.811Z"
   },
   {
    "duration": 11,
    "start_time": "2021-10-13T18:08:48.773Z"
   },
   {
    "duration": 46,
    "start_time": "2021-10-13T18:09:47.850Z"
   },
   {
    "duration": 14,
    "start_time": "2021-10-13T18:09:48.838Z"
   },
   {
    "duration": 5,
    "start_time": "2021-10-13T18:09:53.263Z"
   },
   {
    "duration": 5,
    "start_time": "2021-10-13T18:09:53.762Z"
   },
   {
    "duration": 5,
    "start_time": "2021-10-13T18:09:54.673Z"
   },
   {
    "duration": 5,
    "start_time": "2021-10-13T18:09:55.236Z"
   },
   {
    "duration": 5,
    "start_time": "2021-10-13T18:09:55.741Z"
   },
   {
    "duration": 4,
    "start_time": "2021-10-13T18:09:56.233Z"
   },
   {
    "duration": 5,
    "start_time": "2021-10-13T18:09:56.946Z"
   },
   {
    "duration": 11,
    "start_time": "2021-10-13T18:09:57.435Z"
   },
   {
    "duration": 3,
    "start_time": "2021-10-13T18:09:57.953Z"
   },
   {
    "duration": 3,
    "start_time": "2021-10-13T18:09:58.837Z"
   },
   {
    "duration": 2,
    "start_time": "2021-10-13T18:09:59.588Z"
   },
   {
    "duration": 7,
    "start_time": "2021-10-13T18:10:00.061Z"
   },
   {
    "duration": 4,
    "start_time": "2021-10-13T18:10:00.662Z"
   },
   {
    "duration": 4,
    "start_time": "2021-10-13T18:10:01.504Z"
   },
   {
    "duration": 48,
    "start_time": "2021-10-13T18:10:02.340Z"
   },
   {
    "duration": 4,
    "start_time": "2021-10-13T18:10:03.162Z"
   },
   {
    "duration": 3,
    "start_time": "2021-10-13T18:10:22.171Z"
   },
   {
    "duration": 9,
    "start_time": "2021-10-13T18:10:23.025Z"
   },
   {
    "duration": 10,
    "start_time": "2021-10-13T18:10:33.514Z"
   },
   {
    "duration": 2242,
    "start_time": "2021-10-13T18:10:34.761Z"
   },
   {
    "duration": 46,
    "start_time": "2021-10-13T18:10:58.292Z"
   },
   {
    "duration": 12,
    "start_time": "2021-10-13T18:10:59.112Z"
   },
   {
    "duration": 5,
    "start_time": "2021-10-13T18:11:01.728Z"
   },
   {
    "duration": 5,
    "start_time": "2021-10-13T18:11:02.169Z"
   },
   {
    "duration": 5,
    "start_time": "2021-10-13T18:11:03.197Z"
   },
   {
    "duration": 4,
    "start_time": "2021-10-13T18:11:04.029Z"
   },
   {
    "duration": 4,
    "start_time": "2021-10-13T18:11:04.765Z"
   },
   {
    "duration": 3,
    "start_time": "2021-10-13T18:11:05.440Z"
   },
   {
    "duration": 5,
    "start_time": "2021-10-13T18:11:10.305Z"
   },
   {
    "duration": 11,
    "start_time": "2021-10-13T18:11:11.189Z"
   },
   {
    "duration": 3,
    "start_time": "2021-10-13T18:11:11.830Z"
   },
   {
    "duration": 2,
    "start_time": "2021-10-13T18:11:12.275Z"
   },
   {
    "duration": 2,
    "start_time": "2021-10-13T18:11:12.502Z"
   },
   {
    "duration": 6,
    "start_time": "2021-10-13T18:11:16.097Z"
   },
   {
    "duration": 4,
    "start_time": "2021-10-13T18:11:21.017Z"
   },
   {
    "duration": 4,
    "start_time": "2021-10-13T18:11:21.814Z"
   },
   {
    "duration": 57,
    "start_time": "2021-10-13T18:11:31.678Z"
   },
   {
    "duration": 47,
    "start_time": "2021-10-13T18:13:50.701Z"
   },
   {
    "duration": 12,
    "start_time": "2021-10-13T18:13:51.660Z"
   },
   {
    "duration": 5,
    "start_time": "2021-10-13T18:13:54.862Z"
   },
   {
    "duration": 5,
    "start_time": "2021-10-13T18:13:55.348Z"
   },
   {
    "duration": 6,
    "start_time": "2021-10-13T18:13:56.545Z"
   },
   {
    "duration": 5,
    "start_time": "2021-10-13T18:13:57.425Z"
   },
   {
    "duration": 4,
    "start_time": "2021-10-13T18:13:57.596Z"
   },
   {
    "duration": 3,
    "start_time": "2021-10-13T18:13:57.903Z"
   },
   {
    "duration": 5,
    "start_time": "2021-10-13T18:13:58.590Z"
   },
   {
    "duration": 11,
    "start_time": "2021-10-13T18:13:59.363Z"
   },
   {
    "duration": 2,
    "start_time": "2021-10-13T18:14:00.155Z"
   },
   {
    "duration": 3,
    "start_time": "2021-10-13T18:14:01.148Z"
   },
   {
    "duration": 3,
    "start_time": "2021-10-13T18:14:01.587Z"
   },
   {
    "duration": 7,
    "start_time": "2021-10-13T18:14:02.463Z"
   },
   {
    "duration": 4,
    "start_time": "2021-10-13T18:14:03.357Z"
   },
   {
    "duration": 6,
    "start_time": "2021-10-13T18:14:05.395Z"
   },
   {
    "duration": 62,
    "start_time": "2021-10-13T18:14:06.537Z"
   },
   {
    "duration": 4428,
    "start_time": "2021-10-13T18:15:09.319Z"
   },
   {
    "duration": -131,
    "start_time": "2021-10-13T18:15:13.880Z"
   },
   {
    "duration": -132,
    "start_time": "2021-10-13T18:15:13.882Z"
   },
   {
    "duration": -133,
    "start_time": "2021-10-13T18:15:13.884Z"
   },
   {
    "duration": 47,
    "start_time": "2021-10-13T18:15:22.443Z"
   },
   {
    "duration": 12,
    "start_time": "2021-10-13T18:15:23.291Z"
   },
   {
    "duration": 5,
    "start_time": "2021-10-13T18:15:26.374Z"
   },
   {
    "duration": 5,
    "start_time": "2021-10-13T18:15:26.869Z"
   },
   {
    "duration": 5,
    "start_time": "2021-10-13T18:15:27.634Z"
   },
   {
    "duration": 5,
    "start_time": "2021-10-13T18:15:28.778Z"
   },
   {
    "duration": 5,
    "start_time": "2021-10-13T18:15:29.550Z"
   },
   {
    "duration": 4,
    "start_time": "2021-10-13T18:15:30.142Z"
   },
   {
    "duration": 5,
    "start_time": "2021-10-13T18:15:40.484Z"
   },
   {
    "duration": 57,
    "start_time": "2021-10-13T18:15:42.003Z"
   },
   {
    "duration": 58,
    "start_time": "2021-10-13T18:16:16.767Z"
   },
   {
    "duration": 57,
    "start_time": "2021-10-13T18:16:42.184Z"
   },
   {
    "duration": 57,
    "start_time": "2021-10-13T18:17:27.481Z"
   },
   {
    "duration": 4,
    "start_time": "2021-10-13T18:18:21.645Z"
   },
   {
    "duration": 526,
    "start_time": "2021-10-13T18:18:22.743Z"
   },
   {
    "duration": 64,
    "start_time": "2021-10-13T18:18:30.358Z"
   },
   {
    "duration": 48,
    "start_time": "2021-10-13T18:23:46.014Z"
   },
   {
    "duration": 12,
    "start_time": "2021-10-13T18:23:47.255Z"
   },
   {
    "duration": 50,
    "start_time": "2021-10-13T18:23:51.888Z"
   },
   {
    "duration": 5,
    "start_time": "2021-10-13T18:25:14.779Z"
   },
   {
    "duration": 4,
    "start_time": "2021-10-13T18:25:19.270Z"
   },
   {
    "duration": 50,
    "start_time": "2021-10-13T18:25:25.024Z"
   },
   {
    "duration": 13,
    "start_time": "2021-10-13T18:25:25.847Z"
   },
   {
    "duration": 4,
    "start_time": "2021-10-13T18:25:28.881Z"
   },
   {
    "duration": 5,
    "start_time": "2021-10-13T18:25:33.811Z"
   },
   {
    "duration": 4,
    "start_time": "2021-10-13T18:25:34.317Z"
   },
   {
    "duration": 4,
    "start_time": "2021-10-13T18:25:39.505Z"
   },
   {
    "duration": 5,
    "start_time": "2021-10-13T18:25:46.594Z"
   },
   {
    "duration": 5,
    "start_time": "2021-10-13T18:25:47.612Z"
   },
   {
    "duration": 5,
    "start_time": "2021-10-13T18:25:48.462Z"
   },
   {
    "duration": 5,
    "start_time": "2021-10-13T18:25:49.253Z"
   },
   {
    "duration": 4,
    "start_time": "2021-10-13T18:25:52.105Z"
   },
   {
    "duration": 5,
    "start_time": "2021-10-13T18:25:53.695Z"
   },
   {
    "duration": 10,
    "start_time": "2021-10-13T18:25:54.684Z"
   },
   {
    "duration": 3,
    "start_time": "2021-10-13T18:25:55.175Z"
   },
   {
    "duration": 3,
    "start_time": "2021-10-13T18:25:55.981Z"
   },
   {
    "duration": 2,
    "start_time": "2021-10-13T18:25:56.472Z"
   },
   {
    "duration": 7,
    "start_time": "2021-10-13T18:25:57.614Z"
   },
   {
    "duration": 4,
    "start_time": "2021-10-13T18:25:58.506Z"
   },
   {
    "duration": 4,
    "start_time": "2021-10-13T18:25:59.349Z"
   },
   {
    "duration": 4,
    "start_time": "2021-10-13T18:26:03.739Z"
   },
   {
    "duration": 47,
    "start_time": "2021-10-13T18:26:56.807Z"
   },
   {
    "duration": 13,
    "start_time": "2021-10-13T18:26:57.693Z"
   },
   {
    "duration": 5,
    "start_time": "2021-10-13T18:27:00.590Z"
   },
   {
    "duration": 6,
    "start_time": "2021-10-13T18:27:01.415Z"
   },
   {
    "duration": 5,
    "start_time": "2021-10-13T18:27:02.640Z"
   },
   {
    "duration": 5,
    "start_time": "2021-10-13T18:27:03.447Z"
   },
   {
    "duration": 4,
    "start_time": "2021-10-13T18:27:04.094Z"
   },
   {
    "duration": 4,
    "start_time": "2021-10-13T18:27:04.920Z"
   },
   {
    "duration": 5,
    "start_time": "2021-10-13T18:27:06.139Z"
   },
   {
    "duration": 10,
    "start_time": "2021-10-13T18:27:07.044Z"
   },
   {
    "duration": 2,
    "start_time": "2021-10-13T18:27:07.808Z"
   },
   {
    "duration": 2,
    "start_time": "2021-10-13T18:27:08.945Z"
   },
   {
    "duration": 2,
    "start_time": "2021-10-13T18:27:09.077Z"
   },
   {
    "duration": 7,
    "start_time": "2021-10-13T18:27:09.736Z"
   },
   {
    "duration": 4,
    "start_time": "2021-10-13T18:27:10.564Z"
   },
   {
    "duration": 5,
    "start_time": "2021-10-13T18:27:11.464Z"
   },
   {
    "duration": 5,
    "start_time": "2021-10-13T18:27:12.508Z"
   },
   {
    "duration": 9,
    "start_time": "2021-10-13T18:27:17.905Z"
   },
   {
    "duration": 10,
    "start_time": "2021-10-13T18:27:31.331Z"
   },
   {
    "duration": 4,
    "start_time": "2021-10-13T18:27:32.267Z"
   },
   {
    "duration": 48,
    "start_time": "2021-10-13T18:27:46.061Z"
   },
   {
    "duration": 13,
    "start_time": "2021-10-13T18:27:46.714Z"
   },
   {
    "duration": 6,
    "start_time": "2021-10-13T18:27:49.610Z"
   },
   {
    "duration": 6,
    "start_time": "2021-10-13T18:27:50.086Z"
   },
   {
    "duration": 4,
    "start_time": "2021-10-13T18:27:50.763Z"
   },
   {
    "duration": 5,
    "start_time": "2021-10-13T18:27:51.474Z"
   },
   {
    "duration": 4,
    "start_time": "2021-10-13T18:27:52.021Z"
   },
   {
    "duration": 3,
    "start_time": "2021-10-13T18:27:52.600Z"
   },
   {
    "duration": 5,
    "start_time": "2021-10-13T18:27:53.404Z"
   },
   {
    "duration": 12,
    "start_time": "2021-10-13T18:27:54.046Z"
   },
   {
    "duration": 2,
    "start_time": "2021-10-13T18:27:54.549Z"
   },
   {
    "duration": 2,
    "start_time": "2021-10-13T18:27:55.199Z"
   },
   {
    "duration": 8,
    "start_time": "2021-10-13T18:27:56.613Z"
   },
   {
    "duration": 7,
    "start_time": "2021-10-13T18:27:57.153Z"
   },
   {
    "duration": 4,
    "start_time": "2021-10-13T18:27:57.970Z"
   },
   {
    "duration": 4,
    "start_time": "2021-10-13T18:27:58.937Z"
   },
   {
    "duration": 4,
    "start_time": "2021-10-13T18:27:59.923Z"
   },
   {
    "duration": 10,
    "start_time": "2021-10-13T18:28:00.384Z"
   },
   {
    "duration": 10,
    "start_time": "2021-10-13T18:28:03.382Z"
   },
   {
    "duration": 3,
    "start_time": "2021-10-13T18:28:04.218Z"
   },
   {
    "duration": 12,
    "start_time": "2021-10-13T18:28:30.390Z"
   },
   {
    "duration": 18,
    "start_time": "2021-10-13T18:29:57.031Z"
   },
   {
    "duration": 178,
    "start_time": "2021-10-13T18:30:15.454Z"
   },
   {
    "duration": 194,
    "start_time": "2021-10-13T18:30:25.639Z"
   },
   {
    "duration": 10,
    "start_time": "2021-10-13T18:30:30.144Z"
   },
   {
    "duration": 167,
    "start_time": "2021-10-13T18:30:33.275Z"
   },
   {
    "duration": 8,
    "start_time": "2021-10-13T18:30:46.673Z"
   },
   {
    "duration": 15,
    "start_time": "2021-10-13T18:31:36.338Z"
   },
   {
    "duration": 7,
    "start_time": "2021-10-13T18:38:46.586Z"
   },
   {
    "duration": 7,
    "start_time": "2021-10-13T18:39:46.345Z"
   },
   {
    "duration": 8,
    "start_time": "2021-10-13T18:40:03.560Z"
   },
   {
    "duration": 14,
    "start_time": "2021-10-13T18:48:15.473Z"
   },
   {
    "duration": 173,
    "start_time": "2021-10-13T18:48:55.486Z"
   },
   {
    "duration": 14,
    "start_time": "2021-10-13T18:49:06.225Z"
   },
   {
    "duration": 15,
    "start_time": "2021-10-13T18:49:15.371Z"
   },
   {
    "duration": 683,
    "start_time": "2021-10-13T19:09:46.849Z"
   },
   {
    "duration": 54,
    "start_time": "2021-10-13T19:10:42.259Z"
   },
   {
    "duration": 57,
    "start_time": "2021-10-13T19:10:47.861Z"
   },
   {
    "duration": 19,
    "start_time": "2021-10-13T19:10:52.263Z"
   },
   {
    "duration": 68,
    "start_time": "2021-10-13T19:10:55.990Z"
   },
   {
    "duration": 49,
    "start_time": "2021-10-13T19:11:00.943Z"
   },
   {
    "duration": 12,
    "start_time": "2021-10-13T19:11:01.888Z"
   },
   {
    "duration": 5,
    "start_time": "2021-10-13T19:11:04.584Z"
   },
   {
    "duration": 5,
    "start_time": "2021-10-13T19:11:05.017Z"
   },
   {
    "duration": 5,
    "start_time": "2021-10-13T19:11:05.401Z"
   },
   {
    "duration": 4,
    "start_time": "2021-10-13T19:11:05.944Z"
   },
   {
    "duration": 5,
    "start_time": "2021-10-13T19:11:06.611Z"
   },
   {
    "duration": 3,
    "start_time": "2021-10-13T19:11:07.218Z"
   },
   {
    "duration": 5,
    "start_time": "2021-10-13T19:11:07.920Z"
   },
   {
    "duration": 11,
    "start_time": "2021-10-13T19:11:08.711Z"
   },
   {
    "duration": 2,
    "start_time": "2021-10-13T19:11:09.454Z"
   },
   {
    "duration": 3,
    "start_time": "2021-10-13T19:11:10.024Z"
   },
   {
    "duration": 2,
    "start_time": "2021-10-13T19:11:10.513Z"
   },
   {
    "duration": 7,
    "start_time": "2021-10-13T19:11:11.011Z"
   },
   {
    "duration": 3,
    "start_time": "2021-10-13T19:11:11.527Z"
   },
   {
    "duration": 3,
    "start_time": "2021-10-13T19:11:12.009Z"
   },
   {
    "duration": 4,
    "start_time": "2021-10-13T19:11:12.367Z"
   },
   {
    "duration": 11,
    "start_time": "2021-10-13T19:11:12.916Z"
   },
   {
    "duration": 11,
    "start_time": "2021-10-13T19:11:14.423Z"
   },
   {
    "duration": 4,
    "start_time": "2021-10-13T19:11:14.913Z"
   },
   {
    "duration": 11,
    "start_time": "2021-10-13T19:11:15.578Z"
   },
   {
    "duration": 7,
    "start_time": "2021-10-13T19:11:17.764Z"
   },
   {
    "duration": 14,
    "start_time": "2021-10-13T19:11:18.211Z"
   },
   {
    "duration": 7,
    "start_time": "2021-10-13T19:11:18.675Z"
   },
   {
    "duration": 8,
    "start_time": "2021-10-13T19:11:18.884Z"
   },
   {
    "duration": 8,
    "start_time": "2021-10-13T19:11:19.136Z"
   },
   {
    "duration": 13,
    "start_time": "2021-10-13T19:11:19.348Z"
   },
   {
    "duration": 15,
    "start_time": "2021-10-13T19:11:20.014Z"
   },
   {
    "duration": 13,
    "start_time": "2021-10-13T19:11:20.595Z"
   },
   {
    "duration": 56,
    "start_time": "2021-10-13T19:11:22.613Z"
   },
   {
    "duration": 40,
    "start_time": "2021-10-13T19:11:32.260Z"
   },
   {
    "duration": 675,
    "start_time": "2021-10-13T19:11:35.620Z"
   },
   {
    "duration": 280,
    "start_time": "2021-10-13T19:11:40.841Z"
   },
   {
    "duration": 219,
    "start_time": "2021-10-13T19:11:53.141Z"
   },
   {
    "duration": 73,
    "start_time": "2021-10-13T19:12:02.225Z"
   },
   {
    "duration": 53,
    "start_time": "2021-10-13T19:12:10.900Z"
   },
   {
    "duration": 4768,
    "start_time": "2021-10-13T19:14:21.593Z"
   },
   {
    "duration": 1401,
    "start_time": "2021-10-13T19:14:56.790Z"
   },
   {
    "duration": 225,
    "start_time": "2021-10-13T19:15:06.136Z"
   },
   {
    "duration": 214,
    "start_time": "2021-10-13T19:16:10.629Z"
   },
   {
    "duration": 216,
    "start_time": "2021-10-13T19:16:23.812Z"
   },
   {
    "duration": 44,
    "start_time": "2021-10-13T19:16:31.620Z"
   },
   {
    "duration": 218,
    "start_time": "2021-10-13T19:16:48.428Z"
   },
   {
    "duration": 216,
    "start_time": "2021-10-13T19:17:07.674Z"
   },
   {
    "duration": 210,
    "start_time": "2021-10-13T19:17:37.900Z"
   },
   {
    "duration": 212,
    "start_time": "2021-10-13T19:17:42.306Z"
   },
   {
    "duration": 217,
    "start_time": "2021-10-13T19:17:51.426Z"
   },
   {
    "duration": 41,
    "start_time": "2021-10-13T19:19:23.064Z"
   },
   {
    "duration": 39,
    "start_time": "2021-10-13T19:19:28.542Z"
   },
   {
    "duration": 1061,
    "start_time": "2021-10-13T19:19:34.493Z"
   },
   {
    "duration": 231,
    "start_time": "2021-10-13T19:19:39.040Z"
   },
   {
    "duration": 44,
    "start_time": "2021-10-13T19:19:49.553Z"
   },
   {
    "duration": 42,
    "start_time": "2021-10-13T19:20:03.241Z"
   },
   {
    "duration": 43,
    "start_time": "2021-10-13T19:21:44.994Z"
   },
   {
    "duration": 182,
    "start_time": "2021-10-14T07:31:10.813Z"
   },
   {
    "duration": 286,
    "start_time": "2021-10-14T07:31:42.041Z"
   },
   {
    "duration": 45,
    "start_time": "2021-10-14T07:32:50.857Z"
   },
   {
    "duration": 12,
    "start_time": "2021-10-14T07:32:51.075Z"
   },
   {
    "duration": 5,
    "start_time": "2021-10-14T07:32:51.937Z"
   },
   {
    "duration": 4,
    "start_time": "2021-10-14T07:32:52.122Z"
   },
   {
    "duration": 4,
    "start_time": "2021-10-14T07:32:52.288Z"
   },
   {
    "duration": 4,
    "start_time": "2021-10-14T07:32:52.765Z"
   },
   {
    "duration": 13,
    "start_time": "2021-10-14T07:32:52.771Z"
   },
   {
    "duration": 3,
    "start_time": "2021-10-14T07:32:52.830Z"
   },
   {
    "duration": 5,
    "start_time": "2021-10-14T07:32:53.007Z"
   },
   {
    "duration": 11,
    "start_time": "2021-10-14T07:32:53.187Z"
   },
   {
    "duration": 2,
    "start_time": "2021-10-14T07:32:53.375Z"
   },
   {
    "duration": 2,
    "start_time": "2021-10-14T07:32:53.564Z"
   },
   {
    "duration": 2,
    "start_time": "2021-10-14T07:32:54.058Z"
   },
   {
    "duration": 13,
    "start_time": "2021-10-14T07:32:54.062Z"
   },
   {
    "duration": 3,
    "start_time": "2021-10-14T07:32:54.106Z"
   },
   {
    "duration": 4,
    "start_time": "2021-10-14T07:32:54.278Z"
   },
   {
    "duration": 5,
    "start_time": "2021-10-14T07:32:54.441Z"
   },
   {
    "duration": 9,
    "start_time": "2021-10-14T07:32:54.595Z"
   },
   {
    "duration": 10,
    "start_time": "2021-10-14T07:32:55.309Z"
   },
   {
    "duration": 3,
    "start_time": "2021-10-14T07:32:55.496Z"
   },
   {
    "duration": 12,
    "start_time": "2021-10-14T07:32:55.703Z"
   },
   {
    "duration": 7,
    "start_time": "2021-10-14T07:32:57.026Z"
   },
   {
    "duration": 15,
    "start_time": "2021-10-14T07:32:57.256Z"
   },
   {
    "duration": 7,
    "start_time": "2021-10-14T07:32:57.470Z"
   },
   {
    "duration": 7,
    "start_time": "2021-10-14T07:32:57.714Z"
   },
   {
    "duration": 7,
    "start_time": "2021-10-14T07:32:57.953Z"
   },
   {
    "duration": 14,
    "start_time": "2021-10-14T07:32:58.197Z"
   },
   {
    "duration": 15,
    "start_time": "2021-10-14T07:32:58.452Z"
   },
   {
    "duration": 13,
    "start_time": "2021-10-14T07:32:58.724Z"
   },
   {
    "duration": 177,
    "start_time": "2021-10-14T07:32:59.738Z"
   },
   {
    "duration": 174,
    "start_time": "2021-10-14T07:32:59.941Z"
   },
   {
    "duration": 42,
    "start_time": "2021-10-14T07:33:00.177Z"
   },
   {
    "duration": 2,
    "start_time": "2021-10-14T07:36:31.750Z"
   },
   {
    "duration": 3,
    "start_time": "2021-10-14T07:36:56.315Z"
   },
   {
    "duration": 8,
    "start_time": "2021-10-14T07:37:27.911Z"
   },
   {
    "duration": 172,
    "start_time": "2021-10-14T07:41:33.163Z"
   },
   {
    "duration": 9,
    "start_time": "2021-10-14T07:42:46.713Z"
   },
   {
    "duration": 19794,
    "start_time": "2021-10-14T07:42:50.760Z"
   },
   {
    "duration": 4,
    "start_time": "2021-10-14T07:43:18.840Z"
   },
   {
    "duration": 7,
    "start_time": "2021-10-14T07:43:32.689Z"
   },
   {
    "duration": 4,
    "start_time": "2021-10-14T07:44:13.729Z"
   },
   {
    "duration": 20132,
    "start_time": "2021-10-14T07:44:25.715Z"
   },
   {
    "duration": 6,
    "start_time": "2021-10-14T07:44:45.869Z"
   },
   {
    "duration": 26,
    "start_time": "2021-10-14T07:44:45.876Z"
   },
   {
    "duration": 47,
    "start_time": "2021-10-14T07:44:45.903Z"
   },
   {
    "duration": 12,
    "start_time": "2021-10-14T07:44:45.952Z"
   },
   {
    "duration": 8,
    "start_time": "2021-10-14T07:44:45.965Z"
   },
   {
    "duration": 5,
    "start_time": "2021-10-14T07:44:45.974Z"
   },
   {
    "duration": 22,
    "start_time": "2021-10-14T07:44:45.980Z"
   },
   {
    "duration": 5,
    "start_time": "2021-10-14T07:44:46.004Z"
   },
   {
    "duration": 5,
    "start_time": "2021-10-14T07:44:46.011Z"
   },
   {
    "duration": 4,
    "start_time": "2021-10-14T07:44:46.017Z"
   },
   {
    "duration": 6,
    "start_time": "2021-10-14T07:44:46.023Z"
   },
   {
    "duration": 10,
    "start_time": "2021-10-14T07:44:46.030Z"
   },
   {
    "duration": 1,
    "start_time": "2021-10-14T07:44:46.042Z"
   },
   {
    "duration": 4,
    "start_time": "2021-10-14T07:44:46.045Z"
   },
   {
    "duration": 5,
    "start_time": "2021-10-14T07:44:46.050Z"
   },
   {
    "duration": 8,
    "start_time": "2021-10-14T07:44:46.056Z"
   },
   {
    "duration": 2,
    "start_time": "2021-10-14T07:44:46.066Z"
   },
   {
    "duration": 3,
    "start_time": "2021-10-14T07:44:46.100Z"
   },
   {
    "duration": 6,
    "start_time": "2021-10-14T07:44:46.106Z"
   },
   {
    "duration": 10,
    "start_time": "2021-10-14T07:44:46.114Z"
   },
   {
    "duration": 10,
    "start_time": "2021-10-14T07:44:46.125Z"
   },
   {
    "duration": 3,
    "start_time": "2021-10-14T07:44:46.137Z"
   },
   {
    "duration": 13,
    "start_time": "2021-10-14T07:44:46.141Z"
   },
   {
    "duration": 8,
    "start_time": "2021-10-14T07:44:46.899Z"
   },
   {
    "duration": 15,
    "start_time": "2021-10-14T07:44:47.114Z"
   },
   {
    "duration": 7,
    "start_time": "2021-10-14T07:44:47.309Z"
   },
   {
    "duration": 7,
    "start_time": "2021-10-14T07:44:47.529Z"
   },
   {
    "duration": 7,
    "start_time": "2021-10-14T07:44:47.736Z"
   },
   {
    "duration": 13,
    "start_time": "2021-10-14T07:44:47.956Z"
   },
   {
    "duration": 17,
    "start_time": "2021-10-14T07:44:48.162Z"
   },
   {
    "duration": 14,
    "start_time": "2021-10-14T07:44:48.646Z"
   },
   {
    "duration": 3,
    "start_time": "2021-10-14T07:44:51.901Z"
   },
   {
    "duration": 7,
    "start_time": "2021-10-14T07:44:53.012Z"
   },
   {
    "duration": 4,
    "start_time": "2021-10-14T07:44:53.783Z"
   },
   {
    "duration": 19717,
    "start_time": "2021-10-14T07:44:56.019Z"
   },
   {
    "duration": 6,
    "start_time": "2021-10-14T07:45:15.743Z"
   },
   {
    "duration": 46,
    "start_time": "2021-10-14T07:49:48.670Z"
   },
   {
    "duration": 12,
    "start_time": "2021-10-14T07:49:49.128Z"
   },
   {
    "duration": 5,
    "start_time": "2021-10-14T07:49:50.318Z"
   },
   {
    "duration": 5,
    "start_time": "2021-10-14T07:49:50.528Z"
   },
   {
    "duration": 5,
    "start_time": "2021-10-14T07:49:50.782Z"
   },
   {
    "duration": 4,
    "start_time": "2021-10-14T07:49:51.019Z"
   },
   {
    "duration": 5,
    "start_time": "2021-10-14T07:49:51.256Z"
   },
   {
    "duration": 4,
    "start_time": "2021-10-14T07:49:51.526Z"
   },
   {
    "duration": 5,
    "start_time": "2021-10-14T07:49:51.821Z"
   },
   {
    "duration": 10,
    "start_time": "2021-10-14T07:49:52.129Z"
   },
   {
    "duration": 3,
    "start_time": "2021-10-14T07:49:52.678Z"
   },
   {
    "duration": 3,
    "start_time": "2021-10-14T07:49:53.176Z"
   },
   {
    "duration": 2,
    "start_time": "2021-10-14T07:49:53.459Z"
   },
   {
    "duration": 7,
    "start_time": "2021-10-14T07:49:53.720Z"
   },
   {
    "duration": 3,
    "start_time": "2021-10-14T07:49:53.975Z"
   },
   {
    "duration": 4,
    "start_time": "2021-10-14T07:49:54.586Z"
   },
   {
    "duration": 5,
    "start_time": "2021-10-14T07:49:55.139Z"
   },
   {
    "duration": 9,
    "start_time": "2021-10-14T07:49:55.651Z"
   },
   {
    "duration": 9,
    "start_time": "2021-10-14T07:49:57.940Z"
   },
   {
    "duration": 4,
    "start_time": "2021-10-14T07:49:58.385Z"
   },
   {
    "duration": 11,
    "start_time": "2021-10-14T07:49:58.911Z"
   },
   {
    "duration": 7,
    "start_time": "2021-10-14T07:50:01.066Z"
   },
   {
    "duration": 15,
    "start_time": "2021-10-14T07:50:02.869Z"
   },
   {
    "duration": 8,
    "start_time": "2021-10-14T07:50:03.386Z"
   },
   {
    "duration": 7,
    "start_time": "2021-10-14T07:50:03.709Z"
   },
   {
    "duration": 7,
    "start_time": "2021-10-14T07:50:04.031Z"
   },
   {
    "duration": 15,
    "start_time": "2021-10-14T07:50:04.382Z"
   },
   {
    "duration": 16,
    "start_time": "2021-10-14T07:50:05.763Z"
   },
   {
    "duration": 15,
    "start_time": "2021-10-14T07:50:06.130Z"
   },
   {
    "duration": 10,
    "start_time": "2021-10-14T07:50:08.807Z"
   },
   {
    "duration": 10,
    "start_time": "2021-10-14T07:50:17.720Z"
   },
   {
    "duration": 9,
    "start_time": "2021-10-14T07:50:20.527Z"
   },
   {
    "duration": 10,
    "start_time": "2021-10-14T08:04:32.654Z"
   },
   {
    "duration": 5,
    "start_time": "2021-10-14T08:12:51.083Z"
   },
   {
    "duration": 22,
    "start_time": "2021-10-14T09:03:33.247Z"
   },
   {
    "duration": 5,
    "start_time": "2021-10-14T09:10:10.172Z"
   },
   {
    "duration": 3,
    "start_time": "2021-10-14T11:04:45.278Z"
   },
   {
    "duration": 21126,
    "start_time": "2021-10-14T11:04:59.477Z"
   },
   {
    "duration": 183,
    "start_time": "2021-10-14T11:07:18.391Z"
   },
   {
    "duration": 2,
    "start_time": "2021-10-14T11:07:26.151Z"
   },
   {
    "duration": 194,
    "start_time": "2021-10-14T11:07:28.918Z"
   },
   {
    "duration": 2,
    "start_time": "2021-10-14T11:07:51.142Z"
   },
   {
    "duration": 3,
    "start_time": "2021-10-14T11:07:51.730Z"
   },
   {
    "duration": 176,
    "start_time": "2021-10-14T11:07:52.344Z"
   },
   {
    "duration": 185,
    "start_time": "2021-10-14T11:08:00.183Z"
   },
   {
    "duration": 2,
    "start_time": "2021-10-14T11:08:05.736Z"
   },
   {
    "duration": 3,
    "start_time": "2021-10-14T11:08:06.452Z"
   },
   {
    "duration": 175,
    "start_time": "2021-10-14T11:08:07.296Z"
   },
   {
    "duration": 46,
    "start_time": "2021-10-14T11:08:13.231Z"
   },
   {
    "duration": 17,
    "start_time": "2021-10-14T11:08:13.904Z"
   },
   {
    "duration": 5,
    "start_time": "2021-10-14T11:08:16.996Z"
   },
   {
    "duration": 5,
    "start_time": "2021-10-14T11:08:17.513Z"
   },
   {
    "duration": 5,
    "start_time": "2021-10-14T11:08:18.250Z"
   },
   {
    "duration": 5,
    "start_time": "2021-10-14T11:08:19.138Z"
   },
   {
    "duration": 5,
    "start_time": "2021-10-14T11:08:19.782Z"
   },
   {
    "duration": 4,
    "start_time": "2021-10-14T11:08:20.348Z"
   },
   {
    "duration": 6,
    "start_time": "2021-10-14T11:08:20.763Z"
   },
   {
    "duration": 10,
    "start_time": "2021-10-14T11:08:21.552Z"
   },
   {
    "duration": 3,
    "start_time": "2021-10-14T11:08:22.211Z"
   },
   {
    "duration": 3,
    "start_time": "2021-10-14T11:08:22.911Z"
   },
   {
    "duration": 2,
    "start_time": "2021-10-14T11:08:23.376Z"
   },
   {
    "duration": 6,
    "start_time": "2021-10-14T11:08:23.877Z"
   },
   {
    "duration": 4,
    "start_time": "2021-10-14T11:08:24.500Z"
   },
   {
    "duration": 5,
    "start_time": "2021-10-14T11:08:25.829Z"
   },
   {
    "duration": 8,
    "start_time": "2021-10-14T11:08:26.702Z"
   },
   {
    "duration": 10,
    "start_time": "2021-10-14T11:08:27.543Z"
   },
   {
    "duration": 18,
    "start_time": "2021-10-14T11:08:31.295Z"
   },
   {
    "duration": 5,
    "start_time": "2021-10-14T11:08:32.009Z"
   },
   {
    "duration": 12,
    "start_time": "2021-10-14T11:08:32.736Z"
   },
   {
    "duration": 27,
    "start_time": "2021-10-14T11:08:35.080Z"
   },
   {
    "duration": 15,
    "start_time": "2021-10-14T11:08:38.384Z"
   },
   {
    "duration": 7,
    "start_time": "2021-10-14T11:08:39.258Z"
   },
   {
    "duration": 8,
    "start_time": "2021-10-14T11:08:39.313Z"
   },
   {
    "duration": 9,
    "start_time": "2021-10-14T11:08:40.018Z"
   },
   {
    "duration": 13,
    "start_time": "2021-10-14T11:08:40.185Z"
   },
   {
    "duration": 14,
    "start_time": "2021-10-14T11:08:41.125Z"
   },
   {
    "duration": 14,
    "start_time": "2021-10-14T11:08:41.961Z"
   },
   {
    "duration": 8,
    "start_time": "2021-10-14T11:08:45.905Z"
   },
   {
    "duration": 2,
    "start_time": "2021-10-14T11:08:46.794Z"
   },
   {
    "duration": 3,
    "start_time": "2021-10-14T11:08:47.415Z"
   },
   {
    "duration": 187,
    "start_time": "2021-10-14T11:08:48.152Z"
   },
   {
    "duration": 667,
    "start_time": "2021-10-14T11:10:28.455Z"
   },
   {
    "duration": 3,
    "start_time": "2021-10-14T11:16:25.361Z"
   },
   {
    "duration": 3,
    "start_time": "2021-10-14T11:17:56.123Z"
   },
   {
    "duration": 16689,
    "start_time": "2021-10-14T11:17:56.301Z"
   },
   {
    "duration": 8,
    "start_time": "2021-10-14T11:18:12.993Z"
   },
   {
    "duration": 16789,
    "start_time": "2021-10-14T11:18:13.004Z"
   },
   {
    "duration": 5,
    "start_time": "2021-10-14T11:18:58.554Z"
   },
   {
    "duration": 15647,
    "start_time": "2021-10-14T11:19:25.670Z"
   },
   {
    "duration": 6,
    "start_time": "2021-10-14T11:19:41.324Z"
   },
   {
    "duration": 50,
    "start_time": "2021-10-14T11:19:41.332Z"
   },
   {
    "duration": 24,
    "start_time": "2021-10-14T11:19:41.384Z"
   },
   {
    "duration": 4,
    "start_time": "2021-10-14T11:19:41.410Z"
   },
   {
    "duration": 6,
    "start_time": "2021-10-14T11:19:41.415Z"
   },
   {
    "duration": 6,
    "start_time": "2021-10-14T11:19:41.423Z"
   },
   {
    "duration": 5,
    "start_time": "2021-10-14T11:19:41.431Z"
   },
   {
    "duration": 4,
    "start_time": "2021-10-14T11:19:41.438Z"
   },
   {
    "duration": 4,
    "start_time": "2021-10-14T11:19:41.444Z"
   },
   {
    "duration": 8,
    "start_time": "2021-10-14T11:19:41.449Z"
   },
   {
    "duration": 42,
    "start_time": "2021-10-14T11:19:41.459Z"
   },
   {
    "duration": 2,
    "start_time": "2021-10-14T11:19:41.503Z"
   },
   {
    "duration": 5,
    "start_time": "2021-10-14T11:19:41.507Z"
   },
   {
    "duration": 5,
    "start_time": "2021-10-14T11:19:41.513Z"
   },
   {
    "duration": 8,
    "start_time": "2021-10-14T11:19:41.520Z"
   },
   {
    "duration": 4,
    "start_time": "2021-10-14T11:19:41.530Z"
   },
   {
    "duration": 6,
    "start_time": "2021-10-14T11:19:41.535Z"
   },
   {
    "duration": 5,
    "start_time": "2021-10-14T11:19:41.543Z"
   },
   {
    "duration": 10,
    "start_time": "2021-10-14T11:19:41.550Z"
   },
   {
    "duration": 44,
    "start_time": "2021-10-14T11:19:41.561Z"
   },
   {
    "duration": 3,
    "start_time": "2021-10-14T11:19:41.608Z"
   },
   {
    "duration": 13,
    "start_time": "2021-10-14T11:19:41.613Z"
   },
   {
    "duration": 8,
    "start_time": "2021-10-14T11:19:41.628Z"
   },
   {
    "duration": 16,
    "start_time": "2021-10-14T11:19:41.809Z"
   },
   {
    "duration": 13,
    "start_time": "2021-10-14T11:19:41.826Z"
   },
   {
    "duration": 12,
    "start_time": "2021-10-14T11:19:41.841Z"
   },
   {
    "duration": 7,
    "start_time": "2021-10-14T11:19:41.915Z"
   },
   {
    "duration": 14,
    "start_time": "2021-10-14T11:19:42.552Z"
   },
   {
    "duration": 14,
    "start_time": "2021-10-14T11:19:42.985Z"
   },
   {
    "duration": 14,
    "start_time": "2021-10-14T11:19:43.201Z"
   },
   {
    "duration": 5,
    "start_time": "2021-10-14T11:19:45.317Z"
   },
   {
    "duration": 16016,
    "start_time": "2021-10-14T11:19:45.324Z"
   },
   {
    "duration": 5,
    "start_time": "2021-10-14T11:20:01.342Z"
   },
   {
    "duration": 19,
    "start_time": "2021-10-14T11:20:01.348Z"
   },
   {
    "duration": 31,
    "start_time": "2021-10-14T11:20:01.369Z"
   },
   {
    "duration": 643,
    "start_time": "2021-10-14T11:20:01.402Z"
   },
   {
    "duration": 3,
    "start_time": "2021-10-14T11:20:02.047Z"
   },
   {
    "duration": 15829,
    "start_time": "2021-10-14T11:20:02.051Z"
   },
   {
    "duration": 4,
    "start_time": "2021-10-14T11:20:17.882Z"
   },
   {
    "duration": 7,
    "start_time": "2021-10-14T11:20:17.906Z"
   },
   {
    "duration": 3,
    "start_time": "2021-10-14T11:20:17.914Z"
   },
   {
    "duration": 16,
    "start_time": "2021-10-14T11:20:17.918Z"
   },
   {
    "duration": 50,
    "start_time": "2021-10-14T11:20:18.009Z"
   },
   {
    "duration": 13,
    "start_time": "2021-10-14T11:20:18.061Z"
   },
   {
    "duration": 5,
    "start_time": "2021-10-14T11:20:23.590Z"
   },
   {
    "duration": 7,
    "start_time": "2021-10-14T11:20:23.596Z"
   },
   {
    "duration": 5,
    "start_time": "2021-10-14T11:20:23.765Z"
   },
   {
    "duration": 5,
    "start_time": "2021-10-14T11:20:23.773Z"
   },
   {
    "duration": 5,
    "start_time": "2021-10-14T11:20:23.780Z"
   },
   {
    "duration": 6,
    "start_time": "2021-10-14T11:20:23.787Z"
   },
   {
    "duration": 5,
    "start_time": "2021-10-14T11:20:23.795Z"
   },
   {
    "duration": 10,
    "start_time": "2021-10-14T11:20:23.802Z"
   },
   {
    "duration": 3,
    "start_time": "2021-10-14T11:20:24.966Z"
   },
   {
    "duration": 5,
    "start_time": "2021-10-14T11:20:24.971Z"
   },
   {
    "duration": 5,
    "start_time": "2021-10-14T11:20:24.978Z"
   },
   {
    "duration": 7,
    "start_time": "2021-10-14T11:20:25.150Z"
   },
   {
    "duration": 3,
    "start_time": "2021-10-14T11:20:25.159Z"
   },
   {
    "duration": 7,
    "start_time": "2021-10-14T11:20:25.164Z"
   },
   {
    "duration": 5,
    "start_time": "2021-10-14T11:20:25.989Z"
   },
   {
    "duration": 11,
    "start_time": "2021-10-14T11:20:25.995Z"
   },
   {
    "duration": 11,
    "start_time": "2021-10-14T11:20:27.503Z"
   },
   {
    "duration": 5,
    "start_time": "2021-10-14T11:20:27.516Z"
   },
   {
    "duration": 13,
    "start_time": "2021-10-14T11:20:27.523Z"
   },
   {
    "duration": 8,
    "start_time": "2021-10-14T11:20:29.918Z"
   },
   {
    "duration": 16,
    "start_time": "2021-10-14T11:20:30.471Z"
   },
   {
    "duration": 8,
    "start_time": "2021-10-14T11:20:32.018Z"
   },
   {
    "duration": 9,
    "start_time": "2021-10-14T11:20:32.028Z"
   },
   {
    "duration": 8,
    "start_time": "2021-10-14T11:20:34.790Z"
   },
   {
    "duration": 14,
    "start_time": "2021-10-14T11:20:34.800Z"
   },
   {
    "duration": 16,
    "start_time": "2021-10-14T11:20:34.816Z"
   },
   {
    "duration": 14,
    "start_time": "2021-10-14T11:20:34.833Z"
   },
   {
    "duration": 6,
    "start_time": "2021-10-14T11:20:36.901Z"
   },
   {
    "duration": 3,
    "start_time": "2021-10-14T11:20:41.583Z"
   },
   {
    "duration": 5,
    "start_time": "2021-10-14T11:20:41.588Z"
   },
   {
    "duration": 635,
    "start_time": "2021-10-14T11:20:41.595Z"
   },
   {
    "duration": 4,
    "start_time": "2021-10-14T11:20:49.651Z"
   },
   {
    "duration": 4676,
    "start_time": "2021-10-14T11:21:25.781Z"
   },
   {
    "duration": -110,
    "start_time": "2021-10-14T11:21:30.569Z"
   },
   {
    "duration": 14,
    "start_time": "2021-10-14T11:21:30.525Z"
   },
   {
    "duration": 618,
    "start_time": "2021-10-14T11:21:30.541Z"
   },
   {
    "duration": 3,
    "start_time": "2021-10-14T11:21:33.354Z"
   },
   {
    "duration": -102,
    "start_time": "2021-10-14T11:22:12.893Z"
   },
   {
    "duration": -103,
    "start_time": "2021-10-14T11:22:12.895Z"
   },
   {
    "duration": 51,
    "start_time": "2021-10-14T11:22:14.735Z"
   },
   {
    "duration": 14,
    "start_time": "2021-10-14T11:22:15.294Z"
   },
   {
    "duration": 6,
    "start_time": "2021-10-14T11:22:18.616Z"
   },
   {
    "duration": 7,
    "start_time": "2021-10-14T11:22:18.623Z"
   },
   {
    "duration": 4,
    "start_time": "2021-10-14T11:22:18.632Z"
   },
   {
    "duration": 5,
    "start_time": "2021-10-14T11:22:18.888Z"
   },
   {
    "duration": 5,
    "start_time": "2021-10-14T11:22:21.185Z"
   },
   {
    "duration": 6,
    "start_time": "2021-10-14T11:22:21.192Z"
   },
   {
    "duration": 5,
    "start_time": "2021-10-14T11:22:21.371Z"
   },
   {
    "duration": 13,
    "start_time": "2021-10-14T11:22:21.378Z"
   },
   {
    "duration": 2,
    "start_time": "2021-10-14T11:22:21.393Z"
   },
   {
    "duration": 9,
    "start_time": "2021-10-14T11:22:21.397Z"
   },
   {
    "duration": 3,
    "start_time": "2021-10-14T11:22:22.686Z"
   },
   {
    "duration": 9,
    "start_time": "2021-10-14T11:22:22.691Z"
   },
   {
    "duration": 4,
    "start_time": "2021-10-14T11:22:23.426Z"
   },
   {
    "duration": 11,
    "start_time": "2021-10-14T11:22:23.431Z"
   },
   {
    "duration": 5,
    "start_time": "2021-10-14T11:22:23.444Z"
   },
   {
    "duration": 9,
    "start_time": "2021-10-14T11:22:23.451Z"
   },
   {
    "duration": 10,
    "start_time": "2021-10-14T11:22:23.461Z"
   },
   {
    "duration": 4,
    "start_time": "2021-10-14T11:22:23.591Z"
   },
   {
    "duration": 14,
    "start_time": "2021-10-14T11:22:23.596Z"
   },
   {
    "duration": 8,
    "start_time": "2021-10-14T11:22:24.046Z"
   },
   {
    "duration": 16,
    "start_time": "2021-10-14T11:22:24.860Z"
   },
   {
    "duration": 9,
    "start_time": "2021-10-14T11:22:24.878Z"
   },
   {
    "duration": 7,
    "start_time": "2021-10-14T11:22:24.889Z"
   },
   {
    "duration": 8,
    "start_time": "2021-10-14T11:22:25.454Z"
   },
   {
    "duration": 17,
    "start_time": "2021-10-14T11:22:25.464Z"
   },
   {
    "duration": 15,
    "start_time": "2021-10-14T11:22:25.538Z"
   },
   {
    "duration": 15,
    "start_time": "2021-10-14T11:22:26.403Z"
   },
   {
    "duration": 5,
    "start_time": "2021-10-14T11:22:28.734Z"
   },
   {
    "duration": 2,
    "start_time": "2021-10-14T11:22:29.935Z"
   },
   {
    "duration": 14,
    "start_time": "2021-10-14T11:22:30.082Z"
   },
   {
    "duration": 614,
    "start_time": "2021-10-14T11:22:31.127Z"
   },
   {
    "duration": 3,
    "start_time": "2021-10-14T11:22:32.737Z"
   },
   {
    "duration": 5008,
    "start_time": "2021-10-14T11:22:39.838Z"
   },
   {
    "duration": -183,
    "start_time": "2021-10-14T11:22:53.282Z"
   },
   {
    "duration": -109,
    "start_time": "2021-10-14T11:23:04.210Z"
   },
   {
    "duration": 3,
    "start_time": "2021-10-14T11:23:07.620Z"
   },
   {
    "duration": -751,
    "start_time": "2021-10-14T11:23:15.728Z"
   },
   {
    "duration": 21,
    "start_time": "2021-10-14T11:23:15.211Z"
   },
   {
    "duration": 633,
    "start_time": "2021-10-14T11:23:15.805Z"
   },
   {
    "duration": 3,
    "start_time": "2021-10-14T11:23:17.949Z"
   },
   {
    "duration": 4868,
    "start_time": "2021-10-14T11:23:19.032Z"
   },
   {
    "duration": 4883,
    "start_time": "2021-10-14T11:23:47.930Z"
   },
   {
    "duration": 182,
    "start_time": "2021-10-14T11:23:59.234Z"
   },
   {
    "duration": 4,
    "start_time": "2021-10-14T11:25:01.278Z"
   },
   {
    "duration": 3,
    "start_time": "2021-10-14T11:25:03.524Z"
   },
   {
    "duration": 181,
    "start_time": "2021-10-14T11:25:09.439Z"
   },
   {
    "duration": 4786,
    "start_time": "2021-10-14T11:25:20.734Z"
   },
   {
    "duration": 3,
    "start_time": "2021-10-14T11:25:51.338Z"
   },
   {
    "duration": 3,
    "start_time": "2021-10-14T11:25:55.086Z"
   },
   {
    "duration": 3,
    "start_time": "2021-10-14T11:25:58.402Z"
   },
   {
    "duration": 14,
    "start_time": "2021-10-14T11:25:59.245Z"
   },
   {
    "duration": 641,
    "start_time": "2021-10-14T11:26:00.036Z"
   },
   {
    "duration": 4,
    "start_time": "2021-10-14T11:26:00.926Z"
   },
   {
    "duration": 4785,
    "start_time": "2021-10-14T11:26:02.734Z"
   },
   {
    "duration": 3,
    "start_time": "2021-10-14T11:26:07.548Z"
   },
   {
    "duration": 5343,
    "start_time": "2021-10-14T11:26:09.477Z"
   },
   {
    "duration": 4,
    "start_time": "2021-10-14T11:27:08.579Z"
   },
   {
    "duration": 3,
    "start_time": "2021-10-14T11:27:09.552Z"
   },
   {
    "duration": 2,
    "start_time": "2021-10-14T11:27:12.571Z"
   },
   {
    "duration": 21,
    "start_time": "2021-10-14T11:27:13.241Z"
   },
   {
    "duration": 720,
    "start_time": "2021-10-14T11:27:13.915Z"
   },
   {
    "duration": 2,
    "start_time": "2021-10-14T11:27:15.328Z"
   },
   {
    "duration": 2,
    "start_time": "2021-10-14T11:27:19.263Z"
   },
   {
    "duration": 4873,
    "start_time": "2021-10-14T11:27:20.337Z"
   },
   {
    "duration": 2,
    "start_time": "2021-10-14T11:29:05.991Z"
   },
   {
    "duration": 4804,
    "start_time": "2021-10-14T11:29:07.265Z"
   },
   {
    "duration": 4989,
    "start_time": "2021-10-14T11:29:36.393Z"
   },
   {
    "duration": 4766,
    "start_time": "2021-10-14T11:29:53.953Z"
   },
   {
    "duration": 61,
    "start_time": "2021-10-14T11:30:17.182Z"
   },
   {
    "duration": 16,
    "start_time": "2021-10-14T11:30:17.810Z"
   },
   {
    "duration": 5,
    "start_time": "2021-10-14T11:30:20.778Z"
   },
   {
    "duration": 5,
    "start_time": "2021-10-14T11:30:21.372Z"
   },
   {
    "duration": 5,
    "start_time": "2021-10-14T11:30:22.242Z"
   },
   {
    "duration": 5,
    "start_time": "2021-10-14T11:30:22.982Z"
   },
   {
    "duration": 4,
    "start_time": "2021-10-14T11:30:23.648Z"
   },
   {
    "duration": 4,
    "start_time": "2021-10-14T11:30:24.305Z"
   },
   {
    "duration": 6,
    "start_time": "2021-10-14T11:30:24.996Z"
   },
   {
    "duration": 15,
    "start_time": "2021-10-14T11:30:25.702Z"
   },
   {
    "duration": 3,
    "start_time": "2021-10-14T11:30:26.226Z"
   },
   {
    "duration": 3,
    "start_time": "2021-10-14T11:30:28.391Z"
   },
   {
    "duration": 2,
    "start_time": "2021-10-14T11:30:29.647Z"
   },
   {
    "duration": 9,
    "start_time": "2021-10-14T11:30:30.323Z"
   },
   {
    "duration": 4,
    "start_time": "2021-10-14T11:30:33.048Z"
   },
   {
    "duration": 4,
    "start_time": "2021-10-14T11:30:34.691Z"
   },
   {
    "duration": 5,
    "start_time": "2021-10-14T11:30:35.862Z"
   },
   {
    "duration": 10,
    "start_time": "2021-10-14T11:30:36.751Z"
   },
   {
    "duration": 18,
    "start_time": "2021-10-14T11:30:40.007Z"
   },
   {
    "duration": 6,
    "start_time": "2021-10-14T11:30:40.901Z"
   },
   {
    "duration": 12,
    "start_time": "2021-10-14T11:30:41.660Z"
   },
   {
    "duration": 7,
    "start_time": "2021-10-14T11:30:44.555Z"
   },
   {
    "duration": 17,
    "start_time": "2021-10-14T11:30:45.418Z"
   },
   {
    "duration": 7,
    "start_time": "2021-10-14T11:30:46.882Z"
   },
   {
    "duration": 7,
    "start_time": "2021-10-14T11:30:48.142Z"
   },
   {
    "duration": 7,
    "start_time": "2021-10-14T11:30:49.232Z"
   },
   {
    "duration": 14,
    "start_time": "2021-10-14T11:30:50.424Z"
   },
   {
    "duration": 23,
    "start_time": "2021-10-14T11:30:51.694Z"
   },
   {
    "duration": 19,
    "start_time": "2021-10-14T11:30:52.411Z"
   },
   {
    "duration": 5,
    "start_time": "2021-10-14T11:30:55.143Z"
   },
   {
    "duration": 3,
    "start_time": "2021-10-14T11:30:56.274Z"
   },
   {
    "duration": 32,
    "start_time": "2021-10-14T11:30:57.699Z"
   },
   {
    "duration": 741,
    "start_time": "2021-10-14T11:30:58.453Z"
   },
   {
    "duration": 3,
    "start_time": "2021-10-14T11:31:00.351Z"
   },
   {
    "duration": 5013,
    "start_time": "2021-10-14T11:31:05.181Z"
   },
   {
    "duration": 6884,
    "start_time": "2021-10-14T11:31:15.077Z"
   },
   {
    "duration": 6018,
    "start_time": "2021-10-14T11:32:06.277Z"
   },
   {
    "duration": 4,
    "start_time": "2021-10-14T11:33:58.134Z"
   },
   {
    "duration": 5,
    "start_time": "2021-10-14T11:34:32.502Z"
   },
   {
    "duration": 3,
    "start_time": "2021-10-14T11:34:33.885Z"
   },
   {
    "duration": 5056,
    "start_time": "2021-10-14T11:34:41.336Z"
   },
   {
    "duration": 6,
    "start_time": "2021-10-14T11:35:18.731Z"
   },
   {
    "duration": 2,
    "start_time": "2021-10-14T11:35:19.989Z"
   },
   {
    "duration": 4,
    "start_time": "2021-10-14T11:35:20.752Z"
   },
   {
    "duration": 181,
    "start_time": "2021-10-14T11:38:58.280Z"
   },
   {
    "duration": 2,
    "start_time": "2021-10-14T11:39:35.354Z"
   },
   {
    "duration": 26,
    "start_time": "2021-10-14T11:39:35.358Z"
   },
   {
    "duration": 175,
    "start_time": "2021-10-14T11:39:35.385Z"
   },
   {
    "duration": 6,
    "start_time": "2021-10-14T11:39:42.434Z"
   },
   {
    "duration": 3,
    "start_time": "2021-10-14T11:39:43.456Z"
   },
   {
    "duration": 4,
    "start_time": "2021-10-14T11:39:44.308Z"
   },
   {
    "duration": 179,
    "start_time": "2021-10-14T11:39:45.144Z"
   },
   {
    "duration": 4,
    "start_time": "2021-10-14T11:41:10.285Z"
   },
   {
    "duration": 664,
    "start_time": "2021-10-14T11:42:04.242Z"
   },
   {
    "duration": 4,
    "start_time": "2021-10-14T11:43:03.056Z"
   },
   {
    "duration": 7,
    "start_time": "2021-10-14T11:43:06.609Z"
   },
   {
    "duration": 5,
    "start_time": "2021-10-14T11:43:08.825Z"
   },
   {
    "duration": 4,
    "start_time": "2021-10-14T11:43:10.029Z"
   },
   {
    "duration": 3,
    "start_time": "2021-10-14T11:43:10.706Z"
   },
   {
    "duration": 4,
    "start_time": "2021-10-14T11:43:15.261Z"
   },
   {
    "duration": 7,
    "start_time": "2021-10-14T11:44:22.099Z"
   },
   {
    "duration": 5,
    "start_time": "2021-10-14T11:44:23.164Z"
   },
   {
    "duration": 4,
    "start_time": "2021-10-14T12:05:12.524Z"
   },
   {
    "duration": 3,
    "start_time": "2021-10-14T12:05:19.535Z"
   },
   {
    "duration": -33,
    "start_time": "2021-10-14T12:06:24.254Z"
   },
   {
    "duration": 3,
    "start_time": "2021-10-14T12:07:09.095Z"
   },
   {
    "duration": 3,
    "start_time": "2021-10-14T12:07:09.729Z"
   },
   {
    "duration": 4832,
    "start_time": "2021-10-14T12:07:10.520Z"
   },
   {
    "duration": -32,
    "start_time": "2021-10-14T12:07:15.386Z"
   },
   {
    "duration": 6,
    "start_time": "2021-10-14T12:07:20.153Z"
   },
   {
    "duration": 6,
    "start_time": "2021-10-14T12:08:40.199Z"
   },
   {
    "duration": 4,
    "start_time": "2021-10-14T12:08:41.429Z"
   },
   {
    "duration": 2,
    "start_time": "2021-10-14T12:08:42.431Z"
   },
   {
    "duration": 4877,
    "start_time": "2021-10-14T12:08:43.837Z"
   },
   {
    "duration": 5631,
    "start_time": "2021-10-14T12:09:02.403Z"
   },
   {
    "duration": 5,
    "start_time": "2021-10-14T12:12:27.719Z"
   },
   {
    "duration": 5,
    "start_time": "2021-10-14T12:12:47.667Z"
   },
   {
    "duration": 5,
    "start_time": "2021-10-14T12:14:11.809Z"
   },
   {
    "duration": 4,
    "start_time": "2021-10-14T12:21:46.295Z"
   },
   {
    "duration": 4580,
    "start_time": "2021-10-14T12:22:40.032Z"
   },
   {
    "duration": 4,
    "start_time": "2021-10-14T12:23:02.069Z"
   },
   {
    "duration": 4,
    "start_time": "2021-10-14T12:23:08.391Z"
   },
   {
    "duration": 4,
    "start_time": "2021-10-14T12:23:11.349Z"
   },
   {
    "duration": 6474,
    "start_time": "2021-10-14T12:23:11.355Z"
   },
   {
    "duration": 2,
    "start_time": "2021-10-14T12:48:07.036Z"
   },
   {
    "duration": 4,
    "start_time": "2021-10-14T12:50:14.902Z"
   },
   {
    "duration": 6174,
    "start_time": "2021-10-14T12:50:29.016Z"
   },
   {
    "duration": 50,
    "start_time": "2021-10-14T12:50:40.333Z"
   },
   {
    "duration": 13,
    "start_time": "2021-10-14T12:50:40.850Z"
   },
   {
    "duration": 5,
    "start_time": "2021-10-14T12:50:43.021Z"
   },
   {
    "duration": 5,
    "start_time": "2021-10-14T12:50:43.481Z"
   },
   {
    "duration": 5,
    "start_time": "2021-10-14T12:50:43.832Z"
   },
   {
    "duration": 5,
    "start_time": "2021-10-14T12:50:44.364Z"
   },
   {
    "duration": 5,
    "start_time": "2021-10-14T12:50:44.836Z"
   },
   {
    "duration": 12,
    "start_time": "2021-10-14T12:50:45.315Z"
   },
   {
    "duration": 4,
    "start_time": "2021-10-14T12:50:45.909Z"
   },
   {
    "duration": 10,
    "start_time": "2021-10-14T12:50:46.509Z"
   },
   {
    "duration": 2,
    "start_time": "2021-10-14T12:50:46.979Z"
   },
   {
    "duration": 3,
    "start_time": "2021-10-14T12:50:47.505Z"
   },
   {
    "duration": 2,
    "start_time": "2021-10-14T12:50:48.091Z"
   },
   {
    "duration": 8,
    "start_time": "2021-10-14T12:50:48.640Z"
   },
   {
    "duration": 3,
    "start_time": "2021-10-14T12:50:49.177Z"
   },
   {
    "duration": 5,
    "start_time": "2021-10-14T12:50:49.798Z"
   },
   {
    "duration": 5,
    "start_time": "2021-10-14T12:50:50.731Z"
   },
   {
    "duration": 10,
    "start_time": "2021-10-14T12:50:51.248Z"
   },
   {
    "duration": 11,
    "start_time": "2021-10-14T12:50:53.208Z"
   },
   {
    "duration": 4,
    "start_time": "2021-10-14T12:50:53.736Z"
   },
   {
    "duration": 12,
    "start_time": "2021-10-14T12:50:54.490Z"
   },
   {
    "duration": 7,
    "start_time": "2021-10-14T12:50:57.076Z"
   },
   {
    "duration": 15,
    "start_time": "2021-10-14T12:50:57.760Z"
   },
   {
    "duration": 7,
    "start_time": "2021-10-14T12:50:58.306Z"
   },
   {
    "duration": 8,
    "start_time": "2021-10-14T12:50:59.062Z"
   },
   {
    "duration": 8,
    "start_time": "2021-10-14T12:50:59.881Z"
   },
   {
    "duration": 16,
    "start_time": "2021-10-14T12:51:00.521Z"
   },
   {
    "duration": 16,
    "start_time": "2021-10-14T12:51:01.427Z"
   },
   {
    "duration": 15,
    "start_time": "2021-10-14T12:51:02.317Z"
   },
   {
    "duration": 4,
    "start_time": "2021-10-14T12:51:04.794Z"
   },
   {
    "duration": 3,
    "start_time": "2021-10-14T12:51:05.776Z"
   },
   {
    "duration": 15,
    "start_time": "2021-10-14T12:51:06.460Z"
   },
   {
    "duration": 639,
    "start_time": "2021-10-14T12:51:07.018Z"
   },
   {
    "duration": 4,
    "start_time": "2021-10-14T12:51:07.772Z"
   },
   {
    "duration": 3,
    "start_time": "2021-10-14T12:51:09.314Z"
   },
   {
    "duration": 5,
    "start_time": "2021-10-14T12:51:10.444Z"
   },
   {
    "duration": 5,
    "start_time": "2021-10-14T12:51:11.346Z"
   },
   {
    "duration": 4,
    "start_time": "2021-10-14T12:51:13.592Z"
   },
   {
    "duration": 4333,
    "start_time": "2021-10-14T12:51:16.704Z"
   },
   {
    "duration": 414,
    "start_time": "2021-10-14T18:31:35.781Z"
   },
   {
    "duration": 345,
    "start_time": "2021-10-14T18:31:51.131Z"
   },
   {
    "duration": 315,
    "start_time": "2021-10-14T18:32:14.984Z"
   },
   {
    "duration": 854,
    "start_time": "2021-10-14T18:32:20.400Z"
   },
   {
    "duration": 32,
    "start_time": "2021-10-14T18:32:23.334Z"
   },
   {
    "duration": 7,
    "start_time": "2021-10-14T18:32:28.119Z"
   },
   {
    "duration": 7,
    "start_time": "2021-10-14T18:32:28.949Z"
   },
   {
    "duration": 6,
    "start_time": "2021-10-14T18:32:29.636Z"
   },
   {
    "duration": 8,
    "start_time": "2021-10-14T18:32:30.393Z"
   },
   {
    "duration": 6,
    "start_time": "2021-10-14T18:32:30.968Z"
   },
   {
    "duration": 5,
    "start_time": "2021-10-14T18:32:31.683Z"
   },
   {
    "duration": 6,
    "start_time": "2021-10-14T18:32:32.339Z"
   },
   {
    "duration": 15,
    "start_time": "2021-10-14T18:32:33.008Z"
   },
   {
    "duration": 3,
    "start_time": "2021-10-14T18:32:33.544Z"
   },
   {
    "duration": 3,
    "start_time": "2021-10-14T18:32:34.427Z"
   },
   {
    "duration": 4,
    "start_time": "2021-10-14T18:32:34.887Z"
   },
   {
    "duration": 9,
    "start_time": "2021-10-14T18:32:35.356Z"
   },
   {
    "duration": 5,
    "start_time": "2021-10-14T18:32:35.892Z"
   },
   {
    "duration": 5,
    "start_time": "2021-10-14T18:32:36.402Z"
   },
   {
    "duration": 6,
    "start_time": "2021-10-14T18:32:36.941Z"
   },
   {
    "duration": 336,
    "start_time": "2021-10-14T18:32:37.492Z"
   },
   {
    "duration": 304,
    "start_time": "2021-10-14T18:32:43.464Z"
   },
   {
    "duration": 13,
    "start_time": "2021-10-14T18:33:01.597Z"
   },
   {
    "duration": 15,
    "start_time": "2021-10-14T18:33:07.182Z"
   },
   {
    "duration": 5,
    "start_time": "2021-10-14T18:33:08.032Z"
   },
   {
    "duration": 18,
    "start_time": "2021-10-14T18:33:09.062Z"
   },
   {
    "duration": 10,
    "start_time": "2021-10-14T18:33:12.605Z"
   },
   {
    "duration": 22,
    "start_time": "2021-10-14T18:33:13.450Z"
   },
   {
    "duration": 10,
    "start_time": "2021-10-14T18:33:14.283Z"
   },
   {
    "duration": 11,
    "start_time": "2021-10-14T18:33:15.056Z"
   },
   {
    "duration": 11,
    "start_time": "2021-10-14T18:33:16.021Z"
   },
   {
    "duration": 21,
    "start_time": "2021-10-14T18:33:17.022Z"
   },
   {
    "duration": 23,
    "start_time": "2021-10-14T18:33:17.928Z"
   },
   {
    "duration": 21,
    "start_time": "2021-10-14T18:33:18.480Z"
   },
   {
    "duration": 7,
    "start_time": "2021-10-14T18:33:21.246Z"
   },
   {
    "duration": 7,
    "start_time": "2021-10-14T18:33:22.579Z"
   },
   {
    "duration": 3,
    "start_time": "2021-10-14T18:33:23.778Z"
   },
   {
    "duration": 964,
    "start_time": "2021-10-14T18:33:24.257Z"
   },
   {
    "duration": 6,
    "start_time": "2021-10-14T18:33:26.702Z"
   },
   {
    "duration": 4,
    "start_time": "2021-10-14T18:33:28.717Z"
   },
   {
    "duration": 8,
    "start_time": "2021-10-14T18:33:29.757Z"
   },
   {
    "duration": 7,
    "start_time": "2021-10-14T18:33:30.490Z"
   },
   {
    "duration": 6,
    "start_time": "2021-10-14T18:33:32.320Z"
   },
   {
    "duration": 7692,
    "start_time": "2021-10-14T18:33:33.580Z"
   },
   {
    "duration": 8636,
    "start_time": "2021-10-14T18:34:52.490Z"
   },
   {
    "duration": 7,
    "start_time": "2021-10-14T18:35:07.518Z"
   },
   {
    "duration": 7,
    "start_time": "2021-10-14T18:35:13.697Z"
   },
   {
    "duration": 6,
    "start_time": "2021-10-14T18:35:14.793Z"
   },
   {
    "duration": 6,
    "start_time": "2021-10-14T18:35:15.836Z"
   },
   {
    "duration": 9069,
    "start_time": "2021-10-14T18:35:17.472Z"
   },
   {
    "duration": 9207,
    "start_time": "2021-10-14T18:37:10.613Z"
   },
   {
    "duration": 7,
    "start_time": "2021-10-14T18:38:00.465Z"
   },
   {
    "duration": 4,
    "start_time": "2021-10-14T18:38:22.974Z"
   },
   {
    "duration": 6,
    "start_time": "2021-10-14T18:38:23.556Z"
   },
   {
    "duration": 6,
    "start_time": "2021-10-14T18:38:24.341Z"
   },
   {
    "duration": 6,
    "start_time": "2021-10-14T18:38:25.045Z"
   },
   {
    "duration": 2290,
    "start_time": "2021-10-14T18:38:26.184Z"
   },
   {
    "duration": 7,
    "start_time": "2021-10-14T18:38:38.659Z"
   },
   {
    "duration": 6,
    "start_time": "2021-10-14T18:38:58.559Z"
   },
   {
    "duration": 10,
    "start_time": "2021-10-14T18:39:16.505Z"
   },
   {
    "duration": 2629,
    "start_time": "2021-10-14T18:40:09.178Z"
   },
   {
    "duration": 14,
    "start_time": "2021-10-14T18:40:14.515Z"
   },
   {
    "duration": 6,
    "start_time": "2021-10-14T18:41:23.501Z"
   },
   {
    "duration": 2250,
    "start_time": "2021-10-14T18:41:25.507Z"
   },
   {
    "duration": 14,
    "start_time": "2021-10-14T18:42:04.630Z"
   },
   {
    "duration": 38,
    "start_time": "2021-10-14T18:43:10.028Z"
   },
   {
    "duration": 8,
    "start_time": "2021-10-14T18:47:28.659Z"
   },
   {
    "duration": 1792,
    "start_time": "2021-10-14T18:47:30.113Z"
   },
   {
    "duration": -99,
    "start_time": "2021-10-14T18:47:32.007Z"
   },
   {
    "duration": 3,
    "start_time": "2021-10-14T18:47:41.588Z"
   },
   {
    "duration": 8,
    "start_time": "2021-10-14T18:47:42.568Z"
   },
   {
    "duration": 6,
    "start_time": "2021-10-14T18:47:43.737Z"
   },
   {
    "duration": 6,
    "start_time": "2021-10-14T18:47:44.839Z"
   },
   {
    "duration": 1800,
    "start_time": "2021-10-14T18:47:47.091Z"
   },
   {
    "duration": 6,
    "start_time": "2021-10-14T18:48:12.847Z"
   },
   {
    "duration": 1921,
    "start_time": "2021-10-14T18:48:14.670Z"
   },
   {
    "duration": 6,
    "start_time": "2021-10-14T18:48:57.897Z"
   },
   {
    "duration": 1801,
    "start_time": "2021-10-14T18:48:59.046Z"
   },
   {
    "duration": 5,
    "start_time": "2021-10-14T18:49:20.990Z"
   },
   {
    "duration": 2190,
    "start_time": "2021-10-14T18:49:21.949Z"
   },
   {
    "duration": 10,
    "start_time": "2021-10-14T18:49:27.089Z"
   },
   {
    "duration": 2168,
    "start_time": "2021-10-14T18:59:03.063Z"
   },
   {
    "duration": 10,
    "start_time": "2021-10-14T18:59:05.234Z"
   },
   {
    "duration": 101,
    "start_time": "2021-10-14T18:59:39.852Z"
   },
   {
    "duration": 7,
    "start_time": "2021-10-14T19:00:01.157Z"
   },
   {
    "duration": 6,
    "start_time": "2021-10-14T19:00:16.477Z"
   },
   {
    "duration": 6,
    "start_time": "2021-10-14T19:00:20.976Z"
   },
   {
    "duration": 7,
    "start_time": "2021-10-14T19:01:07.999Z"
   },
   {
    "duration": 6,
    "start_time": "2021-10-14T19:01:17.021Z"
   },
   {
    "duration": 6,
    "start_time": "2021-10-14T19:02:12.704Z"
   },
   {
    "duration": 4,
    "start_time": "2021-10-14T19:02:13.312Z"
   },
   {
    "duration": 7,
    "start_time": "2021-10-14T19:02:13.946Z"
   },
   {
    "duration": 8,
    "start_time": "2021-10-14T19:02:14.700Z"
   },
   {
    "duration": 6,
    "start_time": "2021-10-14T19:02:44.364Z"
   },
   {
    "duration": 7,
    "start_time": "2021-10-14T19:03:24.276Z"
   },
   {
    "duration": 8,
    "start_time": "2021-10-14T19:03:37.328Z"
   },
   {
    "duration": 8,
    "start_time": "2021-10-14T19:04:26.256Z"
   },
   {
    "duration": 7,
    "start_time": "2021-10-14T19:04:29.628Z"
   },
   {
    "duration": 8,
    "start_time": "2021-10-14T19:04:32.297Z"
   },
   {
    "duration": 7,
    "start_time": "2021-10-14T19:04:33.130Z"
   },
   {
    "duration": 5,
    "start_time": "2021-10-14T19:04:35.217Z"
   },
   {
    "duration": 4,
    "start_time": "2021-10-14T19:04:35.819Z"
   },
   {
    "duration": 7,
    "start_time": "2021-10-14T19:04:36.393Z"
   },
   {
    "duration": 7,
    "start_time": "2021-10-14T19:04:37.084Z"
   },
   {
    "duration": 7,
    "start_time": "2021-10-14T19:06:00.570Z"
   },
   {
    "duration": 8,
    "start_time": "2021-10-14T19:06:11.611Z"
   },
   {
    "duration": 6,
    "start_time": "2021-10-14T19:06:12.631Z"
   },
   {
    "duration": 2294,
    "start_time": "2021-10-14T19:06:13.451Z"
   },
   {
    "duration": 10,
    "start_time": "2021-10-14T19:06:15.747Z"
   },
   {
    "duration": 73,
    "start_time": "2021-10-14T19:11:45.040Z"
   },
   {
    "duration": 20,
    "start_time": "2021-10-14T19:11:46.068Z"
   },
   {
    "duration": 6,
    "start_time": "2021-10-14T19:11:49.181Z"
   },
   {
    "duration": 8,
    "start_time": "2021-10-14T19:11:49.712Z"
   },
   {
    "duration": 7,
    "start_time": "2021-10-14T19:11:50.283Z"
   },
   {
    "duration": 7,
    "start_time": "2021-10-14T19:11:50.797Z"
   },
   {
    "duration": 6,
    "start_time": "2021-10-14T19:11:51.425Z"
   },
   {
    "duration": 5,
    "start_time": "2021-10-14T19:11:51.959Z"
   },
   {
    "duration": 7,
    "start_time": "2021-10-14T19:11:52.484Z"
   },
   {
    "duration": 15,
    "start_time": "2021-10-14T19:11:53.131Z"
   },
   {
    "duration": 3,
    "start_time": "2021-10-14T19:11:53.686Z"
   },
   {
    "duration": 4,
    "start_time": "2021-10-14T19:11:54.214Z"
   },
   {
    "duration": 3,
    "start_time": "2021-10-14T19:11:54.730Z"
   },
   {
    "duration": 10,
    "start_time": "2021-10-14T19:11:55.212Z"
   },
   {
    "duration": 5,
    "start_time": "2021-10-14T19:11:56.387Z"
   },
   {
    "duration": 11,
    "start_time": "2021-10-14T19:11:56.395Z"
   },
   {
    "duration": 7,
    "start_time": "2021-10-14T19:11:56.796Z"
   },
   {
    "duration": 13,
    "start_time": "2021-10-14T19:11:57.311Z"
   },
   {
    "duration": 15,
    "start_time": "2021-10-14T19:11:59.344Z"
   },
   {
    "duration": 5,
    "start_time": "2021-10-14T19:11:59.812Z"
   },
   {
    "duration": 20,
    "start_time": "2021-10-14T19:12:00.324Z"
   },
   {
    "duration": 11,
    "start_time": "2021-10-14T19:12:02.419Z"
   },
   {
    "duration": 22,
    "start_time": "2021-10-14T19:12:02.937Z"
   },
   {
    "duration": 12,
    "start_time": "2021-10-14T19:12:03.488Z"
   },
   {
    "duration": 15,
    "start_time": "2021-10-14T19:12:04.195Z"
   },
   {
    "duration": 11,
    "start_time": "2021-10-14T19:12:04.749Z"
   },
   {
    "duration": 26,
    "start_time": "2021-10-14T19:12:05.284Z"
   },
   {
    "duration": 22,
    "start_time": "2021-10-14T19:12:06.110Z"
   },
   {
    "duration": 22,
    "start_time": "2021-10-14T19:12:06.633Z"
   },
   {
    "duration": 7,
    "start_time": "2021-10-14T19:12:09.165Z"
   },
   {
    "duration": 8,
    "start_time": "2021-10-14T19:12:10.201Z"
   },
   {
    "duration": 31,
    "start_time": "2021-10-14T19:12:11.096Z"
   },
   {
    "duration": 1006,
    "start_time": "2021-10-14T19:12:12.230Z"
   },
   {
    "duration": 6,
    "start_time": "2021-10-14T19:12:14.342Z"
   },
   {
    "duration": 4,
    "start_time": "2021-10-14T19:12:15.550Z"
   },
   {
    "duration": 7,
    "start_time": "2021-10-14T19:12:16.316Z"
   },
   {
    "duration": 6,
    "start_time": "2021-10-14T19:12:17.274Z"
   },
   {
    "duration": 6,
    "start_time": "2021-10-14T19:12:18.041Z"
   },
   {
    "duration": 2122,
    "start_time": "2021-10-14T19:12:18.928Z"
   },
   {
    "duration": 10,
    "start_time": "2021-10-14T19:12:21.985Z"
   },
   {
    "duration": 111,
    "start_time": "2021-10-14T19:12:41.621Z"
   },
   {
    "duration": 115,
    "start_time": "2021-10-14T19:12:49.454Z"
   },
   {
    "duration": 11,
    "start_time": "2021-10-14T19:12:55.170Z"
   },
   {
    "duration": 107,
    "start_time": "2021-10-14T19:12:56.076Z"
   },
   {
    "duration": 116,
    "start_time": "2021-10-14T19:13:06.572Z"
   },
   {
    "duration": 2266,
    "start_time": "2021-10-14T19:14:21.363Z"
   },
   {
    "duration": 10,
    "start_time": "2021-10-14T19:14:24.536Z"
   },
   {
    "duration": 102,
    "start_time": "2021-10-14T19:14:25.768Z"
   },
   {
    "duration": 120,
    "start_time": "2021-10-14T19:14:31.764Z"
   },
   {
    "duration": 38,
    "start_time": "2021-10-14T19:14:45.302Z"
   },
   {
    "duration": 13,
    "start_time": "2021-10-14T19:15:01.917Z"
   },
   {
    "duration": 34,
    "start_time": "2021-10-14T19:15:11.616Z"
   },
   {
    "duration": 5,
    "start_time": "2021-10-14T19:16:24.398Z"
   },
   {
    "duration": 4,
    "start_time": "2021-10-14T19:16:25.388Z"
   },
   {
    "duration": 7,
    "start_time": "2021-10-14T19:16:26.222Z"
   },
   {
    "duration": 6,
    "start_time": "2021-10-14T19:16:26.997Z"
   },
   {
    "duration": 6,
    "start_time": "2021-10-14T19:16:27.865Z"
   },
   {
    "duration": 2340,
    "start_time": "2021-10-14T19:16:28.712Z"
   },
   {
    "duration": 9,
    "start_time": "2021-10-14T19:16:31.055Z"
   },
   {
    "duration": 5,
    "start_time": "2021-10-14T19:17:21.781Z"
   },
   {
    "duration": 4,
    "start_time": "2021-10-14T19:17:22.872Z"
   },
   {
    "duration": 7,
    "start_time": "2021-10-14T19:17:23.839Z"
   },
   {
    "duration": 6,
    "start_time": "2021-10-14T19:17:24.567Z"
   },
   {
    "duration": 6,
    "start_time": "2021-10-14T19:17:25.380Z"
   },
   {
    "duration": 2164,
    "start_time": "2021-10-14T19:17:25.943Z"
   },
   {
    "duration": 10,
    "start_time": "2021-10-14T19:17:28.110Z"
   },
   {
    "duration": 6,
    "start_time": "2021-10-14T19:26:45.281Z"
   },
   {
    "duration": 4,
    "start_time": "2021-10-14T19:26:46.612Z"
   },
   {
    "duration": 8,
    "start_time": "2021-10-14T19:26:47.350Z"
   },
   {
    "duration": 7,
    "start_time": "2021-10-14T19:26:48.220Z"
   },
   {
    "duration": 5,
    "start_time": "2021-10-14T19:26:49.097Z"
   },
   {
    "duration": 2153,
    "start_time": "2021-10-14T19:26:50.114Z"
   },
   {
    "duration": 11,
    "start_time": "2021-10-14T19:26:52.269Z"
   },
   {
    "duration": 35,
    "start_time": "2021-10-14T19:26:54.417Z"
   },
   {
    "duration": 1077,
    "start_time": "2021-10-14T19:27:31.420Z"
   },
   {
    "duration": 42,
    "start_time": "2021-10-14T19:27:32.457Z"
   },
   {
    "duration": 5,
    "start_time": "2021-10-14T19:27:43.466Z"
   },
   {
    "duration": 4,
    "start_time": "2021-10-14T19:27:46.270Z"
   },
   {
    "duration": 8,
    "start_time": "2021-10-14T19:27:47.034Z"
   },
   {
    "duration": 8,
    "start_time": "2021-10-14T19:27:48.375Z"
   },
   {
    "duration": 6,
    "start_time": "2021-10-14T19:27:49.225Z"
   },
   {
    "duration": 2119,
    "start_time": "2021-10-14T19:27:50.259Z"
   },
   {
    "duration": 10,
    "start_time": "2021-10-14T19:27:54.521Z"
   },
   {
    "duration": 6,
    "start_time": "2021-10-14T19:33:03.579Z"
   },
   {
    "duration": 4,
    "start_time": "2021-10-14T19:33:04.597Z"
   },
   {
    "duration": 6,
    "start_time": "2021-10-14T19:33:05.158Z"
   },
   {
    "duration": 7,
    "start_time": "2021-10-14T19:33:05.959Z"
   },
   {
    "duration": 6,
    "start_time": "2021-10-14T19:33:06.756Z"
   },
   {
    "duration": 2393,
    "start_time": "2021-10-14T19:33:07.772Z"
   },
   {
    "duration": 10,
    "start_time": "2021-10-14T19:33:10.168Z"
   },
   {
    "duration": 5,
    "start_time": "2021-10-14T19:33:26.696Z"
   },
   {
    "duration": 4,
    "start_time": "2021-10-14T19:33:27.388Z"
   },
   {
    "duration": 6,
    "start_time": "2021-10-14T19:33:28.085Z"
   },
   {
    "duration": 6,
    "start_time": "2021-10-14T19:33:28.900Z"
   },
   {
    "duration": 6,
    "start_time": "2021-10-14T19:33:29.738Z"
   },
   {
    "duration": 2258,
    "start_time": "2021-10-14T19:33:30.866Z"
   },
   {
    "duration": 11,
    "start_time": "2021-10-14T19:33:35.046Z"
   },
   {
    "duration": 29,
    "start_time": "2021-10-14T19:34:50.441Z"
   },
   {
    "duration": 6,
    "start_time": "2021-10-14T19:36:04.835Z"
   },
   {
    "duration": 4,
    "start_time": "2021-10-14T19:36:05.707Z"
   },
   {
    "duration": 7,
    "start_time": "2021-10-14T19:36:06.343Z"
   },
   {
    "duration": 6,
    "start_time": "2021-10-14T19:36:07.216Z"
   },
   {
    "duration": 6,
    "start_time": "2021-10-14T19:36:08.202Z"
   },
   {
    "duration": 2240,
    "start_time": "2021-10-14T19:36:09.176Z"
   },
   {
    "duration": 11,
    "start_time": "2021-10-14T19:36:11.419Z"
   },
   {
    "duration": 27,
    "start_time": "2021-10-14T19:36:13.517Z"
   },
   {
    "duration": 9,
    "start_time": "2021-10-14T19:36:55.150Z"
   },
   {
    "duration": 4,
    "start_time": "2021-10-14T19:36:55.808Z"
   },
   {
    "duration": 7,
    "start_time": "2021-10-14T19:36:56.455Z"
   },
   {
    "duration": 7,
    "start_time": "2021-10-14T19:36:57.443Z"
   },
   {
    "duration": 6,
    "start_time": "2021-10-14T19:36:58.386Z"
   },
   {
    "duration": 2150,
    "start_time": "2021-10-14T19:36:58.918Z"
   },
   {
    "duration": 9,
    "start_time": "2021-10-14T19:37:01.071Z"
   },
   {
    "duration": 28,
    "start_time": "2021-10-14T19:37:01.762Z"
   },
   {
    "duration": 6,
    "start_time": "2021-10-14T19:37:28.416Z"
   },
   {
    "duration": 4,
    "start_time": "2021-10-14T19:37:29.013Z"
   },
   {
    "duration": 7,
    "start_time": "2021-10-14T19:37:29.752Z"
   },
   {
    "duration": 7,
    "start_time": "2021-10-14T19:37:30.538Z"
   },
   {
    "duration": 6,
    "start_time": "2021-10-14T19:37:31.328Z"
   },
   {
    "duration": 2174,
    "start_time": "2021-10-14T19:37:32.035Z"
   },
   {
    "duration": 9,
    "start_time": "2021-10-14T19:37:34.212Z"
   },
   {
    "duration": 27,
    "start_time": "2021-10-14T19:37:34.635Z"
   },
   {
    "duration": 10,
    "start_time": "2021-10-14T19:38:10.498Z"
   },
   {
    "duration": 4,
    "start_time": "2021-10-14T19:38:11.196Z"
   },
   {
    "duration": 7,
    "start_time": "2021-10-14T19:38:11.690Z"
   },
   {
    "duration": 7,
    "start_time": "2021-10-14T19:38:12.234Z"
   },
   {
    "duration": 5,
    "start_time": "2021-10-14T19:38:12.892Z"
   },
   {
    "duration": 2183,
    "start_time": "2021-10-14T19:38:13.559Z"
   },
   {
    "duration": 11,
    "start_time": "2021-10-14T19:38:15.744Z"
   },
   {
    "duration": 52,
    "start_time": "2021-10-14T19:38:15.757Z"
   },
   {
    "duration": 6,
    "start_time": "2021-10-14T19:39:13.478Z"
   },
   {
    "duration": 4,
    "start_time": "2021-10-14T19:39:14.313Z"
   },
   {
    "duration": 7,
    "start_time": "2021-10-14T19:39:14.950Z"
   },
   {
    "duration": 7,
    "start_time": "2021-10-14T19:39:15.650Z"
   },
   {
    "duration": 8,
    "start_time": "2021-10-14T19:39:16.424Z"
   },
   {
    "duration": 2349,
    "start_time": "2021-10-14T19:39:17.251Z"
   },
   {
    "duration": 12,
    "start_time": "2021-10-14T19:39:19.603Z"
   },
   {
    "duration": 28,
    "start_time": "2021-10-14T19:39:19.619Z"
   },
   {
    "duration": 6,
    "start_time": "2021-10-14T19:39:37.836Z"
   },
   {
    "duration": 4,
    "start_time": "2021-10-14T19:39:38.371Z"
   },
   {
    "duration": 7,
    "start_time": "2021-10-14T19:39:38.923Z"
   },
   {
    "duration": 7,
    "start_time": "2021-10-14T19:39:39.474Z"
   },
   {
    "duration": 6,
    "start_time": "2021-10-14T19:39:40.238Z"
   },
   {
    "duration": 2297,
    "start_time": "2021-10-14T19:39:41.019Z"
   },
   {
    "duration": 10,
    "start_time": "2021-10-14T19:39:43.318Z"
   },
   {
    "duration": 32,
    "start_time": "2021-10-14T19:39:43.330Z"
   },
   {
    "duration": 5,
    "start_time": "2021-10-14T19:40:55.506Z"
   },
   {
    "duration": 4,
    "start_time": "2021-10-14T19:40:56.534Z"
   },
   {
    "duration": 7,
    "start_time": "2021-10-14T19:40:57.059Z"
   },
   {
    "duration": 7,
    "start_time": "2021-10-14T19:40:57.628Z"
   },
   {
    "duration": 7,
    "start_time": "2021-10-14T19:40:58.419Z"
   },
   {
    "duration": 2317,
    "start_time": "2021-10-14T19:40:59.349Z"
   },
   {
    "duration": 11,
    "start_time": "2021-10-14T19:41:01.669Z"
   },
   {
    "duration": 28,
    "start_time": "2021-10-14T19:41:07.504Z"
   },
   {
    "duration": 8,
    "start_time": "2021-10-14T19:41:28.989Z"
   },
   {
    "duration": 4,
    "start_time": "2021-10-14T19:41:29.634Z"
   },
   {
    "duration": 7,
    "start_time": "2021-10-14T19:41:30.162Z"
   },
   {
    "duration": 7,
    "start_time": "2021-10-14T19:41:30.780Z"
   },
   {
    "duration": 6,
    "start_time": "2021-10-14T19:41:31.576Z"
   },
   {
    "duration": 2623,
    "start_time": "2021-10-14T19:41:32.345Z"
   },
   {
    "duration": 12,
    "start_time": "2021-10-14T19:41:34.971Z"
   },
   {
    "duration": 32,
    "start_time": "2021-10-14T19:41:38.495Z"
   },
   {
    "duration": 8,
    "start_time": "2021-10-14T19:41:44.081Z"
   },
   {
    "duration": 4,
    "start_time": "2021-10-14T19:41:45.037Z"
   },
   {
    "duration": 28,
    "start_time": "2021-10-14T19:41:46.916Z"
   },
   {
    "duration": 1024,
    "start_time": "2021-10-14T19:41:47.954Z"
   },
   {
    "duration": 18,
    "start_time": "2021-10-14T19:41:48.982Z"
   },
   {
    "duration": 4,
    "start_time": "2021-10-14T19:41:49.850Z"
   },
   {
    "duration": 8,
    "start_time": "2021-10-14T19:41:50.532Z"
   },
   {
    "duration": 7,
    "start_time": "2021-10-14T19:41:51.352Z"
   },
   {
    "duration": 6,
    "start_time": "2021-10-14T19:41:52.179Z"
   },
   {
    "duration": 2270,
    "start_time": "2021-10-14T19:41:53.273Z"
   },
   {
    "duration": 10,
    "start_time": "2021-10-14T19:41:55.546Z"
   },
   {
    "duration": 54,
    "start_time": "2021-10-14T19:41:55.559Z"
   },
   {
    "duration": 98,
    "start_time": "2021-10-14T19:42:03.332Z"
   },
   {
    "duration": 69,
    "start_time": "2021-10-14T19:42:12.036Z"
   },
   {
    "duration": 21,
    "start_time": "2021-10-14T19:42:12.577Z"
   },
   {
    "duration": 6,
    "start_time": "2021-10-14T19:42:14.566Z"
   },
   {
    "duration": 7,
    "start_time": "2021-10-14T19:42:15.169Z"
   },
   {
    "duration": 6,
    "start_time": "2021-10-14T19:42:15.377Z"
   },
   {
    "duration": 10,
    "start_time": "2021-10-14T19:42:15.603Z"
   },
   {
    "duration": 6,
    "start_time": "2021-10-14T19:42:15.820Z"
   },
   {
    "duration": 5,
    "start_time": "2021-10-14T19:42:16.043Z"
   },
   {
    "duration": 6,
    "start_time": "2021-10-14T19:42:16.447Z"
   },
   {
    "duration": 16,
    "start_time": "2021-10-14T19:42:16.678Z"
   },
   {
    "duration": 3,
    "start_time": "2021-10-14T19:42:16.910Z"
   },
   {
    "duration": 3,
    "start_time": "2021-10-14T19:42:17.151Z"
   },
   {
    "duration": 3,
    "start_time": "2021-10-14T19:42:17.374Z"
   },
   {
    "duration": 15,
    "start_time": "2021-10-14T19:42:17.605Z"
   },
   {
    "duration": 6,
    "start_time": "2021-10-14T19:42:17.826Z"
   },
   {
    "duration": 7,
    "start_time": "2021-10-14T19:42:18.051Z"
   },
   {
    "duration": 6,
    "start_time": "2021-10-14T19:42:18.657Z"
   },
   {
    "duration": 16,
    "start_time": "2021-10-14T19:42:18.666Z"
   },
   {
    "duration": 15,
    "start_time": "2021-10-14T19:42:19.447Z"
   },
   {
    "duration": 5,
    "start_time": "2021-10-14T19:42:19.679Z"
   },
   {
    "duration": 19,
    "start_time": "2021-10-14T19:42:19.931Z"
   },
   {
    "duration": 10,
    "start_time": "2021-10-14T19:42:20.866Z"
   },
   {
    "duration": 28,
    "start_time": "2021-10-14T19:42:21.093Z"
   },
   {
    "duration": 10,
    "start_time": "2021-10-14T19:42:21.335Z"
   },
   {
    "duration": 12,
    "start_time": "2021-10-14T19:42:21.611Z"
   },
   {
    "duration": 11,
    "start_time": "2021-10-14T19:42:21.835Z"
   },
   {
    "duration": 20,
    "start_time": "2021-10-14T19:42:22.070Z"
   },
   {
    "duration": 22,
    "start_time": "2021-10-14T19:42:22.343Z"
   },
   {
    "duration": 21,
    "start_time": "2021-10-14T19:42:22.585Z"
   },
   {
    "duration": 8,
    "start_time": "2021-10-14T19:42:24.638Z"
   },
   {
    "duration": 4,
    "start_time": "2021-10-14T19:42:25.030Z"
   },
   {
    "duration": 36,
    "start_time": "2021-10-14T19:42:25.429Z"
   },
   {
    "duration": 990,
    "start_time": "2021-10-14T19:42:25.879Z"
   },
   {
    "duration": 6,
    "start_time": "2021-10-14T19:42:26.872Z"
   },
   {
    "duration": 27,
    "start_time": "2021-10-14T19:42:26.881Z"
   },
   {
    "duration": 8,
    "start_time": "2021-10-14T19:42:27.435Z"
   },
   {
    "duration": 9,
    "start_time": "2021-10-14T19:42:27.949Z"
   },
   {
    "duration": 6,
    "start_time": "2021-10-14T19:42:28.488Z"
   },
   {
    "duration": 2409,
    "start_time": "2021-10-14T19:42:29.116Z"
   },
   {
    "duration": 11,
    "start_time": "2021-10-14T19:42:31.528Z"
   },
   {
    "duration": 123,
    "start_time": "2021-10-14T19:42:31.542Z"
   },
   {
    "duration": 7,
    "start_time": "2021-10-14T19:42:57.396Z"
   },
   {
    "duration": 3,
    "start_time": "2021-10-14T19:42:58.064Z"
   },
   {
    "duration": 10,
    "start_time": "2021-10-14T19:42:58.607Z"
   },
   {
    "duration": 7,
    "start_time": "2021-10-14T19:42:59.164Z"
   },
   {
    "duration": 11,
    "start_time": "2021-10-14T19:42:59.810Z"
   },
   {
    "duration": 2294,
    "start_time": "2021-10-14T19:43:00.472Z"
   },
   {
    "duration": 10,
    "start_time": "2021-10-14T19:43:02.769Z"
   },
   {
    "duration": 7,
    "start_time": "2021-10-14T19:43:21.305Z"
   },
   {
    "duration": 8,
    "start_time": "2021-10-14T19:43:22.050Z"
   },
   {
    "duration": 8,
    "start_time": "2021-10-14T19:43:22.550Z"
   },
   {
    "duration": 7,
    "start_time": "2021-10-14T19:43:23.121Z"
   },
   {
    "duration": 6,
    "start_time": "2021-10-14T19:43:23.900Z"
   },
   {
    "duration": 2258,
    "start_time": "2021-10-14T19:43:24.405Z"
   },
   {
    "duration": 9,
    "start_time": "2021-10-14T19:43:26.666Z"
   },
   {
    "duration": 10,
    "start_time": "2021-10-14T19:44:23.541Z"
   },
   {
    "duration": 5,
    "start_time": "2021-10-14T19:44:24.222Z"
   },
   {
    "duration": 9,
    "start_time": "2021-10-14T19:44:24.865Z"
   },
   {
    "duration": 6,
    "start_time": "2021-10-14T19:44:27.824Z"
   },
   {
    "duration": 6,
    "start_time": "2021-10-14T19:44:28.628Z"
   },
   {
    "duration": 2377,
    "start_time": "2021-10-14T19:44:29.297Z"
   },
   {
    "duration": 24,
    "start_time": "2021-10-14T19:44:31.677Z"
   },
   {
    "duration": 35,
    "start_time": "2021-10-14T19:44:38.283Z"
   },
   {
    "duration": 35,
    "start_time": "2021-10-14T19:44:45.718Z"
   },
   {
    "duration": 5,
    "start_time": "2021-10-14T19:45:15.526Z"
   },
   {
    "duration": 7,
    "start_time": "2021-10-14T19:45:16.368Z"
   },
   {
    "duration": 7,
    "start_time": "2021-10-14T19:45:16.974Z"
   },
   {
    "duration": 6,
    "start_time": "2021-10-14T19:45:18.018Z"
   },
   {
    "duration": 6,
    "start_time": "2021-10-14T19:45:19.021Z"
   },
   {
    "duration": 2394,
    "start_time": "2021-10-14T19:45:19.794Z"
   },
   {
    "duration": 17,
    "start_time": "2021-10-14T19:45:22.200Z"
   },
   {
    "duration": 6,
    "start_time": "2021-10-14T19:45:40.715Z"
   },
   {
    "duration": 4,
    "start_time": "2021-10-14T19:45:41.633Z"
   },
   {
    "duration": 8,
    "start_time": "2021-10-14T19:45:42.119Z"
   },
   {
    "duration": 8,
    "start_time": "2021-10-14T19:45:42.650Z"
   },
   {
    "duration": 8,
    "start_time": "2021-10-14T19:45:43.410Z"
   },
   {
    "duration": 2388,
    "start_time": "2021-10-14T19:45:44.194Z"
   },
   {
    "duration": 22,
    "start_time": "2021-10-14T19:45:46.585Z"
   },
   {
    "duration": 35,
    "start_time": "2021-10-14T19:45:46.611Z"
   },
   {
    "duration": 5,
    "start_time": "2021-10-14T19:47:40.988Z"
   },
   {
    "duration": 4,
    "start_time": "2021-10-14T19:47:41.936Z"
   },
   {
    "duration": 6,
    "start_time": "2021-10-14T19:47:42.556Z"
   },
   {
    "duration": 7,
    "start_time": "2021-10-14T19:47:43.216Z"
   },
   {
    "duration": 5,
    "start_time": "2021-10-14T19:47:44.012Z"
   },
   {
    "duration": 2160,
    "start_time": "2021-10-14T19:47:44.767Z"
   },
   {
    "duration": 9,
    "start_time": "2021-10-14T19:47:46.930Z"
   },
   {
    "duration": 34,
    "start_time": "2021-10-14T19:47:50.926Z"
   },
   {
    "duration": 5,
    "start_time": "2021-10-14T19:48:12.937Z"
   },
   {
    "duration": 4,
    "start_time": "2021-10-14T19:48:13.628Z"
   },
   {
    "duration": 6,
    "start_time": "2021-10-14T19:48:14.270Z"
   },
   {
    "duration": 6,
    "start_time": "2021-10-14T19:48:15.095Z"
   },
   {
    "duration": 6,
    "start_time": "2021-10-14T19:48:15.741Z"
   },
   {
    "duration": 2124,
    "start_time": "2021-10-14T19:48:16.488Z"
   },
   {
    "duration": 10,
    "start_time": "2021-10-14T19:48:18.615Z"
   },
   {
    "duration": 16,
    "start_time": "2021-10-14T19:48:19.357Z"
   },
   {
    "duration": 35,
    "start_time": "2021-10-14T20:00:18.229Z"
   },
   {
    "duration": 26,
    "start_time": "2021-10-14T20:00:29.963Z"
   },
   {
    "duration": 29,
    "start_time": "2021-10-14T20:00:37.293Z"
   },
   {
    "duration": 16,
    "start_time": "2021-10-14T20:02:39.085Z"
   },
   {
    "duration": 14,
    "start_time": "2021-10-14T20:05:52.628Z"
   },
   {
    "duration": 7,
    "start_time": "2021-10-14T20:06:41.663Z"
   },
   {
    "duration": 8,
    "start_time": "2021-10-14T20:06:47.415Z"
   },
   {
    "duration": 308,
    "start_time": "2021-10-14T20:07:19.740Z"
   },
   {
    "duration": 7,
    "start_time": "2021-10-14T20:07:25.064Z"
   },
   {
    "duration": 6,
    "start_time": "2021-10-14T20:07:53.899Z"
   },
   {
    "duration": 8,
    "start_time": "2021-10-14T20:19:25.935Z"
   },
   {
    "duration": 28,
    "start_time": "2021-10-14T20:33:33.506Z"
   },
   {
    "duration": 27,
    "start_time": "2021-10-14T20:35:11.371Z"
   },
   {
    "duration": 7,
    "start_time": "2021-10-14T20:35:33.420Z"
   },
   {
    "duration": 26,
    "start_time": "2021-10-14T20:35:36.334Z"
   },
   {
    "duration": 7,
    "start_time": "2021-10-14T20:36:18.339Z"
   },
   {
    "duration": 7,
    "start_time": "2021-10-14T20:37:03.502Z"
   },
   {
    "duration": 312,
    "start_time": "2021-10-14T20:44:53.738Z"
   },
   {
    "duration": 339,
    "start_time": "2021-10-14T20:45:02.468Z"
   },
   {
    "duration": 34,
    "start_time": "2021-10-14T20:45:22.454Z"
   },
   {
    "duration": 32,
    "start_time": "2021-10-14T20:45:49.246Z"
   },
   {
    "duration": 47,
    "start_time": "2021-10-14T20:47:37.136Z"
   },
   {
    "duration": 314,
    "start_time": "2021-10-14T20:49:45.602Z"
   },
   {
    "duration": 29,
    "start_time": "2021-10-14T20:50:34.502Z"
   },
   {
    "duration": 8,
    "start_time": "2021-10-14T20:51:01.750Z"
   },
   {
    "duration": 40,
    "start_time": "2021-10-14T20:56:16.377Z"
   },
   {
    "duration": 52,
    "start_time": "2021-10-14T20:57:54.339Z"
   },
   {
    "duration": 945,
    "start_time": "2021-10-15T16:45:02.297Z"
   },
   {
    "duration": 28,
    "start_time": "2021-10-15T16:45:03.245Z"
   },
   {
    "duration": 10,
    "start_time": "2021-10-15T16:45:03.276Z"
   },
   {
    "duration": 14,
    "start_time": "2021-10-15T16:45:03.288Z"
   },
   {
    "duration": 6,
    "start_time": "2021-10-15T16:45:03.323Z"
   },
   {
    "duration": 22,
    "start_time": "2021-10-15T16:45:03.331Z"
   },
   {
    "duration": 23,
    "start_time": "2021-10-15T16:45:03.355Z"
   },
   {
    "duration": 19,
    "start_time": "2021-10-15T16:45:03.383Z"
   },
   {
    "duration": 10,
    "start_time": "2021-10-15T16:45:03.406Z"
   },
   {
    "duration": 27,
    "start_time": "2021-10-15T16:45:03.419Z"
   },
   {
    "duration": 19,
    "start_time": "2021-10-15T16:45:03.449Z"
   },
   {
    "duration": 14,
    "start_time": "2021-10-15T16:45:03.470Z"
   },
   {
    "duration": 15,
    "start_time": "2021-10-15T16:45:03.486Z"
   },
   {
    "duration": 14,
    "start_time": "2021-10-15T16:45:03.504Z"
   },
   {
    "duration": 9,
    "start_time": "2021-10-15T16:45:03.522Z"
   },
   {
    "duration": 24,
    "start_time": "2021-10-15T16:45:03.533Z"
   },
   {
    "duration": 19,
    "start_time": "2021-10-15T16:45:03.559Z"
   },
   {
    "duration": 32,
    "start_time": "2021-10-15T16:45:03.581Z"
   },
   {
    "duration": 26,
    "start_time": "2021-10-15T16:45:03.615Z"
   },
   {
    "duration": 5,
    "start_time": "2021-10-15T16:45:03.644Z"
   },
   {
    "duration": 25,
    "start_time": "2021-10-15T16:45:03.652Z"
   },
   {
    "duration": 21,
    "start_time": "2021-10-15T16:45:03.679Z"
   },
   {
    "duration": 33,
    "start_time": "2021-10-15T16:45:03.706Z"
   },
   {
    "duration": 9,
    "start_time": "2021-10-15T16:45:03.742Z"
   },
   {
    "duration": 22,
    "start_time": "2021-10-15T16:45:03.753Z"
   },
   {
    "duration": 21,
    "start_time": "2021-10-15T16:45:03.777Z"
   },
   {
    "duration": 34,
    "start_time": "2021-10-15T16:45:03.800Z"
   },
   {
    "duration": 20,
    "start_time": "2021-10-15T16:45:03.836Z"
   },
   {
    "duration": 21,
    "start_time": "2021-10-15T16:45:03.859Z"
   },
   {
    "duration": 41,
    "start_time": "2021-10-15T16:45:03.882Z"
   },
   {
    "duration": 8,
    "start_time": "2021-10-15T16:45:03.926Z"
   },
   {
    "duration": 14,
    "start_time": "2021-10-15T16:45:03.936Z"
   },
   {
    "duration": 872,
    "start_time": "2021-10-15T16:45:03.952Z"
   },
   {
    "duration": 6,
    "start_time": "2021-10-15T16:45:04.826Z"
   },
   {
    "duration": 35,
    "start_time": "2021-10-15T16:45:04.834Z"
   },
   {
    "duration": 27,
    "start_time": "2021-10-15T16:45:04.871Z"
   },
   {
    "duration": 9,
    "start_time": "2021-10-15T16:45:04.900Z"
   },
   {
    "duration": 21,
    "start_time": "2021-10-15T16:45:04.911Z"
   },
   {
    "duration": 1931,
    "start_time": "2021-10-15T16:45:04.934Z"
   },
   {
    "duration": 11,
    "start_time": "2021-10-15T16:45:06.868Z"
   },
   {
    "duration": 59,
    "start_time": "2021-10-15T16:45:06.881Z"
   },
   {
    "duration": 17,
    "start_time": "2021-10-15T16:45:06.942Z"
   },
   {
    "duration": 31,
    "start_time": "2021-10-15T16:45:06.962Z"
   },
   {
    "duration": 29,
    "start_time": "2021-10-15T16:45:06.995Z"
   },
   {
    "duration": 54,
    "start_time": "2021-10-15T16:45:07.027Z"
   },
   {
    "duration": 48,
    "start_time": "2021-10-15T16:45:07.084Z"
   },
   {
    "duration": 8,
    "start_time": "2021-10-15T16:45:07.134Z"
   },
   {
    "duration": 315,
    "start_time": "2021-10-15T17:36:06.537Z"
   },
   {
    "duration": 623,
    "start_time": "2021-10-15T17:36:26.008Z"
   },
   {
    "duration": 21,
    "start_time": "2021-10-15T17:36:26.965Z"
   },
   {
    "duration": 6,
    "start_time": "2021-10-15T17:36:29.838Z"
   },
   {
    "duration": 6,
    "start_time": "2021-10-15T17:36:30.214Z"
   },
   {
    "duration": 5,
    "start_time": "2021-10-15T17:36:30.818Z"
   },
   {
    "duration": 5,
    "start_time": "2021-10-15T17:36:31.081Z"
   },
   {
    "duration": 5,
    "start_time": "2021-10-15T17:36:31.342Z"
   },
   {
    "duration": 3,
    "start_time": "2021-10-15T17:36:31.587Z"
   },
   {
    "duration": 5,
    "start_time": "2021-10-15T17:36:31.824Z"
   },
   {
    "duration": 11,
    "start_time": "2021-10-15T17:36:32.074Z"
   },
   {
    "duration": 3,
    "start_time": "2021-10-15T17:36:33.086Z"
   },
   {
    "duration": 5,
    "start_time": "2021-10-15T17:36:33.090Z"
   },
   {
    "duration": 3,
    "start_time": "2021-10-15T17:36:33.190Z"
   },
   {
    "duration": 7,
    "start_time": "2021-10-15T17:36:33.426Z"
   },
   {
    "duration": 4,
    "start_time": "2021-10-15T17:36:33.640Z"
   },
   {
    "duration": 7068,
    "start_time": "2021-10-15T17:38:47.837Z"
   },
   {
    "duration": -157,
    "start_time": "2021-10-15T17:38:55.064Z"
   },
   {
    "duration": -158,
    "start_time": "2021-10-15T17:38:55.066Z"
   },
   {
    "duration": -159,
    "start_time": "2021-10-15T17:38:55.068Z"
   },
   {
    "duration": -160,
    "start_time": "2021-10-15T17:38:55.070Z"
   },
   {
    "duration": 435,
    "start_time": "2021-10-15T17:38:55.141Z"
   },
   {
    "duration": 11,
    "start_time": "2021-10-15T17:38:55.804Z"
   },
   {
    "duration": 251,
    "start_time": "2021-10-15T17:39:01.207Z"
   },
   {
    "duration": 3,
    "start_time": "2021-10-15T17:39:12.203Z"
   },
   {
    "duration": 3,
    "start_time": "2021-10-15T17:39:12.967Z"
   },
   {
    "duration": 3,
    "start_time": "2021-10-15T17:39:13.466Z"
   },
   {
    "duration": 7,
    "start_time": "2021-10-15T17:39:14.064Z"
   },
   {
    "duration": 6586,
    "start_time": "2021-10-15T17:39:15.192Z"
   },
   {
    "duration": -186,
    "start_time": "2021-10-15T17:39:21.966Z"
   },
   {
    "duration": -188,
    "start_time": "2021-10-15T17:39:21.969Z"
   },
   {
    "duration": 6144,
    "start_time": "2021-10-15T17:40:32.654Z"
   },
   {
    "duration": 6806,
    "start_time": "2021-10-15T17:41:29.836Z"
   },
   {
    "duration": 6295,
    "start_time": "2021-10-15T17:42:10.122Z"
   },
   {
    "duration": 6555,
    "start_time": "2021-10-15T17:42:54.413Z"
   },
   {
    "duration": 54,
    "start_time": "2021-10-15T17:43:15.005Z"
   },
   {
    "duration": 14,
    "start_time": "2021-10-15T17:43:16.100Z"
   },
   {
    "duration": 5,
    "start_time": "2021-10-15T17:43:18.985Z"
   },
   {
    "duration": 6,
    "start_time": "2021-10-15T17:43:19.441Z"
   },
   {
    "duration": 6,
    "start_time": "2021-10-15T17:43:20.351Z"
   },
   {
    "duration": 5,
    "start_time": "2021-10-15T17:43:20.701Z"
   },
   {
    "duration": 4,
    "start_time": "2021-10-15T17:43:21.366Z"
   },
   {
    "duration": 3,
    "start_time": "2021-10-15T17:43:21.848Z"
   },
   {
    "duration": 5,
    "start_time": "2021-10-15T17:43:22.318Z"
   },
   {
    "duration": 12,
    "start_time": "2021-10-15T17:43:23.758Z"
   },
   {
    "duration": 2,
    "start_time": "2021-10-15T17:43:25.655Z"
   },
   {
    "duration": 2,
    "start_time": "2021-10-15T17:43:25.818Z"
   },
   {
    "duration": 2,
    "start_time": "2021-10-15T17:43:26.304Z"
   },
   {
    "duration": 7,
    "start_time": "2021-10-15T17:43:26.947Z"
   },
   {
    "duration": 3,
    "start_time": "2021-10-15T17:43:27.689Z"
   },
   {
    "duration": 4,
    "start_time": "2021-10-15T17:44:59.483Z"
   },
   {
    "duration": 5,
    "start_time": "2021-10-15T17:45:00.581Z"
   },
   {
    "duration": 9,
    "start_time": "2021-10-15T17:45:01.276Z"
   },
   {
    "duration": 10,
    "start_time": "2021-10-15T17:45:07.159Z"
   },
   {
    "duration": 4,
    "start_time": "2021-10-15T17:45:08.166Z"
   },
   {
    "duration": 11,
    "start_time": "2021-10-15T17:45:11.575Z"
   },
   {
    "duration": 8,
    "start_time": "2021-10-15T17:45:23.436Z"
   },
   {
    "duration": 17,
    "start_time": "2021-10-15T17:45:24.482Z"
   },
   {
    "duration": 7,
    "start_time": "2021-10-15T17:45:41.667Z"
   },
   {
    "duration": 8,
    "start_time": "2021-10-15T17:45:43.719Z"
   },
   {
    "duration": 8,
    "start_time": "2021-10-15T17:46:00.625Z"
   },
   {
    "duration": 15,
    "start_time": "2021-10-15T17:46:01.530Z"
   },
   {
    "duration": 16,
    "start_time": "2021-10-15T17:46:03.041Z"
   },
   {
    "duration": 15,
    "start_time": "2021-10-15T17:46:03.814Z"
   },
   {
    "duration": 5,
    "start_time": "2021-10-15T17:46:12.649Z"
   },
   {
    "duration": 7,
    "start_time": "2021-10-15T17:46:13.827Z"
   },
   {
    "duration": 3,
    "start_time": "2021-10-15T17:46:15.631Z"
   },
   {
    "duration": 623,
    "start_time": "2021-10-15T17:46:16.171Z"
   },
   {
    "duration": 4,
    "start_time": "2021-10-15T17:46:16.881Z"
   },
   {
    "duration": 3,
    "start_time": "2021-10-15T17:46:17.570Z"
   },
   {
    "duration": 5,
    "start_time": "2021-10-15T17:46:18.182Z"
   },
   {
    "duration": 5,
    "start_time": "2021-10-15T17:46:18.863Z"
   },
   {
    "duration": 4,
    "start_time": "2021-10-15T17:46:19.839Z"
   },
   {
    "duration": 1447,
    "start_time": "2021-10-15T17:46:22.216Z"
   },
   {
    "duration": 8,
    "start_time": "2021-10-15T17:46:23.665Z"
   },
   {
    "duration": 25,
    "start_time": "2021-10-15T17:46:41.600Z"
   },
   {
    "duration": 10,
    "start_time": "2021-10-15T17:46:44.588Z"
   },
   {
    "duration": 19,
    "start_time": "2021-10-15T17:47:31.543Z"
   },
   {
    "duration": 6,
    "start_time": "2021-10-15T17:47:32.597Z"
   },
   {
    "duration": 26,
    "start_time": "2021-10-15T17:47:41.526Z"
   },
   {
    "duration": 24,
    "start_time": "2021-10-15T17:51:16.560Z"
   },
   {
    "duration": 7,
    "start_time": "2021-10-15T17:51:44.778Z"
   },
   {
    "duration": 861,
    "start_time": "2021-10-16T08:25:35.448Z"
   },
   {
    "duration": 29,
    "start_time": "2021-10-16T08:25:36.312Z"
   },
   {
    "duration": 6,
    "start_time": "2021-10-16T08:25:36.358Z"
   },
   {
    "duration": 11,
    "start_time": "2021-10-16T08:25:36.367Z"
   },
   {
    "duration": 7,
    "start_time": "2021-10-16T08:25:36.380Z"
   },
   {
    "duration": 17,
    "start_time": "2021-10-16T08:25:36.389Z"
   },
   {
    "duration": 8,
    "start_time": "2021-10-16T08:25:36.408Z"
   },
   {
    "duration": 4,
    "start_time": "2021-10-16T08:25:36.420Z"
   },
   {
    "duration": 34,
    "start_time": "2021-10-16T08:25:36.427Z"
   },
   {
    "duration": 16,
    "start_time": "2021-10-16T08:25:36.464Z"
   },
   {
    "duration": 2,
    "start_time": "2021-10-16T08:25:36.483Z"
   },
   {
    "duration": 9,
    "start_time": "2021-10-16T08:25:36.488Z"
   },
   {
    "duration": 8,
    "start_time": "2021-10-16T08:25:36.499Z"
   },
   {
    "duration": 14,
    "start_time": "2021-10-16T08:25:36.509Z"
   },
   {
    "duration": 5,
    "start_time": "2021-10-16T08:25:36.559Z"
   },
   {
    "duration": 9,
    "start_time": "2021-10-16T08:25:36.567Z"
   },
   {
    "duration": 8,
    "start_time": "2021-10-16T08:25:36.578Z"
   },
   {
    "duration": 12,
    "start_time": "2021-10-16T08:25:36.588Z"
   },
   {
    "duration": 14,
    "start_time": "2021-10-16T08:25:36.602Z"
   },
   {
    "duration": 41,
    "start_time": "2021-10-16T08:25:36.618Z"
   },
   {
    "duration": 19,
    "start_time": "2021-10-16T08:25:36.661Z"
   },
   {
    "duration": 15,
    "start_time": "2021-10-16T08:25:36.682Z"
   },
   {
    "duration": 23,
    "start_time": "2021-10-16T08:25:36.702Z"
   },
   {
    "duration": 9,
    "start_time": "2021-10-16T08:25:36.759Z"
   },
   {
    "duration": 16,
    "start_time": "2021-10-16T08:25:36.770Z"
   },
   {
    "duration": 12,
    "start_time": "2021-10-16T08:25:36.789Z"
   },
   {
    "duration": 22,
    "start_time": "2021-10-16T08:25:36.803Z"
   },
   {
    "duration": 49,
    "start_time": "2021-10-16T08:25:36.827Z"
   },
   {
    "duration": 19,
    "start_time": "2021-10-16T08:25:36.878Z"
   },
   {
    "duration": 7,
    "start_time": "2021-10-16T08:25:36.899Z"
   },
   {
    "duration": 11,
    "start_time": "2021-10-16T08:25:36.908Z"
   },
   {
    "duration": 3,
    "start_time": "2021-10-16T08:25:36.921Z"
   },
   {
    "duration": 925,
    "start_time": "2021-10-16T08:25:36.957Z"
   },
   {
    "duration": 6,
    "start_time": "2021-10-16T08:25:37.885Z"
   },
   {
    "duration": 7,
    "start_time": "2021-10-16T08:25:37.893Z"
   },
   {
    "duration": 12,
    "start_time": "2021-10-16T08:25:37.902Z"
   },
   {
    "duration": 6,
    "start_time": "2021-10-16T08:25:37.917Z"
   },
   {
    "duration": 34,
    "start_time": "2021-10-16T08:25:37.926Z"
   },
   {
    "duration": 1949,
    "start_time": "2021-10-16T08:25:37.963Z"
   },
   {
    "duration": 9,
    "start_time": "2021-10-16T08:25:39.915Z"
   },
   {
    "duration": 58,
    "start_time": "2021-10-16T08:25:39.927Z"
   },
   {
    "duration": 13,
    "start_time": "2021-10-16T08:25:39.988Z"
   },
   {
    "duration": 26,
    "start_time": "2021-10-16T08:25:40.003Z"
   },
   {
    "duration": 27,
    "start_time": "2021-10-16T08:25:40.032Z"
   },
   {
    "duration": 40,
    "start_time": "2021-10-16T08:25:40.062Z"
   },
   {
    "duration": 60,
    "start_time": "2021-10-16T08:25:40.104Z"
   },
   {
    "duration": 9,
    "start_time": "2021-10-16T08:25:40.167Z"
   },
   {
    "duration": 27,
    "start_time": "2021-10-16T08:25:40.178Z"
   },
   {
    "duration": 7,
    "start_time": "2021-10-16T08:25:40.208Z"
   },
   {
    "duration": 591,
    "start_time": "2022-02-17T08:40:46.471Z"
   },
   {
    "duration": 19,
    "start_time": "2022-02-17T08:40:47.064Z"
   },
   {
    "duration": 4,
    "start_time": "2022-02-17T08:40:47.085Z"
   },
   {
    "duration": 6,
    "start_time": "2022-02-17T08:40:47.091Z"
   },
   {
    "duration": 6,
    "start_time": "2022-02-17T08:40:47.099Z"
   },
   {
    "duration": 28,
    "start_time": "2022-02-17T08:40:47.106Z"
   },
   {
    "duration": 8,
    "start_time": "2022-02-17T08:40:47.135Z"
   },
   {
    "duration": 4,
    "start_time": "2022-02-17T08:40:47.145Z"
   },
   {
    "duration": 8,
    "start_time": "2022-02-17T08:40:47.152Z"
   },
   {
    "duration": 12,
    "start_time": "2022-02-17T08:40:47.162Z"
   },
   {
    "duration": 357,
    "start_time": "2022-02-17T08:40:47.176Z"
   },
   {
    "duration": 1,
    "start_time": "2022-02-17T08:40:47.535Z"
   },
   {
    "duration": 6,
    "start_time": "2022-02-17T08:40:47.538Z"
   },
   {
    "duration": 8,
    "start_time": "2022-02-17T08:40:47.545Z"
   },
   {
    "duration": 9,
    "start_time": "2022-02-17T08:40:47.555Z"
   },
   {
    "duration": 3,
    "start_time": "2022-02-17T08:40:47.566Z"
   },
   {
    "duration": 6,
    "start_time": "2022-02-17T08:40:47.571Z"
   },
   {
    "duration": 7,
    "start_time": "2022-02-17T08:40:47.578Z"
   },
   {
    "duration": 14,
    "start_time": "2022-02-17T08:40:47.587Z"
   },
   {
    "duration": 30,
    "start_time": "2022-02-17T08:40:47.603Z"
   },
   {
    "duration": 4,
    "start_time": "2022-02-17T08:40:47.634Z"
   },
   {
    "duration": 13,
    "start_time": "2022-02-17T08:40:47.639Z"
   },
   {
    "duration": 8,
    "start_time": "2022-02-17T08:40:47.654Z"
   },
   {
    "duration": 14,
    "start_time": "2022-02-17T08:40:47.664Z"
   },
   {
    "duration": 10,
    "start_time": "2022-02-17T08:40:47.680Z"
   },
   {
    "duration": 7,
    "start_time": "2022-02-17T08:40:47.691Z"
   },
   {
    "duration": 32,
    "start_time": "2022-02-17T08:40:47.701Z"
   },
   {
    "duration": 15,
    "start_time": "2022-02-17T08:40:47.735Z"
   },
   {
    "duration": 15,
    "start_time": "2022-02-17T08:40:47.751Z"
   },
   {
    "duration": 13,
    "start_time": "2022-02-17T08:40:47.767Z"
   },
   {
    "duration": 5,
    "start_time": "2022-02-17T08:40:47.781Z"
   },
   {
    "duration": 8,
    "start_time": "2022-02-17T08:40:47.787Z"
   },
   {
    "duration": 13,
    "start_time": "2022-02-17T08:40:47.796Z"
   },
   {
    "duration": 627,
    "start_time": "2022-02-17T08:40:47.830Z"
   },
   {
    "duration": 3,
    "start_time": "2022-02-17T08:40:48.459Z"
   },
   {
    "duration": 8,
    "start_time": "2022-02-17T08:40:48.464Z"
   },
   {
    "duration": 8,
    "start_time": "2022-02-17T08:40:48.473Z"
   },
   {
    "duration": 5,
    "start_time": "2022-02-17T08:40:48.482Z"
   },
   {
    "duration": 4,
    "start_time": "2022-02-17T08:40:48.488Z"
   },
   {
    "duration": 1600,
    "start_time": "2022-02-17T08:40:48.494Z"
   },
   {
    "duration": 7,
    "start_time": "2022-02-17T08:40:50.096Z"
   },
   {
    "duration": 40,
    "start_time": "2022-02-17T08:40:50.104Z"
   },
   {
    "duration": 5,
    "start_time": "2022-02-17T08:40:50.146Z"
   },
   {
    "duration": 18,
    "start_time": "2022-02-17T08:40:50.152Z"
   },
   {
    "duration": 5,
    "start_time": "2022-02-17T08:40:50.172Z"
   },
   {
    "duration": 28,
    "start_time": "2022-02-17T08:40:50.178Z"
   },
   {
    "duration": 22,
    "start_time": "2022-02-17T08:40:50.231Z"
   },
   {
    "duration": 7,
    "start_time": "2022-02-17T08:40:50.254Z"
   },
   {
    "duration": 23,
    "start_time": "2022-02-17T08:40:50.262Z"
   },
   {
    "duration": 4,
    "start_time": "2022-02-17T08:40:50.287Z"
   },
   {
    "duration": 616,
    "start_time": "2022-02-17T11:04:43.203Z"
   },
   {
    "duration": 18,
    "start_time": "2022-02-17T11:04:43.821Z"
   },
   {
    "duration": 4,
    "start_time": "2022-02-17T11:04:43.841Z"
   },
   {
    "duration": 5,
    "start_time": "2022-02-17T11:04:43.847Z"
   },
   {
    "duration": 6,
    "start_time": "2022-02-17T11:04:43.854Z"
   },
   {
    "duration": 5,
    "start_time": "2022-02-17T11:04:43.861Z"
   },
   {
    "duration": 6,
    "start_time": "2022-02-17T11:04:43.868Z"
   },
   {
    "duration": 3,
    "start_time": "2022-02-17T11:04:43.876Z"
   },
   {
    "duration": 6,
    "start_time": "2022-02-17T11:04:43.881Z"
   },
   {
    "duration": 9,
    "start_time": "2022-02-17T11:04:43.889Z"
   },
   {
    "duration": 371,
    "start_time": "2022-02-17T11:04:43.900Z"
   },
   {
    "duration": 2,
    "start_time": "2022-02-17T11:04:44.272Z"
   },
   {
    "duration": 4,
    "start_time": "2022-02-17T11:04:44.276Z"
   },
   {
    "duration": 4,
    "start_time": "2022-02-17T11:04:44.282Z"
   },
   {
    "duration": 8,
    "start_time": "2022-02-17T11:04:44.288Z"
   },
   {
    "duration": 3,
    "start_time": "2022-02-17T11:04:44.298Z"
   },
   {
    "duration": 6,
    "start_time": "2022-02-17T11:04:44.303Z"
   },
   {
    "duration": 24,
    "start_time": "2022-02-17T11:04:44.310Z"
   },
   {
    "duration": 11,
    "start_time": "2022-02-17T11:04:44.335Z"
   },
   {
    "duration": 12,
    "start_time": "2022-02-17T11:04:44.348Z"
   },
   {
    "duration": 4,
    "start_time": "2022-02-17T11:04:44.361Z"
   },
   {
    "duration": 18,
    "start_time": "2022-02-17T11:04:44.366Z"
   },
   {
    "duration": 6,
    "start_time": "2022-02-17T11:04:44.387Z"
   },
   {
    "duration": 37,
    "start_time": "2022-02-17T11:04:44.395Z"
   },
   {
    "duration": 8,
    "start_time": "2022-02-17T11:04:44.434Z"
   },
   {
    "duration": 10,
    "start_time": "2022-02-17T11:04:44.443Z"
   },
   {
    "duration": 8,
    "start_time": "2022-02-17T11:04:44.454Z"
   },
   {
    "duration": 14,
    "start_time": "2022-02-17T11:04:44.463Z"
   },
   {
    "duration": 16,
    "start_time": "2022-02-17T11:04:44.479Z"
   },
   {
    "duration": 39,
    "start_time": "2022-02-17T11:04:44.497Z"
   },
   {
    "duration": 5,
    "start_time": "2022-02-17T11:04:44.538Z"
   },
   {
    "duration": 5,
    "start_time": "2022-02-17T11:04:44.545Z"
   },
   {
    "duration": 3,
    "start_time": "2022-02-17T11:04:44.552Z"
   },
   {
    "duration": 662,
    "start_time": "2022-02-17T11:04:44.557Z"
   },
   {
    "duration": 10,
    "start_time": "2022-02-17T11:04:45.221Z"
   },
   {
    "duration": 5,
    "start_time": "2022-02-17T11:04:45.232Z"
   },
   {
    "duration": 8,
    "start_time": "2022-02-17T11:04:45.238Z"
   },
   {
    "duration": 6,
    "start_time": "2022-02-17T11:04:45.248Z"
   },
   {
    "duration": 5,
    "start_time": "2022-02-17T11:04:45.255Z"
   },
   {
    "duration": 1584,
    "start_time": "2022-02-17T11:04:45.261Z"
   },
   {
    "duration": 8,
    "start_time": "2022-02-17T11:04:46.846Z"
   },
   {
    "duration": 26,
    "start_time": "2022-02-17T11:04:46.855Z"
   },
   {
    "duration": 5,
    "start_time": "2022-02-17T11:04:46.882Z"
   },
   {
    "duration": 22,
    "start_time": "2022-02-17T11:04:46.888Z"
   },
   {
    "duration": 5,
    "start_time": "2022-02-17T11:04:46.911Z"
   },
   {
    "duration": 26,
    "start_time": "2022-02-17T11:04:46.917Z"
   },
   {
    "duration": 21,
    "start_time": "2022-02-17T11:04:46.944Z"
   },
   {
    "duration": 6,
    "start_time": "2022-02-17T11:04:46.967Z"
   },
   {
    "duration": 19,
    "start_time": "2022-02-17T11:04:46.974Z"
   },
   {
    "duration": 5,
    "start_time": "2022-02-17T11:04:46.994Z"
   },
   {
    "duration": 629,
    "start_time": "2022-02-17T11:21:37.110Z"
   },
   {
    "duration": 19,
    "start_time": "2022-02-17T11:21:37.741Z"
   },
   {
    "duration": 6,
    "start_time": "2022-02-17T11:21:37.763Z"
   },
   {
    "duration": 5,
    "start_time": "2022-02-17T11:21:37.770Z"
   },
   {
    "duration": 5,
    "start_time": "2022-02-17T11:21:37.777Z"
   },
   {
    "duration": 4,
    "start_time": "2022-02-17T11:21:37.784Z"
   },
   {
    "duration": 5,
    "start_time": "2022-02-17T11:21:37.789Z"
   },
   {
    "duration": 35,
    "start_time": "2022-02-17T11:21:37.795Z"
   },
   {
    "duration": 5,
    "start_time": "2022-02-17T11:21:37.833Z"
   },
   {
    "duration": 13,
    "start_time": "2022-02-17T11:21:37.840Z"
   },
   {
    "duration": 375,
    "start_time": "2022-02-17T11:21:37.855Z"
   },
   {
    "duration": 3,
    "start_time": "2022-02-17T11:21:38.231Z"
   },
   {
    "duration": 5,
    "start_time": "2022-02-17T11:21:38.235Z"
   },
   {
    "duration": 4,
    "start_time": "2022-02-17T11:21:38.241Z"
   },
   {
    "duration": 12,
    "start_time": "2022-02-17T11:21:38.246Z"
   },
   {
    "duration": 5,
    "start_time": "2022-02-17T11:21:38.259Z"
   },
   {
    "duration": 9,
    "start_time": "2022-02-17T11:21:38.266Z"
   },
   {
    "duration": 5,
    "start_time": "2022-02-17T11:21:38.277Z"
   },
   {
    "duration": 11,
    "start_time": "2022-02-17T11:21:38.284Z"
   },
   {
    "duration": 14,
    "start_time": "2022-02-17T11:21:38.296Z"
   },
   {
    "duration": 20,
    "start_time": "2022-02-17T11:21:38.311Z"
   },
   {
    "duration": 12,
    "start_time": "2022-02-17T11:21:38.333Z"
   },
   {
    "duration": 10,
    "start_time": "2022-02-17T11:21:38.347Z"
   },
   {
    "duration": 20,
    "start_time": "2022-02-17T11:21:38.358Z"
   },
   {
    "duration": 13,
    "start_time": "2022-02-17T11:21:38.379Z"
   },
   {
    "duration": 7,
    "start_time": "2022-02-17T11:21:38.393Z"
   },
   {
    "duration": 29,
    "start_time": "2022-02-17T11:21:38.404Z"
   },
   {
    "duration": 19,
    "start_time": "2022-02-17T11:21:38.436Z"
   },
   {
    "duration": 17,
    "start_time": "2022-02-17T11:21:38.456Z"
   },
   {
    "duration": 15,
    "start_time": "2022-02-17T11:21:38.475Z"
   },
   {
    "duration": 5,
    "start_time": "2022-02-17T11:21:38.492Z"
   },
   {
    "duration": 34,
    "start_time": "2022-02-17T11:21:38.499Z"
   },
   {
    "duration": 3,
    "start_time": "2022-02-17T11:21:38.535Z"
   },
   {
    "duration": 659,
    "start_time": "2022-02-17T11:21:38.539Z"
   },
   {
    "duration": 4,
    "start_time": "2022-02-17T11:21:39.200Z"
   },
   {
    "duration": 8,
    "start_time": "2022-02-17T11:21:39.205Z"
   },
   {
    "duration": 17,
    "start_time": "2022-02-17T11:21:39.214Z"
   },
   {
    "duration": 4,
    "start_time": "2022-02-17T11:21:39.233Z"
   },
   {
    "duration": 4,
    "start_time": "2022-02-17T11:21:39.239Z"
   },
   {
    "duration": 1591,
    "start_time": "2022-02-17T11:21:39.245Z"
   },
   {
    "duration": 9,
    "start_time": "2022-02-17T11:21:40.837Z"
   },
   {
    "duration": 26,
    "start_time": "2022-02-17T11:21:40.847Z"
   },
   {
    "duration": 4,
    "start_time": "2022-02-17T11:21:40.875Z"
   },
   {
    "duration": 20,
    "start_time": "2022-02-17T11:21:40.881Z"
   },
   {
    "duration": 31,
    "start_time": "2022-02-17T11:21:40.902Z"
   },
   {
    "duration": 30,
    "start_time": "2022-02-17T11:21:40.935Z"
   },
   {
    "duration": 32,
    "start_time": "2022-02-17T11:21:40.966Z"
   },
   {
    "duration": 7,
    "start_time": "2022-02-17T11:21:41.000Z"
   },
   {
    "duration": 44,
    "start_time": "2022-02-17T11:21:41.009Z"
   },
   {
    "duration": 5,
    "start_time": "2022-02-17T11:21:41.055Z"
   }
  ],
  "kernelspec": {
   "display_name": "Python 3",
   "language": "python",
   "name": "python3"
  },
  "language_info": {
   "codemirror_mode": {
    "name": "ipython",
    "version": 3
   },
   "file_extension": ".py",
   "mimetype": "text/x-python",
   "name": "python",
   "nbconvert_exporter": "python",
   "pygments_lexer": "ipython3",
   "version": "3.7.8"
  },
  "toc": {
   "base_numbering": 1,
   "nav_menu": {},
   "number_sections": true,
   "sideBar": true,
   "skip_h1_title": true,
   "title_cell": "Table of Contents",
   "title_sidebar": "Contents",
   "toc_cell": false,
   "toc_position": {},
   "toc_section_display": true,
   "toc_window_display": false
  }
 },
 "nbformat": 4,
 "nbformat_minor": 2
}