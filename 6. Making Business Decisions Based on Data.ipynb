{
 "cells": [
  {
   "cell_type": "markdown",
   "metadata": {},
   "source": [
    "# Project description\n",
    "## A/B testing and analysis of results in a big online store"
   ]
  },
  {
   "cell_type": "markdown",
   "metadata": {},
   "source": [
    "You are an analyst at a big online store. Together with the marketing department, you've compiled a list of hypotheses that may help boost revenue.\n",
    "\n",
    "You need to prioritize these hypotheses, launch an A/B test, and analyze the results.\n"
   ]
  },
  {
   "cell_type": "markdown",
   "metadata": {},
   "source": [
    "# Description of the data\n",
    "\n",
    "***Data used in the first part of the project***\n",
    "\n",
    "*/datasets/hypotheses_us.csv*\n",
    "\n",
    "- **Hypotheses** — brief descriptions of the hypotheses\n",
    "- **Reach** — user reach, on a scale of one to ten\n",
    "- **Impact** — impact on users, on a scale of one to ten\n",
    "- **Confidence** — confidence in the hypothesis, on a scale of one to ten\n",
    "- **Effort** — the resources required to test a hypothesis, on a scale of one to ten. The higher the Effort value, the more resource-intensive the test.\n",
    "\n",
    "***Data used in the second part of the project***\n",
    "\n",
    "*/datasets/orders_us.csv*\n",
    "\n",
    "- **transactionId** — order identifier\n",
    "- **visitorId** — identifier of the user who placed the order\n",
    "- **date** — of the order\n",
    "- **revenue** — from the order\n",
    "- **group** — the A/B test group that the user belongs to\n",
    "\n",
    "*/datasets/visits_us.csv*\n",
    "\n",
    "- **date** — date\n",
    "- **group** — A/B test group\n",
    "- **visits** — the number of visits on the date specified in the A/B test group specified"
   ]
  },
  {
   "cell_type": "markdown",
   "metadata": {},
   "source": [
    "## Download the data and prepare it for analysis"
   ]
  },
  {
   "cell_type": "code",
   "execution_count": 1,
   "metadata": {},
   "outputs": [],
   "source": [
    "import pandas as pd\n",
    "import numpy as np\n",
    "import seaborn as sns\n",
    "from matplotlib import pyplot as plt\n",
    "import matplotlib.colors as mcolors\n",
    "from datetime import timedelta\n",
    "import plotly.express as px\n",
    "import plotly.graph_objects as go\n",
    "import scipy.stats as stats\n",
    "import datetime as dt\n",
    "from pandas.plotting import register_matplotlib_converters\n",
    "register_matplotlib_converters()\n",
    "\n",
    "import warnings\n",
    "warnings.filterwarnings('ignore')\n",
    "\n",
    "hypotheses = pd.read_csv('/datasets/hypotheses_us.csv', sep=';')\n",
    "orders = pd.read_csv('/datasets/orders_us.csv')\n",
    "visits = pd.read_csv('/datasets/visits_us.csv')"
   ]
  },
  {
   "cell_type": "code",
   "execution_count": 2,
   "metadata": {},
   "outputs": [
    {
     "data": {
      "text/html": [
       "<div>\n",
       "<style scoped>\n",
       "    .dataframe tbody tr th:only-of-type {\n",
       "        vertical-align: middle;\n",
       "    }\n",
       "\n",
       "    .dataframe tbody tr th {\n",
       "        vertical-align: top;\n",
       "    }\n",
       "\n",
       "    .dataframe thead th {\n",
       "        text-align: right;\n",
       "    }\n",
       "</style>\n",
       "<table border=\"1\" class=\"dataframe\">\n",
       "  <thead>\n",
       "    <tr style=\"text-align: right;\">\n",
       "      <th></th>\n",
       "      <th>Hypothesis</th>\n",
       "      <th>Reach</th>\n",
       "      <th>Impact</th>\n",
       "      <th>Confidence</th>\n",
       "      <th>Effort</th>\n",
       "    </tr>\n",
       "  </thead>\n",
       "  <tbody>\n",
       "    <tr>\n",
       "      <th>0</th>\n",
       "      <td>Add two new channels for attracting traffic. T...</td>\n",
       "      <td>3</td>\n",
       "      <td>10</td>\n",
       "      <td>8</td>\n",
       "      <td>6</td>\n",
       "    </tr>\n",
       "    <tr>\n",
       "      <th>1</th>\n",
       "      <td>Launch your own delivery service. This will sh...</td>\n",
       "      <td>2</td>\n",
       "      <td>5</td>\n",
       "      <td>4</td>\n",
       "      <td>10</td>\n",
       "    </tr>\n",
       "    <tr>\n",
       "      <th>2</th>\n",
       "      <td>Add product recommendation blocks to the store...</td>\n",
       "      <td>8</td>\n",
       "      <td>3</td>\n",
       "      <td>7</td>\n",
       "      <td>3</td>\n",
       "    </tr>\n",
       "    <tr>\n",
       "      <th>3</th>\n",
       "      <td>Change the category structure. This will incre...</td>\n",
       "      <td>8</td>\n",
       "      <td>3</td>\n",
       "      <td>3</td>\n",
       "      <td>8</td>\n",
       "    </tr>\n",
       "    <tr>\n",
       "      <th>4</th>\n",
       "      <td>Change the background color on the main page. ...</td>\n",
       "      <td>3</td>\n",
       "      <td>1</td>\n",
       "      <td>1</td>\n",
       "      <td>1</td>\n",
       "    </tr>\n",
       "    <tr>\n",
       "      <th>5</th>\n",
       "      <td>Add a customer review page. This will increase...</td>\n",
       "      <td>3</td>\n",
       "      <td>2</td>\n",
       "      <td>2</td>\n",
       "      <td>3</td>\n",
       "    </tr>\n",
       "    <tr>\n",
       "      <th>6</th>\n",
       "      <td>Show banners with current offers and sales on ...</td>\n",
       "      <td>5</td>\n",
       "      <td>3</td>\n",
       "      <td>8</td>\n",
       "      <td>3</td>\n",
       "    </tr>\n",
       "    <tr>\n",
       "      <th>7</th>\n",
       "      <td>Add a subscription form to all the main pages....</td>\n",
       "      <td>10</td>\n",
       "      <td>7</td>\n",
       "      <td>8</td>\n",
       "      <td>5</td>\n",
       "    </tr>\n",
       "    <tr>\n",
       "      <th>8</th>\n",
       "      <td>Launch a promotion that gives users discounts ...</td>\n",
       "      <td>1</td>\n",
       "      <td>9</td>\n",
       "      <td>9</td>\n",
       "      <td>5</td>\n",
       "    </tr>\n",
       "  </tbody>\n",
       "</table>\n",
       "</div>"
      ],
      "text/plain": [
       "                                          Hypothesis  Reach  Impact  \\\n",
       "0  Add two new channels for attracting traffic. T...      3      10   \n",
       "1  Launch your own delivery service. This will sh...      2       5   \n",
       "2  Add product recommendation blocks to the store...      8       3   \n",
       "3  Change the category structure. This will incre...      8       3   \n",
       "4  Change the background color on the main page. ...      3       1   \n",
       "5  Add a customer review page. This will increase...      3       2   \n",
       "6  Show banners with current offers and sales on ...      5       3   \n",
       "7  Add a subscription form to all the main pages....     10       7   \n",
       "8  Launch a promotion that gives users discounts ...      1       9   \n",
       "\n",
       "   Confidence  Effort  \n",
       "0           8       6  \n",
       "1           4      10  \n",
       "2           7       3  \n",
       "3           3       8  \n",
       "4           1       1  \n",
       "5           2       3  \n",
       "6           8       3  \n",
       "7           8       5  \n",
       "8           9       5  "
      ]
     },
     "execution_count": 2,
     "metadata": {},
     "output_type": "execute_result"
    }
   ],
   "source": [
    "hypotheses"
   ]
  },
  {
   "cell_type": "code",
   "execution_count": 3,
   "metadata": {},
   "outputs": [
    {
     "name": "stdout",
     "output_type": "stream",
     "text": [
      "<class 'pandas.core.frame.DataFrame'>\n",
      "RangeIndex: 9 entries, 0 to 8\n",
      "Data columns (total 5 columns):\n",
      " #   Column      Non-Null Count  Dtype \n",
      "---  ------      --------------  ----- \n",
      " 0   Hypothesis  9 non-null      object\n",
      " 1   Reach       9 non-null      int64 \n",
      " 2   Impact      9 non-null      int64 \n",
      " 3   Confidence  9 non-null      int64 \n",
      " 4   Effort      9 non-null      int64 \n",
      "dtypes: int64(4), object(1)\n",
      "memory usage: 1.6 KB\n"
     ]
    }
   ],
   "source": [
    "hypotheses.info(memory_usage='deep')"
   ]
  },
  {
   "cell_type": "code",
   "execution_count": 4,
   "metadata": {},
   "outputs": [],
   "source": [
    "hypotheses.columns = ['hypothesis', 'reach', 'impact', 'confidence', 'effort']"
   ]
  },
  {
   "cell_type": "code",
   "execution_count": 5,
   "metadata": {},
   "outputs": [
    {
     "data": {
      "text/html": [
       "<div>\n",
       "<style scoped>\n",
       "    .dataframe tbody tr th:only-of-type {\n",
       "        vertical-align: middle;\n",
       "    }\n",
       "\n",
       "    .dataframe tbody tr th {\n",
       "        vertical-align: top;\n",
       "    }\n",
       "\n",
       "    .dataframe thead th {\n",
       "        text-align: right;\n",
       "    }\n",
       "</style>\n",
       "<table border=\"1\" class=\"dataframe\">\n",
       "  <thead>\n",
       "    <tr style=\"text-align: right;\">\n",
       "      <th></th>\n",
       "      <th>hypothesis</th>\n",
       "      <th>reach</th>\n",
       "      <th>impact</th>\n",
       "      <th>confidence</th>\n",
       "      <th>effort</th>\n",
       "    </tr>\n",
       "  </thead>\n",
       "  <tbody>\n",
       "    <tr>\n",
       "      <th>0</th>\n",
       "      <td>Add two new channels for attracting traffic. This will bring 30% more users</td>\n",
       "      <td>3</td>\n",
       "      <td>10</td>\n",
       "      <td>8</td>\n",
       "      <td>6</td>\n",
       "    </tr>\n",
       "    <tr>\n",
       "      <th>1</th>\n",
       "      <td>Launch your own delivery service. This will shorten delivery time</td>\n",
       "      <td>2</td>\n",
       "      <td>5</td>\n",
       "      <td>4</td>\n",
       "      <td>10</td>\n",
       "    </tr>\n",
       "    <tr>\n",
       "      <th>2</th>\n",
       "      <td>Add product recommendation blocks to the store's site. This will increase conversion and average purchase size</td>\n",
       "      <td>8</td>\n",
       "      <td>3</td>\n",
       "      <td>7</td>\n",
       "      <td>3</td>\n",
       "    </tr>\n",
       "    <tr>\n",
       "      <th>3</th>\n",
       "      <td>Change the category structure. This will increase conversion since users will find the products they want more quickly</td>\n",
       "      <td>8</td>\n",
       "      <td>3</td>\n",
       "      <td>3</td>\n",
       "      <td>8</td>\n",
       "    </tr>\n",
       "    <tr>\n",
       "      <th>4</th>\n",
       "      <td>Change the background color on the main page. This will increase user engagement</td>\n",
       "      <td>3</td>\n",
       "      <td>1</td>\n",
       "      <td>1</td>\n",
       "      <td>1</td>\n",
       "    </tr>\n",
       "    <tr>\n",
       "      <th>5</th>\n",
       "      <td>Add a customer review page. This will increase the number of orders</td>\n",
       "      <td>3</td>\n",
       "      <td>2</td>\n",
       "      <td>2</td>\n",
       "      <td>3</td>\n",
       "    </tr>\n",
       "    <tr>\n",
       "      <th>6</th>\n",
       "      <td>Show banners with current offers and sales on the main page. This will boost conversion</td>\n",
       "      <td>5</td>\n",
       "      <td>3</td>\n",
       "      <td>8</td>\n",
       "      <td>3</td>\n",
       "    </tr>\n",
       "    <tr>\n",
       "      <th>7</th>\n",
       "      <td>Add a subscription form to all the main pages. This will help you compile a mailing list</td>\n",
       "      <td>10</td>\n",
       "      <td>7</td>\n",
       "      <td>8</td>\n",
       "      <td>5</td>\n",
       "    </tr>\n",
       "    <tr>\n",
       "      <th>8</th>\n",
       "      <td>Launch a promotion that gives users discounts on their birthdays</td>\n",
       "      <td>1</td>\n",
       "      <td>9</td>\n",
       "      <td>9</td>\n",
       "      <td>5</td>\n",
       "    </tr>\n",
       "  </tbody>\n",
       "</table>\n",
       "</div>"
      ],
      "text/plain": [
       "                                                                                                               hypothesis  \\\n",
       "0  Add two new channels for attracting traffic. This will bring 30% more users                                              \n",
       "1  Launch your own delivery service. This will shorten delivery time                                                        \n",
       "2  Add product recommendation blocks to the store's site. This will increase conversion and average purchase size           \n",
       "3  Change the category structure. This will increase conversion since users will find the products they want more quickly   \n",
       "4  Change the background color on the main page. This will increase user engagement                                         \n",
       "5  Add a customer review page. This will increase the number of orders                                                      \n",
       "6  Show banners with current offers and sales on the main page. This will boost conversion                                  \n",
       "7  Add a subscription form to all the main pages. This will help you compile a mailing list                                 \n",
       "8  Launch a promotion that gives users discounts on their birthdays                                                         \n",
       "\n",
       "   reach  impact  confidence  effort  \n",
       "0  3      10      8           6       \n",
       "1  2      5       4           10      \n",
       "2  8      3       7           3       \n",
       "3  8      3       3           8       \n",
       "4  3      1       1           1       \n",
       "5  3      2       2           3       \n",
       "6  5      3       8           3       \n",
       "7  10     7       8           5       \n",
       "8  1      9       9           5       "
      ]
     },
     "execution_count": 5,
     "metadata": {},
     "output_type": "execute_result"
    }
   ],
   "source": [
    "pd.options.display.max_colwidth = -1\n",
    "hypotheses"
   ]
  },
  {
   "cell_type": "code",
   "execution_count": 6,
   "metadata": {},
   "outputs": [
    {
     "data": {
      "text/html": [
       "<div>\n",
       "<style scoped>\n",
       "    .dataframe tbody tr th:only-of-type {\n",
       "        vertical-align: middle;\n",
       "    }\n",
       "\n",
       "    .dataframe tbody tr th {\n",
       "        vertical-align: top;\n",
       "    }\n",
       "\n",
       "    .dataframe thead th {\n",
       "        text-align: right;\n",
       "    }\n",
       "</style>\n",
       "<table border=\"1\" class=\"dataframe\">\n",
       "  <thead>\n",
       "    <tr style=\"text-align: right;\">\n",
       "      <th></th>\n",
       "      <th>transactionId</th>\n",
       "      <th>visitorId</th>\n",
       "      <th>date</th>\n",
       "      <th>revenue</th>\n",
       "      <th>group</th>\n",
       "    </tr>\n",
       "  </thead>\n",
       "  <tbody>\n",
       "    <tr>\n",
       "      <th>0</th>\n",
       "      <td>3667963787</td>\n",
       "      <td>3312258926</td>\n",
       "      <td>2019-08-15</td>\n",
       "      <td>30.4</td>\n",
       "      <td>B</td>\n",
       "    </tr>\n",
       "    <tr>\n",
       "      <th>1</th>\n",
       "      <td>2804400009</td>\n",
       "      <td>3642806036</td>\n",
       "      <td>2019-08-15</td>\n",
       "      <td>15.2</td>\n",
       "      <td>B</td>\n",
       "    </tr>\n",
       "    <tr>\n",
       "      <th>2</th>\n",
       "      <td>2961555356</td>\n",
       "      <td>4069496402</td>\n",
       "      <td>2019-08-15</td>\n",
       "      <td>10.2</td>\n",
       "      <td>A</td>\n",
       "    </tr>\n",
       "    <tr>\n",
       "      <th>3</th>\n",
       "      <td>3797467345</td>\n",
       "      <td>1196621759</td>\n",
       "      <td>2019-08-15</td>\n",
       "      <td>155.1</td>\n",
       "      <td>B</td>\n",
       "    </tr>\n",
       "    <tr>\n",
       "      <th>4</th>\n",
       "      <td>2282983706</td>\n",
       "      <td>2322279887</td>\n",
       "      <td>2019-08-15</td>\n",
       "      <td>40.5</td>\n",
       "      <td>B</td>\n",
       "    </tr>\n",
       "  </tbody>\n",
       "</table>\n",
       "</div>"
      ],
      "text/plain": [
       "   transactionId   visitorId        date  revenue group\n",
       "0  3667963787     3312258926  2019-08-15  30.4     B   \n",
       "1  2804400009     3642806036  2019-08-15  15.2     B   \n",
       "2  2961555356     4069496402  2019-08-15  10.2     A   \n",
       "3  3797467345     1196621759  2019-08-15  155.1    B   \n",
       "4  2282983706     2322279887  2019-08-15  40.5     B   "
      ]
     },
     "execution_count": 6,
     "metadata": {},
     "output_type": "execute_result"
    }
   ],
   "source": [
    "orders.head()"
   ]
  },
  {
   "cell_type": "code",
   "execution_count": 7,
   "metadata": {},
   "outputs": [
    {
     "name": "stdout",
     "output_type": "stream",
     "text": [
      "<class 'pandas.core.frame.DataFrame'>\n",
      "RangeIndex: 1197 entries, 0 to 1196\n",
      "Data columns (total 5 columns):\n",
      " #   Column         Non-Null Count  Dtype  \n",
      "---  ------         --------------  -----  \n",
      " 0   transactionId  1197 non-null   int64  \n",
      " 1   visitorId      1197 non-null   int64  \n",
      " 2   date           1197 non-null   object \n",
      " 3   revenue        1197 non-null   float64\n",
      " 4   group          1197 non-null   object \n",
      "dtypes: float64(1), int64(2), object(2)\n",
      "memory usage: 46.9+ KB\n"
     ]
    }
   ],
   "source": [
    "orders.info()"
   ]
  },
  {
   "cell_type": "code",
   "execution_count": 8,
   "metadata": {},
   "outputs": [
    {
     "data": {
      "text/plain": [
       "0"
      ]
     },
     "execution_count": 8,
     "metadata": {},
     "output_type": "execute_result"
    }
   ],
   "source": [
    "orders.duplicated().sum()"
   ]
  },
  {
   "cell_type": "code",
   "execution_count": 9,
   "metadata": {},
   "outputs": [],
   "source": [
    "orders['date'] = orders['date'].map(\n",
    "    lambda x: dt.datetime.strptime(x, '%Y-%m-%d')\n",
    ")\n",
    "#orders['date'] =  pd.to_datetime(orders['date'], format=\"%Y-%m-%d\")"
   ]
  },
  {
   "cell_type": "code",
   "execution_count": 10,
   "metadata": {},
   "outputs": [
    {
     "data": {
      "text/html": [
       "<div>\n",
       "<style scoped>\n",
       "    .dataframe tbody tr th:only-of-type {\n",
       "        vertical-align: middle;\n",
       "    }\n",
       "\n",
       "    .dataframe tbody tr th {\n",
       "        vertical-align: top;\n",
       "    }\n",
       "\n",
       "    .dataframe thead th {\n",
       "        text-align: right;\n",
       "    }\n",
       "</style>\n",
       "<table border=\"1\" class=\"dataframe\">\n",
       "  <thead>\n",
       "    <tr style=\"text-align: right;\">\n",
       "      <th></th>\n",
       "      <th>date</th>\n",
       "      <th>group</th>\n",
       "      <th>visits</th>\n",
       "    </tr>\n",
       "  </thead>\n",
       "  <tbody>\n",
       "    <tr>\n",
       "      <th>0</th>\n",
       "      <td>2019-08-01</td>\n",
       "      <td>A</td>\n",
       "      <td>719</td>\n",
       "    </tr>\n",
       "    <tr>\n",
       "      <th>1</th>\n",
       "      <td>2019-08-02</td>\n",
       "      <td>A</td>\n",
       "      <td>619</td>\n",
       "    </tr>\n",
       "    <tr>\n",
       "      <th>2</th>\n",
       "      <td>2019-08-03</td>\n",
       "      <td>A</td>\n",
       "      <td>507</td>\n",
       "    </tr>\n",
       "    <tr>\n",
       "      <th>3</th>\n",
       "      <td>2019-08-04</td>\n",
       "      <td>A</td>\n",
       "      <td>717</td>\n",
       "    </tr>\n",
       "    <tr>\n",
       "      <th>4</th>\n",
       "      <td>2019-08-05</td>\n",
       "      <td>A</td>\n",
       "      <td>756</td>\n",
       "    </tr>\n",
       "  </tbody>\n",
       "</table>\n",
       "</div>"
      ],
      "text/plain": [
       "         date group  visits\n",
       "0  2019-08-01  A     719   \n",
       "1  2019-08-02  A     619   \n",
       "2  2019-08-03  A     507   \n",
       "3  2019-08-04  A     717   \n",
       "4  2019-08-05  A     756   "
      ]
     },
     "execution_count": 10,
     "metadata": {},
     "output_type": "execute_result"
    }
   ],
   "source": [
    "visits.head()"
   ]
  },
  {
   "cell_type": "code",
   "execution_count": 11,
   "metadata": {},
   "outputs": [],
   "source": [
    "visits['date'] = visits['date'].map(\n",
    "    lambda x: dt.datetime.strptime(x, '%Y-%m-%d')\n",
    ")"
   ]
  },
  {
   "cell_type": "code",
   "execution_count": 12,
   "metadata": {},
   "outputs": [
    {
     "name": "stdout",
     "output_type": "stream",
     "text": [
      "<class 'pandas.core.frame.DataFrame'>\n",
      "RangeIndex: 62 entries, 0 to 61\n",
      "Data columns (total 3 columns):\n",
      " #   Column  Non-Null Count  Dtype         \n",
      "---  ------  --------------  -----         \n",
      " 0   date    62 non-null     datetime64[ns]\n",
      " 1   group   62 non-null     object        \n",
      " 2   visits  62 non-null     int64         \n",
      "dtypes: datetime64[ns](1), int64(1), object(1)\n",
      "memory usage: 1.6+ KB\n"
     ]
    }
   ],
   "source": [
    "visits.info()"
   ]
  },
  {
   "cell_type": "code",
   "execution_count": 13,
   "metadata": {},
   "outputs": [
    {
     "data": {
      "text/plain": [
       "0"
      ]
     },
     "execution_count": 13,
     "metadata": {},
     "output_type": "execute_result"
    }
   ],
   "source": [
    "visits.duplicated().sum()"
   ]
  },
  {
   "cell_type": "code",
   "execution_count": 14,
   "metadata": {},
   "outputs": [
    {
     "data": {
      "text/html": [
       "<div>\n",
       "<style scoped>\n",
       "    .dataframe tbody tr th:only-of-type {\n",
       "        vertical-align: middle;\n",
       "    }\n",
       "\n",
       "    .dataframe tbody tr th {\n",
       "        vertical-align: top;\n",
       "    }\n",
       "\n",
       "    .dataframe thead th {\n",
       "        text-align: right;\n",
       "    }\n",
       "</style>\n",
       "<table border=\"1\" class=\"dataframe\">\n",
       "  <thead>\n",
       "    <tr style=\"text-align: right;\">\n",
       "      <th></th>\n",
       "      <th>visitorId</th>\n",
       "      <th>group</th>\n",
       "    </tr>\n",
       "  </thead>\n",
       "  <tbody>\n",
       "    <tr>\n",
       "      <th>2</th>\n",
       "      <td>8300375</td>\n",
       "      <td>2</td>\n",
       "    </tr>\n",
       "    <tr>\n",
       "      <th>44</th>\n",
       "      <td>199603092</td>\n",
       "      <td>2</td>\n",
       "    </tr>\n",
       "    <tr>\n",
       "      <th>51</th>\n",
       "      <td>232979603</td>\n",
       "      <td>2</td>\n",
       "    </tr>\n",
       "    <tr>\n",
       "      <th>55</th>\n",
       "      <td>237748145</td>\n",
       "      <td>2</td>\n",
       "    </tr>\n",
       "    <tr>\n",
       "      <th>66</th>\n",
       "      <td>276558944</td>\n",
       "      <td>2</td>\n",
       "    </tr>\n",
       "  </tbody>\n",
       "</table>\n",
       "</div>"
      ],
      "text/plain": [
       "    visitorId  group\n",
       "2   8300375    2    \n",
       "44  199603092  2    \n",
       "51  232979603  2    \n",
       "55  237748145  2    \n",
       "66  276558944  2    "
      ]
     },
     "execution_count": 14,
     "metadata": {},
     "output_type": "execute_result"
    }
   ],
   "source": [
    "visitor_in_both_group = orders.groupby(['visitorId'])['group'].nunique().reset_index().query('group>1')\n",
    "visitor_in_both_group.head()"
   ]
  },
  {
   "cell_type": "code",
   "execution_count": 15,
   "metadata": {},
   "outputs": [
    {
     "data": {
      "text/plain": [
       "58"
      ]
     },
     "execution_count": 15,
     "metadata": {},
     "output_type": "execute_result"
    }
   ],
   "source": [
    "visitor_in_both_group.shape[0]"
   ]
  },
  {
   "cell_type": "code",
   "execution_count": 16,
   "metadata": {},
   "outputs": [
    {
     "name": "stdout",
     "output_type": "stream",
     "text": [
      "Size before: 1197\n",
      "Size now: 1016\n"
     ]
    }
   ],
   "source": [
    "orders_new = orders[~orders[\"visitorId\"].isin(visitor_in_both_group[\"visitorId\"])]\n",
    "print(\"Size before:\", orders.shape[0])\n",
    "print(\"Size now:\", orders_new.shape[0])"
   ]
  },
  {
   "cell_type": "markdown",
   "metadata": {},
   "source": [
    "### Conclusion"
   ]
  },
  {
   "cell_type": "markdown",
   "metadata": {},
   "source": [
    "- 3 data variables were created (hypotheses, orders, visits).\n",
    "- There were no missing values in the data.\n",
    "- There are no duplicates in the date.\n",
    "- Rewrote column names in lowercase.\n",
    "- Some of the columns contained date and time and were converted from object to_datetime.\n",
    "- Removed visitors who fell into both group A and group B."
   ]
  },
  {
   "cell_type": "markdown",
   "metadata": {},
   "source": [
    "## Part 1. Prioritizing Hypotheses"
   ]
  },
  {
   "cell_type": "markdown",
   "metadata": {},
   "source": [
    "***Apply the ICE framework to prioritize hypotheses. Sort them in descending order of priority.***"
   ]
  },
  {
   "cell_type": "code",
   "execution_count": 17,
   "metadata": {},
   "outputs": [
    {
     "data": {
      "text/html": [
       "<div>\n",
       "<style scoped>\n",
       "    .dataframe tbody tr th:only-of-type {\n",
       "        vertical-align: middle;\n",
       "    }\n",
       "\n",
       "    .dataframe tbody tr th {\n",
       "        vertical-align: top;\n",
       "    }\n",
       "\n",
       "    .dataframe thead th {\n",
       "        text-align: right;\n",
       "    }\n",
       "</style>\n",
       "<table border=\"1\" class=\"dataframe\">\n",
       "  <thead>\n",
       "    <tr style=\"text-align: right;\">\n",
       "      <th></th>\n",
       "      <th>hypothesis</th>\n",
       "      <th>reach</th>\n",
       "      <th>impact</th>\n",
       "      <th>confidence</th>\n",
       "      <th>effort</th>\n",
       "    </tr>\n",
       "  </thead>\n",
       "  <tbody>\n",
       "    <tr>\n",
       "      <th>0</th>\n",
       "      <td>Add two new channels for attracting traffic. This will bring 30% more users</td>\n",
       "      <td>3</td>\n",
       "      <td>10</td>\n",
       "      <td>8</td>\n",
       "      <td>6</td>\n",
       "    </tr>\n",
       "    <tr>\n",
       "      <th>1</th>\n",
       "      <td>Launch your own delivery service. This will shorten delivery time</td>\n",
       "      <td>2</td>\n",
       "      <td>5</td>\n",
       "      <td>4</td>\n",
       "      <td>10</td>\n",
       "    </tr>\n",
       "    <tr>\n",
       "      <th>2</th>\n",
       "      <td>Add product recommendation blocks to the store's site. This will increase conversion and average purchase size</td>\n",
       "      <td>8</td>\n",
       "      <td>3</td>\n",
       "      <td>7</td>\n",
       "      <td>3</td>\n",
       "    </tr>\n",
       "    <tr>\n",
       "      <th>3</th>\n",
       "      <td>Change the category structure. This will increase conversion since users will find the products they want more quickly</td>\n",
       "      <td>8</td>\n",
       "      <td>3</td>\n",
       "      <td>3</td>\n",
       "      <td>8</td>\n",
       "    </tr>\n",
       "    <tr>\n",
       "      <th>4</th>\n",
       "      <td>Change the background color on the main page. This will increase user engagement</td>\n",
       "      <td>3</td>\n",
       "      <td>1</td>\n",
       "      <td>1</td>\n",
       "      <td>1</td>\n",
       "    </tr>\n",
       "    <tr>\n",
       "      <th>5</th>\n",
       "      <td>Add a customer review page. This will increase the number of orders</td>\n",
       "      <td>3</td>\n",
       "      <td>2</td>\n",
       "      <td>2</td>\n",
       "      <td>3</td>\n",
       "    </tr>\n",
       "    <tr>\n",
       "      <th>6</th>\n",
       "      <td>Show banners with current offers and sales on the main page. This will boost conversion</td>\n",
       "      <td>5</td>\n",
       "      <td>3</td>\n",
       "      <td>8</td>\n",
       "      <td>3</td>\n",
       "    </tr>\n",
       "    <tr>\n",
       "      <th>7</th>\n",
       "      <td>Add a subscription form to all the main pages. This will help you compile a mailing list</td>\n",
       "      <td>10</td>\n",
       "      <td>7</td>\n",
       "      <td>8</td>\n",
       "      <td>5</td>\n",
       "    </tr>\n",
       "    <tr>\n",
       "      <th>8</th>\n",
       "      <td>Launch a promotion that gives users discounts on their birthdays</td>\n",
       "      <td>1</td>\n",
       "      <td>9</td>\n",
       "      <td>9</td>\n",
       "      <td>5</td>\n",
       "    </tr>\n",
       "  </tbody>\n",
       "</table>\n",
       "</div>"
      ],
      "text/plain": [
       "                                                                                                               hypothesis  \\\n",
       "0  Add two new channels for attracting traffic. This will bring 30% more users                                              \n",
       "1  Launch your own delivery service. This will shorten delivery time                                                        \n",
       "2  Add product recommendation blocks to the store's site. This will increase conversion and average purchase size           \n",
       "3  Change the category structure. This will increase conversion since users will find the products they want more quickly   \n",
       "4  Change the background color on the main page. This will increase user engagement                                         \n",
       "5  Add a customer review page. This will increase the number of orders                                                      \n",
       "6  Show banners with current offers and sales on the main page. This will boost conversion                                  \n",
       "7  Add a subscription form to all the main pages. This will help you compile a mailing list                                 \n",
       "8  Launch a promotion that gives users discounts on their birthdays                                                         \n",
       "\n",
       "   reach  impact  confidence  effort  \n",
       "0  3      10      8           6       \n",
       "1  2      5       4           10      \n",
       "2  8      3       7           3       \n",
       "3  8      3       3           8       \n",
       "4  3      1       1           1       \n",
       "5  3      2       2           3       \n",
       "6  5      3       8           3       \n",
       "7  10     7       8           5       \n",
       "8  1      9       9           5       "
      ]
     },
     "execution_count": 17,
     "metadata": {},
     "output_type": "execute_result"
    }
   ],
   "source": [
    "hypotheses"
   ]
  },
  {
   "cell_type": "code",
   "execution_count": 18,
   "metadata": {},
   "outputs": [
    {
     "data": {
      "text/html": [
       "<div>\n",
       "<style scoped>\n",
       "    .dataframe tbody tr th:only-of-type {\n",
       "        vertical-align: middle;\n",
       "    }\n",
       "\n",
       "    .dataframe tbody tr th {\n",
       "        vertical-align: top;\n",
       "    }\n",
       "\n",
       "    .dataframe thead th {\n",
       "        text-align: right;\n",
       "    }\n",
       "</style>\n",
       "<table border=\"1\" class=\"dataframe\">\n",
       "  <thead>\n",
       "    <tr style=\"text-align: right;\">\n",
       "      <th></th>\n",
       "      <th>hypothesis</th>\n",
       "      <th>ICE</th>\n",
       "    </tr>\n",
       "  </thead>\n",
       "  <tbody>\n",
       "    <tr>\n",
       "      <th>8</th>\n",
       "      <td>Launch a promotion that gives users discounts on their birthdays</td>\n",
       "      <td>16.200000</td>\n",
       "    </tr>\n",
       "    <tr>\n",
       "      <th>0</th>\n",
       "      <td>Add two new channels for attracting traffic. This will bring 30% more users</td>\n",
       "      <td>13.333333</td>\n",
       "    </tr>\n",
       "    <tr>\n",
       "      <th>7</th>\n",
       "      <td>Add a subscription form to all the main pages. This will help you compile a mailing list</td>\n",
       "      <td>11.200000</td>\n",
       "    </tr>\n",
       "    <tr>\n",
       "      <th>6</th>\n",
       "      <td>Show banners with current offers and sales on the main page. This will boost conversion</td>\n",
       "      <td>8.000000</td>\n",
       "    </tr>\n",
       "    <tr>\n",
       "      <th>2</th>\n",
       "      <td>Add product recommendation blocks to the store's site. This will increase conversion and average purchase size</td>\n",
       "      <td>7.000000</td>\n",
       "    </tr>\n",
       "    <tr>\n",
       "      <th>1</th>\n",
       "      <td>Launch your own delivery service. This will shorten delivery time</td>\n",
       "      <td>2.000000</td>\n",
       "    </tr>\n",
       "    <tr>\n",
       "      <th>5</th>\n",
       "      <td>Add a customer review page. This will increase the number of orders</td>\n",
       "      <td>1.333333</td>\n",
       "    </tr>\n",
       "    <tr>\n",
       "      <th>3</th>\n",
       "      <td>Change the category structure. This will increase conversion since users will find the products they want more quickly</td>\n",
       "      <td>1.125000</td>\n",
       "    </tr>\n",
       "    <tr>\n",
       "      <th>4</th>\n",
       "      <td>Change the background color on the main page. This will increase user engagement</td>\n",
       "      <td>1.000000</td>\n",
       "    </tr>\n",
       "  </tbody>\n",
       "</table>\n",
       "</div>"
      ],
      "text/plain": [
       "                                                                                                               hypothesis  \\\n",
       "8  Launch a promotion that gives users discounts on their birthdays                                                         \n",
       "0  Add two new channels for attracting traffic. This will bring 30% more users                                              \n",
       "7  Add a subscription form to all the main pages. This will help you compile a mailing list                                 \n",
       "6  Show banners with current offers and sales on the main page. This will boost conversion                                  \n",
       "2  Add product recommendation blocks to the store's site. This will increase conversion and average purchase size           \n",
       "1  Launch your own delivery service. This will shorten delivery time                                                        \n",
       "5  Add a customer review page. This will increase the number of orders                                                      \n",
       "3  Change the category structure. This will increase conversion since users will find the products they want more quickly   \n",
       "4  Change the background color on the main page. This will increase user engagement                                         \n",
       "\n",
       "         ICE  \n",
       "8  16.200000  \n",
       "0  13.333333  \n",
       "7  11.200000  \n",
       "6  8.000000   \n",
       "2  7.000000   \n",
       "1  2.000000   \n",
       "5  1.333333   \n",
       "3  1.125000   \n",
       "4  1.000000   "
      ]
     },
     "execution_count": 18,
     "metadata": {},
     "output_type": "execute_result"
    }
   ],
   "source": [
    "hypotheses['ICE'] = hypotheses['impact'] * hypotheses['confidence'] / hypotheses['effort']\n",
    "\n",
    "hypotheses[['hypothesis','ICE']].sort_values(by = 'ICE', ascending = False)"
   ]
  },
  {
   "cell_type": "markdown",
   "metadata": {},
   "source": [
    "***Apply the RICE framework to prioritize hypotheses. Sort them in descending order of priority.***"
   ]
  },
  {
   "cell_type": "code",
   "execution_count": 19,
   "metadata": {},
   "outputs": [
    {
     "data": {
      "text/html": [
       "<div>\n",
       "<style scoped>\n",
       "    .dataframe tbody tr th:only-of-type {\n",
       "        vertical-align: middle;\n",
       "    }\n",
       "\n",
       "    .dataframe tbody tr th {\n",
       "        vertical-align: top;\n",
       "    }\n",
       "\n",
       "    .dataframe thead th {\n",
       "        text-align: right;\n",
       "    }\n",
       "</style>\n",
       "<table border=\"1\" class=\"dataframe\">\n",
       "  <thead>\n",
       "    <tr style=\"text-align: right;\">\n",
       "      <th></th>\n",
       "      <th>hypothesis</th>\n",
       "      <th>RICE</th>\n",
       "    </tr>\n",
       "  </thead>\n",
       "  <tbody>\n",
       "    <tr>\n",
       "      <th>7</th>\n",
       "      <td>Add a subscription form to all the main pages. This will help you compile a mailing list</td>\n",
       "      <td>112.0</td>\n",
       "    </tr>\n",
       "    <tr>\n",
       "      <th>2</th>\n",
       "      <td>Add product recommendation blocks to the store's site. This will increase conversion and average purchase size</td>\n",
       "      <td>56.0</td>\n",
       "    </tr>\n",
       "    <tr>\n",
       "      <th>0</th>\n",
       "      <td>Add two new channels for attracting traffic. This will bring 30% more users</td>\n",
       "      <td>40.0</td>\n",
       "    </tr>\n",
       "    <tr>\n",
       "      <th>6</th>\n",
       "      <td>Show banners with current offers and sales on the main page. This will boost conversion</td>\n",
       "      <td>40.0</td>\n",
       "    </tr>\n",
       "    <tr>\n",
       "      <th>8</th>\n",
       "      <td>Launch a promotion that gives users discounts on their birthdays</td>\n",
       "      <td>16.2</td>\n",
       "    </tr>\n",
       "    <tr>\n",
       "      <th>3</th>\n",
       "      <td>Change the category structure. This will increase conversion since users will find the products they want more quickly</td>\n",
       "      <td>9.0</td>\n",
       "    </tr>\n",
       "    <tr>\n",
       "      <th>1</th>\n",
       "      <td>Launch your own delivery service. This will shorten delivery time</td>\n",
       "      <td>4.0</td>\n",
       "    </tr>\n",
       "    <tr>\n",
       "      <th>5</th>\n",
       "      <td>Add a customer review page. This will increase the number of orders</td>\n",
       "      <td>4.0</td>\n",
       "    </tr>\n",
       "    <tr>\n",
       "      <th>4</th>\n",
       "      <td>Change the background color on the main page. This will increase user engagement</td>\n",
       "      <td>3.0</td>\n",
       "    </tr>\n",
       "  </tbody>\n",
       "</table>\n",
       "</div>"
      ],
      "text/plain": [
       "                                                                                                               hypothesis  \\\n",
       "7  Add a subscription form to all the main pages. This will help you compile a mailing list                                 \n",
       "2  Add product recommendation blocks to the store's site. This will increase conversion and average purchase size           \n",
       "0  Add two new channels for attracting traffic. This will bring 30% more users                                              \n",
       "6  Show banners with current offers and sales on the main page. This will boost conversion                                  \n",
       "8  Launch a promotion that gives users discounts on their birthdays                                                         \n",
       "3  Change the category structure. This will increase conversion since users will find the products they want more quickly   \n",
       "1  Launch your own delivery service. This will shorten delivery time                                                        \n",
       "5  Add a customer review page. This will increase the number of orders                                                      \n",
       "4  Change the background color on the main page. This will increase user engagement                                         \n",
       "\n",
       "    RICE  \n",
       "7  112.0  \n",
       "2  56.0   \n",
       "0  40.0   \n",
       "6  40.0   \n",
       "8  16.2   \n",
       "3  9.0    \n",
       "1  4.0    \n",
       "5  4.0    \n",
       "4  3.0    "
      ]
     },
     "execution_count": 19,
     "metadata": {},
     "output_type": "execute_result"
    }
   ],
   "source": [
    "hypotheses['RICE'] = hypotheses['reach'] * hypotheses['impact'] * hypotheses['confidence'] / hypotheses['effort']\n",
    "\n",
    "hypotheses[['hypothesis','RICE']].sort_values(by = 'RICE', ascending = False)"
   ]
  },
  {
   "cell_type": "markdown",
   "metadata": {},
   "source": [
    "***Show how the prioritization of hypotheses changes when you use RICE instead of ICE. Provide an explanation for the changes.***"
   ]
  },
  {
   "cell_type": "code",
   "execution_count": 20,
   "metadata": {},
   "outputs": [
    {
     "data": {
      "image/png": "[encoded data removed]",
      "text/plain": [
       "<Figure size 720x576 with 1 Axes>"
      ]
     },
     "metadata": {
      "needs_background": "light"
     },
     "output_type": "display_data"
    }
   ],
   "source": [
    "x = hypotheses['RICE'].values\n",
    "y = hypotheses['ICE'].values\n",
    "types = hypotheses.index.values\n",
    "\n",
    "fig, ax = plt.subplots(figsize=(10,8))\n",
    "ax.scatter(x, y)\n",
    "\n",
    "ax.set_xlabel('RICE', fontsize=14)\n",
    "ax.set_ylabel('ICE', fontsize=14)\n",
    "ax.set_title('ICE Vs RICE Scatter Plot', fontsize=14)\n",
    "\n",
    "for i, txt in enumerate(types):\n",
    "    ax.annotate(txt, (x[i], y[i]), xytext=(10,10), textcoords='offset points')\n",
    "    plt.scatter(x, y, marker='x', color='red')"
   ]
  },
  {
   "cell_type": "markdown",
   "metadata": {},
   "source": [
    "### Conclusion"
   ]
  },
  {
   "cell_type": "markdown",
   "metadata": {},
   "source": [
    "- Based on the ICE framework, the 8-0-7-6-2 hypotheses win.\n",
    "- Based on the RICE framework, the same hypotheses win as in the ICE framework, but the priority is already different: 7-2-0-6-8 (because the reach parameter for hypotheses 7 and 2 is high (10 and 8).\n",
    "- From the graph, it can be seen that, hypothesis 7 scores higher in both ICE and RICE, hypothesis 8 only scores higher in ICE. Hypothesis 1,3,4, and 5 scores low in both ICE and RICE.\n",
    "\n"
   ]
  },
  {
   "cell_type": "markdown",
   "metadata": {},
   "source": [
    "## Part 2. A/B Test Analysis"
   ]
  },
  {
   "cell_type": "markdown",
   "metadata": {},
   "source": [
    "***1. Graph cumulative revenue by group. Make conclusions and conjectures.***"
   ]
  },
  {
   "cell_type": "code",
   "execution_count": 21,
   "metadata": {},
   "outputs": [
    {
     "data": {
      "text/html": [
       "<div>\n",
       "<style scoped>\n",
       "    .dataframe tbody tr th:only-of-type {\n",
       "        vertical-align: middle;\n",
       "    }\n",
       "\n",
       "    .dataframe tbody tr th {\n",
       "        vertical-align: top;\n",
       "    }\n",
       "\n",
       "    .dataframe thead th {\n",
       "        text-align: right;\n",
       "    }\n",
       "</style>\n",
       "<table border=\"1\" class=\"dataframe\">\n",
       "  <thead>\n",
       "    <tr style=\"text-align: right;\">\n",
       "      <th></th>\n",
       "      <th>transactionId</th>\n",
       "      <th>visitorId</th>\n",
       "      <th>date</th>\n",
       "      <th>revenue</th>\n",
       "      <th>group</th>\n",
       "    </tr>\n",
       "  </thead>\n",
       "  <tbody>\n",
       "    <tr>\n",
       "      <th>0</th>\n",
       "      <td>3667963787</td>\n",
       "      <td>3312258926</td>\n",
       "      <td>2019-08-15</td>\n",
       "      <td>30.4</td>\n",
       "      <td>B</td>\n",
       "    </tr>\n",
       "    <tr>\n",
       "      <th>1</th>\n",
       "      <td>2804400009</td>\n",
       "      <td>3642806036</td>\n",
       "      <td>2019-08-15</td>\n",
       "      <td>15.2</td>\n",
       "      <td>B</td>\n",
       "    </tr>\n",
       "    <tr>\n",
       "      <th>3</th>\n",
       "      <td>3797467345</td>\n",
       "      <td>1196621759</td>\n",
       "      <td>2019-08-15</td>\n",
       "      <td>155.1</td>\n",
       "      <td>B</td>\n",
       "    </tr>\n",
       "    <tr>\n",
       "      <th>4</th>\n",
       "      <td>2282983706</td>\n",
       "      <td>2322279887</td>\n",
       "      <td>2019-08-15</td>\n",
       "      <td>40.5</td>\n",
       "      <td>B</td>\n",
       "    </tr>\n",
       "    <tr>\n",
       "      <th>5</th>\n",
       "      <td>182168103</td>\n",
       "      <td>935554773</td>\n",
       "      <td>2019-08-15</td>\n",
       "      <td>35.0</td>\n",
       "      <td>B</td>\n",
       "    </tr>\n",
       "  </tbody>\n",
       "</table>\n",
       "</div>"
      ],
      "text/plain": [
       "   transactionId   visitorId       date  revenue group\n",
       "0  3667963787     3312258926 2019-08-15  30.4     B   \n",
       "1  2804400009     3642806036 2019-08-15  15.2     B   \n",
       "3  3797467345     1196621759 2019-08-15  155.1    B   \n",
       "4  2282983706     2322279887 2019-08-15  40.5     B   \n",
       "5  182168103      935554773  2019-08-15  35.0     B   "
      ]
     },
     "execution_count": 21,
     "metadata": {},
     "output_type": "execute_result"
    }
   ],
   "source": [
    "orders_new.head()"
   ]
  },
  {
   "cell_type": "code",
   "execution_count": 22,
   "metadata": {},
   "outputs": [
    {
     "data": {
      "text/html": [
       "<div>\n",
       "<style scoped>\n",
       "    .dataframe tbody tr th:only-of-type {\n",
       "        vertical-align: middle;\n",
       "    }\n",
       "\n",
       "    .dataframe tbody tr th {\n",
       "        vertical-align: top;\n",
       "    }\n",
       "\n",
       "    .dataframe thead th {\n",
       "        text-align: right;\n",
       "    }\n",
       "</style>\n",
       "<table border=\"1\" class=\"dataframe\">\n",
       "  <thead>\n",
       "    <tr style=\"text-align: right;\">\n",
       "      <th></th>\n",
       "      <th>date</th>\n",
       "      <th>group</th>\n",
       "      <th>visits</th>\n",
       "    </tr>\n",
       "  </thead>\n",
       "  <tbody>\n",
       "    <tr>\n",
       "      <th>0</th>\n",
       "      <td>2019-08-01</td>\n",
       "      <td>A</td>\n",
       "      <td>719</td>\n",
       "    </tr>\n",
       "    <tr>\n",
       "      <th>1</th>\n",
       "      <td>2019-08-02</td>\n",
       "      <td>A</td>\n",
       "      <td>619</td>\n",
       "    </tr>\n",
       "    <tr>\n",
       "      <th>2</th>\n",
       "      <td>2019-08-03</td>\n",
       "      <td>A</td>\n",
       "      <td>507</td>\n",
       "    </tr>\n",
       "    <tr>\n",
       "      <th>3</th>\n",
       "      <td>2019-08-04</td>\n",
       "      <td>A</td>\n",
       "      <td>717</td>\n",
       "    </tr>\n",
       "    <tr>\n",
       "      <th>4</th>\n",
       "      <td>2019-08-05</td>\n",
       "      <td>A</td>\n",
       "      <td>756</td>\n",
       "    </tr>\n",
       "  </tbody>\n",
       "</table>\n",
       "</div>"
      ],
      "text/plain": [
       "        date group  visits\n",
       "0 2019-08-01  A     719   \n",
       "1 2019-08-02  A     619   \n",
       "2 2019-08-03  A     507   \n",
       "3 2019-08-04  A     717   \n",
       "4 2019-08-05  A     756   "
      ]
     },
     "execution_count": 22,
     "metadata": {},
     "output_type": "execute_result"
    }
   ],
   "source": [
    "visits.head()"
   ]
  },
  {
   "cell_type": "code",
   "execution_count": 23,
   "metadata": {},
   "outputs": [
    {
     "data": {
      "text/html": [
       "<div>\n",
       "<style scoped>\n",
       "    .dataframe tbody tr th:only-of-type {\n",
       "        vertical-align: middle;\n",
       "    }\n",
       "\n",
       "    .dataframe tbody tr th {\n",
       "        vertical-align: top;\n",
       "    }\n",
       "\n",
       "    .dataframe thead th {\n",
       "        text-align: right;\n",
       "    }\n",
       "</style>\n",
       "<table border=\"1\" class=\"dataframe\">\n",
       "  <thead>\n",
       "    <tr style=\"text-align: right;\">\n",
       "      <th></th>\n",
       "      <th>date</th>\n",
       "      <th>group</th>\n",
       "    </tr>\n",
       "  </thead>\n",
       "  <tbody>\n",
       "    <tr>\n",
       "      <th>0</th>\n",
       "      <td>2019-08-15</td>\n",
       "      <td>B</td>\n",
       "    </tr>\n",
       "    <tr>\n",
       "      <th>7</th>\n",
       "      <td>2019-08-15</td>\n",
       "      <td>A</td>\n",
       "    </tr>\n",
       "    <tr>\n",
       "      <th>45</th>\n",
       "      <td>2019-08-16</td>\n",
       "      <td>A</td>\n",
       "    </tr>\n",
       "    <tr>\n",
       "      <th>47</th>\n",
       "      <td>2019-08-16</td>\n",
       "      <td>B</td>\n",
       "    </tr>\n",
       "    <tr>\n",
       "      <th>55</th>\n",
       "      <td>2019-08-01</td>\n",
       "      <td>A</td>\n",
       "    </tr>\n",
       "  </tbody>\n",
       "</table>\n",
       "</div>"
      ],
      "text/plain": [
       "         date group\n",
       "0  2019-08-15  B   \n",
       "7  2019-08-15  A   \n",
       "45 2019-08-16  A   \n",
       "47 2019-08-16  B   \n",
       "55 2019-08-01  A   "
      ]
     },
     "execution_count": 23,
     "metadata": {},
     "output_type": "execute_result"
    }
   ],
   "source": [
    "datesGroups = orders_new[['date', 'group']].drop_duplicates()\n",
    "datesGroups.head()"
   ]
  },
  {
   "cell_type": "code",
   "execution_count": 24,
   "metadata": {},
   "outputs": [
    {
     "data": {
      "text/html": [
       "<div>\n",
       "<style scoped>\n",
       "    .dataframe tbody tr th:only-of-type {\n",
       "        vertical-align: middle;\n",
       "    }\n",
       "\n",
       "    .dataframe tbody tr th {\n",
       "        vertical-align: top;\n",
       "    }\n",
       "\n",
       "    .dataframe thead th {\n",
       "        text-align: right;\n",
       "    }\n",
       "</style>\n",
       "<table border=\"1\" class=\"dataframe\">\n",
       "  <thead>\n",
       "    <tr style=\"text-align: right;\">\n",
       "      <th></th>\n",
       "      <th>date</th>\n",
       "      <th>group</th>\n",
       "      <th>transactionId</th>\n",
       "      <th>visitorId</th>\n",
       "      <th>revenue</th>\n",
       "    </tr>\n",
       "  </thead>\n",
       "  <tbody>\n",
       "    <tr>\n",
       "      <th>55</th>\n",
       "      <td>2019-08-01</td>\n",
       "      <td>A</td>\n",
       "      <td>23</td>\n",
       "      <td>19</td>\n",
       "      <td>2266.6</td>\n",
       "    </tr>\n",
       "    <tr>\n",
       "      <th>66</th>\n",
       "      <td>2019-08-01</td>\n",
       "      <td>B</td>\n",
       "      <td>17</td>\n",
       "      <td>17</td>\n",
       "      <td>967.2</td>\n",
       "    </tr>\n",
       "    <tr>\n",
       "      <th>175</th>\n",
       "      <td>2019-08-02</td>\n",
       "      <td>A</td>\n",
       "      <td>42</td>\n",
       "      <td>36</td>\n",
       "      <td>3734.9</td>\n",
       "    </tr>\n",
       "    <tr>\n",
       "      <th>173</th>\n",
       "      <td>2019-08-02</td>\n",
       "      <td>B</td>\n",
       "      <td>40</td>\n",
       "      <td>39</td>\n",
       "      <td>3535.3</td>\n",
       "    </tr>\n",
       "    <tr>\n",
       "      <th>291</th>\n",
       "      <td>2019-08-03</td>\n",
       "      <td>A</td>\n",
       "      <td>66</td>\n",
       "      <td>60</td>\n",
       "      <td>5550.1</td>\n",
       "    </tr>\n",
       "  </tbody>\n",
       "</table>\n",
       "</div>"
      ],
      "text/plain": [
       "          date group  transactionId  visitorId  revenue\n",
       "55  2019-08-01  A     23             19         2266.6 \n",
       "66  2019-08-01  B     17             17         967.2  \n",
       "175 2019-08-02  A     42             36         3734.9 \n",
       "173 2019-08-02  B     40             39         3535.3 \n",
       "291 2019-08-03  A     66             60         5550.1 "
      ]
     },
     "execution_count": 24,
     "metadata": {},
     "output_type": "execute_result"
    }
   ],
   "source": [
    "ordersAggregated = datesGroups.apply(\n",
    "            lambda x: orders_new[\n",
    "                np.logical_and(orders_new['date'] <= x['date'], \n",
    "                               orders_new['group'] == x['group'])]\n",
    "                .agg({'date' : 'max', \n",
    "                      'group' : 'max', \n",
    "                      'transactionId' : pd.Series.nunique, \n",
    "                      'visitorId' : pd.Series.nunique, \n",
    "                      'revenue' : 'sum'}), axis=1).sort_values(by=['date','group'])\n",
    "\n",
    "ordersAggregated.head()"
   ]
  },
  {
   "cell_type": "code",
   "execution_count": 25,
   "metadata": {},
   "outputs": [
    {
     "data": {
      "text/html": [
       "<div>\n",
       "<style scoped>\n",
       "    .dataframe tbody tr th:only-of-type {\n",
       "        vertical-align: middle;\n",
       "    }\n",
       "\n",
       "    .dataframe tbody tr th {\n",
       "        vertical-align: top;\n",
       "    }\n",
       "\n",
       "    .dataframe thead th {\n",
       "        text-align: right;\n",
       "    }\n",
       "</style>\n",
       "<table border=\"1\" class=\"dataframe\">\n",
       "  <thead>\n",
       "    <tr style=\"text-align: right;\">\n",
       "      <th></th>\n",
       "      <th>date</th>\n",
       "      <th>group</th>\n",
       "      <th>visits</th>\n",
       "    </tr>\n",
       "  </thead>\n",
       "  <tbody>\n",
       "    <tr>\n",
       "      <th>55</th>\n",
       "      <td>2019-08-01</td>\n",
       "      <td>A</td>\n",
       "      <td>719</td>\n",
       "    </tr>\n",
       "    <tr>\n",
       "      <th>66</th>\n",
       "      <td>2019-08-01</td>\n",
       "      <td>B</td>\n",
       "      <td>713</td>\n",
       "    </tr>\n",
       "    <tr>\n",
       "      <th>175</th>\n",
       "      <td>2019-08-02</td>\n",
       "      <td>A</td>\n",
       "      <td>1338</td>\n",
       "    </tr>\n",
       "    <tr>\n",
       "      <th>173</th>\n",
       "      <td>2019-08-02</td>\n",
       "      <td>B</td>\n",
       "      <td>1294</td>\n",
       "    </tr>\n",
       "    <tr>\n",
       "      <th>291</th>\n",
       "      <td>2019-08-03</td>\n",
       "      <td>A</td>\n",
       "      <td>1845</td>\n",
       "    </tr>\n",
       "  </tbody>\n",
       "</table>\n",
       "</div>"
      ],
      "text/plain": [
       "          date group  visits\n",
       "55  2019-08-01  A     719   \n",
       "66  2019-08-01  B     713   \n",
       "175 2019-08-02  A     1338  \n",
       "173 2019-08-02  B     1294  \n",
       "291 2019-08-03  A     1845  "
      ]
     },
     "execution_count": 25,
     "metadata": {},
     "output_type": "execute_result"
    }
   ],
   "source": [
    "visitsAggregated = datesGroups.apply(\n",
    "            lambda x: visits[\n",
    "                np.logical_and(visits['date'] <= x['date'], \n",
    "                               visits['group'] == x['group'])]\n",
    "            .agg({'date' : 'max', \n",
    "                  'group' : 'max', \n",
    "                  'visits' : 'sum'}), axis=1).sort_values(by = ['date', 'group'])\n",
    "\n",
    "visitsAggregated.head()"
   ]
  },
  {
   "cell_type": "code",
   "execution_count": 26,
   "metadata": {},
   "outputs": [
    {
     "data": {
      "text/html": [
       "<div>\n",
       "<style scoped>\n",
       "    .dataframe tbody tr th:only-of-type {\n",
       "        vertical-align: middle;\n",
       "    }\n",
       "\n",
       "    .dataframe tbody tr th {\n",
       "        vertical-align: top;\n",
       "    }\n",
       "\n",
       "    .dataframe thead th {\n",
       "        text-align: right;\n",
       "    }\n",
       "</style>\n",
       "<table border=\"1\" class=\"dataframe\">\n",
       "  <thead>\n",
       "    <tr style=\"text-align: right;\">\n",
       "      <th></th>\n",
       "      <th>date</th>\n",
       "      <th>group</th>\n",
       "      <th>orders</th>\n",
       "      <th>buyers</th>\n",
       "      <th>revenue</th>\n",
       "      <th>visitors</th>\n",
       "    </tr>\n",
       "  </thead>\n",
       "  <tbody>\n",
       "    <tr>\n",
       "      <th>0</th>\n",
       "      <td>2019-08-01</td>\n",
       "      <td>A</td>\n",
       "      <td>23</td>\n",
       "      <td>19</td>\n",
       "      <td>2266.6</td>\n",
       "      <td>719</td>\n",
       "    </tr>\n",
       "    <tr>\n",
       "      <th>1</th>\n",
       "      <td>2019-08-01</td>\n",
       "      <td>B</td>\n",
       "      <td>17</td>\n",
       "      <td>17</td>\n",
       "      <td>967.2</td>\n",
       "      <td>713</td>\n",
       "    </tr>\n",
       "    <tr>\n",
       "      <th>2</th>\n",
       "      <td>2019-08-02</td>\n",
       "      <td>A</td>\n",
       "      <td>42</td>\n",
       "      <td>36</td>\n",
       "      <td>3734.9</td>\n",
       "      <td>1338</td>\n",
       "    </tr>\n",
       "    <tr>\n",
       "      <th>3</th>\n",
       "      <td>2019-08-02</td>\n",
       "      <td>B</td>\n",
       "      <td>40</td>\n",
       "      <td>39</td>\n",
       "      <td>3535.3</td>\n",
       "      <td>1294</td>\n",
       "    </tr>\n",
       "    <tr>\n",
       "      <th>4</th>\n",
       "      <td>2019-08-03</td>\n",
       "      <td>A</td>\n",
       "      <td>66</td>\n",
       "      <td>60</td>\n",
       "      <td>5550.1</td>\n",
       "      <td>1845</td>\n",
       "    </tr>\n",
       "  </tbody>\n",
       "</table>\n",
       "</div>"
      ],
      "text/plain": [
       "        date group  orders  buyers  revenue  visitors\n",
       "0 2019-08-01  A     23      19      2266.6   719     \n",
       "1 2019-08-01  B     17      17      967.2    713     \n",
       "2 2019-08-02  A     42      36      3734.9   1338    \n",
       "3 2019-08-02  B     40      39      3535.3   1294    \n",
       "4 2019-08-03  A     66      60      5550.1   1845    "
      ]
     },
     "execution_count": 26,
     "metadata": {},
     "output_type": "execute_result"
    }
   ],
   "source": [
    "cumulativeData = ordersAggregated.merge(visitsAggregated, left_on = ['date', 'group'], right_on = ['date', 'group'])\n",
    "cumulativeData.columns = ['date', 'group', 'orders', 'buyers', 'revenue', 'visitors']\n",
    "\n",
    "cumulativeData.head()"
   ]
  },
  {
   "cell_type": "code",
   "execution_count": 27,
   "metadata": {},
   "outputs": [],
   "source": [
    "cumulativeRevenueA = cumulativeData[cumulativeData['group'] == 'A'][['date','revenue', 'orders']]\n",
    "cumulativeRevenueB = cumulativeData[cumulativeData['group'] == 'B'][['date','revenue', 'orders']]\n"
   ]
  },
  {
   "cell_type": "code",
   "execution_count": 28,
   "metadata": {},
   "outputs": [
    {
     "data": {
      "image/png": "[encoded data removed]",
      "text/plain": [
       "<Figure size 432x288 with 1 Axes>"
      ]
     },
     "metadata": {
      "needs_background": "light"
     },
     "output_type": "display_data"
    }
   ],
   "source": [
    "plt.plot(cumulativeRevenueA['date'], cumulativeRevenueA['revenue'], label='A')\n",
    "plt.plot(cumulativeRevenueB['date'], cumulativeRevenueB['revenue'], label='B')\n",
    "\n",
    "plt.xticks(rotation=45)\n",
    "plt.title('Cumulative revenue by group')\n",
    "plt.ylabel('Revenue')\n",
    "plt.xlabel('Date')\n",
    "plt.legend()\n",
    "plt.show()\n",
    "\n"
   ]
  },
  {
   "cell_type": "markdown",
   "metadata": {},
   "source": [
    "**The graph shows that in group A the cumulative revenue is growing quite smoothly. In group B, until August 2019, there was the same situation, and then there was a sharp jump - this may indicate a sharp increase in the number of orders or the presence of very expensive orders on these dates.**"
   ]
  },
  {
   "cell_type": "markdown",
   "metadata": {},
   "source": [
    "***2. Graph cumulative average order size by group. Make conclusions and conjectures.***"
   ]
  },
  {
   "cell_type": "code",
   "execution_count": 29,
   "metadata": {},
   "outputs": [
    {
     "data": {
      "image/png": "[encoded data removed]",
      "text/plain": [
       "<Figure size 432x288 with 1 Axes>"
      ]
     },
     "metadata": {
      "needs_background": "light"
     },
     "output_type": "display_data"
    }
   ],
   "source": [
    "plt.plot(cumulativeRevenueA['date'], cumulativeRevenueA['revenue'] / cumulativeRevenueA['orders'], label ='A')\n",
    "plt.plot(cumulativeRevenueB['date'], cumulativeRevenueB['revenue']/cumulativeRevenueB['orders'], label ='B')\n",
    "\n",
    "plt.rcParams[\"figure.figsize\"] = (8,6)\n",
    "plt.title('Cumulative average order size by group')\n",
    "plt.ylabel('Average order')\n",
    "plt.xlabel('Date')\n",
    "plt.legend()\n",
    "plt.show()"
   ]
  },
  {
   "cell_type": "markdown",
   "metadata": {},
   "source": [
    "**The average order size fluctuates a lot for both groups, although it becomes a bit stable towards the end of the test. Group B average order size is still higher than in group A, but it is declining for group B. The spike in group B in the middle of the test could be due to large and expensive orders.**"
   ]
  },
  {
   "cell_type": "markdown",
   "metadata": {},
   "source": [
    "***3. Graph the relative difference in cumulative average order size for group B compared with group A. Make conclusions and conjectures.***"
   ]
  },
  {
   "cell_type": "code",
   "execution_count": 30,
   "metadata": {},
   "outputs": [],
   "source": [
    "mergedCumulativeRevenue = cumulativeRevenueA.merge(cumulativeRevenueB, \n",
    "        left_on = 'date', right_on = 'date', \n",
    "        how='left', \n",
    "        suffixes=['A', 'B'])"
   ]
  },
  {
   "cell_type": "code",
   "execution_count": 31,
   "metadata": {},
   "outputs": [
    {
     "data": {
      "image/png": "[encoded data removed]",
      "text/plain": [
       "<Figure size 576x432 with 1 Axes>"
      ]
     },
     "metadata": {
      "needs_background": "light"
     },
     "output_type": "display_data"
    }
   ],
   "source": [
    "plt.plot(mergedCumulativeRevenue['date'], (mergedCumulativeRevenue['revenueB']/mergedCumulativeRevenue['ordersB'])/(mergedCumulativeRevenue['revenueA']/mergedCumulativeRevenue['ordersA'])-1)\n",
    "\n",
    "plt.axhline(y=0, color='black', linestyle='--') \n",
    "plt.rcParams[\"figure.figsize\"] = (15,6)\n",
    "plt.title('The relative difference in cumulative average order size for group B compared with group A.')\n",
    "plt.ylabel('Average order')\n",
    "plt.xlabel('Date')\n",
    "\n",
    "plt.show()"
   ]
  },
  {
   "cell_type": "markdown",
   "metadata": {},
   "source": [
    "**The graph again shows strong fluctuations, which indicates that there are outliers in the data.**"
   ]
  },
  {
   "cell_type": "markdown",
   "metadata": {},
   "source": [
    "***4. Calculate each group's conversion rate as the ratio of orders to the number of visits for each day. Plot the daily conversion rates of the two groups and describe the difference. Draw conclusions and make conjectures.***"
   ]
  },
  {
   "cell_type": "code",
   "execution_count": 32,
   "metadata": {},
   "outputs": [
    {
     "data": {
      "text/html": [
       "<div>\n",
       "<style scoped>\n",
       "    .dataframe tbody tr th:only-of-type {\n",
       "        vertical-align: middle;\n",
       "    }\n",
       "\n",
       "    .dataframe tbody tr th {\n",
       "        vertical-align: top;\n",
       "    }\n",
       "\n",
       "    .dataframe thead th {\n",
       "        text-align: right;\n",
       "    }\n",
       "</style>\n",
       "<table border=\"1\" class=\"dataframe\">\n",
       "  <thead>\n",
       "    <tr style=\"text-align: right;\">\n",
       "      <th></th>\n",
       "      <th>date</th>\n",
       "      <th>group</th>\n",
       "      <th>orders</th>\n",
       "      <th>buyers</th>\n",
       "      <th>revenue</th>\n",
       "      <th>visitors</th>\n",
       "      <th>conversion</th>\n",
       "    </tr>\n",
       "  </thead>\n",
       "  <tbody>\n",
       "    <tr>\n",
       "      <th>0</th>\n",
       "      <td>2019-08-01</td>\n",
       "      <td>A</td>\n",
       "      <td>23</td>\n",
       "      <td>19</td>\n",
       "      <td>2266.6</td>\n",
       "      <td>719</td>\n",
       "      <td>0.031989</td>\n",
       "    </tr>\n",
       "    <tr>\n",
       "      <th>1</th>\n",
       "      <td>2019-08-01</td>\n",
       "      <td>B</td>\n",
       "      <td>17</td>\n",
       "      <td>17</td>\n",
       "      <td>967.2</td>\n",
       "      <td>713</td>\n",
       "      <td>0.023843</td>\n",
       "    </tr>\n",
       "    <tr>\n",
       "      <th>2</th>\n",
       "      <td>2019-08-02</td>\n",
       "      <td>A</td>\n",
       "      <td>42</td>\n",
       "      <td>36</td>\n",
       "      <td>3734.9</td>\n",
       "      <td>1338</td>\n",
       "      <td>0.031390</td>\n",
       "    </tr>\n",
       "  </tbody>\n",
       "</table>\n",
       "</div>"
      ],
      "text/plain": [
       "        date group  orders  buyers  revenue  visitors  conversion\n",
       "0 2019-08-01  A     23      19      2266.6   719       0.031989  \n",
       "1 2019-08-01  B     17      17      967.2    713       0.023843  \n",
       "2 2019-08-02  A     42      36      3734.9   1338      0.031390  "
      ]
     },
     "execution_count": 32,
     "metadata": {},
     "output_type": "execute_result"
    }
   ],
   "source": [
    "cumulativeData['conversion'] = cumulativeData['orders'] / cumulativeData['visitors']\n",
    "cumulativeData.head(3)\n"
   ]
  },
  {
   "cell_type": "code",
   "execution_count": 33,
   "metadata": {},
   "outputs": [
    {
     "data": {
      "text/html": [
       "<div>\n",
       "<style scoped>\n",
       "    .dataframe tbody tr th:only-of-type {\n",
       "        vertical-align: middle;\n",
       "    }\n",
       "\n",
       "    .dataframe tbody tr th {\n",
       "        vertical-align: top;\n",
       "    }\n",
       "\n",
       "    .dataframe thead th {\n",
       "        text-align: right;\n",
       "    }\n",
       "</style>\n",
       "<table border=\"1\" class=\"dataframe\">\n",
       "  <thead>\n",
       "    <tr style=\"text-align: right;\">\n",
       "      <th></th>\n",
       "      <th>date</th>\n",
       "      <th>group</th>\n",
       "      <th>orders</th>\n",
       "      <th>buyers</th>\n",
       "      <th>revenue</th>\n",
       "      <th>visitors</th>\n",
       "      <th>conversion</th>\n",
       "    </tr>\n",
       "  </thead>\n",
       "  <tbody>\n",
       "    <tr>\n",
       "      <th>59</th>\n",
       "      <td>2019-08-30</td>\n",
       "      <td>B</td>\n",
       "      <td>531</td>\n",
       "      <td>511</td>\n",
       "      <td>77863.5</td>\n",
       "      <td>18198</td>\n",
       "      <td>0.029179</td>\n",
       "    </tr>\n",
       "    <tr>\n",
       "      <th>60</th>\n",
       "      <td>2019-08-31</td>\n",
       "      <td>A</td>\n",
       "      <td>468</td>\n",
       "      <td>445</td>\n",
       "      <td>53212.0</td>\n",
       "      <td>18736</td>\n",
       "      <td>0.024979</td>\n",
       "    </tr>\n",
       "    <tr>\n",
       "      <th>61</th>\n",
       "      <td>2019-08-31</td>\n",
       "      <td>B</td>\n",
       "      <td>548</td>\n",
       "      <td>528</td>\n",
       "      <td>79651.2</td>\n",
       "      <td>18916</td>\n",
       "      <td>0.028970</td>\n",
       "    </tr>\n",
       "  </tbody>\n",
       "</table>\n",
       "</div>"
      ],
      "text/plain": [
       "         date group  orders  buyers  revenue  visitors  conversion\n",
       "59 2019-08-30  B     531     511     77863.5  18198     0.029179  \n",
       "60 2019-08-31  A     468     445     53212.0  18736     0.024979  \n",
       "61 2019-08-31  B     548     528     79651.2  18916     0.028970  "
      ]
     },
     "execution_count": 33,
     "metadata": {},
     "output_type": "execute_result"
    }
   ],
   "source": [
    "cumulativeData.tail(3)"
   ]
  },
  {
   "cell_type": "code",
   "execution_count": 34,
   "metadata": {},
   "outputs": [
    {
     "data": {
      "image/png": "[encoded data removed]",
      "text/plain": [
       "<Figure size 1080x432 with 1 Axes>"
      ]
     },
     "metadata": {
      "needs_background": "light"
     },
     "output_type": "display_data"
    }
   ],
   "source": [
    "cumulativeDataA = cumulativeData[cumulativeData['group']=='A']\n",
    "cumulativeDataB = cumulativeData[cumulativeData['group']=='B']\n",
    "\n",
    "plt.plot(cumulativeDataA['date'], cumulativeDataA['conversion'], label='A')\n",
    "plt.plot(cumulativeDataB['date'], cumulativeDataB['conversion'], label='B')\n",
    "\n",
    "plt.xticks(rotation=45)\n",
    "plt.axhline(y=0.025, color='black', linestyle='--')\n",
    "plt.axhline(y=0.03, color='grey', linestyle='--')\n",
    "plt.title('The daily conversion rates of the two groups.')\n",
    "plt.ylabel('Conversion')\n",
    "plt.xlabel('Date')\n",
    "plt.legend()\n",
    "plt.show()"
   ]
  },
  {
   "cell_type": "markdown",
   "metadata": {},
   "source": [
    "**At the begining of the test, the conversion rate of group A was higher. After few days, group B took over and lead till the end of the test. There were much fluctuations in the conversion rate but after August 17, 2019, conversion rates for both groups are fluctuating less than before.**\n"
   ]
  },
  {
   "cell_type": "markdown",
   "metadata": {},
   "source": [
    "***5. Plot a scatter chart of the number of orders per user. Make conclusions and conjectures.***"
   ]
  },
  {
   "cell_type": "code",
   "execution_count": 35,
   "metadata": {},
   "outputs": [
    {
     "data": {
      "text/html": [
       "<div>\n",
       "<style scoped>\n",
       "    .dataframe tbody tr th:only-of-type {\n",
       "        vertical-align: middle;\n",
       "    }\n",
       "\n",
       "    .dataframe tbody tr th {\n",
       "        vertical-align: top;\n",
       "    }\n",
       "\n",
       "    .dataframe thead th {\n",
       "        text-align: right;\n",
       "    }\n",
       "</style>\n",
       "<table border=\"1\" class=\"dataframe\">\n",
       "  <thead>\n",
       "    <tr style=\"text-align: right;\">\n",
       "      <th></th>\n",
       "      <th>transactionId</th>\n",
       "      <th>visitorId</th>\n",
       "      <th>date</th>\n",
       "      <th>revenue</th>\n",
       "      <th>group</th>\n",
       "    </tr>\n",
       "  </thead>\n",
       "  <tbody>\n",
       "    <tr>\n",
       "      <th>0</th>\n",
       "      <td>3667963787</td>\n",
       "      <td>3312258926</td>\n",
       "      <td>2019-08-15</td>\n",
       "      <td>30.4</td>\n",
       "      <td>B</td>\n",
       "    </tr>\n",
       "    <tr>\n",
       "      <th>1</th>\n",
       "      <td>2804400009</td>\n",
       "      <td>3642806036</td>\n",
       "      <td>2019-08-15</td>\n",
       "      <td>15.2</td>\n",
       "      <td>B</td>\n",
       "    </tr>\n",
       "    <tr>\n",
       "      <th>3</th>\n",
       "      <td>3797467345</td>\n",
       "      <td>1196621759</td>\n",
       "      <td>2019-08-15</td>\n",
       "      <td>155.1</td>\n",
       "      <td>B</td>\n",
       "    </tr>\n",
       "    <tr>\n",
       "      <th>4</th>\n",
       "      <td>2282983706</td>\n",
       "      <td>2322279887</td>\n",
       "      <td>2019-08-15</td>\n",
       "      <td>40.5</td>\n",
       "      <td>B</td>\n",
       "    </tr>\n",
       "    <tr>\n",
       "      <th>5</th>\n",
       "      <td>182168103</td>\n",
       "      <td>935554773</td>\n",
       "      <td>2019-08-15</td>\n",
       "      <td>35.0</td>\n",
       "      <td>B</td>\n",
       "    </tr>\n",
       "  </tbody>\n",
       "</table>\n",
       "</div>"
      ],
      "text/plain": [
       "   transactionId   visitorId       date  revenue group\n",
       "0  3667963787     3312258926 2019-08-15  30.4     B   \n",
       "1  2804400009     3642806036 2019-08-15  15.2     B   \n",
       "3  3797467345     1196621759 2019-08-15  155.1    B   \n",
       "4  2282983706     2322279887 2019-08-15  40.5     B   \n",
       "5  182168103      935554773  2019-08-15  35.0     B   "
      ]
     },
     "execution_count": 35,
     "metadata": {},
     "output_type": "execute_result"
    }
   ],
   "source": [
    "orders_new.head()"
   ]
  },
  {
   "cell_type": "code",
   "execution_count": 36,
   "metadata": {},
   "outputs": [
    {
     "data": {
      "text/html": [
       "<div>\n",
       "<style scoped>\n",
       "    .dataframe tbody tr th:only-of-type {\n",
       "        vertical-align: middle;\n",
       "    }\n",
       "\n",
       "    .dataframe tbody tr th {\n",
       "        vertical-align: top;\n",
       "    }\n",
       "\n",
       "    .dataframe thead th {\n",
       "        text-align: right;\n",
       "    }\n",
       "</style>\n",
       "<table border=\"1\" class=\"dataframe\">\n",
       "  <thead>\n",
       "    <tr style=\"text-align: right;\">\n",
       "      <th></th>\n",
       "      <th>userId</th>\n",
       "      <th>orders</th>\n",
       "    </tr>\n",
       "  </thead>\n",
       "  <tbody>\n",
       "    <tr>\n",
       "      <th>908</th>\n",
       "      <td>3967698036</td>\n",
       "      <td>3</td>\n",
       "    </tr>\n",
       "    <tr>\n",
       "      <th>55</th>\n",
       "      <td>249864742</td>\n",
       "      <td>3</td>\n",
       "    </tr>\n",
       "    <tr>\n",
       "      <th>478</th>\n",
       "      <td>2108163459</td>\n",
       "      <td>3</td>\n",
       "    </tr>\n",
       "    <tr>\n",
       "      <th>687</th>\n",
       "      <td>2988190573</td>\n",
       "      <td>3</td>\n",
       "    </tr>\n",
       "    <tr>\n",
       "      <th>890</th>\n",
       "      <td>3908431265</td>\n",
       "      <td>3</td>\n",
       "    </tr>\n",
       "    <tr>\n",
       "      <th>138</th>\n",
       "      <td>611059232</td>\n",
       "      <td>3</td>\n",
       "    </tr>\n",
       "    <tr>\n",
       "      <th>632</th>\n",
       "      <td>2742574263</td>\n",
       "      <td>3</td>\n",
       "    </tr>\n",
       "    <tr>\n",
       "      <th>157</th>\n",
       "      <td>678354126</td>\n",
       "      <td>2</td>\n",
       "    </tr>\n",
       "    <tr>\n",
       "      <th>323</th>\n",
       "      <td>1404560065</td>\n",
       "      <td>2</td>\n",
       "    </tr>\n",
       "    <tr>\n",
       "      <th>452</th>\n",
       "      <td>1985475298</td>\n",
       "      <td>2</td>\n",
       "    </tr>\n",
       "  </tbody>\n",
       "</table>\n",
       "</div>"
      ],
      "text/plain": [
       "         userId  orders\n",
       "908  3967698036  3     \n",
       "55   249864742   3     \n",
       "478  2108163459  3     \n",
       "687  2988190573  3     \n",
       "890  3908431265  3     \n",
       "138  611059232   3     \n",
       "632  2742574263  3     \n",
       "157  678354126   2     \n",
       "323  1404560065  2     \n",
       "452  1985475298  2     "
      ]
     },
     "execution_count": 36,
     "metadata": {},
     "output_type": "execute_result"
    }
   ],
   "source": [
    "ordersByUsers = (\n",
    "    orders_new.drop(['group', 'revenue', 'date'], axis=1)\n",
    "    .groupby('visitorId', as_index=False)\n",
    "    .agg({'transactionId': pd.Series.nunique})\n",
    ")\n",
    "ordersByUsers.columns = ['userId', 'orders']\n",
    "ordersByUsers.sort_values(by='orders', ascending=False).head(10)"
   ]
  },
  {
   "cell_type": "code",
   "execution_count": 37,
   "metadata": {},
   "outputs": [
    {
     "data": {
      "image/png": "[encoded data removed]",
      "text/plain": [
       "<Figure size 1080x432 with 1 Axes>"
      ]
     },
     "metadata": {
      "needs_background": "light"
     },
     "output_type": "display_data"
    }
   ],
   "source": [
    "x_values = pd.Series(range(0,len(ordersByUsers)))\n",
    "plt.scatter(x_values, ordersByUsers['orders']) \n",
    "\n",
    "plt.rcParams[\"figure.figsize\"] = (15,6)\n",
    "plt.title('The number of orders per user.')\n",
    "plt.ylabel('Orders')\n",
    "\n",
    "plt.show()"
   ]
  },
  {
   "cell_type": "markdown",
   "metadata": {},
   "source": [
    "**Most of the buyers made 1 order. Based on the graph, can set a limit for anomalous orders between 2 and 3. Although orders 2 and 3 are not too extreme comparatively.**"
   ]
  },
  {
   "cell_type": "markdown",
   "metadata": {},
   "source": [
    "***6. Calculate the 95th and 99th percentiles for the number of orders per user. Define the point at which a data point becomes an anomaly.***"
   ]
  },
  {
   "cell_type": "code",
   "execution_count": 38,
   "metadata": {},
   "outputs": [
    {
     "data": {
      "text/plain": [
       "array([1., 2.])"
      ]
     },
     "execution_count": 38,
     "metadata": {},
     "output_type": "execute_result"
    }
   ],
   "source": [
    "np.percentile(ordersByUsers['orders'], [95, 99])"
   ]
  },
  {
   "cell_type": "markdown",
   "metadata": {},
   "source": [
    "**Not more than 5% of users ordered more than 1, and not more than 1% ordered more than 2. Hence filtering out 5% of observed values (deemed abnormal) means orders greater than 1.**"
   ]
  },
  {
   "cell_type": "markdown",
   "metadata": {},
   "source": [
    "***7. Plot a scatter chart of order prices. Make conclusions and conjectures.***"
   ]
  },
  {
   "cell_type": "code",
   "execution_count": 39,
   "metadata": {},
   "outputs": [
    {
     "data": {
      "image/png": "[encoded data removed]",
      "text/plain": [
       "<Figure size 1080x432 with 1 Axes>"
      ]
     },
     "metadata": {
      "needs_background": "light"
     },
     "output_type": "display_data"
    },
    {
     "data": {
      "image/png": "[encoded data removed]",
      "text/plain": [
       "<Figure size 1080x432 with 1 Axes>"
      ]
     },
     "metadata": {
      "needs_background": "light"
     },
     "output_type": "display_data"
    }
   ],
   "source": [
    "x_values = pd.Series(range(0,len(orders_new['revenue'])))\n",
    "plt.scatter(x_values, orders_new['revenue'])\n",
    "\n",
    "plt.rcParams[\"figure.figsize\"] = (15,6)\n",
    "plt.title('Chart of order prices.')\n",
    "plt.ylabel('Revenue')\n",
    "plt.xlabel('Users')\n",
    "plt.show()\n",
    "\n",
    "x_values = pd.Series(range(0,len(orders_new['revenue'])))\n",
    "plt.scatter(x_values, orders_new['revenue'])\n",
    "\n",
    "plt.rcParams[\"figure.figsize\"] = (15,6)\n",
    "plt.ylim(top=1500,bottom=0)\n",
    "plt.title('Chart of order prices.')\n",
    "plt.ylabel('Revenue')\n",
    "plt.xlabel('Users')\n",
    "plt.show()"
   ]
  },
  {
   "cell_type": "markdown",
   "metadata": {},
   "source": [
    "**The first graph shows that there are two orders from 2,500 dollars to 20,000 dollars, these are outliers. The second graph shows that there are several orders more than 450 dollars, the rest of the purchases were up to this amount.**"
   ]
  },
  {
   "cell_type": "markdown",
   "metadata": {},
   "source": [
    "***8. Calculate the 95th and 99th percentiles of order prices. Define the point at which a data point becomes an anomaly.***"
   ]
  },
  {
   "cell_type": "code",
   "execution_count": 40,
   "metadata": {},
   "outputs": [
    {
     "name": "stdout",
     "output_type": "stream",
     "text": [
      "[414.275 830.3  ]\n"
     ]
    }
   ],
   "source": [
    "print(np.percentile(orders_new['revenue'], [95, 99]))"
   ]
  },
  {
   "cell_type": "markdown",
   "metadata": {},
   "source": [
    "**5% of shoppers placed orders over 414.2 dollars and 1% of shoppers placed orders over 830.3 dollars**\n",
    "\n"
   ]
  },
  {
   "cell_type": "markdown",
   "metadata": {},
   "source": [
    "***9. Find the statistical significance of the difference in conversion between the groups using the raw data. Make conclusions and conjectures.***"
   ]
  },
  {
   "cell_type": "markdown",
   "metadata": {},
   "source": [
    "**Hypotheses:**\n",
    "\n",
    "\n",
    "H0: There is no statistically significant difference in conversion between the groups.\n",
    "\n",
    "H1: There is statistically significant difference in conversion between the groups.\n",
    "\n",
    "Significance level (alpha) = 0.05"
   ]
  },
  {
   "cell_type": "code",
   "execution_count": 41,
   "metadata": {},
   "outputs": [],
   "source": [
    "ordersByUsersA = orders_new[orders_new['group']=='A'].groupby('visitorId', as_index=False).agg({'transactionId' : pd.Series.nunique})\n",
    "ordersByUsersA.columns = ['userId', 'orders']\n",
    " \n",
    "ordersByUsersB = orders_new[orders_new['group']=='B'].groupby('visitorId', as_index=False).agg({'transactionId' : pd.Series.nunique})\n",
    "    \n",
    "ordersByUsersB.columns = ['userId', 'orders']"
   ]
  },
  {
   "cell_type": "code",
   "execution_count": 42,
   "metadata": {},
   "outputs": [],
   "source": [
    "sampleA = pd.concat([ordersByUsersA['orders'],pd.Series(0, index=np.arange(visits[visits['group']=='A']['visits'].sum() - len(ordersByUsersA['orders'])), name='orders')],axis=0)\n",
    "\n",
    "sampleB = pd.concat([ordersByUsersB['orders'],pd.Series(0, index=np.arange(visits[visits['group']=='B']['visits'].sum() - len(ordersByUsersB['orders'])), name='orders')],axis=0)\n"
   ]
  },
  {
   "cell_type": "code",
   "execution_count": 43,
   "metadata": {},
   "outputs": [
    {
     "name": "stdout",
     "output_type": "stream",
     "text": [
      "P_value: 0.0055\n",
      "Relative Conversion rate: 0.160\n"
     ]
    }
   ],
   "source": [
    "print(\"P_value: {0:.4f}\".format(stats.mannwhitneyu(sampleA, sampleB)[1]))\n",
    "\n",
    "print(\"Relative Conversion rate: {0:.3f}\".format(sampleB.mean()/sampleA.mean()-1)) "
   ]
  },
  {
   "cell_type": "markdown",
   "metadata": {},
   "source": [
    "**Significance level (alpha) = 0.05**\n",
    "\n",
    "*The p-value is considerably lower than 0.05, so we reject the null hypothesis. The raw data analysis showed that the groups' conversion rates have statistically significant differences. The relative conversion gain for group B compared with group A is 16.0%.*"
   ]
  },
  {
   "cell_type": "markdown",
   "metadata": {},
   "source": [
    "***10. Find the statistical significance of the difference in average order size between the groups using the raw data. Make conclusions and conjectures.***"
   ]
  },
  {
   "cell_type": "markdown",
   "metadata": {},
   "source": [
    "**Hypotheses:**\n",
    "\n",
    "H0: There is no statistically significant difference in average order size between the groups.\n",
    "\n",
    "H1: There is statistically significant difference in average order size between the groups.\n",
    "\n",
    "Alpha = 0.05"
   ]
  },
  {
   "cell_type": "code",
   "execution_count": 44,
   "metadata": {},
   "outputs": [
    {
     "name": "stdout",
     "output_type": "stream",
     "text": [
      "P_value: 0.431\n",
      "Relative Conversion: 0.278\n"
     ]
    }
   ],
   "source": [
    "print('P_value: {0:.3f}'.format(stats.mannwhitneyu(orders_new[orders_new['group']=='A']['revenue'], orders_new[orders_new['group']=='B']['revenue'])[1]))\n",
    "print('Relative Conversion: {0:.3f}'.format(orders_new[orders_new['group']=='B']['revenue'].mean()/orders_new[orders_new['group']=='A']['revenue'].mean()-1)) \n"
   ]
  },
  {
   "cell_type": "markdown",
   "metadata": {},
   "source": [
    "**The p-value is greater than 0.05, so there are no statistically significant differences between the groups' average order sizes. Moreover, the relative difference is 27.8%.**"
   ]
  },
  {
   "cell_type": "markdown",
   "metadata": {},
   "source": [
    "***11. Find the statistical significance of the difference in conversion between the groups using the filtered data. Make conclusions and conjectures.***"
   ]
  },
  {
   "cell_type": "markdown",
   "metadata": {},
   "source": [
    "**Hypotheses:**\n",
    "\n",
    "H0: There is no statistically significant difference in conversion between the groups.\n",
    "\n",
    "H1: There is statistically significant difference in conversion between the groups.\n",
    "\n",
    "Alpha = 0.05"
   ]
  },
  {
   "cell_type": "code",
   "execution_count": 45,
   "metadata": {},
   "outputs": [
    {
     "data": {
      "text/plain": [
       "36     366673373 \n",
       "58     611059232 \n",
       "64     678354126 \n",
       "72     759473111 \n",
       "171    1617417821\n",
       "Name: userId, dtype: int64"
      ]
     },
     "execution_count": 45,
     "metadata": {},
     "output_type": "execute_result"
    }
   ],
   "source": [
    "usersWithManyOrders = pd.concat(\n",
    "    [\n",
    "        ordersByUsersA[ordersByUsersA['orders'] > 1]['userId'],\n",
    "        ordersByUsersB[ordersByUsersB['orders'] > 1]['userId'],\n",
    "    ],\n",
    "    axis=0,\n",
    ")\n",
    "usersWithManyOrders.head()"
   ]
  },
  {
   "cell_type": "code",
   "execution_count": 46,
   "metadata": {},
   "outputs": [
    {
     "data": {
      "text/plain": [
       "33    249864742\n",
       "36    366673373\n",
       "51    406208401\n",
       "67    522292794\n",
       "58    611059232\n",
       "dtype: int64"
      ]
     },
     "execution_count": 46,
     "metadata": {},
     "output_type": "execute_result"
    }
   ],
   "source": [
    "usersWithExpensiveOrders = orders_new[orders_new['revenue'] > 10000]['visitorId']\n",
    "abnormalUsers = (\n",
    "    pd.concat([usersWithManyOrders, usersWithExpensiveOrders], axis=0)\n",
    "    .drop_duplicates()\n",
    "    .sort_values()\n",
    ")\n",
    "abnormalUsers.head(5)"
   ]
  },
  {
   "cell_type": "code",
   "execution_count": 47,
   "metadata": {},
   "outputs": [],
   "source": [
    "sampleAFiltered = pd.concat([ordersByUsersA[np.logical_not(ordersByUsersA['userId'].isin(abnormalUsers))]['orders'],\n",
    "                             pd.Series(0, index=np.arange(visits[visits['group']=='A']['visits'].sum() - \n",
    "                                                          len(ordersByUsersA['orders'])),name='orders')],axis=0)\n",
    "\n",
    "sampleBFiltered = pd.concat([ordersByUsersB[np.logical_not(ordersByUsersB['userId'].isin(abnormalUsers))]['orders'],\n",
    "                             pd.Series(0, index=np.arange(visits[visits['group']=='B']['visits'].sum() - \n",
    "                                                          len(ordersByUsersB['orders'])),name='orders')],axis=0)"
   ]
  },
  {
   "cell_type": "code",
   "execution_count": 48,
   "metadata": {},
   "outputs": [
    {
     "name": "stdout",
     "output_type": "stream",
     "text": [
      "P_value: 0.00513\n",
      "Relative Conversion rate: 0.181\n"
     ]
    }
   ],
   "source": [
    "print(\"P_value: {0:.5f}\".format(stats.mannwhitneyu(sampleAFiltered, sampleBFiltered)[1]))\n",
    "print(\"Relative Conversion rate: {0:.3f}\".format(sampleBFiltered.mean()/sampleAFiltered.mean()-1)) "
   ]
  },
  {
   "cell_type": "markdown",
   "metadata": {},
   "source": [
    "**Based on the filtered data, there is significant difference between groups A and B. Hence, there is enough evidence to reject the null hypothesis that there no statistically significant difference in conversion between the groups. Therefore, group B's relative gain of about 18.1% is significant.**"
   ]
  },
  {
   "cell_type": "markdown",
   "metadata": {},
   "source": [
    "***12. Find the statistical significance of the difference in average order size between the groups using the filtered data. Make conclusions and conjectures.***"
   ]
  },
  {
   "cell_type": "markdown",
   "metadata": {},
   "source": [
    "**Hypotheses:**\n",
    "\n",
    "H0: There is no statistically significant difference in average order size between the groups.\n",
    "\n",
    "H1: There is statistically significant difference in average order size between the groups.\n",
    "\n",
    "Alpha = 0.05"
   ]
  },
  {
   "cell_type": "code",
   "execution_count": 49,
   "metadata": {},
   "outputs": [
    {
     "name": "stdout",
     "output_type": "stream",
     "text": [
      "0.445\n"
     ]
    }
   ],
   "source": [
    "print('{0:.3f}'.format(stats.mannwhitneyu(\n",
    "    orders_new[np.logical_and(\n",
    "        orders_new['group']=='A',\n",
    "        np.logical_not(orders_new['visitorId'].isin(abnormalUsers)))]['revenue'],\n",
    "    orders_new[np.logical_and(\n",
    "        orders_new['group']=='B',\n",
    "        np.logical_not(orders_new['visitorId'].isin(abnormalUsers)))]['revenue'])[1]))"
   ]
  },
  {
   "cell_type": "code",
   "execution_count": 50,
   "metadata": {},
   "outputs": [
    {
     "name": "stdout",
     "output_type": "stream",
     "text": [
      "-0.013\n"
     ]
    }
   ],
   "source": [
    "print('{0:.3f}'.format(\n",
    "    orders_new[np.logical_and(orders_new['group']=='B',np.logical_not(orders['visitorId'].isin(abnormalUsers)))]['revenue'].mean()/\n",
    "    orders_new[np.logical_and(\n",
    "        orders_new['group']=='A',\n",
    "        np.logical_not(orders_new['visitorId'].isin(abnormalUsers)))]['revenue'].mean() - 1)) \n"
   ]
  },
  {
   "cell_type": "markdown",
   "metadata": {},
   "source": [
    "**Based on the filtered data, there is not a significant difference between groups A and B. A p_value of 0.445 is greater than 0.05. So we can't reject the null hypothesis that there's not a statistically significant difference in average order size between the groups. Also, there is a relative loss for group B (about 1.3%).**\n",
    "\n"
   ]
  },
  {
   "cell_type": "markdown",
   "metadata": {},
   "source": [
    "***13. Make a decision based on the test results. The possible decisions are: 1. Stop the test, consider one of the groups the leader. 2. Stop the test, conclude that there is no difference between the groups. 3. Continue the test.***"
   ]
  },
  {
   "cell_type": "markdown",
   "metadata": {
    "pycharm": {
     "name": "#%% md\n"
    }
   },
   "source": [
    "**Based on the findings, the test should be stopped and Group B won. Since there is a statistically significant difference in conversion between groups, the relative increase in conversion of group B is about 17%.**\n",
    "\n",
    "- There is a statistically significant difference in conversion between groups both on raw data and after filtering out anomalies.\n",
    "- There is no statistically significant difference in average check between groups for both raw and cleaned data.\n",
    "- The graph of the difference in conversion between groups shows that the results of group B are better than group A: they tend to increase and are practically fixed.\n",
    "- The graph of the difference in the average check fluctuates. It is impossible to draw certain conclusions from this graph."
   ]
  }
 ],
 "metadata": {
  "ExecuteTimeLog": [
   {
    "duration": 1588,
    "start_time": "2022-01-18T14:58:55.821Z"
   },
   {
    "duration": 11,
    "start_time": "2022-01-18T14:59:08.128Z"
   },
   {
    "duration": 5,
    "start_time": "2022-01-18T14:59:22.822Z"
   },
   {
    "duration": 64,
    "start_time": "2022-01-18T15:00:55.036Z"
   },
   {
    "duration": 7,
    "start_time": "2022-01-18T15:02:13.195Z"
   },
   {
    "duration": 7,
    "start_time": "2022-01-18T15:02:22.462Z"
   },
   {
    "duration": 633,
    "start_time": "2022-01-18T15:02:41.936Z"
   },
   {
    "duration": 6,
    "start_time": "2022-01-18T15:03:01.202Z"
   },
   {
    "duration": 5,
    "start_time": "2022-01-18T15:04:12.209Z"
   },
   {
    "duration": 7,
    "start_time": "2022-01-18T15:04:17.179Z"
   },
   {
    "duration": 8,
    "start_time": "2022-01-18T15:04:49.494Z"
   },
   {
    "duration": 5,
    "start_time": "2022-01-18T15:04:59.102Z"
   },
   {
    "duration": 5,
    "start_time": "2022-01-18T15:05:26.227Z"
   },
   {
    "duration": 343,
    "start_time": "2022-01-18T15:06:10.440Z"
   },
   {
    "duration": 5,
    "start_time": "2022-01-18T15:06:15.415Z"
   },
   {
    "duration": 410,
    "start_time": "2022-01-18T15:06:23.121Z"
   },
   {
    "duration": 4,
    "start_time": "2022-01-18T15:06:27.032Z"
   },
   {
    "duration": 330,
    "start_time": "2022-01-18T15:20:38.208Z"
   },
   {
    "duration": 377,
    "start_time": "2022-01-18T15:20:43.254Z"
   },
   {
    "duration": 6,
    "start_time": "2022-01-18T15:20:44.044Z"
   },
   {
    "duration": 73,
    "start_time": "2022-01-18T15:20:49.223Z"
   },
   {
    "duration": 7,
    "start_time": "2022-01-18T15:20:50.360Z"
   },
   {
    "duration": 319,
    "start_time": "2022-01-18T15:20:52.890Z"
   },
   {
    "duration": 320,
    "start_time": "2022-01-18T15:21:10.145Z"
   },
   {
    "duration": 6,
    "start_time": "2022-01-18T15:21:19.140Z"
   },
   {
    "duration": 76,
    "start_time": "2022-01-18T15:21:43.599Z"
   },
   {
    "duration": 6,
    "start_time": "2022-01-18T15:21:44.411Z"
   },
   {
    "duration": 6,
    "start_time": "2022-01-18T15:21:49.130Z"
   },
   {
    "duration": 1525,
    "start_time": "2022-01-18T15:21:59.188Z"
   },
   {
    "duration": 9,
    "start_time": "2022-01-18T15:22:00.715Z"
   },
   {
    "duration": 9,
    "start_time": "2022-01-18T15:22:00.725Z"
   },
   {
    "duration": 13,
    "start_time": "2022-01-18T15:22:00.736Z"
   },
   {
    "duration": 13,
    "start_time": "2022-01-18T15:22:00.750Z"
   },
   {
    "duration": 14,
    "start_time": "2022-01-18T15:22:00.765Z"
   },
   {
    "duration": 21,
    "start_time": "2022-01-18T15:22:00.781Z"
   },
   {
    "duration": 24,
    "start_time": "2022-01-18T15:22:00.804Z"
   },
   {
    "duration": 11,
    "start_time": "2022-01-18T15:22:00.830Z"
   },
   {
    "duration": 16,
    "start_time": "2022-01-18T15:22:00.843Z"
   },
   {
    "duration": 3,
    "start_time": "2022-01-18T15:22:43.809Z"
   },
   {
    "duration": 6,
    "start_time": "2022-01-18T15:22:44.576Z"
   },
   {
    "duration": 65,
    "start_time": "2022-01-18T15:23:58.552Z"
   },
   {
    "duration": 3,
    "start_time": "2022-01-18T15:24:00.121Z"
   },
   {
    "duration": 6,
    "start_time": "2022-01-18T15:24:00.868Z"
   },
   {
    "duration": 6,
    "start_time": "2022-01-18T15:24:50.335Z"
   },
   {
    "duration": 5,
    "start_time": "2022-01-18T15:24:51.474Z"
   },
   {
    "duration": 5,
    "start_time": "2022-01-18T15:25:14.527Z"
   },
   {
    "duration": 64,
    "start_time": "2022-01-18T15:25:55.146Z"
   },
   {
    "duration": 437,
    "start_time": "2022-01-18T15:26:08.991Z"
   },
   {
    "duration": 344,
    "start_time": "2022-01-18T15:26:19.726Z"
   },
   {
    "duration": 372,
    "start_time": "2022-01-18T17:12:51.735Z"
   },
   {
    "duration": 4,
    "start_time": "2022-01-18T17:13:03.219Z"
   },
   {
    "duration": 1357,
    "start_time": "2022-01-18T17:13:49.002Z"
   },
   {
    "duration": 6,
    "start_time": "2022-01-18T17:19:57.877Z"
   },
   {
    "duration": 8496,
    "start_time": "2022-01-18T17:25:48.175Z"
   },
   {
    "duration": 92,
    "start_time": "2022-01-18T17:25:57.336Z"
   },
   {
    "duration": 77,
    "start_time": "2022-01-18T17:26:01.271Z"
   },
   {
    "duration": 2069,
    "start_time": "2022-01-18T17:28:36.468Z"
   },
   {
    "duration": 10,
    "start_time": "2022-01-18T17:28:38.539Z"
   },
   {
    "duration": 11,
    "start_time": "2022-01-18T17:28:38.552Z"
   },
   {
    "duration": 1452,
    "start_time": "2022-01-18T17:28:38.565Z"
   },
   {
    "duration": -110,
    "start_time": "2022-01-18T17:28:40.130Z"
   },
   {
    "duration": -111,
    "start_time": "2022-01-18T17:28:40.132Z"
   },
   {
    "duration": -112,
    "start_time": "2022-01-18T17:28:40.135Z"
   },
   {
    "duration": -113,
    "start_time": "2022-01-18T17:28:40.137Z"
   },
   {
    "duration": -114,
    "start_time": "2022-01-18T17:28:40.139Z"
   },
   {
    "duration": -114,
    "start_time": "2022-01-18T17:28:40.141Z"
   },
   {
    "duration": -114,
    "start_time": "2022-01-18T17:28:40.142Z"
   },
   {
    "duration": -114,
    "start_time": "2022-01-18T17:28:40.144Z"
   },
   {
    "duration": 77,
    "start_time": "2022-01-18T17:36:18.785Z"
   },
   {
    "duration": 7,
    "start_time": "2022-01-18T17:36:20.249Z"
   },
   {
    "duration": 6,
    "start_time": "2022-01-18T17:37:00.410Z"
   },
   {
    "duration": 73,
    "start_time": "2022-01-18T17:38:05.060Z"
   },
   {
    "duration": 10,
    "start_time": "2022-01-18T17:38:05.657Z"
   },
   {
    "duration": 70,
    "start_time": "2022-01-18T17:38:13.445Z"
   },
   {
    "duration": 8,
    "start_time": "2022-01-18T17:38:13.948Z"
   },
   {
    "duration": 6,
    "start_time": "2022-01-18T17:38:14.703Z"
   },
   {
    "duration": 330,
    "start_time": "2022-01-18T17:42:26.472Z"
   },
   {
    "duration": 328,
    "start_time": "2022-01-18T17:42:43.384Z"
   },
   {
    "duration": 4,
    "start_time": "2022-01-18T17:44:07.893Z"
   },
   {
    "duration": 8,
    "start_time": "2022-01-18T17:44:17.199Z"
   },
   {
    "duration": 6,
    "start_time": "2022-01-18T17:44:28.093Z"
   },
   {
    "duration": 9,
    "start_time": "2022-01-18T17:44:36.785Z"
   },
   {
    "duration": 6,
    "start_time": "2022-01-18T17:44:37.282Z"
   },
   {
    "duration": 7,
    "start_time": "2022-01-18T17:44:37.719Z"
   },
   {
    "duration": 5,
    "start_time": "2022-01-18T17:44:37.939Z"
   },
   {
    "duration": 8,
    "start_time": "2022-01-18T17:44:38.277Z"
   },
   {
    "duration": 7,
    "start_time": "2022-01-18T17:44:39.043Z"
   },
   {
    "duration": 5,
    "start_time": "2022-01-18T17:44:39.435Z"
   },
   {
    "duration": 85,
    "start_time": "2022-01-18T17:47:44.013Z"
   },
   {
    "duration": 10,
    "start_time": "2022-01-18T17:47:44.579Z"
   },
   {
    "duration": 8,
    "start_time": "2022-01-18T17:47:45.398Z"
   },
   {
    "duration": 4,
    "start_time": "2022-01-18T17:47:46.150Z"
   },
   {
    "duration": 10,
    "start_time": "2022-01-18T17:47:46.795Z"
   },
   {
    "duration": 11,
    "start_time": "2022-01-18T17:47:47.601Z"
   },
   {
    "duration": 8,
    "start_time": "2022-01-18T17:47:51.646Z"
   },
   {
    "duration": 6,
    "start_time": "2022-01-18T17:47:52.753Z"
   },
   {
    "duration": 1669,
    "start_time": "2022-01-18T17:47:53.535Z"
   },
   {
    "duration": 12,
    "start_time": "2022-01-18T17:48:18.291Z"
   },
   {
    "duration": 6,
    "start_time": "2022-01-18T17:48:30.488Z"
   },
   {
    "duration": 8,
    "start_time": "2022-01-18T17:48:40.767Z"
   },
   {
    "duration": 344,
    "start_time": "2022-01-18T17:49:16.302Z"
   },
   {
    "duration": 4,
    "start_time": "2022-01-18T17:49:31.344Z"
   },
   {
    "duration": 6,
    "start_time": "2022-01-18T17:49:33.585Z"
   },
   {
    "duration": 5,
    "start_time": "2022-01-18T17:49:36.079Z"
   },
   {
    "duration": 1465,
    "start_time": "2022-01-18T18:47:36.961Z"
   },
   {
    "duration": 10,
    "start_time": "2022-01-18T18:47:38.428Z"
   },
   {
    "duration": 11,
    "start_time": "2022-01-18T18:47:38.440Z"
   },
   {
    "duration": 4,
    "start_time": "2022-01-18T18:47:38.453Z"
   },
   {
    "duration": 8,
    "start_time": "2022-01-18T18:47:38.459Z"
   },
   {
    "duration": 7,
    "start_time": "2022-01-18T18:47:38.469Z"
   },
   {
    "duration": 7,
    "start_time": "2022-01-18T18:47:38.478Z"
   },
   {
    "duration": 4,
    "start_time": "2022-01-18T18:47:38.487Z"
   },
   {
    "duration": 34,
    "start_time": "2022-01-18T18:47:38.493Z"
   },
   {
    "duration": 9,
    "start_time": "2022-01-18T18:47:38.529Z"
   },
   {
    "duration": 5,
    "start_time": "2022-01-18T18:47:38.540Z"
   },
   {
    "duration": 7,
    "start_time": "2022-01-18T18:47:38.546Z"
   },
   {
    "duration": 17,
    "start_time": "2022-01-18T18:47:38.554Z"
   },
   {
    "duration": 8,
    "start_time": "2022-01-18T18:51:04.791Z"
   },
   {
    "duration": 1487,
    "start_time": "2022-01-18T19:51:04.903Z"
   },
   {
    "duration": 10,
    "start_time": "2022-01-18T19:51:06.392Z"
   },
   {
    "duration": 6,
    "start_time": "2022-01-18T19:51:06.404Z"
   },
   {
    "duration": 4,
    "start_time": "2022-01-18T19:51:06.412Z"
   },
   {
    "duration": 15,
    "start_time": "2022-01-18T19:51:06.417Z"
   },
   {
    "duration": 8,
    "start_time": "2022-01-18T19:51:06.433Z"
   },
   {
    "duration": 6,
    "start_time": "2022-01-18T19:51:06.442Z"
   },
   {
    "duration": 6,
    "start_time": "2022-01-18T19:51:06.450Z"
   },
   {
    "duration": 11,
    "start_time": "2022-01-18T19:51:06.457Z"
   },
   {
    "duration": 10,
    "start_time": "2022-01-18T19:51:06.469Z"
   },
   {
    "duration": 5,
    "start_time": "2022-01-18T19:51:06.480Z"
   },
   {
    "duration": 7,
    "start_time": "2022-01-18T19:51:06.486Z"
   },
   {
    "duration": 8,
    "start_time": "2022-01-18T19:51:06.494Z"
   },
   {
    "duration": 11,
    "start_time": "2022-01-18T19:52:42.919Z"
   },
   {
    "duration": 454,
    "start_time": "2022-01-18T19:53:55.386Z"
   },
   {
    "duration": 338,
    "start_time": "2022-01-18T19:54:28.950Z"
   },
   {
    "duration": 17,
    "start_time": "2022-01-18T19:54:42.356Z"
   },
   {
    "duration": 8,
    "start_time": "2022-01-18T19:55:23.235Z"
   },
   {
    "duration": 13,
    "start_time": "2022-01-18T19:55:43.252Z"
   },
   {
    "duration": 326,
    "start_time": "2022-01-18T19:55:53.017Z"
   },
   {
    "duration": 315,
    "start_time": "2022-01-18T19:56:10.116Z"
   },
   {
    "duration": 4,
    "start_time": "2022-01-18T19:56:14.798Z"
   },
   {
    "duration": 5,
    "start_time": "2022-01-18T19:56:33.603Z"
   },
   {
    "duration": 5,
    "start_time": "2022-01-18T19:56:41.302Z"
   },
   {
    "duration": 4,
    "start_time": "2022-01-18T19:57:03.679Z"
   },
   {
    "duration": 364,
    "start_time": "2022-01-18T19:57:09.334Z"
   },
   {
    "duration": 4,
    "start_time": "2022-01-18T19:57:15.866Z"
   },
   {
    "duration": 11,
    "start_time": "2022-01-18T19:57:38.976Z"
   },
   {
    "duration": 337,
    "start_time": "2022-01-18T20:01:49.711Z"
   },
   {
    "duration": 103,
    "start_time": "2022-01-18T20:02:10.211Z"
   },
   {
    "duration": 1438,
    "start_time": "2022-01-18T20:02:18.686Z"
   },
   {
    "duration": 11,
    "start_time": "2022-01-18T20:02:20.126Z"
   },
   {
    "duration": 7,
    "start_time": "2022-01-18T20:02:20.139Z"
   },
   {
    "duration": 5,
    "start_time": "2022-01-18T20:02:20.148Z"
   },
   {
    "duration": 12,
    "start_time": "2022-01-18T20:02:20.155Z"
   },
   {
    "duration": 11,
    "start_time": "2022-01-18T20:02:20.168Z"
   },
   {
    "duration": 13,
    "start_time": "2022-01-18T20:02:20.180Z"
   },
   {
    "duration": 7,
    "start_time": "2022-01-18T20:02:20.195Z"
   },
   {
    "duration": 26,
    "start_time": "2022-01-18T20:02:20.203Z"
   },
   {
    "duration": 9,
    "start_time": "2022-01-18T20:02:20.231Z"
   },
   {
    "duration": 8,
    "start_time": "2022-01-18T20:02:20.242Z"
   },
   {
    "duration": 7,
    "start_time": "2022-01-18T20:02:20.252Z"
   },
   {
    "duration": 8,
    "start_time": "2022-01-18T20:02:20.260Z"
   },
   {
    "duration": 15,
    "start_time": "2022-01-18T20:02:20.269Z"
   },
   {
    "duration": 108,
    "start_time": "2022-01-18T20:02:20.285Z"
   },
   {
    "duration": -67,
    "start_time": "2022-01-18T20:02:20.462Z"
   },
   {
    "duration": 4,
    "start_time": "2022-01-18T20:02:29.162Z"
   },
   {
    "duration": 440,
    "start_time": "2022-01-18T20:02:30.045Z"
   },
   {
    "duration": 4,
    "start_time": "2022-01-18T20:03:26.245Z"
   },
   {
    "duration": 4,
    "start_time": "2022-01-18T20:03:32.347Z"
   },
   {
    "duration": 326,
    "start_time": "2022-01-18T20:03:40.957Z"
   },
   {
    "duration": 4,
    "start_time": "2022-01-18T20:03:44.535Z"
   },
   {
    "duration": 8686,
    "start_time": "2022-01-18T20:04:28.815Z"
   },
   {
    "duration": 8822,
    "start_time": "2022-01-18T20:04:48.081Z"
   },
   {
    "duration": 11383,
    "start_time": "2022-01-18T20:05:02.713Z"
   },
   {
    "duration": 11148,
    "start_time": "2022-01-18T20:05:25.974Z"
   },
   {
    "duration": 4,
    "start_time": "2022-01-18T20:05:51.819Z"
   },
   {
    "duration": 6,
    "start_time": "2022-01-18T20:06:02.699Z"
   },
   {
    "duration": 1584,
    "start_time": "2022-01-18T20:07:01.227Z"
   },
   {
    "duration": 10,
    "start_time": "2022-01-18T20:07:02.813Z"
   },
   {
    "duration": 6,
    "start_time": "2022-01-18T20:07:02.824Z"
   },
   {
    "duration": 5,
    "start_time": "2022-01-18T20:07:02.831Z"
   },
   {
    "duration": 11,
    "start_time": "2022-01-18T20:07:02.837Z"
   },
   {
    "duration": 8,
    "start_time": "2022-01-18T20:07:02.849Z"
   },
   {
    "duration": 6,
    "start_time": "2022-01-18T20:07:02.859Z"
   },
   {
    "duration": 6,
    "start_time": "2022-01-18T20:07:02.867Z"
   },
   {
    "duration": 11,
    "start_time": "2022-01-18T20:07:02.874Z"
   },
   {
    "duration": 10,
    "start_time": "2022-01-18T20:07:02.886Z"
   },
   {
    "duration": 4,
    "start_time": "2022-01-18T20:07:02.898Z"
   },
   {
    "duration": 28,
    "start_time": "2022-01-18T20:07:02.903Z"
   },
   {
    "duration": 7,
    "start_time": "2022-01-18T20:07:02.932Z"
   },
   {
    "duration": 11,
    "start_time": "2022-01-18T20:07:02.940Z"
   },
   {
    "duration": 416,
    "start_time": "2022-01-18T20:07:02.953Z"
   },
   {
    "duration": 110,
    "start_time": "2022-01-18T20:07:03.261Z"
   },
   {
    "duration": 119,
    "start_time": "2022-01-18T20:08:18.347Z"
   },
   {
    "duration": 101,
    "start_time": "2022-01-18T20:08:33.288Z"
   },
   {
    "duration": 5,
    "start_time": "2022-01-18T20:08:34.281Z"
   },
   {
    "duration": 4,
    "start_time": "2022-01-18T20:08:37.164Z"
   },
   {
    "duration": 6,
    "start_time": "2022-01-18T20:08:38.283Z"
   },
   {
    "duration": 4,
    "start_time": "2022-01-18T20:08:51.941Z"
   },
   {
    "duration": 4,
    "start_time": "2022-01-18T20:09:05.963Z"
   },
   {
    "duration": 389,
    "start_time": "2022-01-19T13:52:29.429Z"
   },
   {
    "duration": 349,
    "start_time": "2022-01-19T13:52:34.724Z"
   },
   {
    "duration": 1594,
    "start_time": "2022-01-19T13:52:46.853Z"
   },
   {
    "duration": 10,
    "start_time": "2022-01-19T13:52:48.449Z"
   },
   {
    "duration": 21,
    "start_time": "2022-01-19T13:52:48.465Z"
   },
   {
    "duration": 14,
    "start_time": "2022-01-19T13:52:48.487Z"
   },
   {
    "duration": 38,
    "start_time": "2022-01-19T13:52:48.503Z"
   },
   {
    "duration": 37,
    "start_time": "2022-01-19T13:52:48.543Z"
   },
   {
    "duration": 35,
    "start_time": "2022-01-19T13:52:48.582Z"
   },
   {
    "duration": 47,
    "start_time": "2022-01-19T13:52:48.621Z"
   },
   {
    "duration": 30,
    "start_time": "2022-01-19T13:52:48.671Z"
   },
   {
    "duration": 28,
    "start_time": "2022-01-19T13:52:48.703Z"
   },
   {
    "duration": 31,
    "start_time": "2022-01-19T13:52:48.733Z"
   },
   {
    "duration": 43,
    "start_time": "2022-01-19T13:52:48.766Z"
   },
   {
    "duration": 46,
    "start_time": "2022-01-19T13:52:48.811Z"
   },
   {
    "duration": 69,
    "start_time": "2022-01-19T13:52:48.859Z"
   },
   {
    "duration": 33,
    "start_time": "2022-01-19T13:52:48.930Z"
   },
   {
    "duration": 34,
    "start_time": "2022-01-19T13:52:48.965Z"
   },
   {
    "duration": 43,
    "start_time": "2022-01-19T13:52:49.001Z"
   },
   {
    "duration": 11,
    "start_time": "2022-01-19T13:55:18.628Z"
   },
   {
    "duration": 18,
    "start_time": "2022-01-19T13:56:21.851Z"
   },
   {
    "duration": 14,
    "start_time": "2022-01-19T13:59:21.053Z"
   },
   {
    "duration": 432,
    "start_time": "2022-01-19T14:06:13.241Z"
   },
   {
    "duration": 9,
    "start_time": "2022-01-19T14:15:32.024Z"
   },
   {
    "duration": 8,
    "start_time": "2022-01-19T14:20:05.353Z"
   },
   {
    "duration": 14,
    "start_time": "2022-01-19T14:20:47.445Z"
   },
   {
    "duration": 8153,
    "start_time": "2022-01-19T14:23:43.304Z"
   },
   {
    "duration": 246,
    "start_time": "2022-01-19T14:24:37.142Z"
   },
   {
    "duration": 222,
    "start_time": "2022-01-19T14:25:15.934Z"
   },
   {
    "duration": 1532,
    "start_time": "2022-01-19T14:25:44.972Z"
   },
   {
    "duration": 13,
    "start_time": "2022-01-19T14:25:46.506Z"
   },
   {
    "duration": 9,
    "start_time": "2022-01-19T14:25:46.521Z"
   },
   {
    "duration": 6,
    "start_time": "2022-01-19T14:25:46.532Z"
   },
   {
    "duration": 11,
    "start_time": "2022-01-19T14:25:46.539Z"
   },
   {
    "duration": 9,
    "start_time": "2022-01-19T14:25:46.551Z"
   },
   {
    "duration": 7,
    "start_time": "2022-01-19T14:25:46.561Z"
   },
   {
    "duration": 7,
    "start_time": "2022-01-19T14:25:46.572Z"
   },
   {
    "duration": 21,
    "start_time": "2022-01-19T14:25:46.581Z"
   },
   {
    "duration": 16,
    "start_time": "2022-01-19T14:25:46.604Z"
   },
   {
    "duration": 9,
    "start_time": "2022-01-19T14:25:46.622Z"
   },
   {
    "duration": 30,
    "start_time": "2022-01-19T14:25:46.633Z"
   },
   {
    "duration": 9,
    "start_time": "2022-01-19T14:25:46.665Z"
   },
   {
    "duration": 20,
    "start_time": "2022-01-19T14:25:46.676Z"
   },
   {
    "duration": 5,
    "start_time": "2022-01-19T14:25:46.698Z"
   },
   {
    "duration": 13,
    "start_time": "2022-01-19T14:25:46.704Z"
   },
   {
    "duration": 29,
    "start_time": "2022-01-19T14:25:46.719Z"
   },
   {
    "duration": 20,
    "start_time": "2022-01-19T14:25:46.751Z"
   },
   {
    "duration": 16,
    "start_time": "2022-01-19T14:25:46.773Z"
   },
   {
    "duration": 556,
    "start_time": "2022-01-19T14:25:46.791Z"
   },
   {
    "duration": 17,
    "start_time": "2022-01-19T14:25:47.349Z"
   },
   {
    "duration": 17,
    "start_time": "2022-01-19T14:25:47.369Z"
   },
   {
    "duration": 22,
    "start_time": "2022-01-19T14:25:47.393Z"
   },
   {
    "duration": 658,
    "start_time": "2022-01-19T14:25:47.419Z"
   },
   {
    "duration": 7648,
    "start_time": "2022-01-19T14:25:48.080Z"
   },
   {
    "duration": -275,
    "start_time": "2022-01-19T14:25:56.006Z"
   },
   {
    "duration": -276,
    "start_time": "2022-01-19T14:25:56.008Z"
   },
   {
    "duration": -276,
    "start_time": "2022-01-19T14:25:56.009Z"
   },
   {
    "duration": 219,
    "start_time": "2022-01-19T14:26:02.674Z"
   },
   {
    "duration": 8158,
    "start_time": "2022-01-19T14:26:24.401Z"
   },
   {
    "duration": 7075,
    "start_time": "2022-01-19T14:27:20.949Z"
   },
   {
    "duration": 8333,
    "start_time": "2022-01-19T14:27:40.345Z"
   },
   {
    "duration": 212,
    "start_time": "2022-01-19T14:28:58.381Z"
   },
   {
    "duration": 1674,
    "start_time": "2022-01-19T14:29:14.064Z"
   },
   {
    "duration": 11,
    "start_time": "2022-01-19T14:29:15.740Z"
   },
   {
    "duration": 13,
    "start_time": "2022-01-19T14:29:15.753Z"
   },
   {
    "duration": 24,
    "start_time": "2022-01-19T14:29:15.768Z"
   },
   {
    "duration": 21,
    "start_time": "2022-01-19T14:29:15.794Z"
   },
   {
    "duration": 43,
    "start_time": "2022-01-19T14:29:15.817Z"
   },
   {
    "duration": 17,
    "start_time": "2022-01-19T14:29:15.862Z"
   },
   {
    "duration": 24,
    "start_time": "2022-01-19T14:29:15.882Z"
   },
   {
    "duration": 28,
    "start_time": "2022-01-19T14:29:15.908Z"
   },
   {
    "duration": 37,
    "start_time": "2022-01-19T14:29:15.938Z"
   },
   {
    "duration": 32,
    "start_time": "2022-01-19T14:29:15.977Z"
   },
   {
    "duration": 33,
    "start_time": "2022-01-19T14:29:16.011Z"
   },
   {
    "duration": 20,
    "start_time": "2022-01-19T14:29:16.047Z"
   },
   {
    "duration": 43,
    "start_time": "2022-01-19T14:29:16.069Z"
   },
   {
    "duration": 28,
    "start_time": "2022-01-19T14:29:16.115Z"
   },
   {
    "duration": 36,
    "start_time": "2022-01-19T14:29:16.145Z"
   },
   {
    "duration": 40,
    "start_time": "2022-01-19T14:29:16.183Z"
   },
   {
    "duration": 55,
    "start_time": "2022-01-19T14:29:16.225Z"
   },
   {
    "duration": 34,
    "start_time": "2022-01-19T14:29:16.283Z"
   },
   {
    "duration": 470,
    "start_time": "2022-01-19T14:29:16.319Z"
   },
   {
    "duration": 10,
    "start_time": "2022-01-19T14:29:16.791Z"
   },
   {
    "duration": 39,
    "start_time": "2022-01-19T14:29:16.803Z"
   },
   {
    "duration": 28,
    "start_time": "2022-01-19T14:29:16.846Z"
   },
   {
    "duration": 298,
    "start_time": "2022-01-19T14:29:16.877Z"
   },
   {
    "duration": 362,
    "start_time": "2022-01-19T14:29:17.178Z"
   },
   {
    "duration": -40,
    "start_time": "2022-01-19T14:29:17.582Z"
   },
   {
    "duration": -41,
    "start_time": "2022-01-19T14:29:17.584Z"
   },
   {
    "duration": 176,
    "start_time": "2022-01-19T14:31:26.952Z"
   },
   {
    "duration": 168,
    "start_time": "2022-01-19T14:32:52.336Z"
   },
   {
    "duration": 11,
    "start_time": "2022-01-19T14:33:23.383Z"
   },
   {
    "duration": 14,
    "start_time": "2022-01-19T14:33:37.874Z"
   },
   {
    "duration": 8,
    "start_time": "2022-01-19T14:35:37.783Z"
   },
   {
    "duration": 206,
    "start_time": "2022-01-19T14:36:12.078Z"
   },
   {
    "duration": 237,
    "start_time": "2022-01-19T14:38:22.458Z"
   },
   {
    "duration": 331,
    "start_time": "2022-01-19T14:38:42.750Z"
   },
   {
    "duration": 236,
    "start_time": "2022-01-19T14:40:13.608Z"
   },
   {
    "duration": 237,
    "start_time": "2022-01-19T14:40:20.095Z"
   },
   {
    "duration": 352,
    "start_time": "2022-01-19T14:40:25.645Z"
   },
   {
    "duration": 233,
    "start_time": "2022-01-19T14:40:46.532Z"
   },
   {
    "duration": 226,
    "start_time": "2022-01-19T14:40:59.905Z"
   },
   {
    "duration": 396,
    "start_time": "2022-01-19T14:41:24.283Z"
   },
   {
    "duration": 221,
    "start_time": "2022-01-19T14:41:35.481Z"
   },
   {
    "duration": 230,
    "start_time": "2022-01-19T14:42:02.574Z"
   },
   {
    "duration": 218,
    "start_time": "2022-01-19T14:42:23.671Z"
   },
   {
    "duration": 285,
    "start_time": "2022-01-19T14:42:28.724Z"
   },
   {
    "duration": 11,
    "start_time": "2022-01-19T14:51:10.033Z"
   },
   {
    "duration": 268,
    "start_time": "2022-01-19T14:52:07.417Z"
   },
   {
    "duration": 298,
    "start_time": "2022-01-19T14:53:05.451Z"
   },
   {
    "duration": 282,
    "start_time": "2022-01-19T14:54:01.944Z"
   },
   {
    "duration": 239,
    "start_time": "2022-01-19T14:54:14.075Z"
   },
   {
    "duration": 7,
    "start_time": "2022-01-19T15:58:39.580Z"
   },
   {
    "duration": 328,
    "start_time": "2022-01-19T15:58:51.446Z"
   },
   {
    "duration": 348,
    "start_time": "2022-01-19T15:59:14.441Z"
   },
   {
    "duration": 437,
    "start_time": "2022-01-19T15:59:42.446Z"
   },
   {
    "duration": 319,
    "start_time": "2022-01-19T16:00:34.223Z"
   },
   {
    "duration": 321,
    "start_time": "2022-01-19T16:00:43.323Z"
   },
   {
    "duration": 373,
    "start_time": "2022-01-19T16:00:51.214Z"
   },
   {
    "duration": 18,
    "start_time": "2022-01-19T16:04:19.526Z"
   },
   {
    "duration": 10,
    "start_time": "2022-01-19T16:04:25.278Z"
   },
   {
    "duration": 279,
    "start_time": "2022-01-19T16:04:38.939Z"
   },
   {
    "duration": 259,
    "start_time": "2022-01-19T16:06:13.138Z"
   },
   {
    "duration": 13,
    "start_time": "2022-01-19T16:09:05.296Z"
   },
   {
    "duration": 12,
    "start_time": "2022-01-19T16:09:09.356Z"
   },
   {
    "duration": 34,
    "start_time": "2022-01-19T16:09:53.657Z"
   },
   {
    "duration": 10,
    "start_time": "2022-01-19T16:09:58.838Z"
   },
   {
    "duration": 12,
    "start_time": "2022-01-19T16:10:10.377Z"
   },
   {
    "duration": 13,
    "start_time": "2022-01-19T16:10:13.128Z"
   },
   {
    "duration": 274,
    "start_time": "2022-01-19T16:10:15.277Z"
   },
   {
    "duration": 285,
    "start_time": "2022-01-19T16:11:00.094Z"
   },
   {
    "duration": 287,
    "start_time": "2022-01-19T16:11:20.983Z"
   },
   {
    "duration": 434,
    "start_time": "2022-01-19T16:11:32.245Z"
   },
   {
    "duration": 429,
    "start_time": "2022-01-19T16:11:37.161Z"
   },
   {
    "duration": 13,
    "start_time": "2022-01-19T16:22:26.777Z"
   },
   {
    "duration": 9,
    "start_time": "2022-01-19T16:22:32.620Z"
   },
   {
    "duration": 268,
    "start_time": "2022-01-19T16:22:57.642Z"
   },
   {
    "duration": 113,
    "start_time": "2022-01-19T16:23:07.713Z"
   },
   {
    "duration": 120,
    "start_time": "2022-01-19T16:23:13.147Z"
   },
   {
    "duration": 121,
    "start_time": "2022-01-19T16:23:24.455Z"
   },
   {
    "duration": 139,
    "start_time": "2022-01-19T16:24:08.772Z"
   },
   {
    "duration": 366,
    "start_time": "2022-01-19T16:24:19.044Z"
   },
   {
    "duration": 355,
    "start_time": "2022-01-19T16:24:51.308Z"
   },
   {
    "duration": 353,
    "start_time": "2022-01-19T16:25:06.132Z"
   },
   {
    "duration": 339,
    "start_time": "2022-01-19T16:27:28.180Z"
   },
   {
    "duration": 6,
    "start_time": "2022-01-19T16:33:49.977Z"
   },
   {
    "duration": 5,
    "start_time": "2022-01-19T16:34:19.273Z"
   },
   {
    "duration": 256,
    "start_time": "2022-01-19T16:38:18.901Z"
   },
   {
    "duration": 585,
    "start_time": "2022-01-19T16:38:59.462Z"
   },
   {
    "duration": 392,
    "start_time": "2022-01-19T16:40:00.878Z"
   },
   {
    "duration": 385,
    "start_time": "2022-01-19T16:40:12.065Z"
   },
   {
    "duration": 327,
    "start_time": "2022-01-19T16:42:07.598Z"
   },
   {
    "duration": 702,
    "start_time": "2022-01-19T16:42:50.558Z"
   },
   {
    "duration": 713,
    "start_time": "2022-01-19T16:43:24.660Z"
   },
   {
    "duration": 777,
    "start_time": "2022-01-19T16:43:55.656Z"
   },
   {
    "duration": 693,
    "start_time": "2022-01-19T16:44:22.295Z"
   },
   {
    "duration": 244,
    "start_time": "2022-01-19T16:51:18.324Z"
   },
   {
    "duration": 5,
    "start_time": "2022-01-19T16:51:30.297Z"
   },
   {
    "duration": 4,
    "start_time": "2022-01-19T16:51:43.447Z"
   },
   {
    "duration": 5,
    "start_time": "2022-01-19T16:52:20.737Z"
   },
   {
    "duration": 14,
    "start_time": "2022-01-19T16:56:59.698Z"
   },
   {
    "duration": 7262,
    "start_time": "2022-01-19T16:57:25.673Z"
   },
   {
    "duration": 78,
    "start_time": "2022-01-19T16:57:56.446Z"
   },
   {
    "duration": 111,
    "start_time": "2022-01-19T16:58:10.450Z"
   },
   {
    "duration": 8,
    "start_time": "2022-01-19T16:58:23.876Z"
   },
   {
    "duration": 246,
    "start_time": "2022-01-19T17:00:13.416Z"
   },
   {
    "duration": 256,
    "start_time": "2022-01-19T17:00:26.897Z"
   },
   {
    "duration": 9,
    "start_time": "2022-01-19T17:02:08.545Z"
   },
   {
    "duration": 8,
    "start_time": "2022-01-19T17:04:16.641Z"
   },
   {
    "duration": 7,
    "start_time": "2022-01-19T17:05:05.523Z"
   },
   {
    "duration": 13,
    "start_time": "2022-01-19T19:31:52.662Z"
   },
   {
    "duration": 6,
    "start_time": "2022-01-19T19:41:35.048Z"
   },
   {
    "duration": 6,
    "start_time": "2022-01-19T19:41:40.192Z"
   },
   {
    "duration": 5,
    "start_time": "2022-01-19T19:41:58.997Z"
   },
   {
    "duration": 4,
    "start_time": "2022-01-19T19:42:19.525Z"
   },
   {
    "duration": 5,
    "start_time": "2022-01-19T19:43:44.936Z"
   },
   {
    "duration": 7172,
    "start_time": "2022-01-19T19:43:45.852Z"
   },
   {
    "duration": 9,
    "start_time": "2022-01-19T19:44:25.910Z"
   },
   {
    "duration": 9,
    "start_time": "2022-01-19T19:44:36.649Z"
   },
   {
    "duration": 7403,
    "start_time": "2022-01-19T19:45:20.513Z"
   },
   {
    "duration": 9,
    "start_time": "2022-01-19T19:45:46.090Z"
   },
   {
    "duration": 7,
    "start_time": "2022-01-19T19:45:53.394Z"
   },
   {
    "duration": 9,
    "start_time": "2022-01-19T19:46:17.732Z"
   },
   {
    "duration": 10,
    "start_time": "2022-01-19T19:47:31.190Z"
   },
   {
    "duration": 10,
    "start_time": "2022-01-19T19:48:28.241Z"
   },
   {
    "duration": 263,
    "start_time": "2022-01-19T19:50:57.652Z"
   },
   {
    "duration": 13,
    "start_time": "2022-01-19T19:51:42.958Z"
   },
   {
    "duration": 291,
    "start_time": "2022-01-19T19:51:44.017Z"
   },
   {
    "duration": 1737,
    "start_time": "2022-01-19T19:52:04.040Z"
   },
   {
    "duration": 10,
    "start_time": "2022-01-19T19:52:05.779Z"
   },
   {
    "duration": 36,
    "start_time": "2022-01-19T19:52:05.791Z"
   },
   {
    "duration": 43,
    "start_time": "2022-01-19T19:52:05.829Z"
   },
   {
    "duration": 27,
    "start_time": "2022-01-19T19:52:05.874Z"
   },
   {
    "duration": 34,
    "start_time": "2022-01-19T19:52:05.903Z"
   },
   {
    "duration": 36,
    "start_time": "2022-01-19T19:52:05.938Z"
   },
   {
    "duration": 44,
    "start_time": "2022-01-19T19:52:05.976Z"
   },
   {
    "duration": 44,
    "start_time": "2022-01-19T19:52:06.023Z"
   },
   {
    "duration": 22,
    "start_time": "2022-01-19T19:52:06.071Z"
   },
   {
    "duration": 25,
    "start_time": "2022-01-19T19:52:06.095Z"
   },
   {
    "duration": 30,
    "start_time": "2022-01-19T19:52:06.121Z"
   },
   {
    "duration": 31,
    "start_time": "2022-01-19T19:52:06.152Z"
   },
   {
    "duration": 46,
    "start_time": "2022-01-19T19:52:06.185Z"
   },
   {
    "duration": 4,
    "start_time": "2022-01-19T19:52:06.233Z"
   },
   {
    "duration": 21,
    "start_time": "2022-01-19T19:52:06.238Z"
   },
   {
    "duration": 61,
    "start_time": "2022-01-19T19:52:06.261Z"
   },
   {
    "duration": 46,
    "start_time": "2022-01-19T19:52:06.324Z"
   },
   {
    "duration": 25,
    "start_time": "2022-01-19T19:52:06.373Z"
   },
   {
    "duration": 481,
    "start_time": "2022-01-19T19:52:06.400Z"
   },
   {
    "duration": 10,
    "start_time": "2022-01-19T19:52:06.883Z"
   },
   {
    "duration": 30,
    "start_time": "2022-01-19T19:52:06.894Z"
   },
   {
    "duration": 26,
    "start_time": "2022-01-19T19:52:06.926Z"
   },
   {
    "duration": 243,
    "start_time": "2022-01-19T19:52:06.953Z"
   },
   {
    "duration": 186,
    "start_time": "2022-01-19T19:52:07.198Z"
   },
   {
    "duration": 13,
    "start_time": "2022-01-19T19:52:07.386Z"
   },
   {
    "duration": 24,
    "start_time": "2022-01-19T19:52:07.403Z"
   },
   {
    "duration": 244,
    "start_time": "2022-01-19T19:52:07.429Z"
   },
   {
    "duration": 290,
    "start_time": "2022-01-19T19:52:07.675Z"
   },
   {
    "duration": 9,
    "start_time": "2022-01-19T19:52:07.968Z"
   },
   {
    "duration": 331,
    "start_time": "2022-01-19T19:52:07.979Z"
   },
   {
    "duration": 11,
    "start_time": "2022-01-19T19:52:08.312Z"
   },
   {
    "duration": 21,
    "start_time": "2022-01-19T19:52:08.324Z"
   },
   {
    "duration": 304,
    "start_time": "2022-01-19T19:52:08.346Z"
   },
   {
    "duration": 16,
    "start_time": "2022-01-19T19:52:08.651Z"
   },
   {
    "duration": 137,
    "start_time": "2022-01-19T19:52:08.669Z"
   },
   {
    "duration": 347,
    "start_time": "2022-01-19T19:52:08.808Z"
   },
   {
    "duration": 5,
    "start_time": "2022-01-19T19:52:09.160Z"
   },
   {
    "duration": 829,
    "start_time": "2022-01-19T19:52:09.168Z"
   },
   {
    "duration": 5,
    "start_time": "2022-01-19T19:52:09.999Z"
   },
   {
    "duration": 146,
    "start_time": "2022-01-19T19:52:10.005Z"
   },
   {
    "duration": 13,
    "start_time": "2022-01-19T19:52:10.153Z"
   },
   {
    "duration": 32,
    "start_time": "2022-01-19T19:52:10.170Z"
   },
   {
    "duration": 17,
    "start_time": "2022-01-19T19:52:10.204Z"
   },
   {
    "duration": 28,
    "start_time": "2022-01-19T19:52:10.223Z"
   },
   {
    "duration": 7896,
    "start_time": "2022-01-19T19:52:10.253Z"
   },
   {
    "duration": -180,
    "start_time": "2022-01-19T19:52:18.331Z"
   },
   {
    "duration": -181,
    "start_time": "2022-01-19T19:52:18.333Z"
   },
   {
    "duration": -182,
    "start_time": "2022-01-19T19:52:18.335Z"
   },
   {
    "duration": 13,
    "start_time": "2022-01-19T19:53:04.670Z"
   },
   {
    "duration": 12,
    "start_time": "2022-01-19T19:53:11.157Z"
   },
   {
    "duration": 256,
    "start_time": "2022-01-19T19:53:19.734Z"
   },
   {
    "duration": 8,
    "start_time": "2022-01-19T19:53:57.291Z"
   },
   {
    "duration": 11,
    "start_time": "2022-01-19T19:54:23.191Z"
   },
   {
    "duration": 5,
    "start_time": "2022-01-19T19:54:27.076Z"
   },
   {
    "duration": 7,
    "start_time": "2022-01-19T19:54:44.513Z"
   },
   {
    "duration": 16,
    "start_time": "2022-01-19T19:57:06.211Z"
   },
   {
    "duration": 91,
    "start_time": "2022-01-19T19:57:38.836Z"
   },
   {
    "duration": 112,
    "start_time": "2022-01-19T19:57:58.056Z"
   },
   {
    "duration": 9,
    "start_time": "2022-01-19T19:58:09.068Z"
   },
   {
    "duration": 81,
    "start_time": "2022-01-19T20:00:38.040Z"
   },
   {
    "duration": 97,
    "start_time": "2022-01-19T20:00:44.641Z"
   },
   {
    "duration": 12,
    "start_time": "2022-01-19T20:00:50.336Z"
   },
   {
    "duration": 12,
    "start_time": "2022-01-19T20:01:17.374Z"
   },
   {
    "duration": 9,
    "start_time": "2022-01-19T20:01:35.858Z"
   },
   {
    "duration": 12,
    "start_time": "2022-01-19T20:01:46.784Z"
   },
   {
    "duration": 10,
    "start_time": "2022-01-19T20:03:53.806Z"
   },
   {
    "duration": 10,
    "start_time": "2022-01-19T20:03:55.234Z"
   },
   {
    "duration": 31526,
    "start_time": "2022-01-20T14:15:58.305Z"
   },
   {
    "duration": 16,
    "start_time": "2022-01-20T14:16:29.833Z"
   },
   {
    "duration": 38,
    "start_time": "2022-01-20T14:16:29.851Z"
   },
   {
    "duration": 50,
    "start_time": "2022-01-20T14:16:29.891Z"
   },
   {
    "duration": 40,
    "start_time": "2022-01-20T14:16:29.942Z"
   },
   {
    "duration": 62,
    "start_time": "2022-01-20T14:16:29.984Z"
   },
   {
    "duration": 36,
    "start_time": "2022-01-20T14:16:30.047Z"
   },
   {
    "duration": 58,
    "start_time": "2022-01-20T14:16:30.084Z"
   },
   {
    "duration": 31,
    "start_time": "2022-01-20T14:16:30.145Z"
   },
   {
    "duration": 28,
    "start_time": "2022-01-20T14:16:30.178Z"
   },
   {
    "duration": 15,
    "start_time": "2022-01-20T14:16:30.208Z"
   },
   {
    "duration": 29,
    "start_time": "2022-01-20T14:16:30.224Z"
   },
   {
    "duration": 20,
    "start_time": "2022-01-20T14:16:30.255Z"
   },
   {
    "duration": 25,
    "start_time": "2022-01-20T14:16:30.277Z"
   },
   {
    "duration": 16,
    "start_time": "2022-01-20T14:16:30.303Z"
   },
   {
    "duration": 32,
    "start_time": "2022-01-20T14:16:30.321Z"
   },
   {
    "duration": 36,
    "start_time": "2022-01-20T14:16:30.354Z"
   },
   {
    "duration": 26,
    "start_time": "2022-01-20T14:16:30.391Z"
   },
   {
    "duration": 22,
    "start_time": "2022-01-20T14:16:30.419Z"
   },
   {
    "duration": 722,
    "start_time": "2022-01-20T14:16:30.443Z"
   },
   {
    "duration": 9,
    "start_time": "2022-01-20T14:16:31.167Z"
   },
   {
    "duration": 64,
    "start_time": "2022-01-20T14:16:31.178Z"
   },
   {
    "duration": 23,
    "start_time": "2022-01-20T14:16:31.244Z"
   },
   {
    "duration": 412,
    "start_time": "2022-01-20T14:16:31.269Z"
   },
   {
    "duration": 186,
    "start_time": "2022-01-20T14:16:31.682Z"
   },
   {
    "duration": 13,
    "start_time": "2022-01-20T14:16:31.870Z"
   },
   {
    "duration": 22,
    "start_time": "2022-01-20T14:16:31.887Z"
   },
   {
    "duration": 207,
    "start_time": "2022-01-20T14:16:31.912Z"
   },
   {
    "duration": 269,
    "start_time": "2022-01-20T14:16:32.121Z"
   },
   {
    "duration": 7,
    "start_time": "2022-01-20T14:16:32.391Z"
   },
   {
    "duration": 363,
    "start_time": "2022-01-20T14:16:32.400Z"
   },
   {
    "duration": 10,
    "start_time": "2022-01-20T14:16:32.765Z"
   },
   {
    "duration": 23,
    "start_time": "2022-01-20T14:16:32.776Z"
   },
   {
    "duration": 343,
    "start_time": "2022-01-20T14:16:32.800Z"
   },
   {
    "duration": 8,
    "start_time": "2022-01-20T14:16:33.145Z"
   },
   {
    "duration": 195,
    "start_time": "2022-01-20T14:16:33.154Z"
   },
   {
    "duration": 339,
    "start_time": "2022-01-20T14:16:33.351Z"
   },
   {
    "duration": 5,
    "start_time": "2022-01-20T14:16:33.692Z"
   },
   {
    "duration": 779,
    "start_time": "2022-01-20T14:16:33.699Z"
   },
   {
    "duration": 4,
    "start_time": "2022-01-20T14:16:34.480Z"
   },
   {
    "duration": 102,
    "start_time": "2022-01-20T14:16:34.485Z"
   },
   {
    "duration": 7,
    "start_time": "2022-01-20T14:16:34.589Z"
   },
   {
    "duration": 9,
    "start_time": "2022-01-20T14:16:34.597Z"
   },
   {
    "duration": 8,
    "start_time": "2022-01-20T14:16:34.607Z"
   },
   {
    "duration": 6,
    "start_time": "2022-01-20T14:16:34.617Z"
   },
   {
    "duration": 22,
    "start_time": "2022-01-20T14:16:34.624Z"
   },
   {
    "duration": 18,
    "start_time": "2022-01-20T14:16:34.647Z"
   },
   {
    "duration": 6,
    "start_time": "2022-01-20T14:16:34.667Z"
   },
   {
    "duration": 19,
    "start_time": "2022-01-20T14:16:34.675Z"
   },
   {
    "duration": 10,
    "start_time": "2022-01-20T14:16:34.695Z"
   },
   {
    "duration": 234,
    "start_time": "2022-01-21T13:55:11.534Z"
   },
   {
    "duration": 1378,
    "start_time": "2022-01-21T13:55:20.852Z"
   },
   {
    "duration": 10,
    "start_time": "2022-01-21T13:55:22.231Z"
   },
   {
    "duration": 6,
    "start_time": "2022-01-21T13:55:22.243Z"
   },
   {
    "duration": 8,
    "start_time": "2022-01-21T13:55:22.250Z"
   },
   {
    "duration": 11,
    "start_time": "2022-01-21T13:55:22.259Z"
   },
   {
    "duration": 7,
    "start_time": "2022-01-21T13:55:23.139Z"
   },
   {
    "duration": 6,
    "start_time": "2022-01-21T13:55:23.334Z"
   },
   {
    "duration": 7,
    "start_time": "2022-01-21T13:55:23.562Z"
   },
   {
    "duration": 12,
    "start_time": "2022-01-21T13:55:23.749Z"
   },
   {
    "duration": 7,
    "start_time": "2022-01-21T13:55:23.951Z"
   },
   {
    "duration": 4,
    "start_time": "2022-01-21T13:55:24.132Z"
   },
   {
    "duration": 6,
    "start_time": "2022-01-21T13:55:24.334Z"
   },
   {
    "duration": 5,
    "start_time": "2022-01-21T13:55:24.521Z"
   },
   {
    "duration": 11,
    "start_time": "2022-01-21T13:55:24.718Z"
   },
   {
    "duration": 4,
    "start_time": "2022-01-21T13:55:24.918Z"
   },
   {
    "duration": 6,
    "start_time": "2022-01-21T13:55:25.085Z"
   },
   {
    "duration": 8,
    "start_time": "2022-01-21T13:55:26.570Z"
   },
   {
    "duration": 11,
    "start_time": "2022-01-21T13:55:26.783Z"
   },
   {
    "duration": 10,
    "start_time": "2022-01-21T13:55:27.201Z"
   },
   {
    "duration": 469,
    "start_time": "2022-01-21T13:55:27.636Z"
   },
   {
    "duration": 10,
    "start_time": "2022-01-21T13:55:32.974Z"
   },
   {
    "duration": 8,
    "start_time": "2022-01-21T13:55:33.445Z"
   },
   {
    "duration": 10,
    "start_time": "2022-01-21T13:55:33.650Z"
   },
   {
    "duration": 197,
    "start_time": "2022-01-21T13:55:33.868Z"
   },
   {
    "duration": 154,
    "start_time": "2022-01-21T13:55:34.284Z"
   },
   {
    "duration": 13,
    "start_time": "2022-01-21T13:55:35.013Z"
   },
   {
    "duration": 7,
    "start_time": "2022-01-21T13:55:35.563Z"
   },
   {
    "duration": 196,
    "start_time": "2022-01-21T13:55:36.345Z"
   },
   {
    "duration": 278,
    "start_time": "2022-01-21T13:55:41.880Z"
   },
   {
    "duration": 251,
    "start_time": "2022-01-21T13:56:57.741Z"
   },
   {
    "duration": 7,
    "start_time": "2022-01-21T13:56:59.721Z"
   },
   {
    "duration": 314,
    "start_time": "2022-01-21T13:57:24.230Z"
   },
   {
    "duration": 10,
    "start_time": "2022-01-21T13:57:26.954Z"
   },
   {
    "duration": 9,
    "start_time": "2022-01-21T13:57:27.488Z"
   },
   {
    "duration": 386,
    "start_time": "2022-01-21T13:57:40.576Z"
   },
   {
    "duration": 446,
    "start_time": "2022-01-21T13:58:01.154Z"
   },
   {
    "duration": 366,
    "start_time": "2022-01-21T13:59:16.846Z"
   },
   {
    "duration": 349,
    "start_time": "2022-01-21T13:59:33.463Z"
   },
   {
    "duration": 394,
    "start_time": "2022-01-21T13:59:38.701Z"
   },
   {
    "duration": 367,
    "start_time": "2022-01-21T14:00:03.560Z"
   },
   {
    "duration": 367,
    "start_time": "2022-01-21T14:01:33.228Z"
   },
   {
    "duration": 12,
    "start_time": "2022-01-21T14:01:35.479Z"
   },
   {
    "duration": 101,
    "start_time": "2022-01-21T14:01:39.596Z"
   },
   {
    "duration": 368,
    "start_time": "2022-01-21T14:01:40.098Z"
   },
   {
    "duration": 4,
    "start_time": "2022-01-21T14:01:41.077Z"
   },
   {
    "duration": 694,
    "start_time": "2022-01-21T14:01:42.393Z"
   },
   {
    "duration": 588,
    "start_time": "2022-01-21T14:03:13.159Z"
   },
   {
    "duration": 393,
    "start_time": "2022-01-21T14:03:44.463Z"
   },
   {
    "duration": 973,
    "start_time": "2022-01-21T14:04:06.108Z"
   },
   {
    "duration": 520,
    "start_time": "2022-01-21T14:04:14.577Z"
   },
   {
    "duration": 661,
    "start_time": "2022-01-21T14:04:58.924Z"
   },
   {
    "duration": 4,
    "start_time": "2022-01-21T14:05:37.045Z"
   },
   {
    "duration": 96,
    "start_time": "2022-01-21T14:05:43.044Z"
   },
   {
    "duration": 8,
    "start_time": "2022-01-21T14:05:43.454Z"
   },
   {
    "duration": 7,
    "start_time": "2022-01-21T14:05:43.840Z"
   },
   {
    "duration": 117,
    "start_time": "2022-01-21T14:08:12.922Z"
   },
   {
    "duration": 7,
    "start_time": "2022-01-21T14:08:13.845Z"
   },
   {
    "duration": 6,
    "start_time": "2022-01-21T14:08:14.508Z"
   },
   {
    "duration": 8,
    "start_time": "2022-01-21T14:08:48.839Z"
   },
   {
    "duration": 6,
    "start_time": "2022-01-21T14:09:22.972Z"
   },
   {
    "duration": 7,
    "start_time": "2022-01-21T14:09:23.597Z"
   },
   {
    "duration": 9,
    "start_time": "2022-01-21T14:09:25.642Z"
   },
   {
    "duration": 17,
    "start_time": "2022-01-21T14:09:26.146Z"
   },
   {
    "duration": 8,
    "start_time": "2022-01-21T14:10:20.506Z"
   },
   {
    "duration": 9,
    "start_time": "2022-01-21T14:10:21.158Z"
   },
   {
    "duration": 70784,
    "start_time": "2022-01-21T17:39:46.008Z"
   },
   {
    "duration": 9,
    "start_time": "2022-01-21T17:40:56.794Z"
   },
   {
    "duration": 52,
    "start_time": "2022-01-21T17:40:56.805Z"
   },
   {
    "duration": 22,
    "start_time": "2022-01-21T17:40:56.859Z"
   },
   {
    "duration": 64,
    "start_time": "2022-01-21T17:40:56.882Z"
   },
   {
    "duration": 54,
    "start_time": "2022-01-21T17:40:56.948Z"
   },
   {
    "duration": 33,
    "start_time": "2022-01-21T17:40:57.003Z"
   },
   {
    "duration": 23,
    "start_time": "2022-01-21T17:40:57.037Z"
   },
   {
    "duration": 41,
    "start_time": "2022-01-21T17:40:57.063Z"
   },
   {
    "duration": 31,
    "start_time": "2022-01-21T17:40:57.107Z"
   },
   {
    "duration": 31,
    "start_time": "2022-01-21T17:40:57.140Z"
   },
   {
    "duration": 44,
    "start_time": "2022-01-21T17:40:57.173Z"
   },
   {
    "duration": 35,
    "start_time": "2022-01-21T17:40:57.218Z"
   },
   {
    "duration": 34,
    "start_time": "2022-01-21T17:40:57.254Z"
   },
   {
    "duration": 20,
    "start_time": "2022-01-21T17:40:57.290Z"
   },
   {
    "duration": 49,
    "start_time": "2022-01-21T17:40:57.311Z"
   },
   {
    "duration": 43,
    "start_time": "2022-01-21T17:40:57.362Z"
   },
   {
    "duration": 34,
    "start_time": "2022-01-21T17:40:57.407Z"
   },
   {
    "duration": 35,
    "start_time": "2022-01-21T17:40:57.442Z"
   },
   {
    "duration": 411,
    "start_time": "2022-01-21T17:40:57.479Z"
   },
   {
    "duration": 7,
    "start_time": "2022-01-21T17:40:57.892Z"
   },
   {
    "duration": 43,
    "start_time": "2022-01-21T17:40:57.901Z"
   },
   {
    "duration": 44,
    "start_time": "2022-01-21T17:40:57.945Z"
   },
   {
    "duration": 179,
    "start_time": "2022-01-21T17:40:57.990Z"
   },
   {
    "duration": 125,
    "start_time": "2022-01-21T17:40:58.171Z"
   },
   {
    "duration": 12,
    "start_time": "2022-01-21T17:40:58.298Z"
   },
   {
    "duration": 13,
    "start_time": "2022-01-21T17:40:58.313Z"
   },
   {
    "duration": 215,
    "start_time": "2022-01-21T17:40:58.327Z"
   },
   {
    "duration": 181,
    "start_time": "2022-01-21T17:40:58.543Z"
   },
   {
    "duration": 5,
    "start_time": "2022-01-21T17:40:58.726Z"
   },
   {
    "duration": 364,
    "start_time": "2022-01-21T17:40:58.732Z"
   },
   {
    "duration": 10,
    "start_time": "2022-01-21T17:40:59.098Z"
   },
   {
    "duration": 24,
    "start_time": "2022-01-21T17:40:59.110Z"
   },
   {
    "duration": 377,
    "start_time": "2022-01-21T17:40:59.136Z"
   },
   {
    "duration": 9,
    "start_time": "2022-01-21T17:40:59.514Z"
   },
   {
    "duration": 67,
    "start_time": "2022-01-21T17:40:59.525Z"
   },
   {
    "duration": 309,
    "start_time": "2022-01-21T17:40:59.593Z"
   },
   {
    "duration": 4,
    "start_time": "2022-01-21T17:40:59.904Z"
   },
   {
    "duration": 696,
    "start_time": "2022-01-21T17:40:59.909Z"
   },
   {
    "duration": 4,
    "start_time": "2022-01-21T17:41:00.607Z"
   },
   {
    "duration": 82,
    "start_time": "2022-01-21T17:41:00.613Z"
   },
   {
    "duration": 26,
    "start_time": "2022-01-21T17:41:00.697Z"
   },
   {
    "duration": 31,
    "start_time": "2022-01-21T17:41:00.724Z"
   },
   {
    "duration": 39,
    "start_time": "2022-01-21T17:41:00.756Z"
   },
   {
    "duration": 22,
    "start_time": "2022-01-21T17:41:00.797Z"
   },
   {
    "duration": 33,
    "start_time": "2022-01-21T17:41:00.821Z"
   },
   {
    "duration": 37,
    "start_time": "2022-01-21T17:41:00.856Z"
   },
   {
    "duration": 44,
    "start_time": "2022-01-21T17:41:00.895Z"
   },
   {
    "duration": 13,
    "start_time": "2022-01-21T17:41:00.940Z"
   },
   {
    "duration": 21,
    "start_time": "2022-01-21T17:41:00.954Z"
   }
  ],
  "kernelspec": {
   "display_name": "Python 3",
   "language": "python",
   "name": "python3"
  },
  "language_info": {
   "codemirror_mode": {
    "name": "ipython",
    "version": 3
   },
   "file_extension": ".py",
   "mimetype": "text/x-python",
   "name": "python",
   "nbconvert_exporter": "python",
   "pygments_lexer": "ipython3",
   "version": "3.7.8"
  },
  "toc": {
   "base_numbering": 1,
   "nav_menu": {},
   "number_sections": true,
   "sideBar": true,
   "skip_h1_title": true,
   "title_cell": "Table of Contents",
   "title_sidebar": "Contents",
   "toc_cell": false,
   "toc_position": {},
   "toc_section_display": true,
   "toc_window_display": false
  }
 },
 "nbformat": 4,
 "nbformat_minor": 2
}