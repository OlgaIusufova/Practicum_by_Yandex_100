{
 "cells": [
  {
   "cell_type": "markdown",
   "metadata": {},
   "source": [
    "# Project description\n",
    "## Identifying patterns that determine the success of games\n",
    "\n",
    "You work for the online store Ice, which sells video games all over the world. User and expert reviews, genres, platforms (e.g. Xbox or PlayStation), and historical data on game sales are available from open sources. You need to identify patterns that determine whether a game succeeds or not. This will allow you to spot potential big winners and plan advertising campaigns.\n",
    "<br>In front of you is data going back to 2016. Let’s imagine that it’s December 2016 and you’re planning a campaign for 2017.\n",
    "<br>(The important thing is to get experience working with data. It doesn't really matter whether you're forecasting 2017 sales based on data from 2016 or 2017 sales based on data from 2016.)\n",
    "<br>The dataset contains the abbreviation ESRB. The Entertainment Software Rating Board evaluates a game's content and assigns an age rating such as Teen or Mature."
   ]
  },
  {
   "cell_type": "markdown",
   "metadata": {},
   "source": [
    "# Data description\n",
    "- Name\n",
    "- Platform\n",
    "- Year_of_Release\n",
    "- Genre\n",
    "- NA_sales (North American sales in USD million)\n",
    "- EU_sales (sales in Europe in USD million)\n",
    "- JP_sales (sales in Japan in USD million)\n",
    "- Other_sales (sales in other countries in USD million)\n",
    "- Critic_Score (maximum of 100)\n",
    "- User_Score (maximum of 10)\n",
    "- Rating (ESRB)\n",
    "\n",
    "Data for 2016 may be incomplete."
   ]
  },
  {
   "cell_type": "markdown",
   "metadata": {},
   "source": [
    "## Open the data file and study the general information. "
   ]
  },
  {
   "cell_type": "code",
   "execution_count": 1,
   "metadata": {},
   "outputs": [],
   "source": [
    "import pandas as pd\n",
    "import matplotlib.pyplot as plt\n",
    "from scipy import stats as st\n",
    "import seaborn as sns\n",
    "import numpy as np\n",
    "\n",
    "from scipy import stats\n",
    "rng = np.random.default_rng()"
   ]
  },
  {
   "cell_type": "code",
   "execution_count": 2,
   "metadata": {},
   "outputs": [],
   "source": [
    "games = pd.read_csv('/datasets/games.csv')"
   ]
  },
  {
   "cell_type": "code",
   "execution_count": 3,
   "metadata": {},
   "outputs": [
    {
     "name": "stdout",
     "output_type": "stream",
     "text": [
      "<class 'pandas.core.frame.DataFrame'>\n",
      "RangeIndex: 16715 entries, 0 to 16714\n",
      "Data columns (total 11 columns):\n",
      " #   Column           Non-Null Count  Dtype  \n",
      "---  ------           --------------  -----  \n",
      " 0   Name             16713 non-null  object \n",
      " 1   Platform         16715 non-null  object \n",
      " 2   Year_of_Release  16446 non-null  float64\n",
      " 3   Genre            16713 non-null  object \n",
      " 4   NA_sales         16715 non-null  float64\n",
      " 5   EU_sales         16715 non-null  float64\n",
      " 6   JP_sales         16715 non-null  float64\n",
      " 7   Other_sales      16715 non-null  float64\n",
      " 8   Critic_Score     8137 non-null   float64\n",
      " 9   User_Score       10014 non-null  object \n",
      " 10  Rating           9949 non-null   object \n",
      "dtypes: float64(6), object(5)\n",
      "memory usage: 1.4+ MB\n"
     ]
    }
   ],
   "source": [
    "games.info()"
   ]
  },
  {
   "cell_type": "code",
   "execution_count": 4,
   "metadata": {},
   "outputs": [
    {
     "data": {
      "text/html": [
       "<div>\n",
       "<style scoped>\n",
       "    .dataframe tbody tr th:only-of-type {\n",
       "        vertical-align: middle;\n",
       "    }\n",
       "\n",
       "    .dataframe tbody tr th {\n",
       "        vertical-align: top;\n",
       "    }\n",
       "\n",
       "    .dataframe thead th {\n",
       "        text-align: right;\n",
       "    }\n",
       "</style>\n",
       "<table border=\"1\" class=\"dataframe\">\n",
       "  <thead>\n",
       "    <tr style=\"text-align: right;\">\n",
       "      <th></th>\n",
       "      <th>Name</th>\n",
       "      <th>Platform</th>\n",
       "      <th>Year_of_Release</th>\n",
       "      <th>Genre</th>\n",
       "      <th>NA_sales</th>\n",
       "      <th>EU_sales</th>\n",
       "      <th>JP_sales</th>\n",
       "      <th>Other_sales</th>\n",
       "      <th>Critic_Score</th>\n",
       "      <th>User_Score</th>\n",
       "      <th>Rating</th>\n",
       "    </tr>\n",
       "  </thead>\n",
       "  <tbody>\n",
       "    <tr>\n",
       "      <th>0</th>\n",
       "      <td>Wii Sports</td>\n",
       "      <td>Wii</td>\n",
       "      <td>2006.0</td>\n",
       "      <td>Sports</td>\n",
       "      <td>41.36</td>\n",
       "      <td>28.96</td>\n",
       "      <td>3.77</td>\n",
       "      <td>8.45</td>\n",
       "      <td>76.0</td>\n",
       "      <td>8</td>\n",
       "      <td>E</td>\n",
       "    </tr>\n",
       "    <tr>\n",
       "      <th>1</th>\n",
       "      <td>Super Mario Bros.</td>\n",
       "      <td>NES</td>\n",
       "      <td>1985.0</td>\n",
       "      <td>Platform</td>\n",
       "      <td>29.08</td>\n",
       "      <td>3.58</td>\n",
       "      <td>6.81</td>\n",
       "      <td>0.77</td>\n",
       "      <td>NaN</td>\n",
       "      <td>NaN</td>\n",
       "      <td>NaN</td>\n",
       "    </tr>\n",
       "    <tr>\n",
       "      <th>2</th>\n",
       "      <td>Mario Kart Wii</td>\n",
       "      <td>Wii</td>\n",
       "      <td>2008.0</td>\n",
       "      <td>Racing</td>\n",
       "      <td>15.68</td>\n",
       "      <td>12.76</td>\n",
       "      <td>3.79</td>\n",
       "      <td>3.29</td>\n",
       "      <td>82.0</td>\n",
       "      <td>8.3</td>\n",
       "      <td>E</td>\n",
       "    </tr>\n",
       "    <tr>\n",
       "      <th>3</th>\n",
       "      <td>Wii Sports Resort</td>\n",
       "      <td>Wii</td>\n",
       "      <td>2009.0</td>\n",
       "      <td>Sports</td>\n",
       "      <td>15.61</td>\n",
       "      <td>10.93</td>\n",
       "      <td>3.28</td>\n",
       "      <td>2.95</td>\n",
       "      <td>80.0</td>\n",
       "      <td>8</td>\n",
       "      <td>E</td>\n",
       "    </tr>\n",
       "    <tr>\n",
       "      <th>4</th>\n",
       "      <td>Pokemon Red/Pokemon Blue</td>\n",
       "      <td>GB</td>\n",
       "      <td>1996.0</td>\n",
       "      <td>Role-Playing</td>\n",
       "      <td>11.27</td>\n",
       "      <td>8.89</td>\n",
       "      <td>10.22</td>\n",
       "      <td>1.00</td>\n",
       "      <td>NaN</td>\n",
       "      <td>NaN</td>\n",
       "      <td>NaN</td>\n",
       "    </tr>\n",
       "  </tbody>\n",
       "</table>\n",
       "</div>"
      ],
      "text/plain": [
       "                       Name Platform  Year_of_Release         Genre  NA_sales  \\\n",
       "0                Wii Sports      Wii           2006.0        Sports     41.36   \n",
       "1         Super Mario Bros.      NES           1985.0      Platform     29.08   \n",
       "2            Mario Kart Wii      Wii           2008.0        Racing     15.68   \n",
       "3         Wii Sports Resort      Wii           2009.0        Sports     15.61   \n",
       "4  Pokemon Red/Pokemon Blue       GB           1996.0  Role-Playing     11.27   \n",
       "\n",
       "   EU_sales  JP_sales  Other_sales  Critic_Score User_Score Rating  \n",
       "0     28.96      3.77         8.45          76.0          8      E  \n",
       "1      3.58      6.81         0.77           NaN        NaN    NaN  \n",
       "2     12.76      3.79         3.29          82.0        8.3      E  \n",
       "3     10.93      3.28         2.95          80.0          8      E  \n",
       "4      8.89     10.22         1.00           NaN        NaN    NaN  "
      ]
     },
     "execution_count": 4,
     "metadata": {},
     "output_type": "execute_result"
    }
   ],
   "source": [
    "games.head()"
   ]
  },
  {
   "cell_type": "code",
   "execution_count": 5,
   "metadata": {},
   "outputs": [
    {
     "data": {
      "text/plain": [
       "0"
      ]
     },
     "execution_count": 5,
     "metadata": {},
     "output_type": "execute_result"
    }
   ],
   "source": [
    "games.duplicated().sum()"
   ]
  },
  {
   "cell_type": "code",
   "execution_count": 6,
   "metadata": {},
   "outputs": [
    {
     "data": {
      "text/plain": [
       "Name                0.011965\n",
       "Platform            0.000000\n",
       "Year_of_Release     1.609333\n",
       "Genre               0.011965\n",
       "NA_sales            0.000000\n",
       "EU_sales            0.000000\n",
       "JP_sales            0.000000\n",
       "Other_sales         0.000000\n",
       "Critic_Score       51.319174\n",
       "User_Score         40.089740\n",
       "Rating             40.478612\n",
       "dtype: float64"
      ]
     },
     "metadata": {},
     "output_type": "display_data"
    },
    {
     "data": {
      "text/html": [
       "<style type=\"text/css\">\n",
       "#T_96861_row0_col0, #T_96861_row1_col0, #T_96861_row3_col0, #T_96861_row4_col0, #T_96861_row5_col0, #T_96861_row6_col0, #T_96861_row7_col0 {\n",
       "  background-color: #3b4cc0;\n",
       "  color: #f1f1f1;\n",
       "}\n",
       "#T_96861_row2_col0 {\n",
       "  background-color: #445acc;\n",
       "  color: #f1f1f1;\n",
       "}\n",
       "#T_96861_row8_col0 {\n",
       "  background-color: #b40426;\n",
       "  color: #f1f1f1;\n",
       "}\n",
       "#T_96861_row9_col0 {\n",
       "  background-color: #f18d6f;\n",
       "  color: #f1f1f1;\n",
       "}\n",
       "#T_96861_row10_col0 {\n",
       "  background-color: #f08a6c;\n",
       "  color: #f1f1f1;\n",
       "}\n",
       "</style>\n",
       "<table id=\"T_96861_\">\n",
       "  <thead>\n",
       "    <tr>\n",
       "      <th class=\"blank level0\" >&nbsp;</th>\n",
       "      <th class=\"col_heading level0 col0\" >0</th>\n",
       "    </tr>\n",
       "  </thead>\n",
       "  <tbody>\n",
       "    <tr>\n",
       "      <th id=\"T_96861_level0_row0\" class=\"row_heading level0 row0\" >Name</th>\n",
       "      <td id=\"T_96861_row0_col0\" class=\"data row0 col0\" >0.010000</td>\n",
       "    </tr>\n",
       "    <tr>\n",
       "      <th id=\"T_96861_level0_row1\" class=\"row_heading level0 row1\" >Platform</th>\n",
       "      <td id=\"T_96861_row1_col0\" class=\"data row1 col0\" >0.000000</td>\n",
       "    </tr>\n",
       "    <tr>\n",
       "      <th id=\"T_96861_level0_row2\" class=\"row_heading level0 row2\" >Year_of_Release</th>\n",
       "      <td id=\"T_96861_row2_col0\" class=\"data row2 col0\" >1.610000</td>\n",
       "    </tr>\n",
       "    <tr>\n",
       "      <th id=\"T_96861_level0_row3\" class=\"row_heading level0 row3\" >Genre</th>\n",
       "      <td id=\"T_96861_row3_col0\" class=\"data row3 col0\" >0.010000</td>\n",
       "    </tr>\n",
       "    <tr>\n",
       "      <th id=\"T_96861_level0_row4\" class=\"row_heading level0 row4\" >NA_sales</th>\n",
       "      <td id=\"T_96861_row4_col0\" class=\"data row4 col0\" >0.000000</td>\n",
       "    </tr>\n",
       "    <tr>\n",
       "      <th id=\"T_96861_level0_row5\" class=\"row_heading level0 row5\" >EU_sales</th>\n",
       "      <td id=\"T_96861_row5_col0\" class=\"data row5 col0\" >0.000000</td>\n",
       "    </tr>\n",
       "    <tr>\n",
       "      <th id=\"T_96861_level0_row6\" class=\"row_heading level0 row6\" >JP_sales</th>\n",
       "      <td id=\"T_96861_row6_col0\" class=\"data row6 col0\" >0.000000</td>\n",
       "    </tr>\n",
       "    <tr>\n",
       "      <th id=\"T_96861_level0_row7\" class=\"row_heading level0 row7\" >Other_sales</th>\n",
       "      <td id=\"T_96861_row7_col0\" class=\"data row7 col0\" >0.000000</td>\n",
       "    </tr>\n",
       "    <tr>\n",
       "      <th id=\"T_96861_level0_row8\" class=\"row_heading level0 row8\" >Critic_Score</th>\n",
       "      <td id=\"T_96861_row8_col0\" class=\"data row8 col0\" >51.320000</td>\n",
       "    </tr>\n",
       "    <tr>\n",
       "      <th id=\"T_96861_level0_row9\" class=\"row_heading level0 row9\" >User_Score</th>\n",
       "      <td id=\"T_96861_row9_col0\" class=\"data row9 col0\" >40.090000</td>\n",
       "    </tr>\n",
       "    <tr>\n",
       "      <th id=\"T_96861_level0_row10\" class=\"row_heading level0 row10\" >Rating</th>\n",
       "      <td id=\"T_96861_row10_col0\" class=\"data row10 col0\" >40.480000</td>\n",
       "    </tr>\n",
       "  </tbody>\n",
       "</table>\n"
      ],
      "text/plain": [
       "<pandas.io.formats.style.Styler at 0x7f9410780f90>"
      ]
     },
     "metadata": {},
     "output_type": "display_data"
    },
    {
     "data": {
      "text/plain": [
       "Name                0.011965\n",
       "Platform            0.000000\n",
       "Year_of_Release     1.609333\n",
       "Genre               0.011965\n",
       "NA_sales            0.000000\n",
       "EU_sales            0.000000\n",
       "JP_sales            0.000000\n",
       "Other_sales         0.000000\n",
       "Critic_Score       51.319174\n",
       "User_Score         40.089740\n",
       "Rating             40.478612\n",
       "dtype: float64"
      ]
     },
     "execution_count": 6,
     "metadata": {},
     "output_type": "execute_result"
    }
   ],
   "source": [
    "display(games.isna().sum()*100/len(games))\n",
    "display(pd.DataFrame(round((games.isna().mean()*100),2)).style.background_gradient('coolwarm'))\n",
    "games.isna().mean() * 100"
   ]
  },
  {
   "cell_type": "markdown",
   "metadata": {},
   "source": [
    "### Conclusion"
   ]
  },
  {
   "cell_type": "markdown",
   "metadata": {},
   "source": [
    "- There are missing values in the 'Name', 'Year_of_Release', 'Genre', 'Critic_Score', 'User_Score' and 'Rating' columns.\n",
    "- In \"Year_of_Release\" they are of type float64, for convenience it is better to correct it to integers because this is the year the game was released.\n",
    "- There are no duplicates in the date.\n",
    "- In ’User_Score’ are of type object, it is better to correct it to float for convenience."
   ]
  },
  {
   "cell_type": "markdown",
   "metadata": {},
   "source": [
    "## Data preprocessing."
   ]
  },
  {
   "cell_type": "markdown",
   "metadata": {},
   "source": [
    "*Replace the column names (make them lowercase).*"
   ]
  },
  {
   "cell_type": "code",
   "execution_count": 7,
   "metadata": {},
   "outputs": [
    {
     "data": {
      "text/plain": [
       "Index(['name', 'platform', 'year_of_release', 'genre', 'na_sales', 'eu_sales',\n",
       "       'jp_sales', 'other_sales', 'critic_score', 'user_score', 'rating'],\n",
       "      dtype='object')"
      ]
     },
     "execution_count": 7,
     "metadata": {},
     "output_type": "execute_result"
    }
   ],
   "source": [
    "games.columns = games.columns.str.lower() \n",
    "games.columns"
   ]
  },
  {
   "cell_type": "code",
   "execution_count": 8,
   "metadata": {},
   "outputs": [
    {
     "name": "stdout",
     "output_type": "stream",
     "text": [
      "<class 'pandas.core.frame.DataFrame'>\n",
      "RangeIndex: 16715 entries, 0 to 16714\n",
      "Data columns (total 11 columns):\n",
      " #   Column           Non-Null Count  Dtype  \n",
      "---  ------           --------------  -----  \n",
      " 0   name             16713 non-null  object \n",
      " 1   platform         16715 non-null  object \n",
      " 2   year_of_release  16446 non-null  float64\n",
      " 3   genre            16713 non-null  object \n",
      " 4   na_sales         16715 non-null  float64\n",
      " 5   eu_sales         16715 non-null  float64\n",
      " 6   jp_sales         16715 non-null  float64\n",
      " 7   other_sales      16715 non-null  float64\n",
      " 8   critic_score     8137 non-null   float64\n",
      " 9   user_score       10014 non-null  object \n",
      " 10  rating           9949 non-null   object \n",
      "dtypes: float64(6), object(5)\n",
      "memory usage: 1.4+ MB\n"
     ]
    }
   ],
   "source": [
    "games.info()"
   ]
  },
  {
   "cell_type": "markdown",
   "metadata": {},
   "source": [
    "*Convert the data to the required types.*"
   ]
  },
  {
   "cell_type": "code",
   "execution_count": 9,
   "metadata": {},
   "outputs": [],
   "source": [
    "games['year_of_release'] = games['year_of_release'].astype('Int64', errors = 'ignore')"
   ]
  },
  {
   "cell_type": "code",
   "execution_count": 10,
   "metadata": {},
   "outputs": [
    {
     "name": "stdout",
     "output_type": "stream",
     "text": [
      "<class 'pandas.core.frame.DataFrame'>\n",
      "RangeIndex: 16715 entries, 0 to 16714\n",
      "Data columns (total 11 columns):\n",
      " #   Column           Non-Null Count  Dtype  \n",
      "---  ------           --------------  -----  \n",
      " 0   name             16713 non-null  object \n",
      " 1   platform         16715 non-null  object \n",
      " 2   year_of_release  16446 non-null  Int64  \n",
      " 3   genre            16713 non-null  object \n",
      " 4   na_sales         16715 non-null  float64\n",
      " 5   eu_sales         16715 non-null  float64\n",
      " 6   jp_sales         16715 non-null  float64\n",
      " 7   other_sales      16715 non-null  float64\n",
      " 8   critic_score     8137 non-null   float64\n",
      " 9   user_score       10014 non-null  object \n",
      " 10  rating           9949 non-null   object \n",
      "dtypes: Int64(1), float64(5), object(5)\n",
      "memory usage: 1.4+ MB\n"
     ]
    }
   ],
   "source": [
    "games.info()"
   ]
  },
  {
   "cell_type": "code",
   "execution_count": 11,
   "metadata": {},
   "outputs": [
    {
     "data": {
      "text/plain": [
       "array(['8', nan, '8.3', '8.5', '6.6', '8.4', '8.6', '7.7', '6.3', '7.4',\n",
       "       '8.2', '9', '7.9', '8.1', '8.7', '7.1', '3.4', '5.3', '4.8', '3.2',\n",
       "       '8.9', '6.4', '7.8', '7.5', '2.6', '7.2', '9.2', '7', '7.3', '4.3',\n",
       "       '7.6', '5.7', '5', '9.1', '6.5', 'tbd', '8.8', '6.9', '9.4', '6.8',\n",
       "       '6.1', '6.7', '5.4', '4', '4.9', '4.5', '9.3', '6.2', '4.2', '6',\n",
       "       '3.7', '4.1', '5.8', '5.6', '5.5', '4.4', '4.6', '5.9', '3.9',\n",
       "       '3.1', '2.9', '5.2', '3.3', '4.7', '5.1', '3.5', '2.5', '1.9', '3',\n",
       "       '2.7', '2.2', '2', '9.5', '2.1', '3.6', '2.8', '1.8', '3.8', '0',\n",
       "       '1.6', '9.6', '2.4', '1.7', '1.1', '0.3', '1.5', '0.7', '1.2',\n",
       "       '2.3', '0.5', '1.3', '0.2', '0.6', '1.4', '0.9', '1', '9.7'],\n",
       "      dtype=object)"
      ]
     },
     "execution_count": 11,
     "metadata": {},
     "output_type": "execute_result"
    }
   ],
   "source": [
    "games['user_score'].unique()\n",
    "#All values are numeric except 'tbd'"
   ]
  },
  {
   "cell_type": "code",
   "execution_count": 12,
   "metadata": {},
   "outputs": [
    {
     "data": {
      "text/plain": [
       "2424"
      ]
     },
     "execution_count": 12,
     "metadata": {},
     "output_type": "execute_result"
    }
   ],
   "source": [
    "games.loc[games['user_score'] == 'tbd']['user_score'].count()\n",
    "#I counted the number of 'tbd' values."
   ]
  },
  {
   "cell_type": "code",
   "execution_count": 13,
   "metadata": {},
   "outputs": [],
   "source": [
    "games['user_score'] = games['user_score'].replace('tbd', np.nan)\n",
    "#Googling I found out that 'tbd' is 'To Be Determined', it is usually used when the release date of the game \n",
    "#is not known, in this case I assume that 'user_score' is not known. So I replaced 'tbd' with nan. "
   ]
  },
  {
   "cell_type": "code",
   "execution_count": 14,
   "metadata": {},
   "outputs": [
    {
     "data": {
      "text/plain": [
       "array(['8', nan, '8.3', '8.5', '6.6', '8.4', '8.6', '7.7', '6.3', '7.4',\n",
       "       '8.2', '9', '7.9', '8.1', '8.7', '7.1', '3.4', '5.3', '4.8', '3.2',\n",
       "       '8.9', '6.4', '7.8', '7.5', '2.6', '7.2', '9.2', '7', '7.3', '4.3',\n",
       "       '7.6', '5.7', '5', '9.1', '6.5', '8.8', '6.9', '9.4', '6.8', '6.1',\n",
       "       '6.7', '5.4', '4', '4.9', '4.5', '9.3', '6.2', '4.2', '6', '3.7',\n",
       "       '4.1', '5.8', '5.6', '5.5', '4.4', '4.6', '5.9', '3.9', '3.1',\n",
       "       '2.9', '5.2', '3.3', '4.7', '5.1', '3.5', '2.5', '1.9', '3', '2.7',\n",
       "       '2.2', '2', '9.5', '2.1', '3.6', '2.8', '1.8', '3.8', '0', '1.6',\n",
       "       '9.6', '2.4', '1.7', '1.1', '0.3', '1.5', '0.7', '1.2', '2.3',\n",
       "       '0.5', '1.3', '0.2', '0.6', '1.4', '0.9', '1', '9.7'], dtype=object)"
      ]
     },
     "execution_count": 14,
     "metadata": {},
     "output_type": "execute_result"
    }
   ],
   "source": [
    "games['user_score'].unique()"
   ]
  },
  {
   "cell_type": "code",
   "execution_count": 15,
   "metadata": {},
   "outputs": [],
   "source": [
    "games['user_score'] = games['user_score'].astype('float')\n",
    "#Now the type of the 'user_score' column can be changed from an object to a float."
   ]
  },
  {
   "cell_type": "code",
   "execution_count": 16,
   "metadata": {},
   "outputs": [
    {
     "name": "stdout",
     "output_type": "stream",
     "text": [
      "<class 'pandas.core.frame.DataFrame'>\n",
      "RangeIndex: 16715 entries, 0 to 16714\n",
      "Data columns (total 11 columns):\n",
      " #   Column           Non-Null Count  Dtype  \n",
      "---  ------           --------------  -----  \n",
      " 0   name             16713 non-null  object \n",
      " 1   platform         16715 non-null  object \n",
      " 2   year_of_release  16446 non-null  Int64  \n",
      " 3   genre            16713 non-null  object \n",
      " 4   na_sales         16715 non-null  float64\n",
      " 5   eu_sales         16715 non-null  float64\n",
      " 6   jp_sales         16715 non-null  float64\n",
      " 7   other_sales      16715 non-null  float64\n",
      " 8   critic_score     8137 non-null   float64\n",
      " 9   user_score       7590 non-null   float64\n",
      " 10  rating           9949 non-null   object \n",
      "dtypes: Int64(1), float64(6), object(4)\n",
      "memory usage: 1.4+ MB\n"
     ]
    }
   ],
   "source": [
    "games.info()"
   ]
  },
  {
   "cell_type": "code",
   "execution_count": 17,
   "metadata": {},
   "outputs": [
    {
     "data": {
      "text/plain": [
       "2"
      ]
     },
     "execution_count": 17,
     "metadata": {},
     "output_type": "execute_result"
    }
   ],
   "source": [
    "games['name'].isnull().sum()"
   ]
  },
  {
   "cell_type": "code",
   "execution_count": 18,
   "metadata": {},
   "outputs": [
    {
     "data": {
      "text/html": [
       "<div>\n",
       "<style scoped>\n",
       "    .dataframe tbody tr th:only-of-type {\n",
       "        vertical-align: middle;\n",
       "    }\n",
       "\n",
       "    .dataframe tbody tr th {\n",
       "        vertical-align: top;\n",
       "    }\n",
       "\n",
       "    .dataframe thead th {\n",
       "        text-align: right;\n",
       "    }\n",
       "</style>\n",
       "<table border=\"1\" class=\"dataframe\">\n",
       "  <thead>\n",
       "    <tr style=\"text-align: right;\">\n",
       "      <th></th>\n",
       "      <th>name</th>\n",
       "      <th>platform</th>\n",
       "      <th>year_of_release</th>\n",
       "      <th>genre</th>\n",
       "      <th>na_sales</th>\n",
       "      <th>eu_sales</th>\n",
       "      <th>jp_sales</th>\n",
       "      <th>other_sales</th>\n",
       "      <th>critic_score</th>\n",
       "      <th>user_score</th>\n",
       "      <th>rating</th>\n",
       "    </tr>\n",
       "  </thead>\n",
       "  <tbody>\n",
       "    <tr>\n",
       "      <th>659</th>\n",
       "      <td>NaN</td>\n",
       "      <td>GEN</td>\n",
       "      <td>1993</td>\n",
       "      <td>NaN</td>\n",
       "      <td>1.78</td>\n",
       "      <td>0.53</td>\n",
       "      <td>0.00</td>\n",
       "      <td>0.08</td>\n",
       "      <td>NaN</td>\n",
       "      <td>NaN</td>\n",
       "      <td>NaN</td>\n",
       "    </tr>\n",
       "    <tr>\n",
       "      <th>14244</th>\n",
       "      <td>NaN</td>\n",
       "      <td>GEN</td>\n",
       "      <td>1993</td>\n",
       "      <td>NaN</td>\n",
       "      <td>0.00</td>\n",
       "      <td>0.00</td>\n",
       "      <td>0.03</td>\n",
       "      <td>0.00</td>\n",
       "      <td>NaN</td>\n",
       "      <td>NaN</td>\n",
       "      <td>NaN</td>\n",
       "    </tr>\n",
       "  </tbody>\n",
       "</table>\n",
       "</div>"
      ],
      "text/plain": [
       "      name platform  year_of_release genre  na_sales  eu_sales  jp_sales  \\\n",
       "659    NaN      GEN             1993   NaN      1.78      0.53      0.00   \n",
       "14244  NaN      GEN             1993   NaN      0.00      0.00      0.03   \n",
       "\n",
       "       other_sales  critic_score  user_score rating  \n",
       "659           0.08           NaN         NaN    NaN  \n",
       "14244         0.00           NaN         NaN    NaN  "
      ]
     },
     "execution_count": 18,
     "metadata": {},
     "output_type": "execute_result"
    }
   ],
   "source": [
    "games.loc[games['name'].isnull()]\n",
    "\n",
    "#The main meaning of 'name' is missing and the game was released in 1993, the data will not be recovered \n",
    "#and it is only 0.012% of the total date. These lines can be deleted and at the same time the missing values \n",
    "#in the 'genre' column will go away."
   ]
  },
  {
   "cell_type": "code",
   "execution_count": 19,
   "metadata": {},
   "outputs": [],
   "source": [
    "games = games.dropna(subset=['name'])"
   ]
  },
  {
   "cell_type": "code",
   "execution_count": 20,
   "metadata": {},
   "outputs": [
    {
     "data": {
      "text/plain": [
       "0"
      ]
     },
     "execution_count": 20,
     "metadata": {},
     "output_type": "execute_result"
    }
   ],
   "source": [
    "games['name'].isnull().sum()"
   ]
  },
  {
   "cell_type": "code",
   "execution_count": 21,
   "metadata": {},
   "outputs": [
    {
     "data": {
      "text/plain": [
       "0"
      ]
     },
     "execution_count": 21,
     "metadata": {},
     "output_type": "execute_result"
    }
   ],
   "source": [
    "games['genre'].isnull().sum()"
   ]
  },
  {
   "cell_type": "code",
   "execution_count": 22,
   "metadata": {},
   "outputs": [
    {
     "data": {
      "text/plain": [
       "269"
      ]
     },
     "execution_count": 22,
     "metadata": {},
     "output_type": "execute_result"
    }
   ],
   "source": [
    "games['year_of_release'].isnull().sum()"
   ]
  },
  {
   "cell_type": "code",
   "execution_count": 23,
   "metadata": {},
   "outputs": [
    {
     "data": {
      "text/plain": [
       "<IntegerArray>\n",
       "[2006, 1985, 2008, 2009, 1996, 1989, 1984, 2005, 1999, 2007, 2010, 2013, 2004,\n",
       " 1990, 1988, 2002, 2001, 2011, 1998, 2015, 2012, 2014, 1992, 1997, 1993, 1994,\n",
       " 1982, 2016, 2003, 1986, 2000, <NA>, 1995, 1991, 1981, 1987, 1980, 1983]\n",
       "Length: 38, dtype: Int64"
      ]
     },
     "execution_count": 23,
     "metadata": {},
     "output_type": "execute_result"
    }
   ],
   "source": [
    "games['year_of_release'].unique()"
   ]
  },
  {
   "cell_type": "code",
   "execution_count": 24,
   "metadata": {},
   "outputs": [
    {
     "data": {
      "text/html": [
       "<div>\n",
       "<style scoped>\n",
       "    .dataframe tbody tr th:only-of-type {\n",
       "        vertical-align: middle;\n",
       "    }\n",
       "\n",
       "    .dataframe tbody tr th {\n",
       "        vertical-align: top;\n",
       "    }\n",
       "\n",
       "    .dataframe thead th {\n",
       "        text-align: right;\n",
       "    }\n",
       "</style>\n",
       "<table border=\"1\" class=\"dataframe\">\n",
       "  <thead>\n",
       "    <tr style=\"text-align: right;\">\n",
       "      <th></th>\n",
       "      <th>name</th>\n",
       "      <th>platform</th>\n",
       "      <th>year_of_release</th>\n",
       "      <th>genre</th>\n",
       "      <th>na_sales</th>\n",
       "      <th>eu_sales</th>\n",
       "      <th>jp_sales</th>\n",
       "      <th>other_sales</th>\n",
       "      <th>critic_score</th>\n",
       "      <th>user_score</th>\n",
       "      <th>rating</th>\n",
       "    </tr>\n",
       "  </thead>\n",
       "  <tbody>\n",
       "    <tr>\n",
       "      <th>6773</th>\n",
       "      <td>Mega Man X Collection</td>\n",
       "      <td>PS2</td>\n",
       "      <td>&lt;NA&gt;</td>\n",
       "      <td>Misc</td>\n",
       "      <td>0.12</td>\n",
       "      <td>0.09</td>\n",
       "      <td>0.00</td>\n",
       "      <td>0.03</td>\n",
       "      <td>73.0</td>\n",
       "      <td>8.8</td>\n",
       "      <td>E</td>\n",
       "    </tr>\n",
       "    <tr>\n",
       "      <th>10993</th>\n",
       "      <td>The Daring Game for Girls</td>\n",
       "      <td>Wii</td>\n",
       "      <td>&lt;NA&gt;</td>\n",
       "      <td>Adventure</td>\n",
       "      <td>0.09</td>\n",
       "      <td>0.00</td>\n",
       "      <td>0.00</td>\n",
       "      <td>0.01</td>\n",
       "      <td>NaN</td>\n",
       "      <td>NaN</td>\n",
       "      <td>E</td>\n",
       "    </tr>\n",
       "    <tr>\n",
       "      <th>9703</th>\n",
       "      <td>Record of Agarest War Zero</td>\n",
       "      <td>PS3</td>\n",
       "      <td>&lt;NA&gt;</td>\n",
       "      <td>Strategy</td>\n",
       "      <td>0.09</td>\n",
       "      <td>0.00</td>\n",
       "      <td>0.03</td>\n",
       "      <td>0.01</td>\n",
       "      <td>50.0</td>\n",
       "      <td>6.7</td>\n",
       "      <td>T</td>\n",
       "    </tr>\n",
       "    <tr>\n",
       "      <th>15953</th>\n",
       "      <td>PDC World Championship Darts 2008</td>\n",
       "      <td>DS</td>\n",
       "      <td>&lt;NA&gt;</td>\n",
       "      <td>Sports</td>\n",
       "      <td>0.01</td>\n",
       "      <td>0.00</td>\n",
       "      <td>0.00</td>\n",
       "      <td>0.00</td>\n",
       "      <td>NaN</td>\n",
       "      <td>NaN</td>\n",
       "      <td>NaN</td>\n",
       "    </tr>\n",
       "    <tr>\n",
       "      <th>15081</th>\n",
       "      <td>Wii de Asobu: Metroid Prime</td>\n",
       "      <td>Wii</td>\n",
       "      <td>&lt;NA&gt;</td>\n",
       "      <td>Shooter</td>\n",
       "      <td>0.00</td>\n",
       "      <td>0.00</td>\n",
       "      <td>0.02</td>\n",
       "      <td>0.00</td>\n",
       "      <td>NaN</td>\n",
       "      <td>NaN</td>\n",
       "      <td>NaN</td>\n",
       "    </tr>\n",
       "    <tr>\n",
       "      <th>1142</th>\n",
       "      <td>Rock Band</td>\n",
       "      <td>PS3</td>\n",
       "      <td>&lt;NA&gt;</td>\n",
       "      <td>Misc</td>\n",
       "      <td>0.99</td>\n",
       "      <td>0.41</td>\n",
       "      <td>0.00</td>\n",
       "      <td>0.22</td>\n",
       "      <td>92.0</td>\n",
       "      <td>8.4</td>\n",
       "      <td>T</td>\n",
       "    </tr>\n",
       "    <tr>\n",
       "      <th>2572</th>\n",
       "      <td>PES 2009: Pro Evolution Soccer</td>\n",
       "      <td>PSP</td>\n",
       "      <td>&lt;NA&gt;</td>\n",
       "      <td>Sports</td>\n",
       "      <td>0.04</td>\n",
       "      <td>0.33</td>\n",
       "      <td>0.26</td>\n",
       "      <td>0.17</td>\n",
       "      <td>NaN</td>\n",
       "      <td>NaN</td>\n",
       "      <td>NaN</td>\n",
       "    </tr>\n",
       "    <tr>\n",
       "      <th>2492</th>\n",
       "      <td>MLB SlugFest 20-03</td>\n",
       "      <td>PS2</td>\n",
       "      <td>&lt;NA&gt;</td>\n",
       "      <td>Sports</td>\n",
       "      <td>0.41</td>\n",
       "      <td>0.32</td>\n",
       "      <td>0.00</td>\n",
       "      <td>0.11</td>\n",
       "      <td>77.0</td>\n",
       "      <td>8.2</td>\n",
       "      <td>E</td>\n",
       "    </tr>\n",
       "    <tr>\n",
       "      <th>5932</th>\n",
       "      <td>Shrek the Third</td>\n",
       "      <td>DS</td>\n",
       "      <td>&lt;NA&gt;</td>\n",
       "      <td>Action</td>\n",
       "      <td>0.26</td>\n",
       "      <td>0.01</td>\n",
       "      <td>0.00</td>\n",
       "      <td>0.02</td>\n",
       "      <td>70.0</td>\n",
       "      <td>6.5</td>\n",
       "      <td>E</td>\n",
       "    </tr>\n",
       "    <tr>\n",
       "      <th>4132</th>\n",
       "      <td>Karate</td>\n",
       "      <td>2600</td>\n",
       "      <td>&lt;NA&gt;</td>\n",
       "      <td>Fighting</td>\n",
       "      <td>0.44</td>\n",
       "      <td>0.03</td>\n",
       "      <td>0.00</td>\n",
       "      <td>0.00</td>\n",
       "      <td>NaN</td>\n",
       "      <td>NaN</td>\n",
       "      <td>NaN</td>\n",
       "    </tr>\n",
       "    <tr>\n",
       "      <th>627</th>\n",
       "      <td>Rock Band</td>\n",
       "      <td>X360</td>\n",
       "      <td>&lt;NA&gt;</td>\n",
       "      <td>Misc</td>\n",
       "      <td>1.93</td>\n",
       "      <td>0.33</td>\n",
       "      <td>0.00</td>\n",
       "      <td>0.21</td>\n",
       "      <td>92.0</td>\n",
       "      <td>8.2</td>\n",
       "      <td>T</td>\n",
       "    </tr>\n",
       "    <tr>\n",
       "      <th>7353</th>\n",
       "      <td>Ghostbusters II</td>\n",
       "      <td>2600</td>\n",
       "      <td>&lt;NA&gt;</td>\n",
       "      <td>Action</td>\n",
       "      <td>0.20</td>\n",
       "      <td>0.01</td>\n",
       "      <td>0.00</td>\n",
       "      <td>0.00</td>\n",
       "      <td>NaN</td>\n",
       "      <td>NaN</td>\n",
       "      <td>NaN</td>\n",
       "    </tr>\n",
       "    <tr>\n",
       "      <th>657</th>\n",
       "      <td>Frogger's Adventures: Temple of the Frog</td>\n",
       "      <td>GBA</td>\n",
       "      <td>&lt;NA&gt;</td>\n",
       "      <td>Adventure</td>\n",
       "      <td>2.15</td>\n",
       "      <td>0.18</td>\n",
       "      <td>0.00</td>\n",
       "      <td>0.07</td>\n",
       "      <td>73.0</td>\n",
       "      <td>NaN</td>\n",
       "      <td>E</td>\n",
       "    </tr>\n",
       "    <tr>\n",
       "      <th>5194</th>\n",
       "      <td>Cubix Robots for Everyone: Clash 'n' Bash</td>\n",
       "      <td>GBA</td>\n",
       "      <td>&lt;NA&gt;</td>\n",
       "      <td>Action</td>\n",
       "      <td>0.26</td>\n",
       "      <td>0.10</td>\n",
       "      <td>0.00</td>\n",
       "      <td>0.01</td>\n",
       "      <td>NaN</td>\n",
       "      <td>NaN</td>\n",
       "      <td>NaN</td>\n",
       "    </tr>\n",
       "    <tr>\n",
       "      <th>11954</th>\n",
       "      <td>Dead Island: Riptide</td>\n",
       "      <td>PC</td>\n",
       "      <td>&lt;NA&gt;</td>\n",
       "      <td>Action</td>\n",
       "      <td>0.00</td>\n",
       "      <td>0.07</td>\n",
       "      <td>0.00</td>\n",
       "      <td>0.01</td>\n",
       "      <td>61.0</td>\n",
       "      <td>6.0</td>\n",
       "      <td>M</td>\n",
       "    </tr>\n",
       "  </tbody>\n",
       "</table>\n",
       "</div>"
      ],
      "text/plain": [
       "                                            name platform  year_of_release  \\\n",
       "6773                       Mega Man X Collection      PS2             <NA>   \n",
       "10993                  The Daring Game for Girls      Wii             <NA>   \n",
       "9703                  Record of Agarest War Zero      PS3             <NA>   \n",
       "15953          PDC World Championship Darts 2008       DS             <NA>   \n",
       "15081                Wii de Asobu: Metroid Prime      Wii             <NA>   \n",
       "1142                                   Rock Band      PS3             <NA>   \n",
       "2572              PES 2009: Pro Evolution Soccer      PSP             <NA>   \n",
       "2492                          MLB SlugFest 20-03      PS2             <NA>   \n",
       "5932                             Shrek the Third       DS             <NA>   \n",
       "4132                                      Karate     2600             <NA>   \n",
       "627                                    Rock Band     X360             <NA>   \n",
       "7353                             Ghostbusters II     2600             <NA>   \n",
       "657     Frogger's Adventures: Temple of the Frog      GBA             <NA>   \n",
       "5194   Cubix Robots for Everyone: Clash 'n' Bash      GBA             <NA>   \n",
       "11954                       Dead Island: Riptide       PC             <NA>   \n",
       "\n",
       "           genre  na_sales  eu_sales  jp_sales  other_sales  critic_score  \\\n",
       "6773        Misc      0.12      0.09      0.00         0.03          73.0   \n",
       "10993  Adventure      0.09      0.00      0.00         0.01           NaN   \n",
       "9703    Strategy      0.09      0.00      0.03         0.01          50.0   \n",
       "15953     Sports      0.01      0.00      0.00         0.00           NaN   \n",
       "15081    Shooter      0.00      0.00      0.02         0.00           NaN   \n",
       "1142        Misc      0.99      0.41      0.00         0.22          92.0   \n",
       "2572      Sports      0.04      0.33      0.26         0.17           NaN   \n",
       "2492      Sports      0.41      0.32      0.00         0.11          77.0   \n",
       "5932      Action      0.26      0.01      0.00         0.02          70.0   \n",
       "4132    Fighting      0.44      0.03      0.00         0.00           NaN   \n",
       "627         Misc      1.93      0.33      0.00         0.21          92.0   \n",
       "7353      Action      0.20      0.01      0.00         0.00           NaN   \n",
       "657    Adventure      2.15      0.18      0.00         0.07          73.0   \n",
       "5194      Action      0.26      0.10      0.00         0.01           NaN   \n",
       "11954     Action      0.00      0.07      0.00         0.01          61.0   \n",
       "\n",
       "       user_score rating  \n",
       "6773          8.8      E  \n",
       "10993         NaN      E  \n",
       "9703          6.7      T  \n",
       "15953         NaN    NaN  \n",
       "15081         NaN    NaN  \n",
       "1142          8.4      T  \n",
       "2572          NaN    NaN  \n",
       "2492          8.2      E  \n",
       "5932          6.5      E  \n",
       "4132          NaN    NaN  \n",
       "627           8.2      T  \n",
       "7353          NaN    NaN  \n",
       "657           NaN      E  \n",
       "5194          NaN    NaN  \n",
       "11954         6.0      M  "
      ]
     },
     "execution_count": 24,
     "metadata": {},
     "output_type": "execute_result"
    }
   ],
   "source": [
    "games.loc[games['year_of_release'].isnull()].sample(15)"
   ]
  },
  {
   "cell_type": "code",
   "execution_count": 25,
   "metadata": {},
   "outputs": [
    {
     "name": "stdout",
     "output_type": "stream",
     "text": [
      "Percentage of missing values in the 'year_of_release' column: 1.61\n"
     ]
    }
   ],
   "source": [
    "print(\"Percentage of missing values in the 'year_of_release' column: {:.2f}\"\n",
    "      .format(games['year_of_release'].isna().sum()*100/len(games)))\n",
    "#1.61% is a very small percentage, we can delete it without affecting the date, unfortunately \n",
    "#it is difficult to recover this data and most of the games were released a long time ago."
   ]
  },
  {
   "cell_type": "code",
   "execution_count": 26,
   "metadata": {},
   "outputs": [],
   "source": [
    "games = games.dropna(subset=['year_of_release'])"
   ]
  },
  {
   "cell_type": "code",
   "execution_count": 27,
   "metadata": {},
   "outputs": [
    {
     "data": {
      "text/plain": [
       "0"
      ]
     },
     "execution_count": 27,
     "metadata": {},
     "output_type": "execute_result"
    }
   ],
   "source": [
    "games['year_of_release'].isnull().sum()"
   ]
  },
  {
   "cell_type": "code",
   "execution_count": 28,
   "metadata": {},
   "outputs": [
    {
     "name": "stdout",
     "output_type": "stream",
     "text": [
      "<class 'pandas.core.frame.DataFrame'>\n",
      "Int64Index: 16444 entries, 0 to 16714\n",
      "Data columns (total 11 columns):\n",
      " #   Column           Non-Null Count  Dtype  \n",
      "---  ------           --------------  -----  \n",
      " 0   name             16444 non-null  object \n",
      " 1   platform         16444 non-null  object \n",
      " 2   year_of_release  16444 non-null  Int64  \n",
      " 3   genre            16444 non-null  object \n",
      " 4   na_sales         16444 non-null  float64\n",
      " 5   eu_sales         16444 non-null  float64\n",
      " 6   jp_sales         16444 non-null  float64\n",
      " 7   other_sales      16444 non-null  float64\n",
      " 8   critic_score     7983 non-null   float64\n",
      " 9   user_score       7463 non-null   float64\n",
      " 10  rating           9768 non-null   object \n",
      "dtypes: Int64(1), float64(6), object(4)\n",
      "memory usage: 1.5+ MB\n"
     ]
    }
   ],
   "source": [
    "games.info()"
   ]
  },
  {
   "cell_type": "code",
   "execution_count": 29,
   "metadata": {},
   "outputs": [
    {
     "data": {
      "text/plain": [
       "array([76., nan, 82., 80., 89., 58., 87., 91., 61., 97., 95., 77., 88.,\n",
       "       83., 94., 93., 85., 86., 98., 96., 90., 84., 73., 74., 78., 92.,\n",
       "       71., 72., 68., 62., 49., 67., 81., 66., 56., 79., 70., 59., 64.,\n",
       "       75., 60., 63., 69., 50., 25., 42., 44., 55., 48., 57., 29., 47.,\n",
       "       65., 54., 20., 53., 37., 38., 33., 52., 30., 32., 43., 45., 51.,\n",
       "       40., 46., 39., 34., 41., 36., 31., 27., 35., 26., 19., 28., 23.,\n",
       "       24., 21., 17., 13.])"
      ]
     },
     "execution_count": 29,
     "metadata": {},
     "output_type": "execute_result"
    }
   ],
   "source": [
    "games['critic_score'].unique()"
   ]
  },
  {
   "cell_type": "code",
   "execution_count": 30,
   "metadata": {},
   "outputs": [
    {
     "data": {
      "text/plain": [
       "array([8. , nan, 8.3, 8.5, 6.6, 8.4, 8.6, 7.7, 6.3, 7.4, 8.2, 9. , 7.9,\n",
       "       8.1, 8.7, 7.1, 3.4, 5.3, 4.8, 3.2, 8.9, 6.4, 7.8, 7.5, 2.6, 7.2,\n",
       "       9.2, 7. , 7.3, 4.3, 7.6, 5.7, 5. , 9.1, 6.5, 8.8, 6.9, 9.4, 6.8,\n",
       "       6.1, 6.7, 5.4, 4. , 4.9, 4.5, 9.3, 6.2, 4.2, 6. , 3.7, 4.1, 5.8,\n",
       "       5.6, 5.5, 4.4, 4.6, 5.9, 3.9, 3.1, 2.9, 5.2, 3.3, 4.7, 5.1, 3.5,\n",
       "       2.5, 1.9, 3. , 2.7, 2.2, 2. , 9.5, 2.1, 3.6, 2.8, 1.8, 3.8, 0. ,\n",
       "       1.6, 9.6, 2.4, 1.7, 1.1, 0.3, 1.5, 0.7, 1.2, 2.3, 0.5, 1.3, 0.2,\n",
       "       0.6, 1.4, 0.9, 1. , 9.7])"
      ]
     },
     "execution_count": 30,
     "metadata": {},
     "output_type": "execute_result"
    }
   ],
   "source": [
    "games['user_score'].unique()"
   ]
  },
  {
   "cell_type": "code",
   "execution_count": 31,
   "metadata": {},
   "outputs": [
    {
     "data": {
      "text/plain": [
       "array(['E', nan, 'M', 'T', 'E10+', 'K-A', 'AO', 'EC', 'RP'], dtype=object)"
      ]
     },
     "execution_count": 31,
     "metadata": {},
     "output_type": "execute_result"
    }
   ],
   "source": [
    "games['rating'].unique()"
   ]
  },
  {
   "cell_type": "code",
   "execution_count": 32,
   "metadata": {},
   "outputs": [],
   "source": [
    "games.loc[games['rating'].isna(), 'rating'] = 'unknown'"
   ]
  },
  {
   "cell_type": "code",
   "execution_count": 33,
   "metadata": {},
   "outputs": [
    {
     "data": {
      "text/plain": [
       "unknown    6676\n",
       "E          3921\n",
       "T          2905\n",
       "M          1536\n",
       "E10+       1393\n",
       "EC            8\n",
       "K-A           3\n",
       "AO            1\n",
       "RP            1\n",
       "Name: rating, dtype: int64"
      ]
     },
     "execution_count": 33,
     "metadata": {},
     "output_type": "execute_result"
    }
   ],
   "source": [
    "games['rating'].value_counts()"
   ]
  },
  {
   "cell_type": "markdown",
   "metadata": {},
   "source": [
    "**More than half of the values are missing in the columns 'critic_score', 'user_score' and 'rating', it is impossible to simply delete them without losing data. It is also not possible to replace the value with the average or the median, because this is the rating of the games, which depends on many factors. \n",
    "<br>I assume that in this case either the games are old and the rating was not included in the date or the rating was not formed.**"
   ]
  },
  {
   "cell_type": "markdown",
   "metadata": {},
   "source": [
    "*Calculate the total sales (the sum of sales in all regions) for each game and put these values in a separate column.*\n",
    " "
   ]
  },
  {
   "cell_type": "code",
   "execution_count": 34,
   "metadata": {},
   "outputs": [
    {
     "data": {
      "text/html": [
       "<div>\n",
       "<style scoped>\n",
       "    .dataframe tbody tr th:only-of-type {\n",
       "        vertical-align: middle;\n",
       "    }\n",
       "\n",
       "    .dataframe tbody tr th {\n",
       "        vertical-align: top;\n",
       "    }\n",
       "\n",
       "    .dataframe thead th {\n",
       "        text-align: right;\n",
       "    }\n",
       "</style>\n",
       "<table border=\"1\" class=\"dataframe\">\n",
       "  <thead>\n",
       "    <tr style=\"text-align: right;\">\n",
       "      <th></th>\n",
       "      <th>name</th>\n",
       "      <th>platform</th>\n",
       "      <th>year_of_release</th>\n",
       "      <th>genre</th>\n",
       "      <th>na_sales</th>\n",
       "      <th>eu_sales</th>\n",
       "      <th>jp_sales</th>\n",
       "      <th>other_sales</th>\n",
       "      <th>critic_score</th>\n",
       "      <th>user_score</th>\n",
       "      <th>rating</th>\n",
       "      <th>total_sales</th>\n",
       "    </tr>\n",
       "  </thead>\n",
       "  <tbody>\n",
       "    <tr>\n",
       "      <th>0</th>\n",
       "      <td>Wii Sports</td>\n",
       "      <td>Wii</td>\n",
       "      <td>2006</td>\n",
       "      <td>Sports</td>\n",
       "      <td>41.36</td>\n",
       "      <td>28.96</td>\n",
       "      <td>3.77</td>\n",
       "      <td>8.45</td>\n",
       "      <td>76.0</td>\n",
       "      <td>8.0</td>\n",
       "      <td>E</td>\n",
       "      <td>82.54</td>\n",
       "    </tr>\n",
       "    <tr>\n",
       "      <th>1</th>\n",
       "      <td>Super Mario Bros.</td>\n",
       "      <td>NES</td>\n",
       "      <td>1985</td>\n",
       "      <td>Platform</td>\n",
       "      <td>29.08</td>\n",
       "      <td>3.58</td>\n",
       "      <td>6.81</td>\n",
       "      <td>0.77</td>\n",
       "      <td>NaN</td>\n",
       "      <td>NaN</td>\n",
       "      <td>unknown</td>\n",
       "      <td>40.24</td>\n",
       "    </tr>\n",
       "    <tr>\n",
       "      <th>2</th>\n",
       "      <td>Mario Kart Wii</td>\n",
       "      <td>Wii</td>\n",
       "      <td>2008</td>\n",
       "      <td>Racing</td>\n",
       "      <td>15.68</td>\n",
       "      <td>12.76</td>\n",
       "      <td>3.79</td>\n",
       "      <td>3.29</td>\n",
       "      <td>82.0</td>\n",
       "      <td>8.3</td>\n",
       "      <td>E</td>\n",
       "      <td>35.52</td>\n",
       "    </tr>\n",
       "    <tr>\n",
       "      <th>3</th>\n",
       "      <td>Wii Sports Resort</td>\n",
       "      <td>Wii</td>\n",
       "      <td>2009</td>\n",
       "      <td>Sports</td>\n",
       "      <td>15.61</td>\n",
       "      <td>10.93</td>\n",
       "      <td>3.28</td>\n",
       "      <td>2.95</td>\n",
       "      <td>80.0</td>\n",
       "      <td>8.0</td>\n",
       "      <td>E</td>\n",
       "      <td>32.77</td>\n",
       "    </tr>\n",
       "    <tr>\n",
       "      <th>4</th>\n",
       "      <td>Pokemon Red/Pokemon Blue</td>\n",
       "      <td>GB</td>\n",
       "      <td>1996</td>\n",
       "      <td>Role-Playing</td>\n",
       "      <td>11.27</td>\n",
       "      <td>8.89</td>\n",
       "      <td>10.22</td>\n",
       "      <td>1.00</td>\n",
       "      <td>NaN</td>\n",
       "      <td>NaN</td>\n",
       "      <td>unknown</td>\n",
       "      <td>31.38</td>\n",
       "    </tr>\n",
       "  </tbody>\n",
       "</table>\n",
       "</div>"
      ],
      "text/plain": [
       "                       name platform  year_of_release         genre  na_sales  \\\n",
       "0                Wii Sports      Wii             2006        Sports     41.36   \n",
       "1         Super Mario Bros.      NES             1985      Platform     29.08   \n",
       "2            Mario Kart Wii      Wii             2008        Racing     15.68   \n",
       "3         Wii Sports Resort      Wii             2009        Sports     15.61   \n",
       "4  Pokemon Red/Pokemon Blue       GB             1996  Role-Playing     11.27   \n",
       "\n",
       "   eu_sales  jp_sales  other_sales  critic_score  user_score   rating  \\\n",
       "0     28.96      3.77         8.45          76.0         8.0        E   \n",
       "1      3.58      6.81         0.77           NaN         NaN  unknown   \n",
       "2     12.76      3.79         3.29          82.0         8.3        E   \n",
       "3     10.93      3.28         2.95          80.0         8.0        E   \n",
       "4      8.89     10.22         1.00           NaN         NaN  unknown   \n",
       "\n",
       "   total_sales  \n",
       "0        82.54  \n",
       "1        40.24  \n",
       "2        35.52  \n",
       "3        32.77  \n",
       "4        31.38  "
      ]
     },
     "execution_count": 34,
     "metadata": {},
     "output_type": "execute_result"
    }
   ],
   "source": [
    "games['total_sales'] = games['na_sales'] + games['eu_sales'] + games['jp_sales'] + games['other_sales']\n",
    "games.head()"
   ]
  },
  {
   "cell_type": "markdown",
   "metadata": {},
   "source": [
    "### Conclusion"
   ]
  },
  {
   "cell_type": "markdown",
   "metadata": {},
   "source": [
    "- Column names have been replaced (make them lowercase).\n",
    "- Columns 'year_of_release' and 'user_score' have been converted to the required types ('year_of_release' from float to Int and 'user_score' from object to float).\n",
    "- Removed missing values in the 'name' column. It was only 2 games released in 1993.\n",
    "- Removed missing values in the 'year_of_release' column. It was 1.61% of the total date, which is not critical.\n",
    "- Replaced 'tbd' with nan.\n",
    "- Created column 'total_sales' with the sum of sales in all regions.\n",
    " "
   ]
  },
  {
   "cell_type": "markdown",
   "metadata": {},
   "source": [
    "## Analyze the data."
   ]
  },
  {
   "cell_type": "markdown",
   "metadata": {},
   "source": [
    "*Look at how many games were released in different years. Is the data for every period significant?*\n",
    " "
   ]
  },
  {
   "cell_type": "code",
   "execution_count": 35,
   "metadata": {},
   "outputs": [
    {
     "data": {
      "text/html": [
       "<div>\n",
       "<style scoped>\n",
       "    .dataframe tbody tr th:only-of-type {\n",
       "        vertical-align: middle;\n",
       "    }\n",
       "\n",
       "    .dataframe tbody tr th {\n",
       "        vertical-align: top;\n",
       "    }\n",
       "\n",
       "    .dataframe thead th {\n",
       "        text-align: right;\n",
       "    }\n",
       "</style>\n",
       "<table border=\"1\" class=\"dataframe\">\n",
       "  <thead>\n",
       "    <tr style=\"text-align: right;\">\n",
       "      <th></th>\n",
       "      <th>name</th>\n",
       "    </tr>\n",
       "    <tr>\n",
       "      <th>year_of_release</th>\n",
       "      <th></th>\n",
       "    </tr>\n",
       "  </thead>\n",
       "  <tbody>\n",
       "    <tr>\n",
       "      <th>1980</th>\n",
       "      <td>9</td>\n",
       "    </tr>\n",
       "    <tr>\n",
       "      <th>1981</th>\n",
       "      <td>46</td>\n",
       "    </tr>\n",
       "    <tr>\n",
       "      <th>1982</th>\n",
       "      <td>36</td>\n",
       "    </tr>\n",
       "    <tr>\n",
       "      <th>1983</th>\n",
       "      <td>17</td>\n",
       "    </tr>\n",
       "    <tr>\n",
       "      <th>1984</th>\n",
       "      <td>14</td>\n",
       "    </tr>\n",
       "    <tr>\n",
       "      <th>1985</th>\n",
       "      <td>14</td>\n",
       "    </tr>\n",
       "    <tr>\n",
       "      <th>1986</th>\n",
       "      <td>21</td>\n",
       "    </tr>\n",
       "    <tr>\n",
       "      <th>1987</th>\n",
       "      <td>16</td>\n",
       "    </tr>\n",
       "    <tr>\n",
       "      <th>1988</th>\n",
       "      <td>15</td>\n",
       "    </tr>\n",
       "    <tr>\n",
       "      <th>1989</th>\n",
       "      <td>17</td>\n",
       "    </tr>\n",
       "    <tr>\n",
       "      <th>1990</th>\n",
       "      <td>16</td>\n",
       "    </tr>\n",
       "    <tr>\n",
       "      <th>1991</th>\n",
       "      <td>41</td>\n",
       "    </tr>\n",
       "    <tr>\n",
       "      <th>1992</th>\n",
       "      <td>43</td>\n",
       "    </tr>\n",
       "    <tr>\n",
       "      <th>1993</th>\n",
       "      <td>60</td>\n",
       "    </tr>\n",
       "    <tr>\n",
       "      <th>1994</th>\n",
       "      <td>121</td>\n",
       "    </tr>\n",
       "    <tr>\n",
       "      <th>1995</th>\n",
       "      <td>219</td>\n",
       "    </tr>\n",
       "    <tr>\n",
       "      <th>1996</th>\n",
       "      <td>263</td>\n",
       "    </tr>\n",
       "    <tr>\n",
       "      <th>1997</th>\n",
       "      <td>289</td>\n",
       "    </tr>\n",
       "    <tr>\n",
       "      <th>1998</th>\n",
       "      <td>379</td>\n",
       "    </tr>\n",
       "    <tr>\n",
       "      <th>1999</th>\n",
       "      <td>338</td>\n",
       "    </tr>\n",
       "    <tr>\n",
       "      <th>2000</th>\n",
       "      <td>350</td>\n",
       "    </tr>\n",
       "    <tr>\n",
       "      <th>2001</th>\n",
       "      <td>482</td>\n",
       "    </tr>\n",
       "    <tr>\n",
       "      <th>2002</th>\n",
       "      <td>829</td>\n",
       "    </tr>\n",
       "    <tr>\n",
       "      <th>2003</th>\n",
       "      <td>775</td>\n",
       "    </tr>\n",
       "    <tr>\n",
       "      <th>2004</th>\n",
       "      <td>762</td>\n",
       "    </tr>\n",
       "    <tr>\n",
       "      <th>2005</th>\n",
       "      <td>939</td>\n",
       "    </tr>\n",
       "    <tr>\n",
       "      <th>2006</th>\n",
       "      <td>1006</td>\n",
       "    </tr>\n",
       "    <tr>\n",
       "      <th>2007</th>\n",
       "      <td>1197</td>\n",
       "    </tr>\n",
       "    <tr>\n",
       "      <th>2008</th>\n",
       "      <td>1427</td>\n",
       "    </tr>\n",
       "    <tr>\n",
       "      <th>2009</th>\n",
       "      <td>1426</td>\n",
       "    </tr>\n",
       "    <tr>\n",
       "      <th>2010</th>\n",
       "      <td>1255</td>\n",
       "    </tr>\n",
       "    <tr>\n",
       "      <th>2011</th>\n",
       "      <td>1136</td>\n",
       "    </tr>\n",
       "    <tr>\n",
       "      <th>2012</th>\n",
       "      <td>653</td>\n",
       "    </tr>\n",
       "    <tr>\n",
       "      <th>2013</th>\n",
       "      <td>544</td>\n",
       "    </tr>\n",
       "    <tr>\n",
       "      <th>2014</th>\n",
       "      <td>581</td>\n",
       "    </tr>\n",
       "    <tr>\n",
       "      <th>2015</th>\n",
       "      <td>606</td>\n",
       "    </tr>\n",
       "    <tr>\n",
       "      <th>2016</th>\n",
       "      <td>502</td>\n",
       "    </tr>\n",
       "  </tbody>\n",
       "</table>\n",
       "</div>"
      ],
      "text/plain": [
       "                 name\n",
       "year_of_release      \n",
       "1980                9\n",
       "1981               46\n",
       "1982               36\n",
       "1983               17\n",
       "1984               14\n",
       "1985               14\n",
       "1986               21\n",
       "1987               16\n",
       "1988               15\n",
       "1989               17\n",
       "1990               16\n",
       "1991               41\n",
       "1992               43\n",
       "1993               60\n",
       "1994              121\n",
       "1995              219\n",
       "1996              263\n",
       "1997              289\n",
       "1998              379\n",
       "1999              338\n",
       "2000              350\n",
       "2001              482\n",
       "2002              829\n",
       "2003              775\n",
       "2004              762\n",
       "2005              939\n",
       "2006             1006\n",
       "2007             1197\n",
       "2008             1427\n",
       "2009             1426\n",
       "2010             1255\n",
       "2011             1136\n",
       "2012              653\n",
       "2013              544\n",
       "2014              581\n",
       "2015              606\n",
       "2016              502"
      ]
     },
     "execution_count": 35,
     "metadata": {},
     "output_type": "execute_result"
    }
   ],
   "source": [
    "games.query('name != \"not_stated\"').pivot_table(index = 'year_of_release', values = 'name', aggfunc = 'count')"
   ]
  },
  {
   "cell_type": "code",
   "execution_count": 36,
   "metadata": {},
   "outputs": [
    {
     "data": {
      "image/png": "[encoded data removed]",
      "text/plain": [
       "<Figure size 432x288 with 1 Axes>"
      ]
     },
     "metadata": {
      "needs_background": "light"
     },
     "output_type": "display_data"
    }
   ],
   "source": [
    "games.groupby(['year_of_release'])['name'].count().plot()\n",
    "plt.title('The graph of the release of games by year')\n",
    "plt.ylabel('Frequency')\n",
    "plt.show ()\n",
    "\n",
    "#The graph shows that there were almost no games until 1993. \n",
    "#Therefore, the data from 1985 to 1993 is not so important for the assessment. \n",
    "#Then there was a sharp jump until 2009 and then began to decline."
   ]
  },
  {
   "cell_type": "markdown",
   "metadata": {},
   "source": [
    "*Look at how sales varied from platform to platform. Choose the platforms with the greatest total sales and build a distribution based on data for each year. Find platforms that used to be popular but now have zero sales. How long does it generally take for new platforms to appear and old ones to fade?*"
   ]
  },
  {
   "cell_type": "code",
   "execution_count": 37,
   "metadata": {},
   "outputs": [
    {
     "data": {
      "text/plain": [
       "array(['Wii', 'NES', 'GB', 'DS', 'X360', 'PS3', 'PS2', 'SNES', 'GBA',\n",
       "       'PS4', '3DS', 'N64', 'PS', 'XB', 'PC', '2600', 'PSP', 'XOne',\n",
       "       'WiiU', 'GC', 'GEN', 'DC', 'PSV', 'SAT', 'SCD', 'WS', 'NG', 'TG16',\n",
       "       '3DO', 'GG', 'PCFX'], dtype=object)"
      ]
     },
     "execution_count": 37,
     "metadata": {},
     "output_type": "execute_result"
    }
   ],
   "source": [
    "games['platform'].unique()"
   ]
  },
  {
   "cell_type": "code",
   "execution_count": 38,
   "metadata": {},
   "outputs": [
    {
     "data": {
      "image/png": "[encoded data removed]",
      "text/plain": [
       "<Figure size 720x504 with 1 Axes>"
      ]
     },
     "metadata": {
      "needs_background": "light"
     },
     "output_type": "display_data"
    }
   ],
   "source": [
    "games.pivot_table(index='platform',values=['total_sales'],aggfunc=('sum')).sort_values(by='total_sales',ascending=False).plot(kind='bar', figsize=(10,7))\n",
    "plt.title('Total revenue of each platform')\n",
    "plt.ylabel('Total sales')\n",
    "plt.show ()\n",
    "\n",
    "#Seen from this graph that the top revenue is from the PS2, X360, PS3, Wii, DS, PS platforms."
   ]
  },
  {
   "cell_type": "code",
   "execution_count": 39,
   "metadata": {},
   "outputs": [
    {
     "data": {
      "image/png": "[encoded data removed]",
      "text/plain": [
       "<Figure size 432x288 with 1 Axes>"
      ]
     },
     "metadata": {
      "needs_background": "light"
     },
     "output_type": "display_data"
    },
    {
     "data": {
      "image/png": "[encoded data removed]",
      "text/plain": [
       "<Figure size 432x288 with 1 Axes>"
      ]
     },
     "metadata": {
      "needs_background": "light"
     },
     "output_type": "display_data"
    },
    {
     "data": {
      "image/png": "[encoded data removed]",
      "text/plain": [
       "<Figure size 432x288 with 1 Axes>"
      ]
     },
     "metadata": {
      "needs_background": "light"
     },
     "output_type": "display_data"
    },
    {
     "data": {
      "image/png": "[encoded data removed]",
      "text/plain": [
       "<Figure size 432x288 with 1 Axes>"
      ]
     },
     "metadata": {
      "needs_background": "light"
     },
     "output_type": "display_data"
    },
    {
     "data": {
      "image/png": "[encoded data removed]",
      "text/plain": [
       "<Figure size 432x288 with 1 Axes>"
      ]
     },
     "metadata": {
      "needs_background": "light"
     },
     "output_type": "display_data"
    },
    {
     "data": {
      "image/png": "[encoded data removed]",
      "text/plain": [
       "<Figure size 432x288 with 1 Axes>"
      ]
     },
     "metadata": {
      "needs_background": "light"
     },
     "output_type": "display_data"
    }
   ],
   "source": [
    "top_sales_platforms = ['PS2', 'X360', 'PS3', 'Wii', 'DS', 'PS']\n",
    "\n",
    "for top_platform in top_sales_platforms:\n",
    "    games.query('platform == @top_platform').groupby('year_of_release')['total_sales'].sum().plot(kind='bar', grid=True)\n",
    "    plt.xlabel('Year of release')\n",
    "    plt.ylabel('Total sales')\n",
    "    plt.title(top_platform)\n",
    "    plt.show()"
   ]
  },
  {
   "cell_type": "markdown",
   "metadata": {},
   "source": [
    "The graphs show that the average lifespan of a platform is 10-12 years. Usually platforms take 1-2 years to become popular. Around the middle of their lives, a new platform appears (this is in 5-6 years) and the popularity goes away.\n",
    "\n"
   ]
  },
  {
   "cell_type": "code",
   "execution_count": 40,
   "metadata": {},
   "outputs": [
    {
     "data": {
      "text/html": [
       "<div>\n",
       "<style scoped>\n",
       "    .dataframe tbody tr th:only-of-type {\n",
       "        vertical-align: middle;\n",
       "    }\n",
       "\n",
       "    .dataframe tbody tr th {\n",
       "        vertical-align: top;\n",
       "    }\n",
       "\n",
       "    .dataframe thead th {\n",
       "        text-align: right;\n",
       "    }\n",
       "</style>\n",
       "<table border=\"1\" class=\"dataframe\">\n",
       "  <thead>\n",
       "    <tr style=\"text-align: right;\">\n",
       "      <th></th>\n",
       "      <th>name</th>\n",
       "      <th>platform</th>\n",
       "      <th>year_of_release</th>\n",
       "      <th>genre</th>\n",
       "      <th>na_sales</th>\n",
       "      <th>eu_sales</th>\n",
       "      <th>jp_sales</th>\n",
       "      <th>other_sales</th>\n",
       "      <th>critic_score</th>\n",
       "      <th>user_score</th>\n",
       "      <th>rating</th>\n",
       "      <th>total_sales</th>\n",
       "    </tr>\n",
       "  </thead>\n",
       "  <tbody>\n",
       "    <tr>\n",
       "      <th>1</th>\n",
       "      <td>Super Mario Bros.</td>\n",
       "      <td>NES</td>\n",
       "      <td>1985</td>\n",
       "      <td>Platform</td>\n",
       "      <td>29.08</td>\n",
       "      <td>3.58</td>\n",
       "      <td>6.81</td>\n",
       "      <td>0.77</td>\n",
       "      <td>NaN</td>\n",
       "      <td>NaN</td>\n",
       "      <td>unknown</td>\n",
       "      <td>40.24</td>\n",
       "    </tr>\n",
       "    <tr>\n",
       "      <th>5</th>\n",
       "      <td>Tetris</td>\n",
       "      <td>GB</td>\n",
       "      <td>1989</td>\n",
       "      <td>Puzzle</td>\n",
       "      <td>23.20</td>\n",
       "      <td>2.26</td>\n",
       "      <td>4.22</td>\n",
       "      <td>0.58</td>\n",
       "      <td>NaN</td>\n",
       "      <td>NaN</td>\n",
       "      <td>unknown</td>\n",
       "      <td>30.26</td>\n",
       "    </tr>\n",
       "    <tr>\n",
       "      <th>9</th>\n",
       "      <td>Duck Hunt</td>\n",
       "      <td>NES</td>\n",
       "      <td>1984</td>\n",
       "      <td>Shooter</td>\n",
       "      <td>26.93</td>\n",
       "      <td>0.63</td>\n",
       "      <td>0.28</td>\n",
       "      <td>0.47</td>\n",
       "      <td>NaN</td>\n",
       "      <td>NaN</td>\n",
       "      <td>unknown</td>\n",
       "      <td>28.31</td>\n",
       "    </tr>\n",
       "    <tr>\n",
       "      <th>18</th>\n",
       "      <td>Super Mario World</td>\n",
       "      <td>SNES</td>\n",
       "      <td>1990</td>\n",
       "      <td>Platform</td>\n",
       "      <td>12.78</td>\n",
       "      <td>3.75</td>\n",
       "      <td>3.54</td>\n",
       "      <td>0.55</td>\n",
       "      <td>NaN</td>\n",
       "      <td>NaN</td>\n",
       "      <td>unknown</td>\n",
       "      <td>20.62</td>\n",
       "    </tr>\n",
       "    <tr>\n",
       "      <th>21</th>\n",
       "      <td>Super Mario Land</td>\n",
       "      <td>GB</td>\n",
       "      <td>1989</td>\n",
       "      <td>Platform</td>\n",
       "      <td>10.83</td>\n",
       "      <td>2.71</td>\n",
       "      <td>4.18</td>\n",
       "      <td>0.42</td>\n",
       "      <td>NaN</td>\n",
       "      <td>NaN</td>\n",
       "      <td>unknown</td>\n",
       "      <td>18.14</td>\n",
       "    </tr>\n",
       "    <tr>\n",
       "      <th>...</th>\n",
       "      <td>...</td>\n",
       "      <td>...</td>\n",
       "      <td>...</td>\n",
       "      <td>...</td>\n",
       "      <td>...</td>\n",
       "      <td>...</td>\n",
       "      <td>...</td>\n",
       "      <td>...</td>\n",
       "      <td>...</td>\n",
       "      <td>...</td>\n",
       "      <td>...</td>\n",
       "      <td>...</td>\n",
       "    </tr>\n",
       "    <tr>\n",
       "      <th>14610</th>\n",
       "      <td>Doom</td>\n",
       "      <td>PC</td>\n",
       "      <td>1992</td>\n",
       "      <td>Shooter</td>\n",
       "      <td>0.02</td>\n",
       "      <td>0.00</td>\n",
       "      <td>0.00</td>\n",
       "      <td>0.00</td>\n",
       "      <td>85.0</td>\n",
       "      <td>8.2</td>\n",
       "      <td>M</td>\n",
       "      <td>0.02</td>\n",
       "    </tr>\n",
       "    <tr>\n",
       "      <th>14621</th>\n",
       "      <td>SimCity</td>\n",
       "      <td>PC</td>\n",
       "      <td>1988</td>\n",
       "      <td>Simulation</td>\n",
       "      <td>0.00</td>\n",
       "      <td>0.02</td>\n",
       "      <td>0.00</td>\n",
       "      <td>0.01</td>\n",
       "      <td>64.0</td>\n",
       "      <td>2.2</td>\n",
       "      <td>E10+</td>\n",
       "      <td>0.03</td>\n",
       "    </tr>\n",
       "    <tr>\n",
       "      <th>15692</th>\n",
       "      <td>Empire Deluxe</td>\n",
       "      <td>PC</td>\n",
       "      <td>1992</td>\n",
       "      <td>Strategy</td>\n",
       "      <td>0.02</td>\n",
       "      <td>0.00</td>\n",
       "      <td>0.00</td>\n",
       "      <td>0.00</td>\n",
       "      <td>NaN</td>\n",
       "      <td>NaN</td>\n",
       "      <td>unknown</td>\n",
       "      <td>0.02</td>\n",
       "    </tr>\n",
       "    <tr>\n",
       "      <th>15957</th>\n",
       "      <td>Strongest Tokyo University Shogi DS</td>\n",
       "      <td>DS</td>\n",
       "      <td>1985</td>\n",
       "      <td>Action</td>\n",
       "      <td>0.00</td>\n",
       "      <td>0.00</td>\n",
       "      <td>0.02</td>\n",
       "      <td>0.00</td>\n",
       "      <td>NaN</td>\n",
       "      <td>NaN</td>\n",
       "      <td>unknown</td>\n",
       "      <td>0.02</td>\n",
       "    </tr>\n",
       "    <tr>\n",
       "      <th>16207</th>\n",
       "      <td>Rock N' Roll Racing</td>\n",
       "      <td>SNES</td>\n",
       "      <td>1993</td>\n",
       "      <td>Racing</td>\n",
       "      <td>0.00</td>\n",
       "      <td>0.00</td>\n",
       "      <td>0.01</td>\n",
       "      <td>0.00</td>\n",
       "      <td>NaN</td>\n",
       "      <td>NaN</td>\n",
       "      <td>unknown</td>\n",
       "      <td>0.01</td>\n",
       "    </tr>\n",
       "  </tbody>\n",
       "</table>\n",
       "<p>365 rows × 12 columns</p>\n",
       "</div>"
      ],
      "text/plain": [
       "                                      name platform  year_of_release  \\\n",
       "1                        Super Mario Bros.      NES             1985   \n",
       "5                                   Tetris       GB             1989   \n",
       "9                                Duck Hunt      NES             1984   \n",
       "18                       Super Mario World     SNES             1990   \n",
       "21                        Super Mario Land       GB             1989   \n",
       "...                                    ...      ...              ...   \n",
       "14610                                 Doom       PC             1992   \n",
       "14621                              SimCity       PC             1988   \n",
       "15692                        Empire Deluxe       PC             1992   \n",
       "15957  Strongest Tokyo University Shogi DS       DS             1985   \n",
       "16207                  Rock N' Roll Racing     SNES             1993   \n",
       "\n",
       "            genre  na_sales  eu_sales  jp_sales  other_sales  critic_score  \\\n",
       "1        Platform     29.08      3.58      6.81         0.77           NaN   \n",
       "5          Puzzle     23.20      2.26      4.22         0.58           NaN   \n",
       "9         Shooter     26.93      0.63      0.28         0.47           NaN   \n",
       "18       Platform     12.78      3.75      3.54         0.55           NaN   \n",
       "21       Platform     10.83      2.71      4.18         0.42           NaN   \n",
       "...           ...       ...       ...       ...          ...           ...   \n",
       "14610     Shooter      0.02      0.00      0.00         0.00          85.0   \n",
       "14621  Simulation      0.00      0.02      0.00         0.01          64.0   \n",
       "15692    Strategy      0.02      0.00      0.00         0.00           NaN   \n",
       "15957      Action      0.00      0.00      0.02         0.00           NaN   \n",
       "16207      Racing      0.00      0.00      0.01         0.00           NaN   \n",
       "\n",
       "       user_score   rating  total_sales  \n",
       "1             NaN  unknown        40.24  \n",
       "5             NaN  unknown        30.26  \n",
       "9             NaN  unknown        28.31  \n",
       "18            NaN  unknown        20.62  \n",
       "21            NaN  unknown        18.14  \n",
       "...           ...      ...          ...  \n",
       "14610         8.2        M         0.02  \n",
       "14621         2.2     E10+         0.03  \n",
       "15692         NaN  unknown         0.02  \n",
       "15957         NaN  unknown         0.02  \n",
       "16207         NaN  unknown         0.01  \n",
       "\n",
       "[365 rows x 12 columns]"
      ]
     },
     "execution_count": 40,
     "metadata": {},
     "output_type": "execute_result"
    }
   ],
   "source": [
    "games.loc[games['year_of_release'] <= 1993]\n",
    "\n",
    "#During the period from 1980 to 1993, less than 100 games were released per year, which is a small number \n",
    "#in comparison with other years. I decided to remove this period from the sample, since it is not fair to compare \n",
    "#the years if each of them has such different samples in terms of the number of samples.\n",
    "#During this period, a total of 365 games were released."
   ]
  },
  {
   "cell_type": "code",
   "execution_count": 41,
   "metadata": {},
   "outputs": [],
   "source": [
    "games = games.loc[games['year_of_release'] > 1993]"
   ]
  },
  {
   "cell_type": "code",
   "execution_count": 42,
   "metadata": {},
   "outputs": [
    {
     "data": {
      "image/png": "[encoded data removed]",
      "text/plain": [
       "<Figure size 1440x720 with 1 Axes>"
      ]
     },
     "metadata": {
      "needs_background": "light"
     },
     "output_type": "display_data"
    }
   ],
   "source": [
    "platforms_1993_2016 = games.query('year_of_release>=1993 and year_of_release<=2016')['platform'].unique()\n",
    "\n",
    "for curr_platform in platforms_1993_2016:\n",
    "    (\n",
    "    games.query('platform == @curr_platform'). \n",
    "    groupby('year_of_release')['total_sales'].\n",
    "    sum().\n",
    "    plot(grid=True, figsize = (20,10))\n",
    "    )\n",
    "plt.xlim(1993, 2016)\n",
    "plt.xlabel('Year of release')\n",
    "plt.ylabel('Total sales')\n",
    "plt.title('Distribution of game sales by platforms in the period from 1993 to 2016')\n",
    "plt.legend(platforms_1993_2016)\n",
    "plt.show()\n",
    "\n",
    "#Judging by the histogram, approximately the period from 2011-2013 begins to live new platforms, in which the life \n",
    "#cycle is just beginning (they may or may not take off), and also there are at the peak of several popular platforms,\n",
    "#which are gradually beginning to lose their popularity by 2016 already most likely almost out of demand."
   ]
  },
  {
   "cell_type": "markdown",
   "metadata": {},
   "source": [
    "- *Determine what period you should take data for. To do so, look at your answers to the previous questions. The data should allow you to build a prognosis for 2017.*\n",
    "- *Work only with the data that you've decided is relevant. Disregard the data for previous years.*\n",
    "- *Which platforms are leading in sales? Which ones are growing or shrinking? Select several potentially profitable platforms.*\n",
    "\n"
   ]
  },
  {
   "cell_type": "code",
   "execution_count": 43,
   "metadata": {},
   "outputs": [
    {
     "data": {
      "text/plain": [
       "array(['Wii', 'GB', 'DS', 'X360', 'PS3', 'PS2', 'GBA', 'PS4', '3DS',\n",
       "       'N64', 'PS', 'SNES', 'XB', 'PC', 'PSP', 'XOne', 'WiiU', 'GC', 'DC',\n",
       "       'PSV', 'SAT', 'GEN', 'WS', 'NG', 'SCD', 'TG16', 'NES', '3DO',\n",
       "       'PCFX'], dtype=object)"
      ]
     },
     "execution_count": 43,
     "metadata": {},
     "output_type": "execute_result"
    }
   ],
   "source": [
    "games['platform'].unique()"
   ]
  },
  {
   "cell_type": "code",
   "execution_count": 44,
   "metadata": {},
   "outputs": [
    {
     "data": {
      "text/plain": [
       "array(['PS3', 'X360', 'PS4', '3DS', 'XOne', 'WiiU', 'Wii', 'PC', 'PSV',\n",
       "       'DS', 'PSP'], dtype=object)"
      ]
     },
     "execution_count": 44,
     "metadata": {},
     "output_type": "execute_result"
    }
   ],
   "source": [
    "games.query('year_of_release>=2013 and year_of_release<=2016')['platform'].unique()"
   ]
  },
  {
   "cell_type": "code",
   "execution_count": 45,
   "metadata": {},
   "outputs": [
    {
     "data": {
      "image/png": "[encoded data removed]",
      "text/plain": [
       "<Figure size 1440x720 with 1 Axes>"
      ]
     },
     "metadata": {
      "needs_background": "light"
     },
     "output_type": "display_data"
    }
   ],
   "source": [
    "platforms_2013_2016 = games.query('year_of_release>=2013 and year_of_release<=2016')['platform'].unique()\n",
    "\n",
    "for curr_platform in platforms_2013_2016:\n",
    "    (\n",
    "    games.query('platform == @curr_platform'). \n",
    "    groupby('year_of_release')['total_sales'].\n",
    "    sum().\n",
    "    plot(grid=True, figsize = (20,10))\n",
    "    )\n",
    "plt.xlim(2013, 2016)\n",
    "plt.xlabel('Year of release')\n",
    "plt.ylabel('Total sales')\n",
    "plt.title('Distribution of game sales by platforms in the period from 2013 to 2016')\n",
    "plt.legend(platforms_2013_2016)\n",
    "plt.show()\n",
    "\n",
    "#For build a prognosis for 2017, it is not relevant for us to take a period in which the platforms popular \n",
    "#in the last few years have not even appeared, proceeding from the previous histogram for the period 1993-2016, \n",
    "#we need to take the current period from 2013 to 2016."
   ]
  },
  {
   "cell_type": "markdown",
   "metadata": {},
   "source": [
    "It can be seen from the graphs that almost all platforms follow approximately the same cycle: they appear on the market, become popular for about 2 years, then gradually reach their peak, after which they lose popularity. Most likely due to the release of a new platform on the market. The entire life cycle takes about 10 years.\n",
    "It can be seen from the graphs that by 2014-2015, all platforms are declining, except for PS4 and XOne, they are still holding a good level of sales. Both platforms hit the market in 2013.\n",
    "Since the data for 2016 may not be complete, can see a slight drop in the graphs. But given that the average life cycle of a platform is about 10 years, these 2 platforms can be potentially profitable for about 3-4 more years (if look at the development of other platforms), after which they will also begin to gradually reduce their popularity.\n",
    "That is, for 2017-2019, can count on their potential profitability.\n",
    "\n"
   ]
  },
  {
   "cell_type": "markdown",
   "metadata": {},
   "source": [
    "*Build a box plot for the global sales of all games, broken down by platform. Are the differences in sales significant? What about average sales on various platforms? Describe your findings.*\n"
   ]
  },
  {
   "cell_type": "code",
   "execution_count": 46,
   "metadata": {},
   "outputs": [
    {
     "data": {
      "image/png": "[encoded data removed]",
      "text/plain": [
       "<Figure size 1440x720 with 1 Axes>"
      ]
     },
     "metadata": {
      "needs_background": "light"
     },
     "output_type": "display_data"
    }
   ],
   "source": [
    "plt.figure(figsize=(20,10))\n",
    "plt.ylim(0,3)\n",
    "sns.boxplot(x='platform', y='total_sales', data=games)\n",
    "plt.show()"
   ]
  },
  {
   "cell_type": "code",
   "execution_count": 47,
   "metadata": {},
   "outputs": [
    {
     "data": {
      "image/png": "[encoded data removed]",
      "text/plain": [
       "<Figure size 1440x720 with 1 Axes>"
      ]
     },
     "metadata": {
      "needs_background": "light"
     },
     "output_type": "display_data"
    }
   ],
   "source": [
    "games_in_period = games.loc[(games['year_of_release'] >= 2013) & (games['year_of_release'] <= 2016)]\n",
    "\n",
    "plt.figure(figsize=(20,10))\n",
    "platforms_boxplot = sns.boxplot(x = 'platform',\n",
    "                                y = 'total_sales',\n",
    "                                data = games_in_period,\n",
    "                                fliersize = 4,\n",
    "                                width = 0.25)\n",
    "plt.ylim(0,3)\n",
    "plt.show()"
   ]
  },
  {
   "cell_type": "code",
   "execution_count": 48,
   "metadata": {},
   "outputs": [],
   "source": [
    "#profitable_platforms = games.loc[(games['platform'] == 'PS4') | (games['platform'] == 'XOne')]\n",
    "\n",
    "#plt.figure(figsize=(20,10))\n",
    "#sns.boxplot(x = 'platform', y = 'total_sales',data = profitable_platforms, width = 0.25)\n",
    "#plt.ylim(0,3)\n",
    "#plt.show()"
   ]
  },
  {
   "cell_type": "code",
   "execution_count": 49,
   "metadata": {},
   "outputs": [
    {
     "data": {
      "image/png": "[encoded data removed]",
      "text/plain": [
       "<Figure size 1440x720 with 1 Axes>"
      ]
     },
     "metadata": {
      "needs_background": "light"
     },
     "output_type": "display_data"
    }
   ],
   "source": [
    "profitable_platforms = games_in_period.loc[(games_in_period['platform'] == 'PS4') | (games_in_period['platform'] == 'XOne')| (games_in_period['platform'] == 'X360') | (games_in_period['platform'] == 'Wii')]\n",
    "\n",
    "plt.figure(figsize=(20,10))\n",
    "sns.boxplot(x = 'platform', y = 'total_sales',data = profitable_platforms, width = 0.25)\n",
    "plt.ylim(0,3)\n",
    "plt.show()"
   ]
  },
  {
   "cell_type": "markdown",
   "metadata": {},
   "source": [
    "The graphs show that the difference in game sales for each platform strongly depends on the platform - on some platforms this spread is huge, such as GB (from 0.25 to 2.25 million) or GEN (from 0.1 to 1.4 million), and on some platforms, such as SCD, NES and PCFX, it is completely small. \n",
    "Also can see that the median for sales on different platforms is also quite different - from 0.1 to 0.8 million.\n",
    "If look at the spread of sales in the previously selected platforms X360, PS4, XOne and Wii, they are almost identical. \n",
    "The median is about 0.2 million. The revenue of X360 and PS4  does not exceed 1.75 million and the revenue of XOne and Wii  does not exceed 1.55 million."
   ]
  },
  {
   "cell_type": "code",
   "execution_count": 50,
   "metadata": {},
   "outputs": [
    {
     "data": {
      "image/png": "[encoded data removed]",
      "text/plain": [
       "<Figure size 432x288 with 1 Axes>"
      ]
     },
     "metadata": {
      "needs_background": "light"
     },
     "output_type": "display_data"
    }
   ],
   "source": [
    "platforms_boxplot1 = sns.boxplot(x = 'platform',\n",
    "                                y = 'total_sales',\n",
    "                                data = games_in_period,\n",
    "                                fliersize = 4,\n",
    "                                width = 0.25)\n",
    "plt.ylim(0,3)\n",
    "plt.show()"
   ]
  },
  {
   "cell_type": "markdown",
   "metadata": {},
   "source": [
    "- *Take a look at how user and professional reviews affect sales for one popular platform (you choose). Build a scatter plot and calculate the correlation between reviews and sales. Draw conclusions.*\n",
    "- *Keeping your conclusions in mind, compare the sales of the same games on other platforms.*\n",
    "\n"
   ]
  },
  {
   "cell_type": "code",
   "execution_count": 51,
   "metadata": {},
   "outputs": [
    {
     "data": {
      "image/png": "[encoded data removed]",
      "text/plain": [
       "<Figure size 720x288 with 1 Axes>"
      ]
     },
     "metadata": {
      "needs_background": "light"
     },
     "output_type": "display_data"
    }
   ],
   "source": [
    "games.query('platform==\"PS4\" and total_sales<=1.9').sort_values(by='critic_score',ascending=True).plot(kind='scatter',x='critic_score',y='total_sales',figsize=(10,4),\n",
    "title='Scatter plot of PS4 platform total sales versus critics score')\n",
    "plt.show()\n"
   ]
  },
  {
   "cell_type": "code",
   "execution_count": 52,
   "metadata": {},
   "outputs": [
    {
     "data": {
      "image/png": "[encoded data removed]",
      "text/plain": [
       "<Figure size 720x288 with 1 Axes>"
      ]
     },
     "metadata": {
      "needs_background": "light"
     },
     "output_type": "display_data"
    }
   ],
   "source": [
    "games.query('platform==\"PS4\" and user_score<=50').sort_values(by='user_score',ascending=True).plot(kind='scatter',x='critic_score',y='total_sales',figsize=(10,4),\n",
    "title='Scatter plot of PS4 platform total sales versus critics score')\n",
    "plt.show()"
   ]
  },
  {
   "cell_type": "code",
   "execution_count": 53,
   "metadata": {},
   "outputs": [
    {
     "name": "stdout",
     "output_type": "stream",
     "text": [
      "Correlation between user score and PS4 sales:\n"
     ]
    },
    {
     "data": {
      "text/plain": [
       "-0.031957110204556424"
      ]
     },
     "execution_count": 53,
     "metadata": {},
     "output_type": "execute_result"
    }
   ],
   "source": [
    "print('Correlation between user score and PS4 sales:')\n",
    "games_in_period.loc[games_in_period['platform'] == 'PS4']['total_sales'].corr(games_in_period.loc[games_in_period['platform'] == 'PS4']['user_score'])\n"
   ]
  },
  {
   "cell_type": "code",
   "execution_count": 54,
   "metadata": {},
   "outputs": [
    {
     "name": "stdout",
     "output_type": "stream",
     "text": [
      "Correlation between critical score and PS4 sales:\n"
     ]
    },
    {
     "data": {
      "text/plain": [
       "0.406567902061781"
      ]
     },
     "execution_count": 54,
     "metadata": {},
     "output_type": "execute_result"
    }
   ],
   "source": [
    "print('Correlation between critical score and PS4 sales:')\n",
    "games_in_period.loc[games_in_period['platform'] == 'PS4']['total_sales'].corr(games_in_period.loc[games_in_period['platform'] == 'PS4']['critic_score'])\n"
   ]
  },
  {
   "cell_type": "code",
   "execution_count": 55,
   "metadata": {},
   "outputs": [
    {
     "name": "stdout",
     "output_type": "stream",
     "text": [
      "Correlation between user score and sales regardless of platform:\n"
     ]
    },
    {
     "data": {
      "text/plain": [
       "-0.0026078133545982727"
      ]
     },
     "execution_count": 55,
     "metadata": {},
     "output_type": "execute_result"
    }
   ],
   "source": [
    "print('Correlation between user score and sales regardless of platform:')\n",
    "games_in_period['total_sales'].corr(games_in_period['user_score'])"
   ]
  },
  {
   "cell_type": "code",
   "execution_count": 56,
   "metadata": {},
   "outputs": [
    {
     "name": "stdout",
     "output_type": "stream",
     "text": [
      "Correlation between critical score and sales regardless of platform:\n"
     ]
    },
    {
     "data": {
      "text/plain": [
       "0.3136995151027369"
      ]
     },
     "execution_count": 56,
     "metadata": {},
     "output_type": "execute_result"
    }
   ],
   "source": [
    "print('Correlation between critical score and sales regardless of platform:')\n",
    "games_in_period['total_sales'].corr(games_in_period['critic_score'])"
   ]
  },
  {
   "cell_type": "markdown",
   "metadata": {},
   "source": [
    "The scatter plot and the correlation figures show that there is little or no correlation between sales and user reviews. But the relationship between sales and critical reviews is quite strong and stable (the correlation is about 0.4 for popular platforms and about 0.3 for all platforms).\n",
    "\n",
    "\n"
   ]
  },
  {
   "cell_type": "markdown",
   "metadata": {},
   "source": [
    "*Take a look at the general distribution of games by genre. What can we say about the most profitable genres? Can you generalize about genres with high and low sales?*\n",
    "\n"
   ]
  },
  {
   "cell_type": "code",
   "execution_count": 57,
   "metadata": {},
   "outputs": [
    {
     "name": "stdout",
     "output_type": "stream",
     "text": [
      "Profit in Action genre: 1647\n",
      "Profit in Shooter genre: 976\n",
      "Profit in Role-Playing genre: 896\n",
      "Profit in Misc genre: 777\n",
      "Profit in Sports genre: 1267\n",
      "Profit in Fighting genre: 411\n",
      "Profit in Racing genre: 695\n",
      "Profit in Simulation genre: 382\n",
      "Profit in Platform genre: 641\n",
      "Profit in Strategy genre: 170\n",
      "Profit in Adventure genre: 214\n",
      "Profit in Puzzle genre: 160\n"
     ]
    }
   ],
   "source": [
    "genre_list = games_in_period['genre'].unique()\n",
    "for i in genre_list: \n",
    "    print('Profit in {} genre:'.format(i), games.query('genre == @i')['total_sales'].sum().round().astype('int'))"
   ]
  },
  {
   "cell_type": "markdown",
   "metadata": {},
   "source": [
    "The distribution shows how much income the games bring. The former include Action - 1647, Sports - 1267 and Shooter - 976. The last places are occupied by Puzzle - 160, Strategy - 170 and Adventure - 214"
   ]
  },
  {
   "cell_type": "code",
   "execution_count": 58,
   "metadata": {},
   "outputs": [
    {
     "data": {
      "image/png": "[encoded data removed]",
      "text/plain": [
       "<Figure size 432x288 with 1 Axes>"
      ]
     },
     "metadata": {
      "needs_background": "light"
     },
     "output_type": "display_data"
    }
   ],
   "source": [
    "genres_popularity = games_in_period.groupby(['genre'])['total_sales'].sum().plot(kind = 'bar')\n",
    "plt.xlabel('Genre')\n",
    "plt.ylabel('Total sales')\n",
    "plt.title('General distribution of games by genre')\n",
    "plt.legend()\n",
    "plt.show ()\n",
    "#In this distribution, there are also 3 leading genres, only Sports and Shooter have changed places. \n",
    "#Sample for the period from 2013 to 2016"
   ]
  },
  {
   "cell_type": "markdown",
   "metadata": {},
   "source": [
    "### Conclusion"
   ]
  },
  {
   "cell_type": "markdown",
   "metadata": {},
   "source": [
    "- Analyzed how many games were released in different years.\n",
    "- Analyzed how sales changed from platform to platform.Was selected the platforms with the highest total sales (PS2, X360, PS3, Wii, DS, PS) and plotted their profitability distributions over the years. Analyzed how long it usually takes for new platforms to appear and old ones to disappear (after 1-2 years they become popular, peak popularity is 3-5 years of life and the average life cycle is about 10 years). In about 5-6 years, new platforms come out.\n",
    "- Was determined period you should take data to build a prognosis for 2017 (this is the period from 2013 to 2016). By 2014-2015, most of the platforms are already approaching the logical end of their life cycle, except for two platforms: PS4 and XOne, and in 2017-2019 you can count on their potential profitability.\n",
    "- A box plot was built for the global sales of all games, broken down by platform. The graphs show that the difference in game sales for each platform strongly depends on the platform - on some platforms this spread is huge, such as GB (from 0.25 to 2.25 million) or GEN (from 0.1 to 1.4 million), and on some platforms, such as SCD, NES and PCFX, it is completely small. Also can see that the median for sales on different platforms is also quite different - from 0.1 to 0.8 million. If look at the spread of sales in the previously selected platforms PS4 and XOne, they are almost identical. The median is about 0.2 million, and most of the revenue per game does not exceed 1.75 million.\n",
    "- For the PS4 platform, correlations were made between sales and user ratings, and between sales and critics' ratings, and a scatter plot was built. It was concluded that the relationship between sales and reviews of critics is also quite strong (correlation of about 0.4 for the three forums under consideration and 0.3 for all the others).\n",
    "- Was looked at the general distribution of games by genre. In terms of total sales, the Action genre stands out sharply, followed by Sports and Shooter. The most unprofitable genres are Puzzle and Strategy.\n"
   ]
  },
  {
   "cell_type": "markdown",
   "metadata": {},
   "source": [
    "## Create a user profile for each region."
   ]
  },
  {
   "cell_type": "markdown",
   "metadata": {},
   "source": [
    "***For each region (NA, EU, JP), determine:***\n"
   ]
  },
  {
   "cell_type": "markdown",
   "metadata": {},
   "source": [
    "- *The top five platforms. Describe variations in their market shares from region to region.*\n",
    "- *The top five genres. Explain the difference.*\n"
   ]
  },
  {
   "cell_type": "code",
   "execution_count": 59,
   "metadata": {},
   "outputs": [
    {
     "name": "stdout",
     "output_type": "stream",
     "text": [
      "Top 5 platforms in the na_sales:\n",
      "          na_sales\n",
      "platform          \n",
      "PS4         108.74\n",
      "XOne         93.12\n",
      "X360         81.66\n",
      "PS3          63.50\n",
      "3DS          38.20\n",
      "\n",
      "Top 5 platforms in the eu_sales:\n",
      "          eu_sales\n",
      "platform          \n",
      "PS4         141.09\n",
      "PS3          67.81\n",
      "XOne         51.59\n",
      "X360         42.52\n",
      "3DS          30.96\n",
      "\n",
      "Top 5 platforms in the jp_sales:\n",
      "          jp_sales\n",
      "platform          \n",
      "3DS          67.81\n",
      "PS3          23.35\n",
      "PSV          18.59\n",
      "PS4          15.96\n",
      "WiiU         10.88\n",
      "\n"
     ]
    }
   ],
   "source": [
    "def filter(index, values): \n",
    "    print('Top 5 {}s in the {}:'.format(index, values))\n",
    "    print(games_in_period.pivot_table(index = index, values = values, aggfunc = 'sum').sort_values(values , ascending = False).head())\n",
    "    print()\n",
    "    \n",
    "    \n",
    "filter('platform', 'na_sales')\n",
    "filter('platform', 'eu_sales')\n",
    "filter('platform', 'jp_sales')"
   ]
  },
  {
   "cell_type": "markdown",
   "metadata": {},
   "source": [
    "In all three regions, the PS4 and PS3 platforms are leading. \n",
    "PS4 and XOne dominate in North America. PS4 and PS3 dominate in  Europe, while 3DS in first place in Japan."
   ]
  },
  {
   "cell_type": "code",
   "execution_count": 60,
   "metadata": {},
   "outputs": [
    {
     "name": "stdout",
     "output_type": "stream",
     "text": [
      "Top 5 genres in the na_sales:\n",
      "              na_sales\n",
      "genre                 \n",
      "Action          126.05\n",
      "Shooter         109.74\n",
      "Sports           65.27\n",
      "Role-Playing     46.40\n",
      "Misc             27.49\n",
      "\n",
      "Top 5 genres in the eu_sales:\n",
      "              eu_sales\n",
      "genre                 \n",
      "Action          118.13\n",
      "Shooter          87.86\n",
      "Sports           60.52\n",
      "Role-Playing     36.97\n",
      "Racing           20.19\n",
      "\n",
      "Top 5 genres in the jp_sales:\n",
      "              jp_sales\n",
      "genre                 \n",
      "Role-Playing     51.04\n",
      "Action           40.49\n",
      "Misc              9.20\n",
      "Fighting          7.65\n",
      "Shooter           6.61\n",
      "\n"
     ]
    }
   ],
   "source": [
    "filter('genre', 'na_sales')\n",
    "filter('genre', 'eu_sales')\n",
    "filter('genre', 'jp_sales')"
   ]
  },
  {
   "cell_type": "markdown",
   "metadata": {},
   "source": [
    "In Japan, the Role-Playing genre is in first place. In other regions, Action takes the first place."
   ]
  },
  {
   "cell_type": "markdown",
   "metadata": {},
   "source": [
    "*Do ESRB ratings affect sales in individual regions?*"
   ]
  },
  {
   "cell_type": "markdown",
   "metadata": {},
   "source": [
    "- E - Everyone      \n",
    "- T - Teen       \n",
    "- M - Mature       \n",
    "- E10+ - Everyone 10+   \n",
    "- EC - Early Childhood               \n",
    "- AO - Adults Only          \n",
    "- RP - Rating Pending          "
   ]
  },
  {
   "cell_type": "code",
   "execution_count": 61,
   "metadata": {},
   "outputs": [
    {
     "data": {
      "text/html": [
       "<div>\n",
       "<style scoped>\n",
       "    .dataframe tbody tr th:only-of-type {\n",
       "        vertical-align: middle;\n",
       "    }\n",
       "\n",
       "    .dataframe tbody tr th {\n",
       "        vertical-align: top;\n",
       "    }\n",
       "\n",
       "    .dataframe thead th {\n",
       "        text-align: right;\n",
       "    }\n",
       "</style>\n",
       "<table border=\"1\" class=\"dataframe\">\n",
       "  <thead>\n",
       "    <tr style=\"text-align: right;\">\n",
       "      <th></th>\n",
       "      <th>total_sum</th>\n",
       "      <th>sum per game</th>\n",
       "    </tr>\n",
       "    <tr>\n",
       "      <th>rating</th>\n",
       "      <th></th>\n",
       "      <th></th>\n",
       "    </tr>\n",
       "  </thead>\n",
       "  <tbody>\n",
       "    <tr>\n",
       "      <th>E</th>\n",
       "      <td>79.05</td>\n",
       "      <td>0.261755</td>\n",
       "    </tr>\n",
       "    <tr>\n",
       "      <th>E10+</th>\n",
       "      <td>54.24</td>\n",
       "      <td>0.215238</td>\n",
       "    </tr>\n",
       "    <tr>\n",
       "      <th>M</th>\n",
       "      <td>165.21</td>\n",
       "      <td>0.447724</td>\n",
       "    </tr>\n",
       "    <tr>\n",
       "      <th>T</th>\n",
       "      <td>49.79</td>\n",
       "      <td>0.149520</td>\n",
       "    </tr>\n",
       "    <tr>\n",
       "      <th>unknown</th>\n",
       "      <td>89.42</td>\n",
       "      <td>0.091525</td>\n",
       "    </tr>\n",
       "  </tbody>\n",
       "</table>\n",
       "</div>"
      ],
      "text/plain": [
       "         total_sum  sum per game\n",
       "rating                          \n",
       "E            79.05      0.261755\n",
       "E10+         54.24      0.215238\n",
       "M           165.21      0.447724\n",
       "T            49.79      0.149520\n",
       "unknown      89.42      0.091525"
      ]
     },
     "execution_count": 61,
     "metadata": {},
     "output_type": "execute_result"
    }
   ],
   "source": [
    "esrb_in_na = games_in_period.groupby(['rating'])['na_sales'].agg([sum, lambda x: sum(x)/len(x)])\n",
    "esrb_in_na.columns = ['total_sum', 'sum per game']\n",
    "esrb_in_na"
   ]
  },
  {
   "cell_type": "markdown",
   "metadata": {},
   "source": [
    "The best-selling games in North America are Mature (M), Unknown and Everyone."
   ]
  },
  {
   "cell_type": "code",
   "execution_count": 62,
   "metadata": {},
   "outputs": [
    {
     "data": {
      "text/html": [
       "<div>\n",
       "<style scoped>\n",
       "    .dataframe tbody tr th:only-of-type {\n",
       "        vertical-align: middle;\n",
       "    }\n",
       "\n",
       "    .dataframe tbody tr th {\n",
       "        vertical-align: top;\n",
       "    }\n",
       "\n",
       "    .dataframe thead th {\n",
       "        text-align: right;\n",
       "    }\n",
       "</style>\n",
       "<table border=\"1\" class=\"dataframe\">\n",
       "  <thead>\n",
       "    <tr style=\"text-align: right;\">\n",
       "      <th></th>\n",
       "      <th>total_sum</th>\n",
       "      <th>sum per game</th>\n",
       "    </tr>\n",
       "    <tr>\n",
       "      <th>rating</th>\n",
       "      <th></th>\n",
       "      <th></th>\n",
       "    </tr>\n",
       "  </thead>\n",
       "  <tbody>\n",
       "    <tr>\n",
       "      <th>E</th>\n",
       "      <td>83.36</td>\n",
       "      <td>0.276026</td>\n",
       "    </tr>\n",
       "    <tr>\n",
       "      <th>E10+</th>\n",
       "      <td>42.69</td>\n",
       "      <td>0.169405</td>\n",
       "    </tr>\n",
       "    <tr>\n",
       "      <th>M</th>\n",
       "      <td>145.32</td>\n",
       "      <td>0.393821</td>\n",
       "    </tr>\n",
       "    <tr>\n",
       "      <th>T</th>\n",
       "      <td>41.95</td>\n",
       "      <td>0.125976</td>\n",
       "    </tr>\n",
       "    <tr>\n",
       "      <th>unknown</th>\n",
       "      <td>78.91</td>\n",
       "      <td>0.080768</td>\n",
       "    </tr>\n",
       "  </tbody>\n",
       "</table>\n",
       "</div>"
      ],
      "text/plain": [
       "         total_sum  sum per game\n",
       "rating                          \n",
       "E            83.36      0.276026\n",
       "E10+         42.69      0.169405\n",
       "M           145.32      0.393821\n",
       "T            41.95      0.125976\n",
       "unknown      78.91      0.080768"
      ]
     },
     "execution_count": 62,
     "metadata": {},
     "output_type": "execute_result"
    }
   ],
   "source": [
    "esrb_in_ea = games_in_period.groupby(['rating'])['eu_sales'].agg([sum, lambda x: sum(x)/len(x)])\n",
    "esrb_in_ea.columns = ['total_sum', 'sum per game']\n",
    "esrb_in_ea"
   ]
  },
  {
   "cell_type": "markdown",
   "metadata": {},
   "source": [
    "In Europe, the best-selling games are also in the category Mature (M), Everyone (E) and Unknown"
   ]
  },
  {
   "cell_type": "code",
   "execution_count": 63,
   "metadata": {},
   "outputs": [
    {
     "data": {
      "text/html": [
       "<div>\n",
       "<style scoped>\n",
       "    .dataframe tbody tr th:only-of-type {\n",
       "        vertical-align: middle;\n",
       "    }\n",
       "\n",
       "    .dataframe tbody tr th {\n",
       "        vertical-align: top;\n",
       "    }\n",
       "\n",
       "    .dataframe thead th {\n",
       "        text-align: right;\n",
       "    }\n",
       "</style>\n",
       "<table border=\"1\" class=\"dataframe\">\n",
       "  <thead>\n",
       "    <tr style=\"text-align: right;\">\n",
       "      <th></th>\n",
       "      <th>total_sum</th>\n",
       "      <th>sum per game</th>\n",
       "    </tr>\n",
       "    <tr>\n",
       "      <th>rating</th>\n",
       "      <th></th>\n",
       "      <th></th>\n",
       "    </tr>\n",
       "  </thead>\n",
       "  <tbody>\n",
       "    <tr>\n",
       "      <th>E</th>\n",
       "      <td>15.14</td>\n",
       "      <td>0.050132</td>\n",
       "    </tr>\n",
       "    <tr>\n",
       "      <th>E10+</th>\n",
       "      <td>5.89</td>\n",
       "      <td>0.023373</td>\n",
       "    </tr>\n",
       "    <tr>\n",
       "      <th>M</th>\n",
       "      <td>14.11</td>\n",
       "      <td>0.038238</td>\n",
       "    </tr>\n",
       "    <tr>\n",
       "      <th>T</th>\n",
       "      <td>20.59</td>\n",
       "      <td>0.061832</td>\n",
       "    </tr>\n",
       "    <tr>\n",
       "      <th>unknown</th>\n",
       "      <td>85.05</td>\n",
       "      <td>0.087052</td>\n",
       "    </tr>\n",
       "  </tbody>\n",
       "</table>\n",
       "</div>"
      ],
      "text/plain": [
       "         total_sum  sum per game\n",
       "rating                          \n",
       "E            15.14      0.050132\n",
       "E10+          5.89      0.023373\n",
       "M            14.11      0.038238\n",
       "T            20.59      0.061832\n",
       "unknown      85.05      0.087052"
      ]
     },
     "execution_count": 63,
     "metadata": {},
     "output_type": "execute_result"
    }
   ],
   "source": [
    "esrb_in_jp = games_in_period.groupby(['rating'])['jp_sales'].agg([sum, lambda x: sum(x)/len(x)])\n",
    "esrb_in_jp.columns = ['total_sum', 'sum per game']\n",
    "esrb_in_jp\n",
    "    "
   ]
  },
  {
   "cell_type": "markdown",
   "metadata": {},
   "source": [
    " In Japan, the best-selling games are in the category Unknown,Teen (T) and Everyone (E), but sales are already lower than in North America and Europe."
   ]
  },
  {
   "cell_type": "markdown",
   "metadata": {},
   "source": [
    "### Conclusion"
   ]
  },
  {
   "cell_type": "markdown",
   "metadata": {},
   "source": [
    "- The top five platforms were reviewed. In all three regions, the PS4 and PS3 platforms are leading. PS4 and XOne dominate in North America. PS4 and PS3 dominate in Europe, while 3DS in first place in Japan.\n",
    "- The top five genres were reviewed. In North America and Europe, the Action genre is in the first place. In Japan, the genre of Role-Playing games is on the first place.\n",
    "- The question was considered whether ESRB ratings affect sales in individual regions. In all three regions, the leading categories are Mature (M), Everyone (E) and Unknown.\n",
    "\n"
   ]
  },
  {
   "cell_type": "markdown",
   "metadata": {},
   "source": [
    "## Test the following hypotheses."
   ]
  },
  {
   "cell_type": "markdown",
   "metadata": {},
   "source": [
    "***Average user ratings of the Xbox One and PC platforms are the same.***"
   ]
  },
  {
   "cell_type": "markdown",
   "metadata": {},
   "source": [
    "**Null Hypothesis:** \n",
    "The average user ratings of the Xbox One and PC platforms are the same."
   ]
  },
  {
   "cell_type": "markdown",
   "metadata": {},
   "source": [
    "**Alternative hypothesis:**\n",
    "The average user ratings of the Xbox One and PC platforms are **not** the same. "
   ]
  },
  {
   "cell_type": "code",
   "execution_count": 64,
   "metadata": {},
   "outputs": [
    {
     "name": "stdout",
     "output_type": "stream",
     "text": [
      "p-value: 0.14759594013430463\n",
      "We can't reject the null hypothesis\n"
     ]
    }
   ],
   "source": [
    "data1 = games_in_period.loc[games_in_period['platform']=='XOne', 'user_score'].dropna()\n",
    "data2 = games_in_period.loc[games_in_period['platform']=='PC', 'user_score'].dropna()\n",
    "alpha = 0.05\n",
    "\n",
    "results = st.ttest_ind(\n",
    "    data1,\n",
    "    data2,\n",
    "    equal_var = False)\n",
    "\n",
    "print('p-value:', results.pvalue)\n",
    "\n",
    "if np.all(results.pvalue < alpha):\n",
    "    print('We reject the null hypothesis')\n",
    "else:\n",
    "    print(\"We can't reject the null hypothesis\")\n",
    "    "
   ]
  },
  {
   "cell_type": "code",
   "execution_count": 65,
   "metadata": {},
   "outputs": [
    {
     "data": {
      "text/html": [
       "<div>\n",
       "<style scoped>\n",
       "    .dataframe tbody tr th:only-of-type {\n",
       "        vertical-align: middle;\n",
       "    }\n",
       "\n",
       "    .dataframe tbody tr th {\n",
       "        vertical-align: top;\n",
       "    }\n",
       "\n",
       "    .dataframe thead th {\n",
       "        text-align: right;\n",
       "    }\n",
       "</style>\n",
       "<table border=\"1\" class=\"dataframe\">\n",
       "  <thead>\n",
       "    <tr style=\"text-align: right;\">\n",
       "      <th></th>\n",
       "      <th>name</th>\n",
       "      <th>platform</th>\n",
       "      <th>year_of_release</th>\n",
       "      <th>genre</th>\n",
       "      <th>na_sales</th>\n",
       "      <th>eu_sales</th>\n",
       "      <th>jp_sales</th>\n",
       "      <th>other_sales</th>\n",
       "      <th>critic_score</th>\n",
       "      <th>user_score</th>\n",
       "      <th>rating</th>\n",
       "      <th>total_sales</th>\n",
       "    </tr>\n",
       "  </thead>\n",
       "  <tbody>\n",
       "  </tbody>\n",
       "</table>\n",
       "</div>"
      ],
      "text/plain": [
       "Empty DataFrame\n",
       "Columns: [name, platform, year_of_release, genre, na_sales, eu_sales, jp_sales, other_sales, critic_score, user_score, rating, total_sales]\n",
       "Index: []"
      ]
     },
     "execution_count": 65,
     "metadata": {},
     "output_type": "execute_result"
    }
   ],
   "source": [
    "games_in_period.loc[games_in_period['platform']=='XB']"
   ]
  },
  {
   "cell_type": "code",
   "execution_count": 66,
   "metadata": {},
   "outputs": [
    {
     "data": {
      "text/html": [
       "<div>\n",
       "<style scoped>\n",
       "    .dataframe tbody tr th:only-of-type {\n",
       "        vertical-align: middle;\n",
       "    }\n",
       "\n",
       "    .dataframe tbody tr th {\n",
       "        vertical-align: top;\n",
       "    }\n",
       "\n",
       "    .dataframe thead th {\n",
       "        text-align: right;\n",
       "    }\n",
       "</style>\n",
       "<table border=\"1\" class=\"dataframe\">\n",
       "  <thead>\n",
       "    <tr style=\"text-align: right;\">\n",
       "      <th></th>\n",
       "      <th>name</th>\n",
       "      <th>platform</th>\n",
       "      <th>year_of_release</th>\n",
       "      <th>genre</th>\n",
       "      <th>na_sales</th>\n",
       "      <th>eu_sales</th>\n",
       "      <th>jp_sales</th>\n",
       "      <th>other_sales</th>\n",
       "      <th>critic_score</th>\n",
       "      <th>user_score</th>\n",
       "      <th>rating</th>\n",
       "      <th>total_sales</th>\n",
       "    </tr>\n",
       "  </thead>\n",
       "  <tbody>\n",
       "    <tr>\n",
       "      <th>99</th>\n",
       "      <td>Call of Duty: Black Ops 3</td>\n",
       "      <td>XOne</td>\n",
       "      <td>2015</td>\n",
       "      <td>Shooter</td>\n",
       "      <td>4.59</td>\n",
       "      <td>2.11</td>\n",
       "      <td>0.01</td>\n",
       "      <td>0.68</td>\n",
       "      <td>NaN</td>\n",
       "      <td>NaN</td>\n",
       "      <td>unknown</td>\n",
       "      <td>7.39</td>\n",
       "    </tr>\n",
       "    <tr>\n",
       "      <th>165</th>\n",
       "      <td>Grand Theft Auto V</td>\n",
       "      <td>XOne</td>\n",
       "      <td>2014</td>\n",
       "      <td>Action</td>\n",
       "      <td>2.81</td>\n",
       "      <td>2.19</td>\n",
       "      <td>0.00</td>\n",
       "      <td>0.47</td>\n",
       "      <td>97.0</td>\n",
       "      <td>7.9</td>\n",
       "      <td>M</td>\n",
       "      <td>5.47</td>\n",
       "    </tr>\n",
       "    <tr>\n",
       "      <th>179</th>\n",
       "      <td>Call of Duty: Advanced Warfare</td>\n",
       "      <td>XOne</td>\n",
       "      <td>2014</td>\n",
       "      <td>Shooter</td>\n",
       "      <td>3.22</td>\n",
       "      <td>1.55</td>\n",
       "      <td>0.01</td>\n",
       "      <td>0.48</td>\n",
       "      <td>81.0</td>\n",
       "      <td>5.4</td>\n",
       "      <td>M</td>\n",
       "      <td>5.26</td>\n",
       "    </tr>\n",
       "    <tr>\n",
       "      <th>242</th>\n",
       "      <td>Halo 5: Guardians</td>\n",
       "      <td>XOne</td>\n",
       "      <td>2015</td>\n",
       "      <td>Shooter</td>\n",
       "      <td>2.78</td>\n",
       "      <td>1.27</td>\n",
       "      <td>0.03</td>\n",
       "      <td>0.41</td>\n",
       "      <td>84.0</td>\n",
       "      <td>6.4</td>\n",
       "      <td>T</td>\n",
       "      <td>4.49</td>\n",
       "    </tr>\n",
       "    <tr>\n",
       "      <th>270</th>\n",
       "      <td>Fallout 4</td>\n",
       "      <td>XOne</td>\n",
       "      <td>2015</td>\n",
       "      <td>Role-Playing</td>\n",
       "      <td>2.51</td>\n",
       "      <td>1.32</td>\n",
       "      <td>0.01</td>\n",
       "      <td>0.38</td>\n",
       "      <td>88.0</td>\n",
       "      <td>6.2</td>\n",
       "      <td>M</td>\n",
       "      <td>4.22</td>\n",
       "    </tr>\n",
       "    <tr>\n",
       "      <th>...</th>\n",
       "      <td>...</td>\n",
       "      <td>...</td>\n",
       "      <td>...</td>\n",
       "      <td>...</td>\n",
       "      <td>...</td>\n",
       "      <td>...</td>\n",
       "      <td>...</td>\n",
       "      <td>...</td>\n",
       "      <td>...</td>\n",
       "      <td>...</td>\n",
       "      <td>...</td>\n",
       "      <td>...</td>\n",
       "    </tr>\n",
       "    <tr>\n",
       "      <th>16630</th>\n",
       "      <td>Sébastien Loeb Rally Evo</td>\n",
       "      <td>XOne</td>\n",
       "      <td>2016</td>\n",
       "      <td>Racing</td>\n",
       "      <td>0.00</td>\n",
       "      <td>0.01</td>\n",
       "      <td>0.00</td>\n",
       "      <td>0.00</td>\n",
       "      <td>63.0</td>\n",
       "      <td>8.2</td>\n",
       "      <td>E</td>\n",
       "      <td>0.01</td>\n",
       "    </tr>\n",
       "    <tr>\n",
       "      <th>16643</th>\n",
       "      <td>Rugby Challenge 3</td>\n",
       "      <td>XOne</td>\n",
       "      <td>2016</td>\n",
       "      <td>Sports</td>\n",
       "      <td>0.00</td>\n",
       "      <td>0.01</td>\n",
       "      <td>0.00</td>\n",
       "      <td>0.00</td>\n",
       "      <td>NaN</td>\n",
       "      <td>6.6</td>\n",
       "      <td>E</td>\n",
       "      <td>0.01</td>\n",
       "    </tr>\n",
       "    <tr>\n",
       "      <th>16645</th>\n",
       "      <td>ZombiU</td>\n",
       "      <td>XOne</td>\n",
       "      <td>2016</td>\n",
       "      <td>Action</td>\n",
       "      <td>0.00</td>\n",
       "      <td>0.01</td>\n",
       "      <td>0.00</td>\n",
       "      <td>0.00</td>\n",
       "      <td>NaN</td>\n",
       "      <td>NaN</td>\n",
       "      <td>unknown</td>\n",
       "      <td>0.01</td>\n",
       "    </tr>\n",
       "    <tr>\n",
       "      <th>16660</th>\n",
       "      <td>Prison Architect</td>\n",
       "      <td>XOne</td>\n",
       "      <td>2016</td>\n",
       "      <td>Action</td>\n",
       "      <td>0.01</td>\n",
       "      <td>0.00</td>\n",
       "      <td>0.00</td>\n",
       "      <td>0.00</td>\n",
       "      <td>74.0</td>\n",
       "      <td>6.7</td>\n",
       "      <td>unknown</td>\n",
       "      <td>0.01</td>\n",
       "    </tr>\n",
       "    <tr>\n",
       "      <th>16672</th>\n",
       "      <td>Metal Gear Solid V: The Definitive Experience</td>\n",
       "      <td>XOne</td>\n",
       "      <td>2016</td>\n",
       "      <td>Action</td>\n",
       "      <td>0.01</td>\n",
       "      <td>0.00</td>\n",
       "      <td>0.00</td>\n",
       "      <td>0.00</td>\n",
       "      <td>NaN</td>\n",
       "      <td>NaN</td>\n",
       "      <td>M</td>\n",
       "      <td>0.01</td>\n",
       "    </tr>\n",
       "  </tbody>\n",
       "</table>\n",
       "<p>247 rows × 12 columns</p>\n",
       "</div>"
      ],
      "text/plain": [
       "                                                name platform  \\\n",
       "99                         Call of Duty: Black Ops 3     XOne   \n",
       "165                               Grand Theft Auto V     XOne   \n",
       "179                   Call of Duty: Advanced Warfare     XOne   \n",
       "242                                Halo 5: Guardians     XOne   \n",
       "270                                        Fallout 4     XOne   \n",
       "...                                              ...      ...   \n",
       "16630                       Sébastien Loeb Rally Evo     XOne   \n",
       "16643                              Rugby Challenge 3     XOne   \n",
       "16645                                         ZombiU     XOne   \n",
       "16660                               Prison Architect     XOne   \n",
       "16672  Metal Gear Solid V: The Definitive Experience     XOne   \n",
       "\n",
       "       year_of_release         genre  na_sales  eu_sales  jp_sales  \\\n",
       "99                2015       Shooter      4.59      2.11      0.01   \n",
       "165               2014        Action      2.81      2.19      0.00   \n",
       "179               2014       Shooter      3.22      1.55      0.01   \n",
       "242               2015       Shooter      2.78      1.27      0.03   \n",
       "270               2015  Role-Playing      2.51      1.32      0.01   \n",
       "...                ...           ...       ...       ...       ...   \n",
       "16630             2016        Racing      0.00      0.01      0.00   \n",
       "16643             2016        Sports      0.00      0.01      0.00   \n",
       "16645             2016        Action      0.00      0.01      0.00   \n",
       "16660             2016        Action      0.01      0.00      0.00   \n",
       "16672             2016        Action      0.01      0.00      0.00   \n",
       "\n",
       "       other_sales  critic_score  user_score   rating  total_sales  \n",
       "99            0.68           NaN         NaN  unknown         7.39  \n",
       "165           0.47          97.0         7.9        M         5.47  \n",
       "179           0.48          81.0         5.4        M         5.26  \n",
       "242           0.41          84.0         6.4        T         4.49  \n",
       "270           0.38          88.0         6.2        M         4.22  \n",
       "...            ...           ...         ...      ...          ...  \n",
       "16630         0.00          63.0         8.2        E         0.01  \n",
       "16643         0.00           NaN         6.6        E         0.01  \n",
       "16645         0.00           NaN         NaN  unknown         0.01  \n",
       "16660         0.00          74.0         6.7  unknown         0.01  \n",
       "16672         0.00           NaN         NaN        M         0.01  \n",
       "\n",
       "[247 rows x 12 columns]"
      ]
     },
     "execution_count": 66,
     "metadata": {},
     "output_type": "execute_result"
    }
   ],
   "source": [
    "games_in_period.loc[games_in_period['platform']=='XOne']\n"
   ]
  },
  {
   "cell_type": "markdown",
   "metadata": {},
   "source": [
    "***Average user ratings for the Action and Sports genres are different.***"
   ]
  },
  {
   "cell_type": "markdown",
   "metadata": {},
   "source": [
    "**Null Hypothesis:** \n",
    "Average user ratings for the Action and Sports genres are the same."
   ]
  },
  {
   "cell_type": "markdown",
   "metadata": {},
   "source": [
    "**Alternative hypothesis:**\n",
    "Average user ratings for the Action and Sports genres are different."
   ]
  },
  {
   "cell_type": "code",
   "execution_count": 67,
   "metadata": {},
   "outputs": [
    {
     "name": "stdout",
     "output_type": "stream",
     "text": [
      "p-value: 1.4460039700704315e-20\n",
      "We reject the null hypothesis\n"
     ]
    }
   ],
   "source": [
    "data3 = games_in_period.loc[games_in_period['genre']=='Action', 'user_score'].dropna()\n",
    "data4 = games_in_period.loc[games_in_period['genre']=='Sports', 'user_score'].dropna()\n",
    "alpha = 0.05\n",
    "\n",
    "results = st.ttest_ind(\n",
    "    data3,\n",
    "    data4,\n",
    "    equal_var = False)\n",
    "\n",
    "print('p-value:', results.pvalue)\n",
    "\n",
    "if (results.pvalue < alpha):\n",
    "    print('We reject the null hypothesis')\n",
    "else:\n",
    "    print(\"We can't reject the null hypothesis\")"
   ]
  },
  {
   "cell_type": "markdown",
   "metadata": {},
   "source": [
    "### Conclusion"
   ]
  },
  {
   "cell_type": "markdown",
   "metadata": {},
   "source": [
    "-  We can't reject the null hypothesis, so we cannot say that the average user ratings of the Xbox One and PC platforms are not the same.\n",
    "- We can't reject the null hypothesis, so we cannot say that the average user ratings for the Action and Sports genres are different."
   ]
  },
  {
   "cell_type": "markdown",
   "metadata": {},
   "source": [
    "## Write an overall conclusion."
   ]
  },
  {
   "cell_type": "markdown",
   "metadata": {},
   "source": [
    "### Conclusion"
   ]
  },
  {
   "cell_type": "markdown",
   "metadata": {
    "pycharm": {
     "name": "#%% md\n"
    }
   },
   "source": [
    "In steps 1-2, were acquainted with the data and prepared it for further analysis:\n",
    "- Column names have been replaced (make them lowercase).\n",
    "- Columns 'year_of_release' and 'user_score' have been converted to the required types ('year_of_release' from float to Int and 'user_score' from object to float).\n",
    "- Removed missing values in the 'name' column. It was only 2 games released in 1993.\n",
    "- Removed missing values in the 'year_of_release' column. It was 1.61% of the total date, which is not critical.\n",
    "- Replaced 'tbd' with nan.\n",
    "- Created column 'total_sales' with the sum of sales in all regions.\n",
    " \n",
    "Step 3 covered:\n",
    "- Analyzed how many games were released in different years.\n",
    "- Analyzed how sales changed from platform to platform.Was selected the platforms with the highest total sales (PS2, X360, PS3, Wii, DS, PS) and plotted their profitability distributions over the years. Analyzed how long it usually takes for new platforms to appear and old ones to disappear (after 1-2 years they become popular, peak popularity is 3-5 years of life and the average life cycle is about 10 years). In about 5-6 years, new platforms come out.\n",
    "- Was determined period you should take data to build a prognosis for 2017 (this is the period from 2013 to 2016). By 2014-2015, most of the platforms are already approaching the logical end of their life cycle, except for two platforms: PS4 and XOne, and in 2017-2019 you can count on their potential profitability.\n",
    "- A box plot was built for the global sales of all games, broken down by platform. The graphs show that the difference in game sales for each platform strongly depends on the platform - on some platforms this spread is huge, such as GB (from 0.25 to 2.25 million) or GEN (from 0.1 to 1.4 million), and on some platforms, such as SCD, NES and PCFX, it is completely small. Also can see that the median for sales on different platforms is also quite different - from 0.1 to 0.8 million. If look at the spread of sales in the previously selected platforms PS4 and XOne, they are almost identical. The median is about 0.2 million, and most of the revenue per game does not exceed 1.75 million.\n",
    "- For the PS4 platform, correlations were made between sales and user ratings, and between sales and critics' ratings, and a scatter plot was built. It was concluded that the relationship between sales and reviews of critics is also quite strong (correlation of about 0.4 for the three forums under consideration and 0.3 for all the others).\n",
    "- Was looked at the general distribution of games by genre. In terms of total sales, the Action genre stands out sharply, followed by Sports and Shooter. The most unprofitable genres are Puzzle and Strategy.\n",
    "\n",
    "Step 4 covers each region (NA, EU, JP):\n",
    "- The top five platforms were reviewed. In all three regions, the PS3 and PS2 platforms are leading. X360 and Wii dominate in North America and Europe, while DS and PS are popular in Japan.\n",
    "- The top five genres were reviewed. In North America and Europe, the Action genre is in the first place. In Japan, the genre of Role-Playing games is on the first place.\n",
    "- The question was considered whether ESRB ratings affect sales in individual regions. Everyone (E), Teen (T), and Mature (M) has been found to be the best-selling games in North America, Europe and Japan.\n",
    "\n",
    "Step 5 the following hypotheses were tested:\n",
    "- Average user ratings of the Xbox One and PC platforms are the same.\n",
    "- Average user ratings for the Action and Sports genres are different.\n",
    "\n",
    "Based on this data, can place bets on potentially popular products and plan advertising campaigns for the future.\n"
   ]
  }
 ],
 "metadata": {
  "ExecuteTimeLog": [
   {
    "duration": 1574,
    "start_time": "2021-11-14T16:01:25.392Z"
   },
   {
    "duration": 2824,
    "start_time": "2021-11-14T16:02:14.120Z"
   },
   {
    "duration": 458,
    "start_time": "2021-11-14T16:02:23.665Z"
   },
   {
    "duration": 15,
    "start_time": "2021-11-14T16:02:40.862Z"
   },
   {
    "duration": 31,
    "start_time": "2021-11-14T16:03:14.812Z"
   },
   {
    "duration": 23,
    "start_time": "2021-11-14T18:33:17.116Z"
   },
   {
    "duration": 4,
    "start_time": "2021-11-14T18:33:21.181Z"
   },
   {
    "duration": 46,
    "start_time": "2021-11-14T18:33:21.650Z"
   },
   {
    "duration": 14,
    "start_time": "2021-11-14T18:33:22.493Z"
   },
   {
    "duration": 19,
    "start_time": "2021-11-14T18:33:23.062Z"
   },
   {
    "duration": 24,
    "start_time": "2021-11-14T18:33:24.110Z"
   },
   {
    "duration": 922,
    "start_time": "2021-11-14T18:37:51.054Z"
   },
   {
    "duration": 7,
    "start_time": "2021-11-14T19:14:34.628Z"
   },
   {
    "duration": 1529,
    "start_time": "2021-11-14T19:31:46.487Z"
   },
   {
    "duration": 15,
    "start_time": "2021-11-14T19:32:06.961Z"
   },
   {
    "duration": 4,
    "start_time": "2021-11-14T19:32:38.277Z"
   },
   {
    "duration": 49,
    "start_time": "2021-11-14T19:32:38.652Z"
   },
   {
    "duration": 16,
    "start_time": "2021-11-14T19:32:39.036Z"
   },
   {
    "duration": 20,
    "start_time": "2021-11-14T19:32:39.426Z"
   },
   {
    "duration": 24,
    "start_time": "2021-11-14T19:32:39.767Z"
   },
   {
    "duration": 44,
    "start_time": "2021-11-14T19:32:40.086Z"
   },
   {
    "duration": 6,
    "start_time": "2021-11-14T19:32:42.364Z"
   },
   {
    "duration": 14,
    "start_time": "2021-11-14T19:32:42.843Z"
   },
   {
    "duration": 1472,
    "start_time": "2021-11-14T19:32:45.358Z"
   },
   {
    "duration": 398,
    "start_time": "2021-11-14T19:33:15.660Z"
   },
   {
    "duration": 3,
    "start_time": "2021-11-14T19:34:03.826Z"
   },
   {
    "duration": 48,
    "start_time": "2021-11-14T19:34:04.152Z"
   },
   {
    "duration": 17,
    "start_time": "2021-11-14T19:34:04.453Z"
   },
   {
    "duration": 19,
    "start_time": "2021-11-14T19:34:04.786Z"
   },
   {
    "duration": 23,
    "start_time": "2021-11-14T19:34:05.049Z"
   },
   {
    "duration": 48,
    "start_time": "2021-11-14T19:34:05.476Z"
   },
   {
    "duration": 7,
    "start_time": "2021-11-14T19:34:06.909Z"
   },
   {
    "duration": 14,
    "start_time": "2021-11-14T19:34:07.822Z"
   },
   {
    "duration": 393,
    "start_time": "2021-11-14T19:34:11.342Z"
   },
   {
    "duration": 366,
    "start_time": "2021-11-14T19:34:44.423Z"
   },
   {
    "duration": 5,
    "start_time": "2021-11-14T19:35:25.999Z"
   },
   {
    "duration": 61,
    "start_time": "2021-11-14T19:35:26.459Z"
   },
   {
    "duration": 19,
    "start_time": "2021-11-14T19:35:27.084Z"
   },
   {
    "duration": 18,
    "start_time": "2021-11-14T19:35:27.435Z"
   },
   {
    "duration": 23,
    "start_time": "2021-11-14T19:35:27.631Z"
   },
   {
    "duration": 42,
    "start_time": "2021-11-14T19:35:27.819Z"
   },
   {
    "duration": 7,
    "start_time": "2021-11-14T19:35:28.962Z"
   },
   {
    "duration": 14,
    "start_time": "2021-11-14T19:35:29.017Z"
   },
   {
    "duration": 473,
    "start_time": "2021-11-14T19:35:31.787Z"
   },
   {
    "duration": 568,
    "start_time": "2021-11-14T19:35:44.654Z"
   },
   {
    "duration": 4,
    "start_time": "2021-11-14T19:37:59.635Z"
   },
   {
    "duration": 48,
    "start_time": "2021-11-14T19:37:59.919Z"
   },
   {
    "duration": 15,
    "start_time": "2021-11-14T19:38:00.115Z"
   },
   {
    "duration": 20,
    "start_time": "2021-11-14T19:38:00.315Z"
   },
   {
    "duration": 23,
    "start_time": "2021-11-14T19:38:00.493Z"
   },
   {
    "duration": 45,
    "start_time": "2021-11-14T19:38:00.674Z"
   },
   {
    "duration": 7,
    "start_time": "2021-11-14T19:38:01.705Z"
   },
   {
    "duration": 15,
    "start_time": "2021-11-14T19:38:01.934Z"
   },
   {
    "duration": 427,
    "start_time": "2021-11-14T19:38:03.066Z"
   },
   {
    "duration": 124,
    "start_time": "2021-11-14T19:38:18.007Z"
   },
   {
    "duration": 138,
    "start_time": "2021-11-14T19:38:23.703Z"
   },
   {
    "duration": 6,
    "start_time": "2021-11-14T19:38:32.456Z"
   },
   {
    "duration": 5,
    "start_time": "2021-11-14T19:38:36.501Z"
   },
   {
    "duration": 15,
    "start_time": "2021-11-14T19:38:48.876Z"
   },
   {
    "duration": 5,
    "start_time": "2021-11-14T19:38:59.593Z"
   },
   {
    "duration": 20,
    "start_time": "2021-11-14T19:39:00.385Z"
   },
   {
    "duration": 5,
    "start_time": "2021-11-14T19:39:05.568Z"
   },
   {
    "duration": 15,
    "start_time": "2021-11-14T19:39:06.420Z"
   },
   {
    "duration": 1462,
    "start_time": "2021-11-14T19:39:21.997Z"
   },
   {
    "duration": 49,
    "start_time": "2021-11-14T19:39:23.461Z"
   },
   {
    "duration": 15,
    "start_time": "2021-11-14T19:39:23.513Z"
   },
   {
    "duration": 23,
    "start_time": "2021-11-14T19:39:23.531Z"
   },
   {
    "duration": 55,
    "start_time": "2021-11-14T19:39:23.556Z"
   },
   {
    "duration": 849,
    "start_time": "2021-11-14T19:39:23.614Z"
   },
   {
    "duration": 7,
    "start_time": "2021-11-14T19:39:24.466Z"
   },
   {
    "duration": 35,
    "start_time": "2021-11-14T19:39:24.477Z"
   },
   {
    "duration": 6,
    "start_time": "2021-11-14T19:39:24.515Z"
   },
   {
    "duration": 18,
    "start_time": "2021-11-14T19:39:24.523Z"
   },
   {
    "duration": 4,
    "start_time": "2021-11-14T19:40:07.570Z"
   },
   {
    "duration": 48,
    "start_time": "2021-11-14T19:40:07.780Z"
   },
   {
    "duration": 14,
    "start_time": "2021-11-14T19:40:07.999Z"
   },
   {
    "duration": 21,
    "start_time": "2021-11-14T19:40:08.212Z"
   },
   {
    "duration": 24,
    "start_time": "2021-11-14T19:40:08.427Z"
   },
   {
    "duration": 43,
    "start_time": "2021-11-14T19:40:08.628Z"
   },
   {
    "duration": 6,
    "start_time": "2021-11-14T19:40:09.802Z"
   },
   {
    "duration": 17,
    "start_time": "2021-11-14T19:40:10.304Z"
   },
   {
    "duration": 5,
    "start_time": "2021-11-14T19:40:11.114Z"
   },
   {
    "duration": 16,
    "start_time": "2021-11-14T19:40:11.706Z"
   },
   {
    "duration": 178,
    "start_time": "2021-11-14T19:40:21.656Z"
   },
   {
    "duration": 49,
    "start_time": "2021-11-14T19:40:22.221Z"
   },
   {
    "duration": 14,
    "start_time": "2021-11-14T19:40:22.924Z"
   },
   {
    "duration": 19,
    "start_time": "2021-11-14T19:40:23.373Z"
   },
   {
    "duration": 25,
    "start_time": "2021-11-14T19:40:23.770Z"
   },
   {
    "duration": 43,
    "start_time": "2021-11-14T19:40:24.422Z"
   },
   {
    "duration": 8,
    "start_time": "2021-11-14T19:40:26.519Z"
   },
   {
    "duration": 14,
    "start_time": "2021-11-14T19:40:26.986Z"
   },
   {
    "duration": 5,
    "start_time": "2021-11-14T19:40:29.089Z"
   },
   {
    "duration": 18,
    "start_time": "2021-11-14T19:40:29.771Z"
   },
   {
    "duration": 7,
    "start_time": "2021-11-14T19:40:59.089Z"
   },
   {
    "duration": 18,
    "start_time": "2021-11-14T19:40:59.916Z"
   },
   {
    "duration": 402,
    "start_time": "2021-11-15T09:19:50.904Z"
   },
   {
    "duration": 1603,
    "start_time": "2021-11-15T09:19:56.873Z"
   },
   {
    "duration": 47,
    "start_time": "2021-11-15T09:19:58.478Z"
   },
   {
    "duration": 14,
    "start_time": "2021-11-15T09:20:00.296Z"
   },
   {
    "duration": 24,
    "start_time": "2021-11-15T09:20:00.769Z"
   },
   {
    "duration": 24,
    "start_time": "2021-11-15T09:20:01.236Z"
   },
   {
    "duration": 814,
    "start_time": "2021-11-15T09:20:01.735Z"
   },
   {
    "duration": 7,
    "start_time": "2021-11-15T09:20:04.137Z"
   },
   {
    "duration": 16,
    "start_time": "2021-11-15T09:20:04.752Z"
   },
   {
    "duration": 7,
    "start_time": "2021-11-15T09:20:06.219Z"
   },
   {
    "duration": 15,
    "start_time": "2021-11-15T09:20:06.400Z"
   },
   {
    "duration": 7,
    "start_time": "2021-11-15T09:20:07.112Z"
   },
   {
    "duration": 515,
    "start_time": "2021-11-15T09:20:24.718Z"
   },
   {
    "duration": 307,
    "start_time": "2021-11-15T09:20:37.913Z"
   },
   {
    "duration": 5,
    "start_time": "2021-11-15T09:20:52.472Z"
   },
   {
    "duration": 14,
    "start_time": "2021-11-15T09:21:07.452Z"
   },
   {
    "duration": 5,
    "start_time": "2021-11-15T09:21:22.188Z"
   },
   {
    "duration": 15,
    "start_time": "2021-11-15T09:21:23.011Z"
   },
   {
    "duration": 4,
    "start_time": "2021-11-15T09:21:37.382Z"
   },
   {
    "duration": 46,
    "start_time": "2021-11-15T09:21:37.561Z"
   },
   {
    "duration": 13,
    "start_time": "2021-11-15T09:21:37.758Z"
   },
   {
    "duration": 20,
    "start_time": "2021-11-15T09:21:37.928Z"
   },
   {
    "duration": 25,
    "start_time": "2021-11-15T09:21:38.095Z"
   },
   {
    "duration": 41,
    "start_time": "2021-11-15T09:21:38.262Z"
   },
   {
    "duration": 6,
    "start_time": "2021-11-15T09:21:39.113Z"
   },
   {
    "duration": 15,
    "start_time": "2021-11-15T09:21:39.275Z"
   },
   {
    "duration": 6,
    "start_time": "2021-11-15T09:21:39.687Z"
   },
   {
    "duration": 13,
    "start_time": "2021-11-15T09:21:39.879Z"
   },
   {
    "duration": 8,
    "start_time": "2021-11-15T09:21:40.070Z"
   },
   {
    "duration": 5,
    "start_time": "2021-11-15T09:21:40.230Z"
   },
   {
    "duration": 15,
    "start_time": "2021-11-15T09:21:40.761Z"
   },
   {
    "duration": 5,
    "start_time": "2021-11-15T09:21:48.951Z"
   },
   {
    "duration": 14,
    "start_time": "2021-11-15T09:21:50.046Z"
   },
   {
    "duration": 10,
    "start_time": "2021-11-15T09:22:45.379Z"
   },
   {
    "duration": 7,
    "start_time": "2021-11-15T09:25:32.103Z"
   },
   {
    "duration": 7,
    "start_time": "2021-11-15T09:25:38.256Z"
   },
   {
    "duration": 6,
    "start_time": "2021-11-15T09:25:54.088Z"
   },
   {
    "duration": 14,
    "start_time": "2021-11-15T09:25:55.403Z"
   },
   {
    "duration": 7,
    "start_time": "2021-11-15T09:36:31.579Z"
   },
   {
    "duration": 21,
    "start_time": "2021-11-15T09:37:33.815Z"
   },
   {
    "duration": 11,
    "start_time": "2021-11-15T09:44:52.049Z"
   },
   {
    "duration": 15,
    "start_time": "2021-11-15T09:45:02.421Z"
   },
   {
    "duration": 7,
    "start_time": "2021-11-15T09:45:21.789Z"
   },
   {
    "duration": 8,
    "start_time": "2021-11-15T09:45:30.674Z"
   },
   {
    "duration": 7,
    "start_time": "2021-11-15T09:53:17.552Z"
   },
   {
    "duration": 9,
    "start_time": "2021-11-15T09:54:23.591Z"
   },
   {
    "duration": 25,
    "start_time": "2021-11-15T09:55:36.174Z"
   },
   {
    "duration": 399,
    "start_time": "2021-11-15T09:55:49.983Z"
   },
   {
    "duration": 24,
    "start_time": "2021-11-15T09:56:24.351Z"
   },
   {
    "duration": 33,
    "start_time": "2021-11-15T09:56:33.739Z"
   },
   {
    "duration": 26,
    "start_time": "2021-11-15T09:56:38.441Z"
   },
   {
    "duration": 26,
    "start_time": "2021-11-15T09:56:52.059Z"
   },
   {
    "duration": 6,
    "start_time": "2021-11-15T09:59:08.879Z"
   },
   {
    "duration": 97,
    "start_time": "2021-11-15T10:01:19.619Z"
   },
   {
    "duration": 213,
    "start_time": "2021-11-15T10:01:55.027Z"
   },
   {
    "duration": 6,
    "start_time": "2021-11-15T10:03:28.026Z"
   },
   {
    "duration": 6,
    "start_time": "2021-11-15T10:03:44.026Z"
   },
   {
    "duration": 6,
    "start_time": "2021-11-15T10:03:50.269Z"
   },
   {
    "duration": 7,
    "start_time": "2021-11-15T10:04:41.696Z"
   },
   {
    "duration": 7,
    "start_time": "2021-11-15T10:04:48.814Z"
   },
   {
    "duration": 7,
    "start_time": "2021-11-15T10:04:53.190Z"
   },
   {
    "duration": 7,
    "start_time": "2021-11-15T10:05:13.977Z"
   },
   {
    "duration": 6,
    "start_time": "2021-11-15T10:05:21.024Z"
   },
   {
    "duration": 6,
    "start_time": "2021-11-15T10:05:29.984Z"
   },
   {
    "duration": 6,
    "start_time": "2021-11-15T10:05:37.373Z"
   },
   {
    "duration": 6,
    "start_time": "2021-11-15T10:05:44.691Z"
   },
   {
    "duration": 6,
    "start_time": "2021-11-15T10:05:55.918Z"
   },
   {
    "duration": 10,
    "start_time": "2021-11-15T10:08:42.383Z"
   },
   {
    "duration": 6,
    "start_time": "2021-11-15T10:08:52.744Z"
   },
   {
    "duration": 13,
    "start_time": "2021-11-15T10:10:23.141Z"
   },
   {
    "duration": 8,
    "start_time": "2021-11-15T10:14:38.476Z"
   },
   {
    "duration": 9,
    "start_time": "2021-11-15T10:16:32.752Z"
   },
   {
    "duration": 10,
    "start_time": "2021-11-15T10:17:23.631Z"
   },
   {
    "duration": 9,
    "start_time": "2021-11-15T10:17:55.245Z"
   },
   {
    "duration": 1437,
    "start_time": "2021-11-15T10:18:44.714Z"
   },
   {
    "duration": 52,
    "start_time": "2021-11-15T10:18:46.154Z"
   },
   {
    "duration": 16,
    "start_time": "2021-11-15T10:18:46.210Z"
   },
   {
    "duration": 23,
    "start_time": "2021-11-15T10:18:46.229Z"
   },
   {
    "duration": 49,
    "start_time": "2021-11-15T10:18:46.254Z"
   },
   {
    "duration": 766,
    "start_time": "2021-11-15T10:18:46.306Z"
   },
   {
    "duration": 7,
    "start_time": "2021-11-15T10:18:47.083Z"
   },
   {
    "duration": 15,
    "start_time": "2021-11-15T10:18:47.094Z"
   },
   {
    "duration": 6,
    "start_time": "2021-11-15T10:18:47.112Z"
   },
   {
    "duration": 16,
    "start_time": "2021-11-15T10:18:47.121Z"
   },
   {
    "duration": 49,
    "start_time": "2021-11-15T10:18:47.140Z"
   },
   {
    "duration": 12,
    "start_time": "2021-11-15T10:18:47.192Z"
   },
   {
    "duration": 8,
    "start_time": "2021-11-15T10:18:47.207Z"
   },
   {
    "duration": 11,
    "start_time": "2021-11-15T10:18:47.217Z"
   },
   {
    "duration": 10,
    "start_time": "2021-11-15T10:18:47.230Z"
   },
   {
    "duration": 53,
    "start_time": "2021-11-15T10:18:47.242Z"
   },
   {
    "duration": 8,
    "start_time": "2021-11-15T10:18:47.298Z"
   },
   {
    "duration": 19,
    "start_time": "2021-11-15T10:18:47.309Z"
   },
   {
    "duration": 11,
    "start_time": "2021-11-15T10:18:47.331Z"
   },
   {
    "duration": 43,
    "start_time": "2021-11-15T10:18:47.345Z"
   },
   {
    "duration": 9,
    "start_time": "2021-11-15T10:18:47.390Z"
   },
   {
    "duration": 9,
    "start_time": "2021-11-15T10:18:47.401Z"
   },
   {
    "duration": 11,
    "start_time": "2021-11-15T10:18:47.414Z"
   },
   {
    "duration": 68,
    "start_time": "2021-11-15T10:18:47.428Z"
   },
   {
    "duration": 7,
    "start_time": "2021-11-15T10:18:47.499Z"
   },
   {
    "duration": 16,
    "start_time": "2021-11-15T10:18:47.509Z"
   },
   {
    "duration": 7,
    "start_time": "2021-11-15T10:18:47.529Z"
   },
   {
    "duration": 50,
    "start_time": "2021-11-15T10:18:47.538Z"
   },
   {
    "duration": 9,
    "start_time": "2021-11-15T10:18:47.591Z"
   },
   {
    "duration": 8,
    "start_time": "2021-11-15T10:18:47.602Z"
   },
   {
    "duration": 10,
    "start_time": "2021-11-15T10:30:28.394Z"
   },
   {
    "duration": 562,
    "start_time": "2021-11-15T11:18:03.641Z"
   },
   {
    "duration": 1494,
    "start_time": "2021-11-15T11:18:18.146Z"
   },
   {
    "duration": 48,
    "start_time": "2021-11-15T11:18:19.644Z"
   },
   {
    "duration": 15,
    "start_time": "2021-11-15T11:18:19.695Z"
   },
   {
    "duration": 29,
    "start_time": "2021-11-15T11:18:19.712Z"
   },
   {
    "duration": 46,
    "start_time": "2021-11-15T11:18:19.743Z"
   },
   {
    "duration": 996,
    "start_time": "2021-11-15T11:18:19.792Z"
   },
   {
    "duration": 6,
    "start_time": "2021-11-15T11:18:20.791Z"
   },
   {
    "duration": 18,
    "start_time": "2021-11-15T11:18:20.801Z"
   },
   {
    "duration": 17,
    "start_time": "2021-11-15T11:18:20.823Z"
   },
   {
    "duration": 24,
    "start_time": "2021-11-15T11:18:20.842Z"
   },
   {
    "duration": 7,
    "start_time": "2021-11-15T11:18:20.882Z"
   },
   {
    "duration": 13,
    "start_time": "2021-11-15T11:18:20.892Z"
   },
   {
    "duration": 11,
    "start_time": "2021-11-15T11:18:20.908Z"
   },
   {
    "duration": 10,
    "start_time": "2021-11-15T11:18:20.922Z"
   },
   {
    "duration": 16,
    "start_time": "2021-11-15T11:18:20.935Z"
   },
   {
    "duration": 15,
    "start_time": "2021-11-15T11:18:20.982Z"
   },
   {
    "duration": 8,
    "start_time": "2021-11-15T11:18:20.999Z"
   },
   {
    "duration": 26,
    "start_time": "2021-11-15T11:18:21.009Z"
   },
   {
    "duration": 18,
    "start_time": "2021-11-15T11:18:21.037Z"
   },
   {
    "duration": 29,
    "start_time": "2021-11-15T11:18:21.058Z"
   },
   {
    "duration": 12,
    "start_time": "2021-11-15T11:18:21.089Z"
   },
   {
    "duration": 10,
    "start_time": "2021-11-15T11:18:21.103Z"
   },
   {
    "duration": 9,
    "start_time": "2021-11-15T11:18:21.117Z"
   },
   {
    "duration": 66,
    "start_time": "2021-11-15T11:18:21.129Z"
   },
   {
    "duration": 16,
    "start_time": "2021-11-15T11:18:21.197Z"
   },
   {
    "duration": 25,
    "start_time": "2021-11-15T11:18:21.215Z"
   },
   {
    "duration": 11,
    "start_time": "2021-11-15T11:18:21.242Z"
   },
   {
    "duration": 28,
    "start_time": "2021-11-15T11:18:21.255Z"
   },
   {
    "duration": 673,
    "start_time": "2021-11-15T11:18:21.285Z"
   },
   {
    "duration": -34,
    "start_time": "2021-11-15T11:18:21.995Z"
   },
   {
    "duration": -33,
    "start_time": "2021-11-15T11:18:21.997Z"
   },
   {
    "duration": 7,
    "start_time": "2021-11-15T11:18:53.059Z"
   },
   {
    "duration": 8,
    "start_time": "2021-11-15T11:22:32.559Z"
   },
   {
    "duration": 8,
    "start_time": "2021-11-15T11:22:43.936Z"
   },
   {
    "duration": 7,
    "start_time": "2021-11-15T11:22:46.794Z"
   },
   {
    "duration": 9,
    "start_time": "2021-11-15T11:22:51.118Z"
   },
   {
    "duration": 24,
    "start_time": "2021-11-15T11:35:44.103Z"
   },
   {
    "duration": 1507,
    "start_time": "2021-11-15T13:19:09.945Z"
   },
   {
    "duration": 48,
    "start_time": "2021-11-15T13:19:11.454Z"
   },
   {
    "duration": 14,
    "start_time": "2021-11-15T13:19:11.505Z"
   },
   {
    "duration": 23,
    "start_time": "2021-11-15T13:19:11.521Z"
   },
   {
    "duration": 50,
    "start_time": "2021-11-15T13:19:11.547Z"
   },
   {
    "duration": 766,
    "start_time": "2021-11-15T13:19:11.599Z"
   },
   {
    "duration": 19,
    "start_time": "2021-11-15T13:19:12.368Z"
   },
   {
    "duration": 14,
    "start_time": "2021-11-15T13:19:12.391Z"
   },
   {
    "duration": 6,
    "start_time": "2021-11-15T13:19:12.408Z"
   },
   {
    "duration": 13,
    "start_time": "2021-11-15T13:19:12.417Z"
   },
   {
    "duration": 6,
    "start_time": "2021-11-15T13:19:12.433Z"
   },
   {
    "duration": 9,
    "start_time": "2021-11-15T13:19:12.482Z"
   },
   {
    "duration": 9,
    "start_time": "2021-11-15T13:19:12.493Z"
   },
   {
    "duration": 9,
    "start_time": "2021-11-15T13:19:12.505Z"
   },
   {
    "duration": 13,
    "start_time": "2021-11-15T13:19:12.516Z"
   },
   {
    "duration": 21,
    "start_time": "2021-11-15T13:19:12.531Z"
   },
   {
    "duration": 29,
    "start_time": "2021-11-15T13:19:12.555Z"
   },
   {
    "duration": 19,
    "start_time": "2021-11-15T13:19:12.587Z"
   },
   {
    "duration": 12,
    "start_time": "2021-11-15T13:19:12.608Z"
   },
   {
    "duration": 7,
    "start_time": "2021-11-15T13:19:12.622Z"
   },
   {
    "duration": 10,
    "start_time": "2021-11-15T13:19:12.631Z"
   },
   {
    "duration": 6,
    "start_time": "2021-11-15T13:19:12.682Z"
   },
   {
    "duration": 11,
    "start_time": "2021-11-15T13:19:12.692Z"
   },
   {
    "duration": 28,
    "start_time": "2021-11-15T13:19:12.706Z"
   },
   {
    "duration": 44,
    "start_time": "2021-11-15T13:19:12.737Z"
   },
   {
    "duration": 10,
    "start_time": "2021-11-15T13:19:12.784Z"
   },
   {
    "duration": 8,
    "start_time": "2021-11-15T13:19:12.796Z"
   },
   {
    "duration": 16,
    "start_time": "2021-11-15T13:19:12.806Z"
   },
   {
    "duration": 8,
    "start_time": "2021-11-15T13:19:12.824Z"
   },
   {
    "duration": 7,
    "start_time": "2021-11-15T13:19:12.834Z"
   },
   {
    "duration": 7,
    "start_time": "2021-11-15T13:19:12.883Z"
   },
   {
    "duration": 10,
    "start_time": "2021-11-15T13:19:12.892Z"
   },
   {
    "duration": 25,
    "start_time": "2021-11-15T13:19:12.904Z"
   },
   {
    "duration": 31,
    "start_time": "2021-11-15T13:21:11.728Z"
   },
   {
    "duration": 305,
    "start_time": "2021-11-15T13:24:08.987Z"
   },
   {
    "duration": 274,
    "start_time": "2021-11-15T13:24:43.689Z"
   },
   {
    "duration": 324,
    "start_time": "2021-11-15T13:26:04.082Z"
   },
   {
    "duration": 294,
    "start_time": "2021-11-15T13:33:20.555Z"
   },
   {
    "duration": 7,
    "start_time": "2021-11-15T13:39:41.896Z"
   },
   {
    "duration": 10,
    "start_time": "2021-11-15T13:40:04.638Z"
   },
   {
    "duration": 529,
    "start_time": "2021-11-15T13:44:40.032Z"
   },
   {
    "duration": 537,
    "start_time": "2021-11-15T13:45:12.029Z"
   },
   {
    "duration": 1466,
    "start_time": "2021-11-15T13:48:41.080Z"
   },
   {
    "duration": 47,
    "start_time": "2021-11-15T13:48:42.549Z"
   },
   {
    "duration": 16,
    "start_time": "2021-11-15T13:48:42.599Z"
   },
   {
    "duration": 24,
    "start_time": "2021-11-15T13:48:42.618Z"
   },
   {
    "duration": 58,
    "start_time": "2021-11-15T13:48:42.645Z"
   },
   {
    "duration": 725,
    "start_time": "2021-11-15T13:48:42.706Z"
   },
   {
    "duration": 6,
    "start_time": "2021-11-15T13:48:43.433Z"
   },
   {
    "duration": 17,
    "start_time": "2021-11-15T13:48:43.442Z"
   },
   {
    "duration": 7,
    "start_time": "2021-11-15T13:48:43.482Z"
   },
   {
    "duration": 21,
    "start_time": "2021-11-15T13:48:43.492Z"
   },
   {
    "duration": 7,
    "start_time": "2021-11-15T13:48:43.515Z"
   },
   {
    "duration": 13,
    "start_time": "2021-11-15T13:48:43.524Z"
   },
   {
    "duration": 6,
    "start_time": "2021-11-15T13:48:43.539Z"
   },
   {
    "duration": 37,
    "start_time": "2021-11-15T13:48:43.548Z"
   },
   {
    "duration": 12,
    "start_time": "2021-11-15T13:48:43.587Z"
   },
   {
    "duration": 19,
    "start_time": "2021-11-15T13:48:43.601Z"
   },
   {
    "duration": 7,
    "start_time": "2021-11-15T13:48:43.623Z"
   },
   {
    "duration": 53,
    "start_time": "2021-11-15T13:48:43.633Z"
   },
   {
    "duration": 18,
    "start_time": "2021-11-15T13:48:43.688Z"
   },
   {
    "duration": 8,
    "start_time": "2021-11-15T13:48:43.708Z"
   },
   {
    "duration": 8,
    "start_time": "2021-11-15T13:48:43.718Z"
   },
   {
    "duration": 8,
    "start_time": "2021-11-15T13:48:43.728Z"
   },
   {
    "duration": 44,
    "start_time": "2021-11-15T13:48:43.739Z"
   },
   {
    "duration": 27,
    "start_time": "2021-11-15T13:48:43.786Z"
   },
   {
    "duration": 5,
    "start_time": "2021-11-15T13:48:43.816Z"
   },
   {
    "duration": 15,
    "start_time": "2021-11-15T13:48:43.823Z"
   },
   {
    "duration": 41,
    "start_time": "2021-11-15T13:48:43.843Z"
   },
   {
    "duration": 15,
    "start_time": "2021-11-15T13:48:43.887Z"
   },
   {
    "duration": 7,
    "start_time": "2021-11-15T13:48:43.905Z"
   },
   {
    "duration": 10,
    "start_time": "2021-11-15T13:48:43.916Z"
   },
   {
    "duration": 7,
    "start_time": "2021-11-15T13:48:43.929Z"
   },
   {
    "duration": 52,
    "start_time": "2021-11-15T13:48:43.938Z"
   },
   {
    "duration": 29,
    "start_time": "2021-11-15T13:48:43.992Z"
   },
   {
    "duration": 34,
    "start_time": "2021-11-15T13:48:44.023Z"
   },
   {
    "duration": 323,
    "start_time": "2021-11-15T13:48:44.083Z"
   },
   {
    "duration": 10,
    "start_time": "2021-11-15T13:48:44.409Z"
   },
   {
    "duration": 1563,
    "start_time": "2021-11-15T13:49:11.698Z"
   },
   {
    "duration": 46,
    "start_time": "2021-11-15T13:49:13.263Z"
   },
   {
    "duration": 14,
    "start_time": "2021-11-15T13:49:13.312Z"
   },
   {
    "duration": 23,
    "start_time": "2021-11-15T13:49:13.329Z"
   },
   {
    "duration": 49,
    "start_time": "2021-11-15T13:49:13.354Z"
   },
   {
    "duration": 746,
    "start_time": "2021-11-15T13:49:13.406Z"
   },
   {
    "duration": 7,
    "start_time": "2021-11-15T13:49:14.155Z"
   },
   {
    "duration": 14,
    "start_time": "2021-11-15T13:49:14.184Z"
   },
   {
    "duration": 6,
    "start_time": "2021-11-15T13:49:14.200Z"
   },
   {
    "duration": 22,
    "start_time": "2021-11-15T13:49:14.208Z"
   },
   {
    "duration": 7,
    "start_time": "2021-11-15T13:49:14.232Z"
   },
   {
    "duration": 45,
    "start_time": "2021-11-15T13:49:14.241Z"
   },
   {
    "duration": 6,
    "start_time": "2021-11-15T13:49:14.288Z"
   },
   {
    "duration": 16,
    "start_time": "2021-11-15T13:49:14.297Z"
   },
   {
    "duration": 11,
    "start_time": "2021-11-15T13:49:14.316Z"
   },
   {
    "duration": 18,
    "start_time": "2021-11-15T13:49:14.329Z"
   },
   {
    "duration": 7,
    "start_time": "2021-11-15T13:49:14.349Z"
   },
   {
    "duration": 43,
    "start_time": "2021-11-15T13:49:14.358Z"
   },
   {
    "duration": 23,
    "start_time": "2021-11-15T13:49:14.403Z"
   },
   {
    "duration": 7,
    "start_time": "2021-11-15T13:49:14.429Z"
   },
   {
    "duration": 11,
    "start_time": "2021-11-15T13:49:14.438Z"
   },
   {
    "duration": 31,
    "start_time": "2021-11-15T13:49:14.452Z"
   },
   {
    "duration": 8,
    "start_time": "2021-11-15T13:49:14.488Z"
   },
   {
    "duration": 32,
    "start_time": "2021-11-15T13:49:14.499Z"
   },
   {
    "duration": 5,
    "start_time": "2021-11-15T13:49:14.533Z"
   },
   {
    "duration": 13,
    "start_time": "2021-11-15T13:49:14.540Z"
   },
   {
    "duration": 6,
    "start_time": "2021-11-15T13:49:14.582Z"
   },
   {
    "duration": 22,
    "start_time": "2021-11-15T13:49:14.591Z"
   },
   {
    "duration": 9,
    "start_time": "2021-11-15T13:49:14.615Z"
   },
   {
    "duration": 8,
    "start_time": "2021-11-15T13:49:14.626Z"
   },
   {
    "duration": 9,
    "start_time": "2021-11-15T13:49:14.636Z"
   },
   {
    "duration": 43,
    "start_time": "2021-11-15T13:49:14.647Z"
   },
   {
    "duration": 28,
    "start_time": "2021-11-15T13:49:14.692Z"
   },
   {
    "duration": 32,
    "start_time": "2021-11-15T13:49:14.723Z"
   },
   {
    "duration": 341,
    "start_time": "2021-11-15T13:49:14.757Z"
   },
   {
    "duration": 9,
    "start_time": "2021-11-15T13:49:15.100Z"
   },
   {
    "duration": 462,
    "start_time": "2021-11-15T13:49:15.111Z"
   },
   {
    "duration": 331,
    "start_time": "2021-11-15T13:50:01.552Z"
   },
   {
    "duration": 617,
    "start_time": "2021-11-15T13:50:15.470Z"
   },
   {
    "duration": 1943,
    "start_time": "2021-11-15T13:51:22.812Z"
   },
   {
    "duration": 54,
    "start_time": "2021-11-15T13:51:24.758Z"
   },
   {
    "duration": 16,
    "start_time": "2021-11-15T13:51:24.815Z"
   },
   {
    "duration": 53,
    "start_time": "2021-11-15T13:51:24.834Z"
   },
   {
    "duration": 41,
    "start_time": "2021-11-15T13:51:24.890Z"
   },
   {
    "duration": 2749,
    "start_time": "2021-11-15T13:51:24.934Z"
   },
   {
    "duration": 6,
    "start_time": "2021-11-15T13:51:27.686Z"
   },
   {
    "duration": 48,
    "start_time": "2021-11-15T13:51:27.694Z"
   },
   {
    "duration": 7,
    "start_time": "2021-11-15T13:51:27.747Z"
   },
   {
    "duration": 20,
    "start_time": "2021-11-15T13:51:27.758Z"
   },
   {
    "duration": 7,
    "start_time": "2021-11-15T13:51:27.781Z"
   },
   {
    "duration": 16,
    "start_time": "2021-11-15T13:51:27.790Z"
   },
   {
    "duration": 8,
    "start_time": "2021-11-15T13:51:27.809Z"
   },
   {
    "duration": 20,
    "start_time": "2021-11-15T13:51:27.819Z"
   },
   {
    "duration": 16,
    "start_time": "2021-11-15T13:51:27.842Z"
   },
   {
    "duration": 23,
    "start_time": "2021-11-15T13:51:27.882Z"
   },
   {
    "duration": 7,
    "start_time": "2021-11-15T13:51:27.908Z"
   },
   {
    "duration": 29,
    "start_time": "2021-11-15T13:51:27.919Z"
   },
   {
    "duration": 11,
    "start_time": "2021-11-15T13:51:27.983Z"
   },
   {
    "duration": 13,
    "start_time": "2021-11-15T13:51:27.996Z"
   },
   {
    "duration": 17,
    "start_time": "2021-11-15T13:51:28.011Z"
   },
   {
    "duration": 27,
    "start_time": "2021-11-15T13:51:28.031Z"
   },
   {
    "duration": 19,
    "start_time": "2021-11-15T13:51:28.060Z"
   },
   {
    "duration": 37,
    "start_time": "2021-11-15T13:51:28.082Z"
   },
   {
    "duration": 13,
    "start_time": "2021-11-15T13:51:28.121Z"
   },
   {
    "duration": 20,
    "start_time": "2021-11-15T13:51:28.137Z"
   },
   {
    "duration": 13,
    "start_time": "2021-11-15T13:51:28.162Z"
   },
   {
    "duration": 14,
    "start_time": "2021-11-15T13:51:28.182Z"
   },
   {
    "duration": 8,
    "start_time": "2021-11-15T13:51:28.199Z"
   },
   {
    "duration": 10,
    "start_time": "2021-11-15T13:51:28.209Z"
   },
   {
    "duration": 10,
    "start_time": "2021-11-15T13:51:28.221Z"
   },
   {
    "duration": 48,
    "start_time": "2021-11-15T13:51:28.233Z"
   },
   {
    "duration": 25,
    "start_time": "2021-11-15T13:51:28.284Z"
   },
   {
    "duration": 40,
    "start_time": "2021-11-15T13:51:28.311Z"
   },
   {
    "duration": 334,
    "start_time": "2021-11-15T13:51:28.353Z"
   },
   {
    "duration": 9,
    "start_time": "2021-11-15T13:51:28.689Z"
   },
   {
    "duration": 481,
    "start_time": "2021-11-15T13:51:28.701Z"
   },
   {
    "duration": 12,
    "start_time": "2021-11-15T13:51:29.173Z"
   },
   {
    "duration": 248,
    "start_time": "2021-11-15T13:52:09.979Z"
   },
   {
    "duration": 553,
    "start_time": "2021-11-15T13:52:19.070Z"
   },
   {
    "duration": 316,
    "start_time": "2021-11-15T13:52:35.001Z"
   },
   {
    "duration": 552,
    "start_time": "2021-11-15T13:52:41.352Z"
   },
   {
    "duration": 410,
    "start_time": "2021-11-15T13:53:01.978Z"
   },
   {
    "duration": 101,
    "start_time": "2021-11-15T13:56:54.482Z"
   },
   {
    "duration": 663,
    "start_time": "2021-11-15T13:57:02.367Z"
   },
   {
    "duration": 121,
    "start_time": "2021-11-15T13:57:14.878Z"
   },
   {
    "duration": 550,
    "start_time": "2021-11-15T13:57:24.819Z"
   },
   {
    "duration": 561,
    "start_time": "2021-11-15T13:59:28.339Z"
   },
   {
    "duration": 6,
    "start_time": "2021-11-15T14:01:28.619Z"
   },
   {
    "duration": 431,
    "start_time": "2021-11-15T14:12:09.966Z"
   },
   {
    "duration": 335,
    "start_time": "2021-11-15T14:12:55.384Z"
   },
   {
    "duration": 1825,
    "start_time": "2021-11-15T14:14:10.657Z"
   },
   {
    "duration": 1926,
    "start_time": "2021-11-15T14:15:23.231Z"
   },
   {
    "duration": 1501,
    "start_time": "2021-11-15T14:16:13.359Z"
   },
   {
    "duration": 48,
    "start_time": "2021-11-15T14:16:14.863Z"
   },
   {
    "duration": 14,
    "start_time": "2021-11-15T14:16:14.914Z"
   },
   {
    "duration": 25,
    "start_time": "2021-11-15T14:16:14.931Z"
   },
   {
    "duration": 43,
    "start_time": "2021-11-15T14:16:14.959Z"
   },
   {
    "duration": 725,
    "start_time": "2021-11-15T14:16:15.004Z"
   },
   {
    "duration": 6,
    "start_time": "2021-11-15T14:16:15.731Z"
   },
   {
    "duration": 22,
    "start_time": "2021-11-15T14:16:15.741Z"
   },
   {
    "duration": 24,
    "start_time": "2021-11-15T14:16:15.766Z"
   },
   {
    "duration": 29,
    "start_time": "2021-11-15T14:16:15.792Z"
   },
   {
    "duration": 14,
    "start_time": "2021-11-15T14:16:15.823Z"
   },
   {
    "duration": 32,
    "start_time": "2021-11-15T14:16:15.840Z"
   },
   {
    "duration": 17,
    "start_time": "2021-11-15T14:16:15.874Z"
   },
   {
    "duration": 17,
    "start_time": "2021-11-15T14:16:15.893Z"
   },
   {
    "duration": 24,
    "start_time": "2021-11-15T14:16:15.912Z"
   },
   {
    "duration": 29,
    "start_time": "2021-11-15T14:16:15.938Z"
   },
   {
    "duration": 14,
    "start_time": "2021-11-15T14:16:15.969Z"
   },
   {
    "duration": 34,
    "start_time": "2021-11-15T14:16:15.985Z"
   },
   {
    "duration": 21,
    "start_time": "2021-11-15T14:16:16.022Z"
   },
   {
    "duration": 18,
    "start_time": "2021-11-15T14:16:16.045Z"
   },
   {
    "duration": 21,
    "start_time": "2021-11-15T14:16:16.066Z"
   },
   {
    "duration": 18,
    "start_time": "2021-11-15T14:16:16.090Z"
   },
   {
    "duration": 13,
    "start_time": "2021-11-15T14:16:16.112Z"
   },
   {
    "duration": 37,
    "start_time": "2021-11-15T14:16:16.128Z"
   },
   {
    "duration": 5,
    "start_time": "2021-11-15T14:16:16.167Z"
   },
   {
    "duration": 17,
    "start_time": "2021-11-15T14:16:16.174Z"
   },
   {
    "duration": 24,
    "start_time": "2021-11-15T14:16:16.193Z"
   },
   {
    "duration": 39,
    "start_time": "2021-11-15T14:16:16.219Z"
   },
   {
    "duration": 21,
    "start_time": "2021-11-15T14:16:16.260Z"
   },
   {
    "duration": 21,
    "start_time": "2021-11-15T14:16:16.283Z"
   },
   {
    "duration": 20,
    "start_time": "2021-11-15T14:16:16.306Z"
   },
   {
    "duration": 25,
    "start_time": "2021-11-15T14:16:16.328Z"
   },
   {
    "duration": 33,
    "start_time": "2021-11-15T14:16:16.355Z"
   },
   {
    "duration": 34,
    "start_time": "2021-11-15T14:16:16.391Z"
   },
   {
    "duration": 315,
    "start_time": "2021-11-15T14:16:16.427Z"
   },
   {
    "duration": 6,
    "start_time": "2021-11-15T14:16:16.744Z"
   },
   {
    "duration": 572,
    "start_time": "2021-11-15T14:16:16.752Z"
   },
   {
    "duration": 1984,
    "start_time": "2021-11-15T14:16:17.327Z"
   },
   {
    "duration": 33,
    "start_time": "2021-11-15T19:06:37.773Z"
   },
   {
    "duration": 9,
    "start_time": "2021-11-15T19:08:26.716Z"
   },
   {
    "duration": 9,
    "start_time": "2021-11-15T19:09:01.360Z"
   },
   {
    "duration": 1365,
    "start_time": "2021-11-15T19:11:27.231Z"
   },
   {
    "duration": 1408,
    "start_time": "2021-11-15T19:14:12.785Z"
   },
   {
    "duration": 1413,
    "start_time": "2021-11-15T19:14:32.014Z"
   },
   {
    "duration": 1374,
    "start_time": "2021-11-15T19:14:39.980Z"
   },
   {
    "duration": 496,
    "start_time": "2021-11-15T19:23:53.348Z"
   },
   {
    "duration": 741,
    "start_time": "2021-11-15T19:24:25.582Z"
   },
   {
    "duration": 140,
    "start_time": "2021-11-15T19:29:24.434Z"
   },
   {
    "duration": 130,
    "start_time": "2021-11-15T19:29:41.705Z"
   },
   {
    "duration": 104,
    "start_time": "2021-11-15T19:29:47.266Z"
   },
   {
    "duration": 983,
    "start_time": "2021-11-15T19:30:04.428Z"
   },
   {
    "duration": 106,
    "start_time": "2021-11-15T19:30:09.907Z"
   },
   {
    "duration": 100,
    "start_time": "2021-11-15T19:30:27.313Z"
   },
   {
    "duration": 108,
    "start_time": "2021-11-15T19:31:31.929Z"
   },
   {
    "duration": 95,
    "start_time": "2021-11-15T19:31:36.387Z"
   },
   {
    "duration": 153,
    "start_time": "2021-11-15T19:31:42.410Z"
   },
   {
    "duration": 197,
    "start_time": "2021-11-15T19:33:05.349Z"
   },
   {
    "duration": 98,
    "start_time": "2021-11-15T19:33:46.118Z"
   },
   {
    "duration": 111,
    "start_time": "2021-11-15T19:33:53.515Z"
   },
   {
    "duration": 596,
    "start_time": "2021-11-15T19:35:03.659Z"
   },
   {
    "duration": 437,
    "start_time": "2021-11-15T19:35:23.951Z"
   },
   {
    "duration": 379,
    "start_time": "2021-11-15T19:35:54.111Z"
   },
   {
    "duration": 1425,
    "start_time": "2021-11-15T19:38:23.165Z"
   },
   {
    "duration": 1421,
    "start_time": "2021-11-15T19:38:44.680Z"
   },
   {
    "duration": 7,
    "start_time": "2021-11-15T20:00:18.719Z"
   },
   {
    "duration": 12,
    "start_time": "2021-11-15T20:00:34.096Z"
   },
   {
    "duration": 365,
    "start_time": "2021-11-15T20:02:54.637Z"
   },
   {
    "duration": 857,
    "start_time": "2021-11-15T20:20:23.635Z"
   },
   {
    "duration": 593,
    "start_time": "2021-11-16T08:54:24.914Z"
   },
   {
    "duration": 1577,
    "start_time": "2021-11-16T08:54:37.918Z"
   },
   {
    "duration": 46,
    "start_time": "2021-11-16T08:54:39.498Z"
   },
   {
    "duration": 16,
    "start_time": "2021-11-16T08:54:39.547Z"
   },
   {
    "duration": 24,
    "start_time": "2021-11-16T08:54:39.583Z"
   },
   {
    "duration": 27,
    "start_time": "2021-11-16T08:54:39.610Z"
   },
   {
    "duration": 917,
    "start_time": "2021-11-16T08:54:39.639Z"
   },
   {
    "duration": 24,
    "start_time": "2021-11-16T08:54:40.560Z"
   },
   {
    "duration": 18,
    "start_time": "2021-11-16T08:54:40.588Z"
   },
   {
    "duration": 7,
    "start_time": "2021-11-16T08:54:40.609Z"
   },
   {
    "duration": 16,
    "start_time": "2021-11-16T08:54:40.619Z"
   },
   {
    "duration": 48,
    "start_time": "2021-11-16T08:54:40.638Z"
   },
   {
    "duration": 19,
    "start_time": "2021-11-16T08:54:40.688Z"
   },
   {
    "duration": 8,
    "start_time": "2021-11-16T08:54:40.711Z"
   },
   {
    "duration": 15,
    "start_time": "2021-11-16T08:54:40.722Z"
   },
   {
    "duration": 43,
    "start_time": "2021-11-16T08:54:40.740Z"
   },
   {
    "duration": 13,
    "start_time": "2021-11-16T08:54:40.786Z"
   },
   {
    "duration": 8,
    "start_time": "2021-11-16T08:54:40.802Z"
   },
   {
    "duration": 29,
    "start_time": "2021-11-16T08:54:40.813Z"
   },
   {
    "duration": 45,
    "start_time": "2021-11-16T08:54:40.845Z"
   },
   {
    "duration": 10,
    "start_time": "2021-11-16T08:54:40.892Z"
   },
   {
    "duration": 10,
    "start_time": "2021-11-16T08:54:40.905Z"
   },
   {
    "duration": 25,
    "start_time": "2021-11-16T08:54:40.918Z"
   },
   {
    "duration": 17,
    "start_time": "2021-11-16T08:54:40.949Z"
   },
   {
    "duration": 29,
    "start_time": "2021-11-16T08:54:40.981Z"
   },
   {
    "duration": 8,
    "start_time": "2021-11-16T08:54:41.012Z"
   },
   {
    "duration": 14,
    "start_time": "2021-11-16T08:54:41.023Z"
   },
   {
    "duration": 42,
    "start_time": "2021-11-16T08:54:41.041Z"
   },
   {
    "duration": 16,
    "start_time": "2021-11-16T08:54:41.087Z"
   },
   {
    "duration": 6,
    "start_time": "2021-11-16T08:54:41.106Z"
   },
   {
    "duration": 14,
    "start_time": "2021-11-16T08:54:41.115Z"
   },
   {
    "duration": 9,
    "start_time": "2021-11-16T08:54:41.132Z"
   },
   {
    "duration": 11,
    "start_time": "2021-11-16T08:54:41.183Z"
   },
   {
    "duration": 26,
    "start_time": "2021-11-16T08:54:41.197Z"
   },
   {
    "duration": 72,
    "start_time": "2021-11-16T08:54:41.226Z"
   },
   {
    "duration": 330,
    "start_time": "2021-11-16T08:54:41.301Z"
   },
   {
    "duration": 7,
    "start_time": "2021-11-16T08:54:41.633Z"
   },
   {
    "duration": 585,
    "start_time": "2021-11-16T08:54:41.642Z"
   },
   {
    "duration": 1968,
    "start_time": "2021-11-16T08:54:42.229Z"
   },
   {
    "duration": 35,
    "start_time": "2021-11-16T08:54:44.200Z"
   },
   {
    "duration": 20,
    "start_time": "2021-11-16T08:54:44.239Z"
   },
   {
    "duration": 2257,
    "start_time": "2021-11-16T08:54:44.282Z"
   },
   {
    "duration": 9,
    "start_time": "2021-11-16T08:54:46.543Z"
   },
   {
    "duration": 33,
    "start_time": "2021-11-16T08:54:46.554Z"
   },
   {
    "duration": 899,
    "start_time": "2021-11-16T08:54:46.590Z"
   },
   {
    "duration": 720,
    "start_time": "2021-11-16T08:54:47.493Z"
   },
   {
    "duration": 569,
    "start_time": "2021-11-16T08:56:34.252Z"
   },
   {
    "duration": 337,
    "start_time": "2021-11-16T08:56:58.946Z"
   },
   {
    "duration": 820,
    "start_time": "2021-11-16T09:02:36.479Z"
   },
   {
    "duration": 779,
    "start_time": "2021-11-16T09:03:03.468Z"
   },
   {
    "duration": 1000,
    "start_time": "2021-11-16T09:03:45.920Z"
   },
   {
    "duration": 21,
    "start_time": "2021-11-16T09:04:24.760Z"
   },
   {
    "duration": 778,
    "start_time": "2021-11-16T09:04:34.450Z"
   },
   {
    "duration": 797,
    "start_time": "2021-11-16T09:04:46.832Z"
   },
   {
    "duration": 1134,
    "start_time": "2021-11-16T09:05:52.280Z"
   },
   {
    "duration": 1207,
    "start_time": "2021-11-16T09:06:11.819Z"
   },
   {
    "duration": 1296,
    "start_time": "2021-11-16T09:06:25.047Z"
   },
   {
    "duration": 1198,
    "start_time": "2021-11-16T09:07:34.054Z"
   },
   {
    "duration": 2178,
    "start_time": "2021-11-16T09:08:47.620Z"
   },
   {
    "duration": 1136,
    "start_time": "2021-11-16T09:09:14.734Z"
   },
   {
    "duration": 1345,
    "start_time": "2021-11-16T09:09:25.993Z"
   },
   {
    "duration": 1325,
    "start_time": "2021-11-16T09:10:05.389Z"
   },
   {
    "duration": 333,
    "start_time": "2021-11-16T09:23:28.731Z"
   },
   {
    "duration": 549,
    "start_time": "2021-11-16T09:23:40.063Z"
   },
   {
    "duration": 576,
    "start_time": "2021-11-16T09:24:20.468Z"
   },
   {
    "duration": 562,
    "start_time": "2021-11-16T09:24:37.807Z"
   },
   {
    "duration": 513,
    "start_time": "2021-11-16T09:24:55.151Z"
   },
   {
    "duration": 528,
    "start_time": "2021-11-16T09:25:40.432Z"
   },
   {
    "duration": 639,
    "start_time": "2021-11-16T09:26:05.163Z"
   },
   {
    "duration": 30,
    "start_time": "2021-11-16T10:41:25.281Z"
   },
   {
    "duration": 552,
    "start_time": "2021-11-16T10:41:50.416Z"
   },
   {
    "duration": 117,
    "start_time": "2021-11-16T10:42:22.725Z"
   },
   {
    "duration": 446,
    "start_time": "2021-11-16T10:42:32.421Z"
   },
   {
    "duration": 101,
    "start_time": "2021-11-16T10:43:07.436Z"
   },
   {
    "duration": 113,
    "start_time": "2021-11-16T10:43:32.429Z"
   },
   {
    "duration": 5,
    "start_time": "2021-11-16T10:43:45.741Z"
   },
   {
    "duration": 119,
    "start_time": "2021-11-16T10:43:54.509Z"
   },
   {
    "duration": 110,
    "start_time": "2021-11-16T10:44:20.027Z"
   },
   {
    "duration": 121,
    "start_time": "2021-11-16T10:44:30.970Z"
   },
   {
    "duration": 102,
    "start_time": "2021-11-16T10:44:57.276Z"
   },
   {
    "duration": 612,
    "start_time": "2021-11-16T10:45:05.330Z"
   },
   {
    "duration": 1273,
    "start_time": "2021-11-16T10:46:04.204Z"
   },
   {
    "duration": 572,
    "start_time": "2021-11-16T10:47:03.621Z"
   },
   {
    "duration": 340,
    "start_time": "2021-11-16T10:48:26.584Z"
   },
   {
    "duration": 309,
    "start_time": "2021-11-16T10:48:43.891Z"
   },
   {
    "duration": 482,
    "start_time": "2021-11-16T10:49:07.783Z"
   },
   {
    "duration": 517,
    "start_time": "2021-11-16T10:49:47.177Z"
   },
   {
    "duration": 466,
    "start_time": "2021-11-16T10:52:28.363Z"
   },
   {
    "duration": 441,
    "start_time": "2021-11-16T10:53:51.079Z"
   },
   {
    "duration": 738,
    "start_time": "2021-11-16T10:54:11.930Z"
   },
   {
    "duration": 692,
    "start_time": "2021-11-16T10:54:27.375Z"
   },
   {
    "duration": 451,
    "start_time": "2021-11-16T10:55:05.003Z"
   },
   {
    "duration": 325,
    "start_time": "2021-11-16T10:55:14.633Z"
   },
   {
    "duration": 550,
    "start_time": "2021-11-16T10:55:41.273Z"
   },
   {
    "duration": 436,
    "start_time": "2021-11-16T10:56:33.285Z"
   },
   {
    "duration": 12,
    "start_time": "2021-11-16T10:58:05.512Z"
   },
   {
    "duration": 355,
    "start_time": "2021-11-16T10:59:08.544Z"
   },
   {
    "duration": 13,
    "start_time": "2021-11-16T10:59:23.854Z"
   },
   {
    "duration": 15,
    "start_time": "2021-11-16T11:00:40.530Z"
   },
   {
    "duration": 14,
    "start_time": "2021-11-16T11:03:01.029Z"
   },
   {
    "duration": 8317,
    "start_time": "2021-11-16T11:08:23.769Z"
   },
   {
    "duration": 56,
    "start_time": "2021-11-16T11:08:44.257Z"
   },
   {
    "duration": 343,
    "start_time": "2021-11-16T11:10:07.959Z"
   },
   {
    "duration": 352,
    "start_time": "2021-11-16T11:10:18.747Z"
   },
   {
    "duration": 562,
    "start_time": "2021-11-16T11:11:03.824Z"
   },
   {
    "duration": 513,
    "start_time": "2021-11-16T11:11:15.906Z"
   },
   {
    "duration": 332,
    "start_time": "2021-11-16T11:11:32.679Z"
   },
   {
    "duration": 56,
    "start_time": "2021-11-16T11:11:42.407Z"
   },
   {
    "duration": 369,
    "start_time": "2021-11-16T11:12:02.327Z"
   },
   {
    "duration": 415,
    "start_time": "2021-11-16T11:12:08.822Z"
   },
   {
    "duration": 57,
    "start_time": "2021-11-16T11:12:17.999Z"
   },
   {
    "duration": 343,
    "start_time": "2021-11-16T11:12:37.242Z"
   },
   {
    "duration": 353,
    "start_time": "2021-11-16T11:12:47.855Z"
   },
   {
    "duration": 57,
    "start_time": "2021-11-16T11:13:19.880Z"
   },
   {
    "duration": 60,
    "start_time": "2021-11-16T11:18:00.092Z"
   },
   {
    "duration": 60,
    "start_time": "2021-11-16T11:18:04.965Z"
   },
   {
    "duration": 8,
    "start_time": "2021-11-16T11:25:16.375Z"
   },
   {
    "duration": 10,
    "start_time": "2021-11-16T11:26:01.775Z"
   },
   {
    "duration": 1487,
    "start_time": "2021-11-16T15:38:48.637Z"
   },
   {
    "duration": 48,
    "start_time": "2021-11-16T15:38:50.126Z"
   },
   {
    "duration": 17,
    "start_time": "2021-11-16T15:38:50.178Z"
   },
   {
    "duration": 25,
    "start_time": "2021-11-16T15:38:50.199Z"
   },
   {
    "duration": 60,
    "start_time": "2021-11-16T15:38:50.226Z"
   },
   {
    "duration": 812,
    "start_time": "2021-11-16T15:38:50.290Z"
   },
   {
    "duration": 7,
    "start_time": "2021-11-16T15:38:51.105Z"
   },
   {
    "duration": 17,
    "start_time": "2021-11-16T15:38:51.116Z"
   },
   {
    "duration": 6,
    "start_time": "2021-11-16T15:38:51.137Z"
   },
   {
    "duration": 45,
    "start_time": "2021-11-16T15:38:51.145Z"
   },
   {
    "duration": 9,
    "start_time": "2021-11-16T15:38:51.193Z"
   },
   {
    "duration": 17,
    "start_time": "2021-11-16T15:38:51.205Z"
   },
   {
    "duration": 8,
    "start_time": "2021-11-16T15:38:51.225Z"
   },
   {
    "duration": 11,
    "start_time": "2021-11-16T15:38:51.236Z"
   },
   {
    "duration": 7,
    "start_time": "2021-11-16T15:38:51.283Z"
   },
   {
    "duration": 19,
    "start_time": "2021-11-16T15:38:51.293Z"
   },
   {
    "duration": 8,
    "start_time": "2021-11-16T15:38:51.314Z"
   },
   {
    "duration": 58,
    "start_time": "2021-11-16T15:38:51.324Z"
   },
   {
    "duration": 15,
    "start_time": "2021-11-16T15:38:51.385Z"
   },
   {
    "duration": 7,
    "start_time": "2021-11-16T15:38:51.403Z"
   },
   {
    "duration": 9,
    "start_time": "2021-11-16T15:38:51.412Z"
   },
   {
    "duration": 7,
    "start_time": "2021-11-16T15:38:51.423Z"
   },
   {
    "duration": 11,
    "start_time": "2021-11-16T15:38:51.481Z"
   },
   {
    "duration": 29,
    "start_time": "2021-11-16T15:38:51.496Z"
   },
   {
    "duration": 8,
    "start_time": "2021-11-16T15:38:51.527Z"
   },
   {
    "duration": 51,
    "start_time": "2021-11-16T15:38:51.537Z"
   },
   {
    "duration": 7,
    "start_time": "2021-11-16T15:38:51.591Z"
   },
   {
    "duration": 16,
    "start_time": "2021-11-16T15:38:51.601Z"
   },
   {
    "duration": 8,
    "start_time": "2021-11-16T15:38:51.620Z"
   },
   {
    "duration": 11,
    "start_time": "2021-11-16T15:38:51.631Z"
   },
   {
    "duration": 9,
    "start_time": "2021-11-16T15:38:51.682Z"
   },
   {
    "duration": 18,
    "start_time": "2021-11-16T15:38:51.694Z"
   },
   {
    "duration": 26,
    "start_time": "2021-11-16T15:38:51.716Z"
   },
   {
    "duration": 74,
    "start_time": "2021-11-16T15:38:51.745Z"
   },
   {
    "duration": 350,
    "start_time": "2021-11-16T15:38:51.822Z"
   },
   {
    "duration": 12,
    "start_time": "2021-11-16T15:38:52.175Z"
   },
   {
    "duration": 841,
    "start_time": "2021-11-16T15:38:52.192Z"
   },
   {
    "duration": 2221,
    "start_time": "2021-11-16T15:38:53.036Z"
   },
   {
    "duration": 51,
    "start_time": "2021-11-16T15:38:55.260Z"
   },
   {
    "duration": 9,
    "start_time": "2021-11-16T15:38:55.314Z"
   },
   {
    "duration": 1979,
    "start_time": "2021-11-16T15:38:55.326Z"
   },
   {
    "duration": 8,
    "start_time": "2021-11-16T15:38:57.308Z"
   },
   {
    "duration": 15,
    "start_time": "2021-11-16T15:38:57.318Z"
   },
   {
    "duration": 1266,
    "start_time": "2021-11-16T15:38:57.336Z"
   },
   {
    "duration": 1940,
    "start_time": "2021-11-16T15:38:58.606Z"
   },
   {
    "duration": 585,
    "start_time": "2021-11-16T15:39:00.549Z"
   },
   {
    "duration": -56,
    "start_time": "2021-11-16T15:39:01.193Z"
   },
   {
    "duration": -57,
    "start_time": "2021-11-16T15:39:01.195Z"
   },
   {
    "duration": -57,
    "start_time": "2021-11-16T15:39:01.197Z"
   },
   {
    "duration": -58,
    "start_time": "2021-11-16T15:39:01.199Z"
   },
   {
    "duration": -59,
    "start_time": "2021-11-16T15:39:01.201Z"
   },
   {
    "duration": -59,
    "start_time": "2021-11-16T15:39:01.203Z"
   },
   {
    "duration": -59,
    "start_time": "2021-11-16T15:39:01.204Z"
   },
   {
    "duration": 320,
    "start_time": "2021-11-16T15:39:57.707Z"
   },
   {
    "duration": 736,
    "start_time": "2021-11-16T15:40:30.391Z"
   },
   {
    "duration": 1481,
    "start_time": "2021-11-16T15:41:11.464Z"
   },
   {
    "duration": 48,
    "start_time": "2021-11-16T15:41:12.948Z"
   },
   {
    "duration": 14,
    "start_time": "2021-11-16T15:41:12.998Z"
   },
   {
    "duration": 22,
    "start_time": "2021-11-16T15:41:13.015Z"
   },
   {
    "duration": 52,
    "start_time": "2021-11-16T15:41:13.039Z"
   },
   {
    "duration": 717,
    "start_time": "2021-11-16T15:41:13.094Z"
   },
   {
    "duration": 6,
    "start_time": "2021-11-16T15:41:13.814Z"
   },
   {
    "duration": 18,
    "start_time": "2021-11-16T15:41:13.822Z"
   },
   {
    "duration": 6,
    "start_time": "2021-11-16T15:41:13.844Z"
   },
   {
    "duration": 14,
    "start_time": "2021-11-16T15:41:13.882Z"
   },
   {
    "duration": 12,
    "start_time": "2021-11-16T15:41:13.899Z"
   },
   {
    "duration": 10,
    "start_time": "2021-11-16T15:41:13.913Z"
   },
   {
    "duration": 11,
    "start_time": "2021-11-16T15:41:13.926Z"
   },
   {
    "duration": 43,
    "start_time": "2021-11-16T15:41:13.939Z"
   },
   {
    "duration": 7,
    "start_time": "2021-11-16T15:41:13.986Z"
   },
   {
    "duration": 31,
    "start_time": "2021-11-16T15:41:13.996Z"
   },
   {
    "duration": 8,
    "start_time": "2021-11-16T15:41:14.030Z"
   },
   {
    "duration": 50,
    "start_time": "2021-11-16T15:41:14.040Z"
   },
   {
    "duration": 14,
    "start_time": "2021-11-16T15:41:14.092Z"
   },
   {
    "duration": 7,
    "start_time": "2021-11-16T15:41:14.109Z"
   },
   {
    "duration": 16,
    "start_time": "2021-11-16T15:41:14.119Z"
   },
   {
    "duration": 13,
    "start_time": "2021-11-16T15:41:14.138Z"
   },
   {
    "duration": 9,
    "start_time": "2021-11-16T15:41:14.181Z"
   },
   {
    "duration": 28,
    "start_time": "2021-11-16T15:41:14.193Z"
   },
   {
    "duration": 7,
    "start_time": "2021-11-16T15:41:14.223Z"
   },
   {
    "duration": 13,
    "start_time": "2021-11-16T15:41:14.233Z"
   },
   {
    "duration": 7,
    "start_time": "2021-11-16T15:41:14.284Z"
   },
   {
    "duration": 17,
    "start_time": "2021-11-16T15:41:14.295Z"
   },
   {
    "duration": 7,
    "start_time": "2021-11-16T15:41:14.315Z"
   },
   {
    "duration": 9,
    "start_time": "2021-11-16T15:41:14.324Z"
   },
   {
    "duration": 50,
    "start_time": "2021-11-16T15:41:14.335Z"
   },
   {
    "duration": 31,
    "start_time": "2021-11-16T15:41:14.388Z"
   },
   {
    "duration": 26,
    "start_time": "2021-11-16T15:41:14.422Z"
   },
   {
    "duration": 44,
    "start_time": "2021-11-16T15:41:14.451Z"
   },
   {
    "duration": 333,
    "start_time": "2021-11-16T15:41:14.498Z"
   },
   {
    "duration": 7,
    "start_time": "2021-11-16T15:41:14.834Z"
   },
   {
    "duration": 908,
    "start_time": "2021-11-16T15:41:14.843Z"
   },
   {
    "duration": 3129,
    "start_time": "2021-11-16T15:41:15.754Z"
   },
   {
    "duration": 34,
    "start_time": "2021-11-16T15:41:18.886Z"
   },
   {
    "duration": 8,
    "start_time": "2021-11-16T15:41:18.922Z"
   },
   {
    "duration": 1314,
    "start_time": "2021-11-16T15:41:18.932Z"
   },
   {
    "duration": 7,
    "start_time": "2021-11-16T15:41:20.248Z"
   },
   {
    "duration": 43,
    "start_time": "2021-11-16T15:41:20.257Z"
   },
   {
    "duration": 848,
    "start_time": "2021-11-16T15:41:20.303Z"
   },
   {
    "duration": 1304,
    "start_time": "2021-11-16T15:41:21.154Z"
   },
   {
    "duration": 542,
    "start_time": "2021-11-16T15:41:22.460Z"
   },
   {
    "duration": 588,
    "start_time": "2021-11-16T15:41:23.004Z"
   },
   {
    "duration": 533,
    "start_time": "2021-11-16T15:41:23.595Z"
   },
   {
    "duration": 14,
    "start_time": "2021-11-16T15:41:24.131Z"
   },
   {
    "duration": 36,
    "start_time": "2021-11-16T15:41:24.148Z"
   },
   {
    "duration": 8,
    "start_time": "2021-11-16T15:41:24.187Z"
   },
   {
    "duration": 9,
    "start_time": "2021-11-16T15:41:24.197Z"
   },
   {
    "duration": 86,
    "start_time": "2021-11-16T15:41:24.209Z"
   },
   {
    "duration": 462,
    "start_time": "2021-11-16T15:46:56.490Z"
   },
   {
    "duration": 13,
    "start_time": "2021-11-16T15:47:06.339Z"
   },
   {
    "duration": 43,
    "start_time": "2021-11-16T15:52:08.301Z"
   },
   {
    "duration": 43,
    "start_time": "2021-11-16T15:54:10.281Z"
   },
   {
    "duration": 45,
    "start_time": "2021-11-16T15:54:37.537Z"
   },
   {
    "duration": 534,
    "start_time": "2021-11-16T16:13:28.673Z"
   },
   {
    "duration": 62,
    "start_time": "2021-11-16T16:14:00.030Z"
   },
   {
    "duration": 520,
    "start_time": "2021-11-16T16:25:42.991Z"
   },
   {
    "duration": 325,
    "start_time": "2021-11-16T16:25:58.295Z"
   },
   {
    "duration": 1499,
    "start_time": "2021-11-16T16:26:18.959Z"
   },
   {
    "duration": 47,
    "start_time": "2021-11-16T16:26:20.461Z"
   },
   {
    "duration": 15,
    "start_time": "2021-11-16T16:26:20.511Z"
   },
   {
    "duration": 26,
    "start_time": "2021-11-16T16:26:20.528Z"
   },
   {
    "duration": 24,
    "start_time": "2021-11-16T16:26:20.582Z"
   },
   {
    "duration": 961,
    "start_time": "2021-11-16T16:26:20.609Z"
   },
   {
    "duration": 9,
    "start_time": "2021-11-16T16:26:21.583Z"
   },
   {
    "duration": 22,
    "start_time": "2021-11-16T16:26:21.598Z"
   },
   {
    "duration": 6,
    "start_time": "2021-11-16T16:26:21.623Z"
   },
   {
    "duration": 55,
    "start_time": "2021-11-16T16:26:21.632Z"
   },
   {
    "duration": 7,
    "start_time": "2021-11-16T16:26:21.690Z"
   },
   {
    "duration": 11,
    "start_time": "2021-11-16T16:26:21.700Z"
   },
   {
    "duration": 9,
    "start_time": "2021-11-16T16:26:21.714Z"
   },
   {
    "duration": 9,
    "start_time": "2021-11-16T16:26:21.726Z"
   },
   {
    "duration": 53,
    "start_time": "2021-11-16T16:26:21.737Z"
   },
   {
    "duration": 22,
    "start_time": "2021-11-16T16:26:21.793Z"
   },
   {
    "duration": 10,
    "start_time": "2021-11-16T16:26:21.818Z"
   },
   {
    "duration": 72,
    "start_time": "2021-11-16T16:26:21.831Z"
   },
   {
    "duration": 15,
    "start_time": "2021-11-16T16:26:21.906Z"
   },
   {
    "duration": 9,
    "start_time": "2021-11-16T16:26:21.924Z"
   },
   {
    "duration": 11,
    "start_time": "2021-11-16T16:26:21.935Z"
   },
   {
    "duration": 39,
    "start_time": "2021-11-16T16:26:21.948Z"
   },
   {
    "duration": 18,
    "start_time": "2021-11-16T16:26:21.992Z"
   },
   {
    "duration": 31,
    "start_time": "2021-11-16T16:26:22.013Z"
   },
   {
    "duration": 36,
    "start_time": "2021-11-16T16:26:22.046Z"
   },
   {
    "duration": 15,
    "start_time": "2021-11-16T16:26:22.085Z"
   },
   {
    "duration": 6,
    "start_time": "2021-11-16T16:26:22.102Z"
   },
   {
    "duration": 13,
    "start_time": "2021-11-16T16:26:22.110Z"
   },
   {
    "duration": 57,
    "start_time": "2021-11-16T16:26:22.126Z"
   },
   {
    "duration": 7,
    "start_time": "2021-11-16T16:26:22.186Z"
   },
   {
    "duration": 9,
    "start_time": "2021-11-16T16:26:22.195Z"
   },
   {
    "duration": 11,
    "start_time": "2021-11-16T16:26:22.207Z"
   },
   {
    "duration": 70,
    "start_time": "2021-11-16T16:26:22.221Z"
   },
   {
    "duration": 30,
    "start_time": "2021-11-16T16:26:22.293Z"
   },
   {
    "duration": 430,
    "start_time": "2021-11-16T16:26:22.325Z"
   },
   {
    "duration": 7,
    "start_time": "2021-11-16T16:26:22.757Z"
   },
   {
    "duration": 582,
    "start_time": "2021-11-16T16:26:22.782Z"
   },
   {
    "duration": 1985,
    "start_time": "2021-11-16T16:26:23.367Z"
   },
   {
    "duration": 64,
    "start_time": "2021-11-16T16:26:25.356Z"
   },
   {
    "duration": 10,
    "start_time": "2021-11-16T16:26:25.423Z"
   },
   {
    "duration": 1405,
    "start_time": "2021-11-16T16:26:25.436Z"
   },
   {
    "duration": 7,
    "start_time": "2021-11-16T16:26:26.844Z"
   },
   {
    "duration": 35,
    "start_time": "2021-11-16T16:26:26.854Z"
   },
   {
    "duration": 899,
    "start_time": "2021-11-16T16:26:26.892Z"
   },
   {
    "duration": 1223,
    "start_time": "2021-11-16T16:26:27.794Z"
   },
   {
    "duration": 549,
    "start_time": "2021-11-16T16:26:29.020Z"
   },
   {
    "duration": 756,
    "start_time": "2021-11-16T16:26:29.572Z"
   },
   {
    "duration": 654,
    "start_time": "2021-11-16T16:26:30.331Z"
   },
   {
    "duration": 17,
    "start_time": "2021-11-16T16:26:30.988Z"
   },
   {
    "duration": 39,
    "start_time": "2021-11-16T16:26:31.009Z"
   },
   {
    "duration": 35,
    "start_time": "2021-11-16T16:26:31.052Z"
   },
   {
    "duration": 31,
    "start_time": "2021-11-16T16:26:31.090Z"
   },
   {
    "duration": 82,
    "start_time": "2021-11-16T16:26:31.124Z"
   },
   {
    "duration": 474,
    "start_time": "2021-11-16T16:26:31.209Z"
   },
   {
    "duration": 45,
    "start_time": "2021-11-16T16:26:31.641Z"
   },
   {
    "duration": 44,
    "start_time": "2021-11-16T16:26:31.643Z"
   },
   {
    "duration": 315,
    "start_time": "2021-11-16T16:28:15.951Z"
   },
   {
    "duration": 315,
    "start_time": "2021-11-16T16:28:24.734Z"
   },
   {
    "duration": 44,
    "start_time": "2021-11-16T16:29:14.191Z"
   },
   {
    "duration": 44,
    "start_time": "2021-11-16T16:37:47.142Z"
   },
   {
    "duration": 1317,
    "start_time": "2021-11-17T14:22:42.453Z"
   },
   {
    "duration": 38,
    "start_time": "2021-11-17T14:22:43.773Z"
   },
   {
    "duration": 12,
    "start_time": "2021-11-17T14:22:43.813Z"
   },
   {
    "duration": 24,
    "start_time": "2021-11-17T14:22:43.827Z"
   },
   {
    "duration": 25,
    "start_time": "2021-11-17T14:22:43.854Z"
   },
   {
    "duration": 541,
    "start_time": "2021-11-17T14:22:43.882Z"
   },
   {
    "duration": 5,
    "start_time": "2021-11-17T14:22:44.425Z"
   },
   {
    "duration": 14,
    "start_time": "2021-11-17T14:22:44.433Z"
   },
   {
    "duration": 23,
    "start_time": "2021-11-17T14:22:44.449Z"
   },
   {
    "duration": 11,
    "start_time": "2021-11-17T14:22:44.475Z"
   },
   {
    "duration": 8,
    "start_time": "2021-11-17T14:22:44.488Z"
   },
   {
    "duration": 9,
    "start_time": "2021-11-17T14:22:44.498Z"
   },
   {
    "duration": 4,
    "start_time": "2021-11-17T14:22:44.508Z"
   },
   {
    "duration": 7,
    "start_time": "2021-11-17T14:22:44.514Z"
   },
   {
    "duration": 8,
    "start_time": "2021-11-17T14:22:44.522Z"
   },
   {
    "duration": 15,
    "start_time": "2021-11-17T14:22:44.568Z"
   },
   {
    "duration": 6,
    "start_time": "2021-11-17T14:22:44.585Z"
   },
   {
    "duration": 16,
    "start_time": "2021-11-17T14:22:44.593Z"
   },
   {
    "duration": 9,
    "start_time": "2021-11-17T14:22:44.611Z"
   },
   {
    "duration": 5,
    "start_time": "2021-11-17T14:22:44.621Z"
   },
   {
    "duration": 46,
    "start_time": "2021-11-17T14:22:44.628Z"
   },
   {
    "duration": 5,
    "start_time": "2021-11-17T14:22:44.676Z"
   },
   {
    "duration": 7,
    "start_time": "2021-11-17T14:22:44.686Z"
   },
   {
    "duration": 23,
    "start_time": "2021-11-17T14:22:44.695Z"
   },
   {
    "duration": 3,
    "start_time": "2021-11-17T14:22:44.720Z"
   },
   {
    "duration": 15,
    "start_time": "2021-11-17T14:22:44.725Z"
   },
   {
    "duration": 28,
    "start_time": "2021-11-17T14:22:44.742Z"
   },
   {
    "duration": 14,
    "start_time": "2021-11-17T14:22:44.773Z"
   },
   {
    "duration": 9,
    "start_time": "2021-11-17T14:22:44.789Z"
   },
   {
    "duration": 8,
    "start_time": "2021-11-17T14:22:44.800Z"
   },
   {
    "duration": 10,
    "start_time": "2021-11-17T14:22:44.809Z"
   },
   {
    "duration": 10,
    "start_time": "2021-11-17T14:22:44.821Z"
   },
   {
    "duration": 46,
    "start_time": "2021-11-17T14:22:44.833Z"
   },
   {
    "duration": 23,
    "start_time": "2021-11-17T14:22:44.882Z"
   },
   {
    "duration": 219,
    "start_time": "2021-11-17T14:22:44.907Z"
   },
   {
    "duration": 5,
    "start_time": "2021-11-17T14:22:45.128Z"
   },
   {
    "duration": 398,
    "start_time": "2021-11-17T14:22:45.135Z"
   },
   {
    "duration": 1270,
    "start_time": "2021-11-17T14:22:45.535Z"
   },
   {
    "duration": 21,
    "start_time": "2021-11-17T14:22:46.807Z"
   },
   {
    "duration": 14,
    "start_time": "2021-11-17T14:22:46.830Z"
   },
   {
    "duration": 872,
    "start_time": "2021-11-17T14:22:46.846Z"
   },
   {
    "duration": 4,
    "start_time": "2021-11-17T14:22:47.720Z"
   },
   {
    "duration": 10,
    "start_time": "2021-11-17T14:22:47.726Z"
   },
   {
    "duration": 584,
    "start_time": "2021-11-17T14:22:47.738Z"
   },
   {
    "duration": 767,
    "start_time": "2021-11-17T14:22:48.324Z"
   },
   {
    "duration": 322,
    "start_time": "2021-11-17T14:22:49.093Z"
   },
   {
    "duration": 526,
    "start_time": "2021-11-17T14:22:49.417Z"
   },
   {
    "duration": 338,
    "start_time": "2021-11-17T14:22:49.945Z"
   },
   {
    "duration": 11,
    "start_time": "2021-11-17T14:22:50.285Z"
   },
   {
    "duration": 10,
    "start_time": "2021-11-17T14:22:50.298Z"
   },
   {
    "duration": 12,
    "start_time": "2021-11-17T14:22:50.310Z"
   },
   {
    "duration": 7,
    "start_time": "2021-11-17T14:22:50.324Z"
   },
   {
    "duration": 75,
    "start_time": "2021-11-17T14:22:50.333Z"
   },
   {
    "duration": 29,
    "start_time": "2021-11-17T14:22:50.410Z"
   },
   {
    "duration": 47,
    "start_time": "2021-11-17T14:22:50.441Z"
   },
   {
    "duration": 7,
    "start_time": "2021-11-17T15:45:01.162Z"
   },
   {
    "duration": 31,
    "start_time": "2021-11-17T15:52:32.560Z"
   },
   {
    "duration": 86,
    "start_time": "2021-11-17T15:54:14.275Z"
   },
   {
    "duration": 87,
    "start_time": "2021-11-17T15:57:03.776Z"
   },
   {
    "duration": 374,
    "start_time": "2021-11-17T15:57:25.305Z"
   },
   {
    "duration": 16,
    "start_time": "2021-11-17T15:57:35.178Z"
   },
   {
    "duration": 262,
    "start_time": "2021-11-17T15:58:13.661Z"
   },
   {
    "duration": 257,
    "start_time": "2021-11-17T15:58:25.171Z"
   },
   {
    "duration": 9,
    "start_time": "2021-11-17T15:59:05.170Z"
   },
   {
    "duration": 1208,
    "start_time": "2021-11-17T15:59:37.832Z"
   },
   {
    "duration": 37,
    "start_time": "2021-11-17T15:59:39.042Z"
   },
   {
    "duration": 10,
    "start_time": "2021-11-17T15:59:39.081Z"
   },
   {
    "duration": 15,
    "start_time": "2021-11-17T15:59:39.093Z"
   },
   {
    "duration": 19,
    "start_time": "2021-11-17T15:59:39.109Z"
   },
   {
    "duration": 514,
    "start_time": "2021-11-17T15:59:39.130Z"
   },
   {
    "duration": 5,
    "start_time": "2021-11-17T15:59:39.646Z"
   },
   {
    "duration": 19,
    "start_time": "2021-11-17T15:59:39.653Z"
   },
   {
    "duration": 8,
    "start_time": "2021-11-17T15:59:39.674Z"
   },
   {
    "duration": 14,
    "start_time": "2021-11-17T15:59:39.683Z"
   },
   {
    "duration": 11,
    "start_time": "2021-11-17T15:59:39.699Z"
   },
   {
    "duration": 14,
    "start_time": "2021-11-17T15:59:39.712Z"
   },
   {
    "duration": 13,
    "start_time": "2021-11-17T15:59:39.728Z"
   },
   {
    "duration": 20,
    "start_time": "2021-11-17T15:59:39.743Z"
   },
   {
    "duration": 6,
    "start_time": "2021-11-17T15:59:39.765Z"
   },
   {
    "duration": 19,
    "start_time": "2021-11-17T15:59:39.773Z"
   },
   {
    "duration": 5,
    "start_time": "2021-11-17T15:59:39.794Z"
   },
   {
    "duration": 27,
    "start_time": "2021-11-17T15:59:39.801Z"
   },
   {
    "duration": 11,
    "start_time": "2021-11-17T15:59:39.830Z"
   },
   {
    "duration": 13,
    "start_time": "2021-11-17T15:59:39.842Z"
   },
   {
    "duration": 20,
    "start_time": "2021-11-17T15:59:39.857Z"
   },
   {
    "duration": 8,
    "start_time": "2021-11-17T15:59:39.879Z"
   },
   {
    "duration": 16,
    "start_time": "2021-11-17T15:59:39.891Z"
   },
   {
    "duration": 29,
    "start_time": "2021-11-17T15:59:39.909Z"
   },
   {
    "duration": 4,
    "start_time": "2021-11-17T15:59:39.940Z"
   },
   {
    "duration": 14,
    "start_time": "2021-11-17T15:59:39.946Z"
   },
   {
    "duration": 14,
    "start_time": "2021-11-17T15:59:39.962Z"
   },
   {
    "duration": 14,
    "start_time": "2021-11-17T15:59:39.978Z"
   },
   {
    "duration": 7,
    "start_time": "2021-11-17T15:59:39.994Z"
   },
   {
    "duration": 14,
    "start_time": "2021-11-17T15:59:40.002Z"
   },
   {
    "duration": 10,
    "start_time": "2021-11-17T15:59:40.017Z"
   },
   {
    "duration": 13,
    "start_time": "2021-11-17T15:59:40.029Z"
   },
   {
    "duration": 24,
    "start_time": "2021-11-17T15:59:40.043Z"
   },
   {
    "duration": 22,
    "start_time": "2021-11-17T15:59:40.070Z"
   },
   {
    "duration": 202,
    "start_time": "2021-11-17T15:59:40.093Z"
   },
   {
    "duration": 4,
    "start_time": "2021-11-17T15:59:40.297Z"
   },
   {
    "duration": 353,
    "start_time": "2021-11-17T15:59:40.303Z"
   },
   {
    "duration": 1229,
    "start_time": "2021-11-17T15:59:40.658Z"
   },
   {
    "duration": 24,
    "start_time": "2021-11-17T15:59:41.889Z"
   },
   {
    "duration": 12,
    "start_time": "2021-11-17T15:59:41.914Z"
   },
   {
    "duration": 842,
    "start_time": "2021-11-17T15:59:41.928Z"
   },
   {
    "duration": 5,
    "start_time": "2021-11-17T15:59:42.772Z"
   },
   {
    "duration": 11,
    "start_time": "2021-11-17T15:59:42.779Z"
   },
   {
    "duration": 559,
    "start_time": "2021-11-17T15:59:42.792Z"
   },
   {
    "duration": 730,
    "start_time": "2021-11-17T15:59:43.353Z"
   },
   {
    "duration": 316,
    "start_time": "2021-11-17T15:59:44.085Z"
   },
   {
    "duration": 530,
    "start_time": "2021-11-17T15:59:44.404Z"
   },
   {
    "duration": 352,
    "start_time": "2021-11-17T15:59:44.936Z"
   },
   {
    "duration": 11,
    "start_time": "2021-11-17T15:59:45.290Z"
   },
   {
    "duration": 11,
    "start_time": "2021-11-17T15:59:45.303Z"
   },
   {
    "duration": 8,
    "start_time": "2021-11-17T15:59:45.315Z"
   },
   {
    "duration": 10,
    "start_time": "2021-11-17T15:59:45.325Z"
   },
   {
    "duration": 65,
    "start_time": "2021-11-17T15:59:45.337Z"
   },
   {
    "duration": 28,
    "start_time": "2021-11-17T15:59:45.404Z"
   },
   {
    "duration": 52,
    "start_time": "2021-11-17T15:59:45.434Z"
   },
   {
    "duration": 7,
    "start_time": "2021-11-17T15:59:45.488Z"
   },
   {
    "duration": 14,
    "start_time": "2021-11-17T15:59:45.496Z"
   },
   {
    "duration": 95,
    "start_time": "2021-11-17T15:59:45.512Z"
   },
   {
    "duration": 351,
    "start_time": "2021-11-17T16:00:10.866Z"
   },
   {
    "duration": 339,
    "start_time": "2021-11-17T16:00:20.185Z"
   },
   {
    "duration": 18,
    "start_time": "2021-11-17T16:00:25.184Z"
   },
   {
    "duration": 15,
    "start_time": "2021-11-17T16:05:02.135Z"
   },
   {
    "duration": 14,
    "start_time": "2021-11-17T16:05:26.280Z"
   },
   {
    "duration": 14,
    "start_time": "2021-11-17T16:05:54.510Z"
   },
   {
    "duration": 14,
    "start_time": "2021-11-17T16:06:18.320Z"
   },
   {
    "duration": 7,
    "start_time": "2021-11-17T16:06:57.515Z"
   },
   {
    "duration": 1166,
    "start_time": "2021-11-17T16:07:44.560Z"
   },
   {
    "duration": 38,
    "start_time": "2021-11-17T16:07:45.728Z"
   },
   {
    "duration": 10,
    "start_time": "2021-11-17T16:07:45.768Z"
   },
   {
    "duration": 13,
    "start_time": "2021-11-17T16:07:45.780Z"
   },
   {
    "duration": 17,
    "start_time": "2021-11-17T16:07:45.795Z"
   },
   {
    "duration": 507,
    "start_time": "2021-11-17T16:07:45.813Z"
   },
   {
    "duration": 5,
    "start_time": "2021-11-17T16:07:46.322Z"
   },
   {
    "duration": 14,
    "start_time": "2021-11-17T16:07:46.329Z"
   },
   {
    "duration": 21,
    "start_time": "2021-11-17T16:07:46.345Z"
   },
   {
    "duration": 10,
    "start_time": "2021-11-17T16:07:46.368Z"
   },
   {
    "duration": 5,
    "start_time": "2021-11-17T16:07:46.380Z"
   },
   {
    "duration": 8,
    "start_time": "2021-11-17T16:07:46.387Z"
   },
   {
    "duration": 4,
    "start_time": "2021-11-17T16:07:46.397Z"
   },
   {
    "duration": 7,
    "start_time": "2021-11-17T16:07:46.403Z"
   },
   {
    "duration": 13,
    "start_time": "2021-11-17T16:07:46.412Z"
   },
   {
    "duration": 17,
    "start_time": "2021-11-17T16:07:46.427Z"
   },
   {
    "duration": 6,
    "start_time": "2021-11-17T16:07:46.463Z"
   },
   {
    "duration": 16,
    "start_time": "2021-11-17T16:07:46.471Z"
   },
   {
    "duration": 16,
    "start_time": "2021-11-17T16:07:46.488Z"
   },
   {
    "duration": 7,
    "start_time": "2021-11-17T16:07:46.505Z"
   },
   {
    "duration": 10,
    "start_time": "2021-11-17T16:07:46.514Z"
   },
   {
    "duration": 12,
    "start_time": "2021-11-17T16:07:46.525Z"
   },
   {
    "duration": 26,
    "start_time": "2021-11-17T16:07:46.541Z"
   },
   {
    "duration": 16,
    "start_time": "2021-11-17T16:07:46.569Z"
   },
   {
    "duration": 8,
    "start_time": "2021-11-17T16:07:46.587Z"
   },
   {
    "duration": 12,
    "start_time": "2021-11-17T16:07:46.596Z"
   },
   {
    "duration": 6,
    "start_time": "2021-11-17T16:07:46.610Z"
   },
   {
    "duration": 16,
    "start_time": "2021-11-17T16:07:46.617Z"
   },
   {
    "duration": 7,
    "start_time": "2021-11-17T16:07:46.634Z"
   },
   {
    "duration": 6,
    "start_time": "2021-11-17T16:07:46.663Z"
   },
   {
    "duration": 9,
    "start_time": "2021-11-17T16:07:46.670Z"
   },
   {
    "duration": 14,
    "start_time": "2021-11-17T16:07:46.681Z"
   },
   {
    "duration": 20,
    "start_time": "2021-11-17T16:07:46.697Z"
   },
   {
    "duration": 22,
    "start_time": "2021-11-17T16:07:46.718Z"
   },
   {
    "duration": 211,
    "start_time": "2021-11-17T16:07:46.742Z"
   },
   {
    "duration": 12,
    "start_time": "2021-11-17T16:07:46.955Z"
   },
   {
    "duration": 359,
    "start_time": "2021-11-17T16:07:46.969Z"
   },
   {
    "duration": 1180,
    "start_time": "2021-11-17T16:07:47.331Z"
   },
   {
    "duration": 21,
    "start_time": "2021-11-17T16:07:48.513Z"
   },
   {
    "duration": 27,
    "start_time": "2021-11-17T16:07:48.536Z"
   },
   {
    "duration": 780,
    "start_time": "2021-11-17T16:07:48.565Z"
   },
   {
    "duration": 17,
    "start_time": "2021-11-17T16:07:49.347Z"
   },
   {
    "duration": 8,
    "start_time": "2021-11-17T16:07:49.366Z"
   },
   {
    "duration": 527,
    "start_time": "2021-11-17T16:07:49.375Z"
   },
   {
    "duration": 712,
    "start_time": "2021-11-17T16:07:49.903Z"
   },
   {
    "duration": 312,
    "start_time": "2021-11-17T16:07:50.617Z"
   },
   {
    "duration": 507,
    "start_time": "2021-11-17T16:07:50.931Z"
   },
   {
    "duration": 356,
    "start_time": "2021-11-17T16:07:51.440Z"
   },
   {
    "duration": 10,
    "start_time": "2021-11-17T16:07:51.797Z"
   },
   {
    "duration": 9,
    "start_time": "2021-11-17T16:07:51.808Z"
   },
   {
    "duration": 16,
    "start_time": "2021-11-17T16:07:51.818Z"
   },
   {
    "duration": 8,
    "start_time": "2021-11-17T16:07:51.836Z"
   },
   {
    "duration": 56,
    "start_time": "2021-11-17T16:07:51.845Z"
   },
   {
    "duration": 31,
    "start_time": "2021-11-17T16:07:51.904Z"
   },
   {
    "duration": 51,
    "start_time": "2021-11-17T16:07:51.938Z"
   },
   {
    "duration": 14,
    "start_time": "2021-11-17T16:07:51.991Z"
   },
   {
    "duration": 12,
    "start_time": "2021-11-17T16:07:52.006Z"
   },
   {
    "duration": 12,
    "start_time": "2021-11-17T16:07:52.020Z"
   },
   {
    "duration": 36,
    "start_time": "2021-11-17T16:07:52.033Z"
   },
   {
    "duration": 1188,
    "start_time": "2021-11-17T16:08:33.344Z"
   },
   {
    "duration": 40,
    "start_time": "2021-11-17T16:08:34.534Z"
   },
   {
    "duration": 9,
    "start_time": "2021-11-17T16:08:34.576Z"
   },
   {
    "duration": 16,
    "start_time": "2021-11-17T16:08:34.587Z"
   },
   {
    "duration": 21,
    "start_time": "2021-11-17T16:08:34.605Z"
   },
   {
    "duration": 501,
    "start_time": "2021-11-17T16:08:34.628Z"
   },
   {
    "duration": 5,
    "start_time": "2021-11-17T16:08:35.131Z"
   },
   {
    "duration": 28,
    "start_time": "2021-11-17T16:08:35.139Z"
   },
   {
    "duration": 5,
    "start_time": "2021-11-17T16:08:35.169Z"
   },
   {
    "duration": 28,
    "start_time": "2021-11-17T16:08:35.175Z"
   },
   {
    "duration": 6,
    "start_time": "2021-11-17T16:08:35.205Z"
   },
   {
    "duration": 22,
    "start_time": "2021-11-17T16:08:35.213Z"
   },
   {
    "duration": 7,
    "start_time": "2021-11-17T16:08:35.237Z"
   },
   {
    "duration": 9,
    "start_time": "2021-11-17T16:08:35.245Z"
   },
   {
    "duration": 6,
    "start_time": "2021-11-17T16:08:35.256Z"
   },
   {
    "duration": 19,
    "start_time": "2021-11-17T16:08:35.264Z"
   },
   {
    "duration": 12,
    "start_time": "2021-11-17T16:08:35.285Z"
   },
   {
    "duration": 25,
    "start_time": "2021-11-17T16:08:35.298Z"
   },
   {
    "duration": 28,
    "start_time": "2021-11-17T16:08:35.325Z"
   },
   {
    "duration": 14,
    "start_time": "2021-11-17T16:08:35.355Z"
   },
   {
    "duration": 10,
    "start_time": "2021-11-17T16:08:35.371Z"
   },
   {
    "duration": 12,
    "start_time": "2021-11-17T16:08:35.383Z"
   },
   {
    "duration": 11,
    "start_time": "2021-11-17T16:08:35.399Z"
   },
   {
    "duration": 20,
    "start_time": "2021-11-17T16:08:35.412Z"
   },
   {
    "duration": 9,
    "start_time": "2021-11-17T16:08:35.434Z"
   },
   {
    "duration": 21,
    "start_time": "2021-11-17T16:08:35.444Z"
   },
   {
    "duration": 10,
    "start_time": "2021-11-17T16:08:35.467Z"
   },
   {
    "duration": 16,
    "start_time": "2021-11-17T16:08:35.478Z"
   },
   {
    "duration": 9,
    "start_time": "2021-11-17T16:08:35.496Z"
   },
   {
    "duration": 16,
    "start_time": "2021-11-17T16:08:35.507Z"
   },
   {
    "duration": 7,
    "start_time": "2021-11-17T16:08:35.525Z"
   },
   {
    "duration": 12,
    "start_time": "2021-11-17T16:08:35.534Z"
   },
   {
    "duration": 21,
    "start_time": "2021-11-17T16:08:35.548Z"
   },
   {
    "duration": 37,
    "start_time": "2021-11-17T16:08:35.570Z"
   },
   {
    "duration": 190,
    "start_time": "2021-11-17T16:08:35.609Z"
   },
   {
    "duration": 5,
    "start_time": "2021-11-17T16:08:35.801Z"
   },
   {
    "duration": 344,
    "start_time": "2021-11-17T16:08:35.807Z"
   },
   {
    "duration": 1234,
    "start_time": "2021-11-17T16:08:36.153Z"
   },
   {
    "duration": 20,
    "start_time": "2021-11-17T16:08:37.389Z"
   },
   {
    "duration": 5,
    "start_time": "2021-11-17T16:08:37.411Z"
   },
   {
    "duration": 825,
    "start_time": "2021-11-17T16:08:37.418Z"
   },
   {
    "duration": 21,
    "start_time": "2021-11-17T16:08:38.245Z"
   },
   {
    "duration": 14,
    "start_time": "2021-11-17T16:08:38.267Z"
   },
   {
    "duration": 557,
    "start_time": "2021-11-17T16:08:38.283Z"
   },
   {
    "duration": 733,
    "start_time": "2021-11-17T16:08:38.842Z"
   },
   {
    "duration": 326,
    "start_time": "2021-11-17T16:08:39.577Z"
   },
   {
    "duration": 535,
    "start_time": "2021-11-17T16:08:39.904Z"
   },
   {
    "duration": 365,
    "start_time": "2021-11-17T16:08:40.440Z"
   },
   {
    "duration": 10,
    "start_time": "2021-11-17T16:08:40.806Z"
   },
   {
    "duration": 10,
    "start_time": "2021-11-17T16:08:40.818Z"
   },
   {
    "duration": 5,
    "start_time": "2021-11-17T16:08:40.830Z"
   },
   {
    "duration": 33,
    "start_time": "2021-11-17T16:08:40.837Z"
   },
   {
    "duration": 40,
    "start_time": "2021-11-17T16:08:40.872Z"
   },
   {
    "duration": 28,
    "start_time": "2021-11-17T16:08:40.914Z"
   },
   {
    "duration": 45,
    "start_time": "2021-11-17T16:08:40.944Z"
   },
   {
    "duration": 13,
    "start_time": "2021-11-17T16:08:40.990Z"
   },
   {
    "duration": 13,
    "start_time": "2021-11-17T16:08:41.005Z"
   },
   {
    "duration": 12,
    "start_time": "2021-11-17T16:08:41.019Z"
   },
   {
    "duration": 7,
    "start_time": "2021-11-17T16:08:41.064Z"
   },
   {
    "duration": 13,
    "start_time": "2021-11-17T16:14:47.489Z"
   },
   {
    "duration": 14,
    "start_time": "2021-11-17T18:14:26.863Z"
   },
   {
    "duration": 6787,
    "start_time": "2021-11-17T18:14:57.877Z"
   },
   {
    "duration": 1165,
    "start_time": "2021-11-17T18:15:18.885Z"
   },
   {
    "duration": 42,
    "start_time": "2021-11-17T18:15:20.052Z"
   },
   {
    "duration": 10,
    "start_time": "2021-11-17T18:15:20.096Z"
   },
   {
    "duration": 15,
    "start_time": "2021-11-17T18:15:20.108Z"
   },
   {
    "duration": 21,
    "start_time": "2021-11-17T18:15:20.124Z"
   },
   {
    "duration": 884,
    "start_time": "2021-11-17T18:15:20.164Z"
   },
   {
    "duration": 5,
    "start_time": "2021-11-17T18:15:21.050Z"
   },
   {
    "duration": 10,
    "start_time": "2021-11-17T18:15:21.062Z"
   },
   {
    "duration": 5,
    "start_time": "2021-11-17T18:15:21.074Z"
   },
   {
    "duration": 17,
    "start_time": "2021-11-17T18:15:21.081Z"
   },
   {
    "duration": 5,
    "start_time": "2021-11-17T18:15:21.100Z"
   },
   {
    "duration": 15,
    "start_time": "2021-11-17T18:15:21.107Z"
   },
   {
    "duration": 5,
    "start_time": "2021-11-17T18:15:21.124Z"
   },
   {
    "duration": 33,
    "start_time": "2021-11-17T18:15:21.131Z"
   },
   {
    "duration": 5,
    "start_time": "2021-11-17T18:15:21.165Z"
   },
   {
    "duration": 17,
    "start_time": "2021-11-17T18:15:21.171Z"
   },
   {
    "duration": 5,
    "start_time": "2021-11-17T18:15:21.190Z"
   },
   {
    "duration": 18,
    "start_time": "2021-11-17T18:15:21.197Z"
   },
   {
    "duration": 8,
    "start_time": "2021-11-17T18:15:21.217Z"
   },
   {
    "duration": 10,
    "start_time": "2021-11-17T18:15:21.227Z"
   },
   {
    "duration": 27,
    "start_time": "2021-11-17T18:15:21.239Z"
   },
   {
    "duration": 4,
    "start_time": "2021-11-17T18:15:21.268Z"
   },
   {
    "duration": 10,
    "start_time": "2021-11-17T18:15:21.276Z"
   },
   {
    "duration": 21,
    "start_time": "2021-11-17T18:15:21.289Z"
   },
   {
    "duration": 4,
    "start_time": "2021-11-17T18:15:21.312Z"
   },
   {
    "duration": 16,
    "start_time": "2021-11-17T18:15:21.318Z"
   },
   {
    "duration": 29,
    "start_time": "2021-11-17T18:15:21.336Z"
   },
   {
    "duration": 9,
    "start_time": "2021-11-17T18:15:21.367Z"
   },
   {
    "duration": 7,
    "start_time": "2021-11-17T18:15:21.377Z"
   },
   {
    "duration": 9,
    "start_time": "2021-11-17T18:15:21.385Z"
   },
   {
    "duration": 10,
    "start_time": "2021-11-17T18:15:21.396Z"
   },
   {
    "duration": 18,
    "start_time": "2021-11-17T18:15:21.407Z"
   },
   {
    "duration": 38,
    "start_time": "2021-11-17T18:15:21.427Z"
   },
   {
    "duration": 24,
    "start_time": "2021-11-17T18:15:21.466Z"
   },
   {
    "duration": 207,
    "start_time": "2021-11-17T18:15:21.492Z"
   },
   {
    "duration": 5,
    "start_time": "2021-11-17T18:15:21.701Z"
   },
   {
    "duration": 382,
    "start_time": "2021-11-17T18:15:21.708Z"
   },
   {
    "duration": 1244,
    "start_time": "2021-11-17T18:15:22.092Z"
   },
   {
    "duration": 27,
    "start_time": "2021-11-17T18:15:23.337Z"
   },
   {
    "duration": 21,
    "start_time": "2021-11-17T18:15:23.366Z"
   },
   {
    "duration": 809,
    "start_time": "2021-11-17T18:15:23.389Z"
   },
   {
    "duration": 4,
    "start_time": "2021-11-17T18:15:24.200Z"
   },
   {
    "duration": 11,
    "start_time": "2021-11-17T18:15:24.206Z"
   },
   {
    "duration": 573,
    "start_time": "2021-11-17T18:15:24.219Z"
   },
   {
    "duration": 734,
    "start_time": "2021-11-17T18:15:24.794Z"
   },
   {
    "duration": 312,
    "start_time": "2021-11-17T18:15:25.530Z"
   },
   {
    "duration": 498,
    "start_time": "2021-11-17T18:15:25.844Z"
   },
   {
    "duration": 330,
    "start_time": "2021-11-17T18:15:26.344Z"
   },
   {
    "duration": 11,
    "start_time": "2021-11-17T18:15:26.676Z"
   },
   {
    "duration": 16,
    "start_time": "2021-11-17T18:15:26.689Z"
   },
   {
    "duration": 11,
    "start_time": "2021-11-17T18:15:26.707Z"
   },
   {
    "duration": 13,
    "start_time": "2021-11-17T18:15:26.720Z"
   },
   {
    "duration": 61,
    "start_time": "2021-11-17T18:15:26.734Z"
   },
   {
    "duration": 31,
    "start_time": "2021-11-17T18:15:26.798Z"
   },
   {
    "duration": 47,
    "start_time": "2021-11-17T18:15:26.831Z"
   },
   {
    "duration": 13,
    "start_time": "2021-11-17T18:15:26.880Z"
   },
   {
    "duration": 13,
    "start_time": "2021-11-17T18:15:26.894Z"
   },
   {
    "duration": 12,
    "start_time": "2021-11-17T18:15:26.908Z"
   },
   {
    "duration": 6686,
    "start_time": "2021-11-17T18:15:26.921Z"
   },
   {
    "duration": 76,
    "start_time": "2021-11-17T18:15:33.534Z"
   },
   {
    "duration": 8404,
    "start_time": "2021-11-17T18:16:46.308Z"
   },
   {
    "duration": 10,
    "start_time": "2021-11-17T18:18:46.071Z"
   },
   {
    "duration": 12,
    "start_time": "2021-11-17T18:19:13.176Z"
   },
   {
    "duration": 6,
    "start_time": "2021-11-17T18:20:41.190Z"
   },
   {
    "duration": 7,
    "start_time": "2021-11-17T18:20:49.228Z"
   },
   {
    "duration": 9,
    "start_time": "2021-11-17T18:20:50.678Z"
   },
   {
    "duration": 12,
    "start_time": "2021-11-17T18:21:02.320Z"
   },
   {
    "duration": 12,
    "start_time": "2021-11-17T18:21:21.704Z"
   },
   {
    "duration": 14,
    "start_time": "2021-11-17T18:24:38.912Z"
   },
   {
    "duration": 9,
    "start_time": "2021-11-17T18:24:56.583Z"
   },
   {
    "duration": 10,
    "start_time": "2021-11-17T18:25:29.920Z"
   },
   {
    "duration": 10,
    "start_time": "2021-11-17T18:34:17.580Z"
   },
   {
    "duration": 1160,
    "start_time": "2021-11-17T18:34:25.769Z"
   },
   {
    "duration": 38,
    "start_time": "2021-11-17T18:34:26.931Z"
   },
   {
    "duration": 10,
    "start_time": "2021-11-17T18:34:26.971Z"
   },
   {
    "duration": 15,
    "start_time": "2021-11-17T18:34:26.982Z"
   },
   {
    "duration": 25,
    "start_time": "2021-11-17T18:34:26.998Z"
   },
   {
    "duration": 506,
    "start_time": "2021-11-17T18:34:27.024Z"
   },
   {
    "duration": 4,
    "start_time": "2021-11-17T18:34:27.532Z"
   },
   {
    "duration": 24,
    "start_time": "2021-11-17T18:34:27.539Z"
   },
   {
    "duration": 5,
    "start_time": "2021-11-17T18:34:27.565Z"
   },
   {
    "duration": 33,
    "start_time": "2021-11-17T18:34:27.572Z"
   },
   {
    "duration": 4,
    "start_time": "2021-11-17T18:34:27.607Z"
   },
   {
    "duration": 10,
    "start_time": "2021-11-17T18:34:27.613Z"
   },
   {
    "duration": 5,
    "start_time": "2021-11-17T18:34:27.624Z"
   },
   {
    "duration": 8,
    "start_time": "2021-11-17T18:34:27.631Z"
   },
   {
    "duration": 7,
    "start_time": "2021-11-17T18:34:27.640Z"
   },
   {
    "duration": 20,
    "start_time": "2021-11-17T18:34:27.648Z"
   },
   {
    "duration": 5,
    "start_time": "2021-11-17T18:34:27.669Z"
   },
   {
    "duration": 27,
    "start_time": "2021-11-17T18:34:27.676Z"
   },
   {
    "duration": 25,
    "start_time": "2021-11-17T18:34:27.704Z"
   },
   {
    "duration": 13,
    "start_time": "2021-11-17T18:34:27.731Z"
   },
   {
    "duration": 10,
    "start_time": "2021-11-17T18:34:27.746Z"
   },
   {
    "duration": 13,
    "start_time": "2021-11-17T18:34:27.757Z"
   },
   {
    "duration": 12,
    "start_time": "2021-11-17T18:34:27.774Z"
   },
   {
    "duration": 23,
    "start_time": "2021-11-17T18:34:27.789Z"
   },
   {
    "duration": 6,
    "start_time": "2021-11-17T18:34:27.814Z"
   },
   {
    "duration": 13,
    "start_time": "2021-11-17T18:34:27.822Z"
   },
   {
    "duration": 7,
    "start_time": "2021-11-17T18:34:27.837Z"
   },
   {
    "duration": 19,
    "start_time": "2021-11-17T18:34:27.845Z"
   },
   {
    "duration": 7,
    "start_time": "2021-11-17T18:34:27.867Z"
   },
   {
    "duration": 11,
    "start_time": "2021-11-17T18:34:27.876Z"
   },
   {
    "duration": 10,
    "start_time": "2021-11-17T18:34:27.888Z"
   },
   {
    "duration": 12,
    "start_time": "2021-11-17T18:34:27.899Z"
   },
   {
    "duration": 22,
    "start_time": "2021-11-17T18:34:27.913Z"
   },
   {
    "duration": 36,
    "start_time": "2021-11-17T18:34:27.938Z"
   },
   {
    "duration": 208,
    "start_time": "2021-11-17T18:34:27.976Z"
   },
   {
    "duration": 6,
    "start_time": "2021-11-17T18:34:28.186Z"
   },
   {
    "duration": 343,
    "start_time": "2021-11-17T18:34:28.194Z"
   },
   {
    "duration": 1169,
    "start_time": "2021-11-17T18:34:28.539Z"
   },
   {
    "duration": 21,
    "start_time": "2021-11-17T18:34:29.711Z"
   },
   {
    "duration": 32,
    "start_time": "2021-11-17T18:34:29.734Z"
   },
   {
    "duration": 804,
    "start_time": "2021-11-17T18:34:29.768Z"
   },
   {
    "duration": 5,
    "start_time": "2021-11-17T18:34:30.574Z"
   },
   {
    "duration": 36,
    "start_time": "2021-11-17T18:34:30.581Z"
   },
   {
    "duration": 544,
    "start_time": "2021-11-17T18:34:30.619Z"
   },
   {
    "duration": 722,
    "start_time": "2021-11-17T18:34:31.165Z"
   },
   {
    "duration": 311,
    "start_time": "2021-11-17T18:34:31.889Z"
   },
   {
    "duration": 513,
    "start_time": "2021-11-17T18:34:32.201Z"
   },
   {
    "duration": 310,
    "start_time": "2021-11-17T18:34:32.716Z"
   },
   {
    "duration": 9,
    "start_time": "2021-11-17T18:34:33.028Z"
   },
   {
    "duration": 25,
    "start_time": "2021-11-17T18:34:33.039Z"
   },
   {
    "duration": 6,
    "start_time": "2021-11-17T18:34:33.065Z"
   },
   {
    "duration": 5,
    "start_time": "2021-11-17T18:34:33.073Z"
   },
   {
    "duration": 40,
    "start_time": "2021-11-17T18:34:33.080Z"
   },
   {
    "duration": 62,
    "start_time": "2021-11-17T18:34:33.122Z"
   },
   {
    "duration": 26,
    "start_time": "2021-11-17T18:34:33.186Z"
   },
   {
    "duration": 13,
    "start_time": "2021-11-17T18:34:33.214Z"
   },
   {
    "duration": 35,
    "start_time": "2021-11-17T18:34:33.228Z"
   },
   {
    "duration": 14,
    "start_time": "2021-11-17T18:34:33.265Z"
   },
   {
    "duration": 11,
    "start_time": "2021-11-17T18:34:33.280Z"
   },
   {
    "duration": 10,
    "start_time": "2021-11-17T18:34:33.293Z"
   },
   {
    "duration": 355,
    "start_time": "2021-11-17T18:35:24.687Z"
   },
   {
    "duration": 9,
    "start_time": "2021-11-17T18:35:40.351Z"
   },
   {
    "duration": 10,
    "start_time": "2021-11-17T18:36:11.335Z"
   },
   {
    "duration": 1583,
    "start_time": "2021-11-17T18:46:28.546Z"
   },
   {
    "duration": 52,
    "start_time": "2021-11-17T18:46:30.132Z"
   },
   {
    "duration": 16,
    "start_time": "2021-11-17T18:46:30.187Z"
   },
   {
    "duration": 20,
    "start_time": "2021-11-17T18:46:30.205Z"
   },
   {
    "duration": 23,
    "start_time": "2021-11-17T18:46:30.227Z"
   },
   {
    "duration": 543,
    "start_time": "2021-11-17T18:46:30.252Z"
   },
   {
    "duration": 6,
    "start_time": "2021-11-17T18:46:30.797Z"
   },
   {
    "duration": 24,
    "start_time": "2021-11-17T18:46:30.805Z"
   },
   {
    "duration": 16,
    "start_time": "2021-11-17T18:46:30.833Z"
   },
   {
    "duration": 26,
    "start_time": "2021-11-17T18:46:30.852Z"
   },
   {
    "duration": 6,
    "start_time": "2021-11-17T18:46:30.881Z"
   },
   {
    "duration": 26,
    "start_time": "2021-11-17T18:46:30.889Z"
   },
   {
    "duration": 9,
    "start_time": "2021-11-17T18:46:30.917Z"
   },
   {
    "duration": 24,
    "start_time": "2021-11-17T18:46:30.929Z"
   },
   {
    "duration": 13,
    "start_time": "2021-11-17T18:46:30.955Z"
   },
   {
    "duration": 29,
    "start_time": "2021-11-17T18:46:30.970Z"
   },
   {
    "duration": 6,
    "start_time": "2021-11-17T18:46:31.001Z"
   },
   {
    "duration": 16,
    "start_time": "2021-11-17T18:46:31.008Z"
   },
   {
    "duration": 11,
    "start_time": "2021-11-17T18:46:31.026Z"
   },
   {
    "duration": 8,
    "start_time": "2021-11-17T18:46:31.039Z"
   },
   {
    "duration": 11,
    "start_time": "2021-11-17T18:46:31.049Z"
   },
   {
    "duration": 5,
    "start_time": "2021-11-17T18:46:31.063Z"
   },
   {
    "duration": 10,
    "start_time": "2021-11-17T18:46:31.070Z"
   },
   {
    "duration": 23,
    "start_time": "2021-11-17T18:46:31.082Z"
   },
   {
    "duration": 9,
    "start_time": "2021-11-17T18:46:31.108Z"
   },
   {
    "duration": 14,
    "start_time": "2021-11-17T18:46:31.119Z"
   },
   {
    "duration": 14,
    "start_time": "2021-11-17T18:46:31.137Z"
   },
   {
    "duration": 14,
    "start_time": "2021-11-17T18:46:31.164Z"
   },
   {
    "duration": 8,
    "start_time": "2021-11-17T18:46:31.180Z"
   },
   {
    "duration": 14,
    "start_time": "2021-11-17T18:46:31.189Z"
   },
   {
    "duration": 6,
    "start_time": "2021-11-17T18:46:31.205Z"
   },
   {
    "duration": 16,
    "start_time": "2021-11-17T18:46:31.213Z"
   },
   {
    "duration": 32,
    "start_time": "2021-11-17T18:46:31.231Z"
   },
   {
    "duration": 27,
    "start_time": "2021-11-17T18:46:31.265Z"
   },
   {
    "duration": 210,
    "start_time": "2021-11-17T18:46:31.294Z"
   },
   {
    "duration": 5,
    "start_time": "2021-11-17T18:46:31.507Z"
   },
   {
    "duration": 365,
    "start_time": "2021-11-17T18:46:31.515Z"
   },
   {
    "duration": 1224,
    "start_time": "2021-11-17T18:46:31.883Z"
   },
   {
    "duration": 25,
    "start_time": "2021-11-17T18:46:33.109Z"
   },
   {
    "duration": 7,
    "start_time": "2021-11-17T18:46:33.136Z"
   },
   {
    "duration": 806,
    "start_time": "2021-11-17T18:46:33.164Z"
   },
   {
    "duration": 5,
    "start_time": "2021-11-17T18:46:33.972Z"
   },
   {
    "duration": 9,
    "start_time": "2021-11-17T18:46:33.979Z"
   },
   {
    "duration": 549,
    "start_time": "2021-11-17T18:46:33.990Z"
   },
   {
    "duration": 715,
    "start_time": "2021-11-17T18:46:34.541Z"
   },
   {
    "duration": 318,
    "start_time": "2021-11-17T18:46:35.258Z"
   },
   {
    "duration": 502,
    "start_time": "2021-11-17T18:46:35.578Z"
   },
   {
    "duration": 338,
    "start_time": "2021-11-17T18:46:36.082Z"
   },
   {
    "duration": 11,
    "start_time": "2021-11-17T18:46:36.422Z"
   },
   {
    "duration": 10,
    "start_time": "2021-11-17T18:46:36.434Z"
   },
   {
    "duration": 21,
    "start_time": "2021-11-17T18:46:36.446Z"
   },
   {
    "duration": 8,
    "start_time": "2021-11-17T18:46:36.469Z"
   },
   {
    "duration": 41,
    "start_time": "2021-11-17T18:46:36.479Z"
   },
   {
    "duration": 62,
    "start_time": "2021-11-17T18:46:36.522Z"
   },
   {
    "duration": 28,
    "start_time": "2021-11-17T18:46:36.586Z"
   },
   {
    "duration": 13,
    "start_time": "2021-11-17T18:46:36.615Z"
   },
   {
    "duration": 34,
    "start_time": "2021-11-17T18:46:36.630Z"
   },
   {
    "duration": 13,
    "start_time": "2021-11-17T18:46:36.666Z"
   },
   {
    "duration": 10,
    "start_time": "2021-11-17T18:46:36.681Z"
   },
   {
    "duration": 10,
    "start_time": "2021-11-17T18:46:36.693Z"
   },
   {
    "duration": 1493,
    "start_time": "2021-11-18T09:40:14.688Z"
   },
   {
    "duration": 47,
    "start_time": "2021-11-18T09:40:16.183Z"
   },
   {
    "duration": 14,
    "start_time": "2021-11-18T09:40:16.232Z"
   },
   {
    "duration": 22,
    "start_time": "2021-11-18T09:40:16.249Z"
   },
   {
    "duration": 48,
    "start_time": "2021-11-18T09:40:16.274Z"
   },
   {
    "duration": 54594,
    "start_time": "2021-11-18T09:40:16.325Z"
   },
   {
    "duration": 8,
    "start_time": "2021-11-18T09:41:10.922Z"
   },
   {
    "duration": 73,
    "start_time": "2021-11-18T09:41:10.937Z"
   },
   {
    "duration": 6,
    "start_time": "2021-11-18T09:41:11.014Z"
   },
   {
    "duration": 16,
    "start_time": "2021-11-18T09:41:11.023Z"
   },
   {
    "duration": 7,
    "start_time": "2021-11-18T09:41:11.042Z"
   },
   {
    "duration": 12,
    "start_time": "2021-11-18T09:41:11.051Z"
   },
   {
    "duration": 35,
    "start_time": "2021-11-18T09:41:11.065Z"
   },
   {
    "duration": 14,
    "start_time": "2021-11-18T09:41:11.103Z"
   },
   {
    "duration": 9,
    "start_time": "2021-11-18T09:41:11.119Z"
   },
   {
    "duration": 21,
    "start_time": "2021-11-18T09:41:11.131Z"
   },
   {
    "duration": 7,
    "start_time": "2021-11-18T09:41:11.155Z"
   },
   {
    "duration": 30,
    "start_time": "2021-11-18T09:41:11.165Z"
   },
   {
    "duration": 18,
    "start_time": "2021-11-18T09:41:11.197Z"
   },
   {
    "duration": 10,
    "start_time": "2021-11-18T09:41:11.218Z"
   },
   {
    "duration": 10,
    "start_time": "2021-11-18T09:41:11.231Z"
   },
   {
    "duration": 19,
    "start_time": "2021-11-18T09:41:11.243Z"
   },
   {
    "duration": 13,
    "start_time": "2021-11-18T09:41:11.300Z"
   },
   {
    "duration": 33,
    "start_time": "2021-11-18T09:41:11.317Z"
   },
   {
    "duration": 6,
    "start_time": "2021-11-18T09:41:11.400Z"
   },
   {
    "duration": 15,
    "start_time": "2021-11-18T09:41:11.408Z"
   },
   {
    "duration": 11,
    "start_time": "2021-11-18T09:41:11.426Z"
   },
   {
    "duration": 75,
    "start_time": "2021-11-18T09:41:11.440Z"
   },
   {
    "duration": 10,
    "start_time": "2021-11-18T09:41:11.519Z"
   },
   {
    "duration": 69,
    "start_time": "2021-11-18T09:41:11.532Z"
   },
   {
    "duration": 9,
    "start_time": "2021-11-18T09:41:11.604Z"
   },
   {
    "duration": 25,
    "start_time": "2021-11-18T09:41:11.616Z"
   },
   {
    "duration": 43,
    "start_time": "2021-11-18T09:41:11.643Z"
   },
   {
    "duration": 33,
    "start_time": "2021-11-18T09:41:11.700Z"
   },
   {
    "duration": 331,
    "start_time": "2021-11-18T09:41:11.736Z"
   },
   {
    "duration": 7,
    "start_time": "2021-11-18T09:41:12.069Z"
   },
   {
    "duration": 584,
    "start_time": "2021-11-18T09:41:12.078Z"
   },
   {
    "duration": 1954,
    "start_time": "2021-11-18T09:41:12.665Z"
   },
   {
    "duration": 35,
    "start_time": "2021-11-18T09:41:14.622Z"
   },
   {
    "duration": 7,
    "start_time": "2021-11-18T09:41:14.660Z"
   },
   {
    "duration": 1380,
    "start_time": "2021-11-18T09:41:14.670Z"
   },
   {
    "duration": 6,
    "start_time": "2021-11-18T09:41:16.053Z"
   },
   {
    "duration": 40,
    "start_time": "2021-11-18T09:41:16.062Z"
   },
   {
    "duration": 891,
    "start_time": "2021-11-18T09:41:16.105Z"
   },
   {
    "duration": 1237,
    "start_time": "2021-11-18T09:41:17.001Z"
   },
   {
    "duration": 542,
    "start_time": "2021-11-18T09:41:18.241Z"
   },
   {
    "duration": 609,
    "start_time": "2021-11-18T09:41:18.786Z"
   },
   {
    "duration": 443,
    "start_time": "2021-11-18T09:41:19.398Z"
   },
   {
    "duration": 15,
    "start_time": "2021-11-18T09:41:19.843Z"
   },
   {
    "duration": 19,
    "start_time": "2021-11-18T09:41:19.860Z"
   },
   {
    "duration": 26,
    "start_time": "2021-11-18T09:41:19.881Z"
   },
   {
    "duration": 13,
    "start_time": "2021-11-18T09:41:19.909Z"
   },
   {
    "duration": 87,
    "start_time": "2021-11-18T09:41:19.925Z"
   },
   {
    "duration": 43,
    "start_time": "2021-11-18T09:41:20.015Z"
   },
   {
    "duration": 74,
    "start_time": "2021-11-18T09:41:20.060Z"
   },
   {
    "duration": 21,
    "start_time": "2021-11-18T09:41:20.137Z"
   },
   {
    "duration": 48,
    "start_time": "2021-11-18T09:41:20.160Z"
   },
   {
    "duration": 19,
    "start_time": "2021-11-18T09:41:20.211Z"
   },
   {
    "duration": 17,
    "start_time": "2021-11-18T09:41:20.232Z"
   },
   {
    "duration": 13,
    "start_time": "2021-11-18T09:41:20.251Z"
   },
   {
    "duration": 1185,
    "start_time": "2021-11-18T18:08:43.555Z"
   },
   {
    "duration": 38,
    "start_time": "2021-11-18T18:08:45.461Z"
   },
   {
    "duration": 11,
    "start_time": "2021-11-18T18:08:47.029Z"
   },
   {
    "duration": 16,
    "start_time": "2021-11-18T18:08:47.677Z"
   },
   {
    "duration": 18,
    "start_time": "2021-11-18T18:08:48.331Z"
   },
   {
    "duration": 501,
    "start_time": "2021-11-18T18:08:49.071Z"
   },
   {
    "duration": 70,
    "start_time": "2021-11-18T18:08:52.929Z"
   },
   {
    "duration": 12,
    "start_time": "2021-11-18T18:08:56.223Z"
   },
   {
    "duration": 6,
    "start_time": "2021-11-18T18:09:30.461Z"
   },
   {
    "duration": 11,
    "start_time": "2021-11-18T18:09:32.430Z"
   },
   {
    "duration": 5,
    "start_time": "2021-11-18T18:09:35.478Z"
   },
   {
    "duration": 11,
    "start_time": "2021-11-18T18:09:35.998Z"
   },
   {
    "duration": 7,
    "start_time": "2021-11-18T18:09:36.776Z"
   },
   {
    "duration": 8,
    "start_time": "2021-11-18T18:09:41.729Z"
   },
   {
    "duration": 6,
    "start_time": "2021-11-18T18:09:42.468Z"
   },
   {
    "duration": 6,
    "start_time": "2021-11-18T18:09:45.614Z"
   },
   {
    "duration": 6,
    "start_time": "2021-11-18T18:09:45.941Z"
   },
   {
    "duration": 12,
    "start_time": "2021-11-18T18:09:46.783Z"
   },
   {
    "duration": 6,
    "start_time": "2021-11-18T18:09:51.909Z"
   },
   {
    "duration": 13,
    "start_time": "2021-11-18T18:09:52.702Z"
   },
   {
    "duration": 10,
    "start_time": "2021-11-18T18:09:53.138Z"
   },
   {
    "duration": 5,
    "start_time": "2021-11-18T18:09:53.640Z"
   },
   {
    "duration": 6,
    "start_time": "2021-11-18T18:09:54.140Z"
   },
   {
    "duration": 5,
    "start_time": "2021-11-18T18:09:54.625Z"
   },
   {
    "duration": 7,
    "start_time": "2021-11-18T18:09:55.023Z"
   },
   {
    "duration": 19,
    "start_time": "2021-11-18T18:09:55.450Z"
   },
   {
    "duration": 4,
    "start_time": "2021-11-18T18:09:56.090Z"
   },
   {
    "duration": 9,
    "start_time": "2021-11-18T18:09:56.592Z"
   },
   {
    "duration": 5,
    "start_time": "2021-11-18T18:09:57.082Z"
   },
   {
    "duration": 10,
    "start_time": "2021-11-18T18:09:57.579Z"
   },
   {
    "duration": 5,
    "start_time": "2021-11-18T18:09:58.197Z"
   },
   {
    "duration": 6,
    "start_time": "2021-11-18T18:09:58.796Z"
   },
   {
    "duration": 6,
    "start_time": "2021-11-18T18:10:00.998Z"
   },
   {
    "duration": 9,
    "start_time": "2021-11-18T18:10:01.825Z"
   },
   {
    "duration": 15,
    "start_time": "2021-11-18T18:12:23.934Z"
   },
   {
    "duration": 29,
    "start_time": "2021-11-18T18:12:40.348Z"
   },
   {
    "duration": 205,
    "start_time": "2021-11-18T18:12:41.016Z"
   },
   {
    "duration": 6,
    "start_time": "2021-11-18T18:12:42.713Z"
   },
   {
    "duration": 361,
    "start_time": "2021-11-18T18:12:43.249Z"
   },
   {
    "duration": 373,
    "start_time": "2021-11-18T18:12:45.907Z"
   },
   {
    "duration": 271,
    "start_time": "2021-11-18T18:13:15.029Z"
   },
   {
    "duration": 1225,
    "start_time": "2021-11-18T18:13:23.623Z"
   },
   {
    "duration": 46,
    "start_time": "2021-11-18T18:13:24.850Z"
   },
   {
    "duration": 10,
    "start_time": "2021-11-18T18:13:24.898Z"
   },
   {
    "duration": 15,
    "start_time": "2021-11-18T18:13:24.910Z"
   },
   {
    "duration": 17,
    "start_time": "2021-11-18T18:13:24.927Z"
   },
   {
    "duration": 679,
    "start_time": "2021-11-18T18:13:24.964Z"
   },
   {
    "duration": 5,
    "start_time": "2021-11-18T18:13:25.645Z"
   },
   {
    "duration": 26,
    "start_time": "2021-11-18T18:13:25.653Z"
   },
   {
    "duration": 10,
    "start_time": "2021-11-18T18:13:25.682Z"
   },
   {
    "duration": 20,
    "start_time": "2021-11-18T18:13:25.694Z"
   },
   {
    "duration": 6,
    "start_time": "2021-11-18T18:13:25.716Z"
   },
   {
    "duration": 9,
    "start_time": "2021-11-18T18:13:25.723Z"
   },
   {
    "duration": 8,
    "start_time": "2021-11-18T18:13:25.733Z"
   },
   {
    "duration": 27,
    "start_time": "2021-11-18T18:13:25.743Z"
   },
   {
    "duration": 6,
    "start_time": "2021-11-18T18:13:25.772Z"
   },
   {
    "duration": 15,
    "start_time": "2021-11-18T18:13:25.780Z"
   },
   {
    "duration": 6,
    "start_time": "2021-11-18T18:13:25.796Z"
   },
   {
    "duration": 17,
    "start_time": "2021-11-18T18:13:25.804Z"
   },
   {
    "duration": 13,
    "start_time": "2021-11-18T18:13:25.823Z"
   },
   {
    "duration": 32,
    "start_time": "2021-11-18T18:13:25.838Z"
   },
   {
    "duration": 7,
    "start_time": "2021-11-18T18:13:25.879Z"
   },
   {
    "duration": 11,
    "start_time": "2021-11-18T18:13:25.888Z"
   },
   {
    "duration": 14,
    "start_time": "2021-11-18T18:13:25.902Z"
   },
   {
    "duration": 40,
    "start_time": "2021-11-18T18:13:25.919Z"
   },
   {
    "duration": 5,
    "start_time": "2021-11-18T18:13:25.960Z"
   },
   {
    "duration": 17,
    "start_time": "2021-11-18T18:13:25.968Z"
   },
   {
    "duration": 10,
    "start_time": "2021-11-18T18:13:25.987Z"
   },
   {
    "duration": 13,
    "start_time": "2021-11-18T18:13:25.998Z"
   },
   {
    "duration": 6,
    "start_time": "2021-11-18T18:13:26.013Z"
   },
   {
    "duration": 14,
    "start_time": "2021-11-18T18:13:26.021Z"
   },
   {
    "duration": 8,
    "start_time": "2021-11-18T18:13:26.037Z"
   },
   {
    "duration": 17,
    "start_time": "2021-11-18T18:13:26.046Z"
   },
   {
    "duration": 33,
    "start_time": "2021-11-18T18:13:26.065Z"
   },
   {
    "duration": 22,
    "start_time": "2021-11-18T18:13:26.100Z"
   },
   {
    "duration": 214,
    "start_time": "2021-11-18T18:13:26.124Z"
   },
   {
    "duration": 5,
    "start_time": "2021-11-18T18:13:26.340Z"
   },
   {
    "duration": 376,
    "start_time": "2021-11-18T18:13:26.346Z"
   },
   {
    "duration": 1240,
    "start_time": "2021-11-18T18:13:26.723Z"
   },
   {
    "duration": 22,
    "start_time": "2021-11-18T18:13:27.964Z"
   },
   {
    "duration": 7,
    "start_time": "2021-11-18T18:13:27.987Z"
   },
   {
    "duration": 852,
    "start_time": "2021-11-18T18:13:27.995Z"
   },
   {
    "duration": 25,
    "start_time": "2021-11-18T18:13:28.848Z"
   },
   {
    "duration": 23,
    "start_time": "2021-11-18T18:13:28.875Z"
   },
   {
    "duration": 556,
    "start_time": "2021-11-18T18:13:28.900Z"
   },
   {
    "duration": 781,
    "start_time": "2021-11-18T18:13:29.458Z"
   },
   {
    "duration": 335,
    "start_time": "2021-11-18T18:13:30.241Z"
   },
   {
    "duration": 465,
    "start_time": "2021-11-18T18:13:30.578Z"
   },
   {
    "duration": 363,
    "start_time": "2021-11-18T18:13:31.045Z"
   },
   {
    "duration": 11,
    "start_time": "2021-11-18T18:13:31.410Z"
   },
   {
    "duration": 47,
    "start_time": "2021-11-18T18:13:31.423Z"
   },
   {
    "duration": 9,
    "start_time": "2021-11-18T18:13:31.473Z"
   },
   {
    "duration": 8,
    "start_time": "2021-11-18T18:13:31.484Z"
   },
   {
    "duration": 42,
    "start_time": "2021-11-18T18:13:31.494Z"
   },
   {
    "duration": 60,
    "start_time": "2021-11-18T18:13:31.538Z"
   },
   {
    "duration": 28,
    "start_time": "2021-11-18T18:13:31.600Z"
   },
   {
    "duration": 47,
    "start_time": "2021-11-18T18:13:31.630Z"
   },
   {
    "duration": 16,
    "start_time": "2021-11-18T18:13:31.679Z"
   },
   {
    "duration": 14,
    "start_time": "2021-11-18T18:13:31.697Z"
   },
   {
    "duration": 12,
    "start_time": "2021-11-18T18:13:31.712Z"
   },
   {
    "duration": 56,
    "start_time": "2021-11-18T18:13:31.726Z"
   },
   {
    "duration": 796,
    "start_time": "2021-11-18T18:17:06.115Z"
   },
   {
    "duration": 783,
    "start_time": "2021-11-18T18:17:16.760Z"
   },
   {
    "duration": 3,
    "start_time": "2021-11-18T18:20:05.830Z"
   },
   {
    "duration": 35,
    "start_time": "2021-11-18T18:20:06.023Z"
   },
   {
    "duration": 10,
    "start_time": "2021-11-18T18:20:06.408Z"
   },
   {
    "duration": 12,
    "start_time": "2021-11-18T18:20:07.013Z"
   },
   {
    "duration": 22,
    "start_time": "2021-11-18T18:20:07.365Z"
   },
   {
    "duration": 31,
    "start_time": "2021-11-18T18:20:07.606Z"
   },
   {
    "duration": 6,
    "start_time": "2021-11-18T18:20:09.361Z"
   },
   {
    "duration": 12,
    "start_time": "2021-11-18T18:20:09.998Z"
   },
   {
    "duration": 5,
    "start_time": "2021-11-18T18:20:11.078Z"
   },
   {
    "duration": 10,
    "start_time": "2021-11-18T18:20:11.448Z"
   },
   {
    "duration": 5,
    "start_time": "2021-11-18T18:20:11.830Z"
   },
   {
    "duration": 8,
    "start_time": "2021-11-18T18:20:12.108Z"
   },
   {
    "duration": 4,
    "start_time": "2021-11-18T18:20:12.495Z"
   },
   {
    "duration": 6,
    "start_time": "2021-11-18T18:20:13.234Z"
   },
   {
    "duration": 5,
    "start_time": "2021-11-18T18:20:13.635Z"
   },
   {
    "duration": 11,
    "start_time": "2021-11-18T18:20:14.296Z"
   },
   {
    "duration": 6,
    "start_time": "2021-11-18T18:20:14.983Z"
   },
   {
    "duration": 14,
    "start_time": "2021-11-18T18:20:15.237Z"
   },
   {
    "duration": 9,
    "start_time": "2021-11-18T18:20:15.421Z"
   },
   {
    "duration": 9,
    "start_time": "2021-11-18T18:20:15.572Z"
   },
   {
    "duration": 6,
    "start_time": "2021-11-18T18:20:15.736Z"
   },
   {
    "duration": 6,
    "start_time": "2021-11-18T18:20:15.917Z"
   },
   {
    "duration": 9,
    "start_time": "2021-11-18T18:20:16.086Z"
   },
   {
    "duration": 20,
    "start_time": "2021-11-18T18:20:16.269Z"
   },
   {
    "duration": 5,
    "start_time": "2021-11-18T18:20:16.472Z"
   },
   {
    "duration": 8,
    "start_time": "2021-11-18T18:20:16.651Z"
   },
   {
    "duration": 8,
    "start_time": "2021-11-18T18:20:17.062Z"
   },
   {
    "duration": 14,
    "start_time": "2021-11-18T18:20:17.269Z"
   },
   {
    "duration": 5,
    "start_time": "2021-11-18T18:20:17.450Z"
   },
   {
    "duration": 9,
    "start_time": "2021-11-18T18:20:17.672Z"
   },
   {
    "duration": 5,
    "start_time": "2021-11-18T18:20:17.856Z"
   },
   {
    "duration": 7,
    "start_time": "2021-11-18T18:20:18.103Z"
   },
   {
    "duration": 21,
    "start_time": "2021-11-18T18:20:20.365Z"
   },
   {
    "duration": 20,
    "start_time": "2021-11-18T18:20:22.582Z"
   },
   {
    "duration": 189,
    "start_time": "2021-11-18T18:20:23.017Z"
   },
   {
    "duration": 6,
    "start_time": "2021-11-18T18:20:23.833Z"
   },
   {
    "duration": 349,
    "start_time": "2021-11-18T18:20:24.120Z"
   },
   {
    "duration": 1304,
    "start_time": "2021-11-18T18:20:24.475Z"
   },
   {
    "duration": 22,
    "start_time": "2021-11-18T18:20:26.413Z"
   },
   {
    "duration": 6,
    "start_time": "2021-11-18T18:20:26.880Z"
   },
   {
    "duration": 856,
    "start_time": "2021-11-18T18:20:27.314Z"
   },
   {
    "duration": 12,
    "start_time": "2021-11-18T18:20:28.172Z"
   },
   {
    "duration": 12,
    "start_time": "2021-11-18T18:20:28.473Z"
   },
   {
    "duration": 564,
    "start_time": "2021-11-18T18:20:28.871Z"
   },
   {
    "duration": 736,
    "start_time": "2021-11-18T18:20:32.586Z"
   },
   {
    "duration": 946,
    "start_time": "2021-11-18T18:20:33.763Z"
   },
   {
    "duration": 328,
    "start_time": "2021-11-18T18:20:34.711Z"
   },
   {
    "duration": 340,
    "start_time": "2021-11-18T18:23:13.165Z"
   },
   {
    "duration": 360,
    "start_time": "2021-11-18T18:23:19.264Z"
   },
   {
    "duration": 320,
    "start_time": "2021-11-18T18:23:21.207Z"
   },
   {
    "duration": 10,
    "start_time": "2021-11-18T18:23:22.618Z"
   },
   {
    "duration": 10,
    "start_time": "2021-11-18T18:23:23.293Z"
   },
   {
    "duration": 6,
    "start_time": "2021-11-18T18:23:23.831Z"
   },
   {
    "duration": 9,
    "start_time": "2021-11-18T18:23:24.469Z"
   },
   {
    "duration": 38,
    "start_time": "2021-11-18T18:23:54.998Z"
   },
   {
    "duration": 1119,
    "start_time": "2021-11-18T18:24:19.916Z"
   },
   {
    "duration": 43,
    "start_time": "2021-11-18T18:24:21.037Z"
   },
   {
    "duration": 10,
    "start_time": "2021-11-18T18:24:21.082Z"
   },
   {
    "duration": 41,
    "start_time": "2021-11-18T18:24:21.094Z"
   },
   {
    "duration": 27,
    "start_time": "2021-11-18T18:24:21.137Z"
   },
   {
    "duration": 546,
    "start_time": "2021-11-18T18:24:21.167Z"
   },
   {
    "duration": 5,
    "start_time": "2021-11-18T18:24:21.715Z"
   },
   {
    "duration": 35,
    "start_time": "2021-11-18T18:24:21.722Z"
   },
   {
    "duration": 33,
    "start_time": "2021-11-18T18:24:21.759Z"
   },
   {
    "duration": 28,
    "start_time": "2021-11-18T18:24:21.794Z"
   },
   {
    "duration": 26,
    "start_time": "2021-11-18T18:24:21.824Z"
   },
   {
    "duration": 84,
    "start_time": "2021-11-18T18:24:21.852Z"
   },
   {
    "duration": 17,
    "start_time": "2021-11-18T18:24:21.938Z"
   },
   {
    "duration": 34,
    "start_time": "2021-11-18T18:24:21.957Z"
   },
   {
    "duration": 26,
    "start_time": "2021-11-18T18:24:21.993Z"
   },
   {
    "duration": 26,
    "start_time": "2021-11-18T18:24:22.021Z"
   },
   {
    "duration": 19,
    "start_time": "2021-11-18T18:24:22.048Z"
   },
   {
    "duration": 47,
    "start_time": "2021-11-18T18:24:22.069Z"
   },
   {
    "duration": 11,
    "start_time": "2021-11-18T18:24:22.118Z"
   },
   {
    "duration": 54,
    "start_time": "2021-11-18T18:24:22.131Z"
   },
   {
    "duration": 19,
    "start_time": "2021-11-18T18:24:22.187Z"
   },
   {
    "duration": 25,
    "start_time": "2021-11-18T18:24:22.208Z"
   },
   {
    "duration": 51,
    "start_time": "2021-11-18T18:24:22.237Z"
   },
   {
    "duration": 29,
    "start_time": "2021-11-18T18:24:22.290Z"
   },
   {
    "duration": 23,
    "start_time": "2021-11-18T18:24:22.320Z"
   },
   {
    "duration": 44,
    "start_time": "2021-11-18T18:24:22.345Z"
   },
   {
    "duration": 16,
    "start_time": "2021-11-18T18:24:22.391Z"
   },
   {
    "duration": 37,
    "start_time": "2021-11-18T18:24:22.409Z"
   },
   {
    "duration": 67,
    "start_time": "2021-11-18T18:24:22.448Z"
   },
   {
    "duration": 29,
    "start_time": "2021-11-18T18:24:22.516Z"
   },
   {
    "duration": 29,
    "start_time": "2021-11-18T18:24:22.547Z"
   },
   {
    "duration": 32,
    "start_time": "2021-11-18T18:24:22.578Z"
   },
   {
    "duration": 25,
    "start_time": "2021-11-18T18:24:22.612Z"
   },
   {
    "duration": 52,
    "start_time": "2021-11-18T18:24:22.639Z"
   },
   {
    "duration": 182,
    "start_time": "2021-11-18T18:24:22.693Z"
   },
   {
    "duration": 6,
    "start_time": "2021-11-18T18:24:22.877Z"
   },
   {
    "duration": 371,
    "start_time": "2021-11-18T18:24:22.884Z"
   },
   {
    "duration": 1271,
    "start_time": "2021-11-18T18:24:23.256Z"
   },
   {
    "duration": 21,
    "start_time": "2021-11-18T18:24:24.529Z"
   },
   {
    "duration": 19,
    "start_time": "2021-11-18T18:24:24.552Z"
   },
   {
    "duration": 866,
    "start_time": "2021-11-18T18:24:24.574Z"
   },
   {
    "duration": 5,
    "start_time": "2021-11-18T18:24:25.445Z"
   },
   {
    "duration": 26,
    "start_time": "2021-11-18T18:24:25.451Z"
   },
   {
    "duration": 561,
    "start_time": "2021-11-18T18:24:25.480Z"
   },
   {
    "duration": 766,
    "start_time": "2021-11-18T18:24:26.043Z"
   },
   {
    "duration": 902,
    "start_time": "2021-11-18T18:24:26.811Z"
   },
   {
    "duration": 314,
    "start_time": "2021-11-18T18:24:27.715Z"
   },
   {
    "duration": 420,
    "start_time": "2021-11-18T18:24:28.030Z"
   },
   {
    "duration": 344,
    "start_time": "2021-11-18T18:24:28.451Z"
   },
   {
    "duration": 11,
    "start_time": "2021-11-18T18:24:28.798Z"
   },
   {
    "duration": 12,
    "start_time": "2021-11-18T18:24:28.811Z"
   },
   {
    "duration": 6,
    "start_time": "2021-11-18T18:24:28.825Z"
   },
   {
    "duration": 40,
    "start_time": "2021-11-18T18:24:28.833Z"
   },
   {
    "duration": 43,
    "start_time": "2021-11-18T18:24:28.875Z"
   },
   {
    "duration": 51,
    "start_time": "2021-11-18T18:24:28.919Z"
   },
   {
    "duration": 32,
    "start_time": "2021-11-18T18:24:28.972Z"
   },
   {
    "duration": 13,
    "start_time": "2021-11-18T18:24:29.006Z"
   },
   {
    "duration": 12,
    "start_time": "2021-11-18T18:24:29.020Z"
   },
   {
    "duration": 43,
    "start_time": "2021-11-18T18:24:29.034Z"
   },
   {
    "duration": 12,
    "start_time": "2021-11-18T18:24:29.080Z"
   },
   {
    "duration": 14,
    "start_time": "2021-11-18T18:24:29.094Z"
   },
   {
    "duration": 194,
    "start_time": "2021-11-18T18:27:48.941Z"
   },
   {
    "duration": 228,
    "start_time": "2021-11-18T18:29:01.752Z"
   },
   {
    "duration": 215,
    "start_time": "2021-11-18T18:29:57.861Z"
   },
   {
    "duration": 207,
    "start_time": "2021-11-18T18:30:08.569Z"
   },
   {
    "duration": 214,
    "start_time": "2021-11-18T18:30:46.427Z"
   },
   {
    "duration": 27,
    "start_time": "2021-11-18T18:36:21.900Z"
   },
   {
    "duration": 36,
    "start_time": "2021-11-18T18:40:51.455Z"
   },
   {
    "duration": 348,
    "start_time": "2021-11-18T18:45:47.577Z"
   },
   {
    "duration": 5,
    "start_time": "2021-11-18T18:45:54.219Z"
   },
   {
    "duration": 5,
    "start_time": "2021-11-18T18:47:41.032Z"
   },
   {
    "duration": 6,
    "start_time": "2021-11-18T18:47:44.663Z"
   },
   {
    "duration": 4,
    "start_time": "2021-11-18T18:52:12.121Z"
   },
   {
    "duration": 5,
    "start_time": "2021-11-18T18:52:14.415Z"
   },
   {
    "duration": 1227,
    "start_time": "2021-11-18T18:52:25.598Z"
   },
   {
    "duration": 41,
    "start_time": "2021-11-18T18:52:26.827Z"
   },
   {
    "duration": 16,
    "start_time": "2021-11-18T18:52:26.871Z"
   },
   {
    "duration": 24,
    "start_time": "2021-11-18T18:52:26.888Z"
   },
   {
    "duration": 27,
    "start_time": "2021-11-18T18:52:26.914Z"
   },
   {
    "duration": 550,
    "start_time": "2021-11-18T18:52:26.943Z"
   },
   {
    "duration": 6,
    "start_time": "2021-11-18T18:52:27.495Z"
   },
   {
    "duration": 13,
    "start_time": "2021-11-18T18:52:27.503Z"
   },
   {
    "duration": 5,
    "start_time": "2021-11-18T18:52:27.518Z"
   },
   {
    "duration": 11,
    "start_time": "2021-11-18T18:52:27.525Z"
   },
   {
    "duration": 27,
    "start_time": "2021-11-18T18:52:27.538Z"
   },
   {
    "duration": 11,
    "start_time": "2021-11-18T18:52:27.568Z"
   },
   {
    "duration": 5,
    "start_time": "2021-11-18T18:52:27.584Z"
   },
   {
    "duration": 7,
    "start_time": "2021-11-18T18:52:27.591Z"
   },
   {
    "duration": 13,
    "start_time": "2021-11-18T18:52:27.600Z"
   },
   {
    "duration": 22,
    "start_time": "2021-11-18T18:52:27.615Z"
   },
   {
    "duration": 26,
    "start_time": "2021-11-18T18:52:27.639Z"
   },
   {
    "duration": 21,
    "start_time": "2021-11-18T18:52:27.668Z"
   },
   {
    "duration": 22,
    "start_time": "2021-11-18T18:52:27.691Z"
   },
   {
    "duration": 19,
    "start_time": "2021-11-18T18:52:27.715Z"
   },
   {
    "duration": 20,
    "start_time": "2021-11-18T18:52:27.736Z"
   },
   {
    "duration": 12,
    "start_time": "2021-11-18T18:52:27.757Z"
   },
   {
    "duration": 14,
    "start_time": "2021-11-18T18:52:27.776Z"
   },
   {
    "duration": 23,
    "start_time": "2021-11-18T18:52:27.792Z"
   },
   {
    "duration": 4,
    "start_time": "2021-11-18T18:52:27.816Z"
   },
   {
    "duration": 16,
    "start_time": "2021-11-18T18:52:27.822Z"
   },
   {
    "duration": 7,
    "start_time": "2021-11-18T18:52:27.840Z"
   },
   {
    "duration": 24,
    "start_time": "2021-11-18T18:52:27.848Z"
   },
   {
    "duration": 12,
    "start_time": "2021-11-18T18:52:27.874Z"
   },
   {
    "duration": 21,
    "start_time": "2021-11-18T18:52:27.887Z"
   },
   {
    "duration": 12,
    "start_time": "2021-11-18T18:52:27.909Z"
   },
   {
    "duration": 15,
    "start_time": "2021-11-18T18:52:27.923Z"
   },
   {
    "duration": 27,
    "start_time": "2021-11-18T18:52:27.940Z"
   },
   {
    "duration": 29,
    "start_time": "2021-11-18T18:52:27.970Z"
   },
   {
    "duration": 230,
    "start_time": "2021-11-18T18:52:28.000Z"
   },
   {
    "duration": 6,
    "start_time": "2021-11-18T18:52:28.232Z"
   },
   {
    "duration": 391,
    "start_time": "2021-11-18T18:52:28.240Z"
   },
   {
    "duration": 1335,
    "start_time": "2021-11-18T18:52:28.632Z"
   },
   {
    "duration": 24,
    "start_time": "2021-11-18T18:52:29.970Z"
   },
   {
    "duration": 6,
    "start_time": "2021-11-18T18:52:29.995Z"
   },
   {
    "duration": 906,
    "start_time": "2021-11-18T18:52:30.003Z"
   },
   {
    "duration": 5,
    "start_time": "2021-11-18T18:52:30.912Z"
   },
   {
    "duration": 31,
    "start_time": "2021-11-18T18:52:30.919Z"
   },
   {
    "duration": 633,
    "start_time": "2021-11-18T18:52:30.952Z"
   },
   {
    "duration": 776,
    "start_time": "2021-11-18T18:52:31.587Z"
   },
   {
    "duration": 957,
    "start_time": "2021-11-18T18:52:32.365Z"
   },
   {
    "duration": 343,
    "start_time": "2021-11-18T18:52:33.323Z"
   },
   {
    "duration": 382,
    "start_time": "2021-11-18T18:52:33.669Z"
   },
   {
    "duration": 379,
    "start_time": "2021-11-18T18:52:34.053Z"
   },
   {
    "duration": 10,
    "start_time": "2021-11-18T18:52:34.434Z"
   },
   {
    "duration": 32,
    "start_time": "2021-11-18T18:52:34.446Z"
   },
   {
    "duration": 5,
    "start_time": "2021-11-18T18:52:34.481Z"
   },
   {
    "duration": 7,
    "start_time": "2021-11-18T18:52:34.488Z"
   },
   {
    "duration": 74,
    "start_time": "2021-11-18T18:52:34.497Z"
   },
   {
    "duration": 275,
    "start_time": "2021-11-18T18:52:34.573Z"
   },
   {
    "duration": 48,
    "start_time": "2021-11-18T18:52:34.849Z"
   },
   {
    "duration": 31,
    "start_time": "2021-11-18T18:52:34.900Z"
   },
   {
    "duration": 4,
    "start_time": "2021-11-18T18:52:34.933Z"
   },
   {
    "duration": 28,
    "start_time": "2021-11-18T18:52:34.939Z"
   },
   {
    "duration": 20,
    "start_time": "2021-11-18T18:52:34.970Z"
   },
   {
    "duration": 22,
    "start_time": "2021-11-18T18:52:34.992Z"
   },
   {
    "duration": 14,
    "start_time": "2021-11-18T18:52:35.016Z"
   },
   {
    "duration": 41,
    "start_time": "2021-11-18T18:52:35.032Z"
   },
   {
    "duration": 12,
    "start_time": "2021-11-18T18:52:35.076Z"
   },
   {
    "duration": 351,
    "start_time": "2021-11-18T18:53:11.923Z"
   },
   {
    "duration": 257,
    "start_time": "2021-11-18T18:54:48.746Z"
   },
   {
    "duration": 5,
    "start_time": "2021-11-18T18:54:57.011Z"
   },
   {
    "duration": 4,
    "start_time": "2021-11-18T18:56:00.730Z"
   },
   {
    "duration": 1208,
    "start_time": "2021-11-18T18:56:45.559Z"
   },
   {
    "duration": 39,
    "start_time": "2021-11-18T18:56:46.770Z"
   },
   {
    "duration": 10,
    "start_time": "2021-11-18T18:56:46.812Z"
   },
   {
    "duration": 24,
    "start_time": "2021-11-18T18:56:46.824Z"
   },
   {
    "duration": 36,
    "start_time": "2021-11-18T18:56:46.850Z"
   },
   {
    "duration": 533,
    "start_time": "2021-11-18T18:56:46.888Z"
   },
   {
    "duration": 5,
    "start_time": "2021-11-18T18:56:47.423Z"
   },
   {
    "duration": 35,
    "start_time": "2021-11-18T18:56:47.431Z"
   },
   {
    "duration": 11,
    "start_time": "2021-11-18T18:56:47.470Z"
   },
   {
    "duration": 26,
    "start_time": "2021-11-18T18:56:47.484Z"
   },
   {
    "duration": 9,
    "start_time": "2021-11-18T18:56:47.512Z"
   },
   {
    "duration": 18,
    "start_time": "2021-11-18T18:56:47.523Z"
   },
   {
    "duration": 17,
    "start_time": "2021-11-18T18:56:47.543Z"
   },
   {
    "duration": 21,
    "start_time": "2021-11-18T18:56:47.562Z"
   },
   {
    "duration": 30,
    "start_time": "2021-11-18T18:56:47.585Z"
   },
   {
    "duration": 31,
    "start_time": "2021-11-18T18:56:47.617Z"
   },
   {
    "duration": 29,
    "start_time": "2021-11-18T18:56:47.649Z"
   },
   {
    "duration": 34,
    "start_time": "2021-11-18T18:56:47.679Z"
   },
   {
    "duration": 24,
    "start_time": "2021-11-18T18:56:47.715Z"
   },
   {
    "duration": 18,
    "start_time": "2021-11-18T18:56:47.741Z"
   },
   {
    "duration": 22,
    "start_time": "2021-11-18T18:56:47.761Z"
   },
   {
    "duration": 25,
    "start_time": "2021-11-18T18:56:47.785Z"
   },
   {
    "duration": 22,
    "start_time": "2021-11-18T18:56:47.814Z"
   },
   {
    "duration": 44,
    "start_time": "2021-11-18T18:56:47.838Z"
   },
   {
    "duration": 4,
    "start_time": "2021-11-18T18:56:47.884Z"
   },
   {
    "duration": 36,
    "start_time": "2021-11-18T18:56:47.890Z"
   },
   {
    "duration": 16,
    "start_time": "2021-11-18T18:56:47.928Z"
   },
   {
    "duration": 43,
    "start_time": "2021-11-18T18:56:47.945Z"
   },
   {
    "duration": 38,
    "start_time": "2021-11-18T18:56:47.990Z"
   },
   {
    "duration": 20,
    "start_time": "2021-11-18T18:56:48.030Z"
   },
   {
    "duration": 31,
    "start_time": "2021-11-18T18:56:48.052Z"
   },
   {
    "duration": 19,
    "start_time": "2021-11-18T18:56:48.085Z"
   },
   {
    "duration": 36,
    "start_time": "2021-11-18T18:56:48.106Z"
   },
   {
    "duration": 59,
    "start_time": "2021-11-18T18:56:48.144Z"
   },
   {
    "duration": 230,
    "start_time": "2021-11-18T18:56:48.205Z"
   },
   {
    "duration": 6,
    "start_time": "2021-11-18T18:56:48.437Z"
   },
   {
    "duration": 402,
    "start_time": "2021-11-18T18:56:48.445Z"
   },
   {
    "duration": 1331,
    "start_time": "2021-11-18T18:56:48.849Z"
   },
   {
    "duration": 23,
    "start_time": "2021-11-18T18:56:50.182Z"
   },
   {
    "duration": 16,
    "start_time": "2021-11-18T18:56:50.207Z"
   },
   {
    "duration": 899,
    "start_time": "2021-11-18T18:56:50.225Z"
   },
   {
    "duration": 5,
    "start_time": "2021-11-18T18:56:51.126Z"
   },
   {
    "duration": 32,
    "start_time": "2021-11-18T18:56:51.133Z"
   },
   {
    "duration": 647,
    "start_time": "2021-11-18T18:56:51.167Z"
   },
   {
    "duration": 1046,
    "start_time": "2021-11-18T18:56:51.816Z"
   },
   {
    "duration": 950,
    "start_time": "2021-11-18T18:56:52.865Z"
   },
   {
    "duration": 333,
    "start_time": "2021-11-18T18:56:53.817Z"
   },
   {
    "duration": 397,
    "start_time": "2021-11-18T18:56:54.152Z"
   },
   {
    "duration": 352,
    "start_time": "2021-11-18T18:56:54.551Z"
   },
   {
    "duration": 11,
    "start_time": "2021-11-18T18:56:54.905Z"
   },
   {
    "duration": 11,
    "start_time": "2021-11-18T18:56:54.917Z"
   },
   {
    "duration": 42,
    "start_time": "2021-11-18T18:56:54.930Z"
   },
   {
    "duration": 8,
    "start_time": "2021-11-18T18:56:54.976Z"
   },
   {
    "duration": 39,
    "start_time": "2021-11-18T18:56:54.987Z"
   },
   {
    "duration": 255,
    "start_time": "2021-11-18T18:56:55.028Z"
   },
   {
    "duration": 31,
    "start_time": "2021-11-18T18:56:55.286Z"
   },
   {
    "duration": 57,
    "start_time": "2021-11-18T18:56:55.319Z"
   },
   {
    "duration": 6,
    "start_time": "2021-11-18T18:56:55.378Z"
   },
   {
    "duration": 7,
    "start_time": "2021-11-18T18:56:55.386Z"
   },
   {
    "duration": 18,
    "start_time": "2021-11-18T18:56:55.395Z"
   },
   {
    "duration": 13,
    "start_time": "2021-11-18T18:56:55.415Z"
   },
   {
    "duration": 42,
    "start_time": "2021-11-18T18:56:55.430Z"
   },
   {
    "duration": 17,
    "start_time": "2021-11-18T18:56:55.476Z"
   },
   {
    "duration": 17,
    "start_time": "2021-11-18T18:56:55.495Z"
   },
   {
    "duration": 4,
    "start_time": "2021-11-18T19:01:18.697Z"
   },
   {
    "duration": 37,
    "start_time": "2021-11-18T19:01:19.784Z"
   },
   {
    "duration": 11,
    "start_time": "2021-11-18T19:01:20.716Z"
   },
   {
    "duration": 23,
    "start_time": "2021-11-18T19:01:21.169Z"
   },
   {
    "duration": 16,
    "start_time": "2021-11-18T19:01:21.713Z"
   },
   {
    "duration": 32,
    "start_time": "2021-11-18T19:01:23.693Z"
   },
   {
    "duration": 8,
    "start_time": "2021-11-18T19:01:26.895Z"
   },
   {
    "duration": 11,
    "start_time": "2021-11-18T19:01:29.151Z"
   },
   {
    "duration": 6,
    "start_time": "2021-11-18T19:01:32.726Z"
   },
   {
    "duration": 13,
    "start_time": "2021-11-18T19:01:33.276Z"
   },
   {
    "duration": 7,
    "start_time": "2021-11-18T19:01:37.787Z"
   },
   {
    "duration": 7,
    "start_time": "2021-11-18T19:01:39.219Z"
   },
   {
    "duration": 5,
    "start_time": "2021-11-18T19:01:40.003Z"
   },
   {
    "duration": 6,
    "start_time": "2021-11-18T19:01:41.002Z"
   },
   {
    "duration": 5,
    "start_time": "2021-11-18T19:01:53.645Z"
   },
   {
    "duration": 10,
    "start_time": "2021-11-18T19:01:54.204Z"
   },
   {
    "duration": 6,
    "start_time": "2021-11-18T19:01:57.244Z"
   },
   {
    "duration": 21,
    "start_time": "2021-11-18T19:01:59.160Z"
   },
   {
    "duration": 9,
    "start_time": "2021-11-18T19:02:00.023Z"
   },
   {
    "duration": 6,
    "start_time": "2021-11-18T19:02:04.178Z"
   },
   {
    "duration": 5,
    "start_time": "2021-11-18T19:02:04.727Z"
   },
   {
    "duration": 5,
    "start_time": "2021-11-18T19:02:05.641Z"
   },
   {
    "duration": 6,
    "start_time": "2021-11-18T19:02:06.224Z"
   },
   {
    "duration": 16,
    "start_time": "2021-11-18T19:02:09.629Z"
   },
   {
    "duration": 4,
    "start_time": "2021-11-18T19:02:16.596Z"
   },
   {
    "duration": 8,
    "start_time": "2021-11-18T19:02:18.489Z"
   },
   {
    "duration": 6,
    "start_time": "2021-11-18T19:02:19.208Z"
   },
   {
    "duration": 10,
    "start_time": "2021-11-18T19:02:19.910Z"
   },
   {
    "duration": 5,
    "start_time": "2021-11-18T19:02:24.635Z"
   },
   {
    "duration": 11,
    "start_time": "2021-11-18T19:02:25.559Z"
   },
   {
    "duration": 5,
    "start_time": "2021-11-18T19:02:39.420Z"
   },
   {
    "duration": 6,
    "start_time": "2021-11-18T19:03:04.255Z"
   },
   {
    "duration": 6,
    "start_time": "2021-11-18T19:03:38.294Z"
   },
   {
    "duration": 8,
    "start_time": "2021-11-18T19:03:39.619Z"
   },
   {
    "duration": 6,
    "start_time": "2021-11-18T19:03:58.797Z"
   },
   {
    "duration": 8,
    "start_time": "2021-11-18T19:03:59.536Z"
   },
   {
    "duration": 3,
    "start_time": "2021-11-18T19:04:07.556Z"
   },
   {
    "duration": 36,
    "start_time": "2021-11-18T19:04:07.885Z"
   },
   {
    "duration": 10,
    "start_time": "2021-11-18T19:04:08.812Z"
   },
   {
    "duration": 13,
    "start_time": "2021-11-18T19:04:09.202Z"
   },
   {
    "duration": 16,
    "start_time": "2021-11-18T19:04:09.643Z"
   },
   {
    "duration": 28,
    "start_time": "2021-11-18T19:04:10.111Z"
   },
   {
    "duration": 6,
    "start_time": "2021-11-18T19:04:12.256Z"
   },
   {
    "duration": 11,
    "start_time": "2021-11-18T19:04:12.976Z"
   },
   {
    "duration": 5,
    "start_time": "2021-11-18T19:04:14.047Z"
   },
   {
    "duration": 10,
    "start_time": "2021-11-18T19:04:14.522Z"
   },
   {
    "duration": 6,
    "start_time": "2021-11-18T19:04:14.986Z"
   },
   {
    "duration": 8,
    "start_time": "2021-11-18T19:04:15.501Z"
   },
   {
    "duration": 4,
    "start_time": "2021-11-18T19:04:16.038Z"
   },
   {
    "duration": 6,
    "start_time": "2021-11-18T19:04:16.910Z"
   },
   {
    "duration": 5,
    "start_time": "2021-11-18T19:04:17.098Z"
   },
   {
    "duration": 12,
    "start_time": "2021-11-18T19:04:17.281Z"
   },
   {
    "duration": 6,
    "start_time": "2021-11-18T19:04:17.476Z"
   },
   {
    "duration": 12,
    "start_time": "2021-11-18T19:04:17.628Z"
   },
   {
    "duration": 9,
    "start_time": "2021-11-18T19:04:18.325Z"
   },
   {
    "duration": 6,
    "start_time": "2021-11-18T19:04:18.620Z"
   },
   {
    "duration": 6,
    "start_time": "2021-11-18T19:04:18.969Z"
   },
   {
    "duration": 6,
    "start_time": "2021-11-18T19:04:21.574Z"
   },
   {
    "duration": 10,
    "start_time": "2021-11-18T19:04:22.360Z"
   },
   {
    "duration": 18,
    "start_time": "2021-11-18T19:04:22.938Z"
   },
   {
    "duration": 4,
    "start_time": "2021-11-18T19:04:23.437Z"
   },
   {
    "duration": 8,
    "start_time": "2021-11-18T19:04:25.050Z"
   },
   {
    "duration": 8,
    "start_time": "2021-11-18T19:04:25.410Z"
   },
   {
    "duration": 11,
    "start_time": "2021-11-18T19:04:25.894Z"
   },
   {
    "duration": 7,
    "start_time": "2021-11-18T19:04:44.474Z"
   },
   {
    "duration": 5,
    "start_time": "2021-11-18T19:04:45.114Z"
   },
   {
    "duration": 6,
    "start_time": "2021-11-18T19:04:45.604Z"
   },
   {
    "duration": 5,
    "start_time": "2021-11-18T19:04:49.328Z"
   },
   {
    "duration": 3,
    "start_time": "2021-11-18T19:05:22.249Z"
   },
   {
    "duration": 35,
    "start_time": "2021-11-18T19:05:22.421Z"
   },
   {
    "duration": 10,
    "start_time": "2021-11-18T19:05:22.731Z"
   },
   {
    "duration": 14,
    "start_time": "2021-11-18T19:05:22.900Z"
   },
   {
    "duration": 23,
    "start_time": "2021-11-18T19:05:23.057Z"
   },
   {
    "duration": 37,
    "start_time": "2021-11-18T19:05:23.223Z"
   },
   {
    "duration": 5,
    "start_time": "2021-11-18T19:05:24.257Z"
   },
   {
    "duration": 15,
    "start_time": "2021-11-18T19:05:24.582Z"
   },
   {
    "duration": 4,
    "start_time": "2021-11-18T19:05:24.932Z"
   },
   {
    "duration": 10,
    "start_time": "2021-11-18T19:05:25.098Z"
   },
   {
    "duration": 6,
    "start_time": "2021-11-18T19:05:25.287Z"
   },
   {
    "duration": 9,
    "start_time": "2021-11-18T19:05:25.463Z"
   },
   {
    "duration": 7,
    "start_time": "2021-11-18T19:05:25.665Z"
   },
   {
    "duration": 6,
    "start_time": "2021-11-18T19:05:26.050Z"
   },
   {
    "duration": 5,
    "start_time": "2021-11-18T19:05:26.239Z"
   },
   {
    "duration": 11,
    "start_time": "2021-11-18T19:05:26.397Z"
   },
   {
    "duration": 5,
    "start_time": "2021-11-18T19:05:26.596Z"
   },
   {
    "duration": 14,
    "start_time": "2021-11-18T19:05:26.779Z"
   },
   {
    "duration": 8,
    "start_time": "2021-11-18T19:05:26.987Z"
   },
   {
    "duration": 6,
    "start_time": "2021-11-18T19:05:27.153Z"
   },
   {
    "duration": 5,
    "start_time": "2021-11-18T19:05:27.348Z"
   },
   {
    "duration": 5,
    "start_time": "2021-11-18T19:05:27.547Z"
   },
   {
    "duration": 5,
    "start_time": "2021-11-18T19:05:27.733Z"
   },
   {
    "duration": 17,
    "start_time": "2021-11-18T19:05:27.912Z"
   },
   {
    "duration": 5,
    "start_time": "2021-11-18T19:05:28.100Z"
   },
   {
    "duration": 8,
    "start_time": "2021-11-18T19:05:28.295Z"
   },
   {
    "duration": 5,
    "start_time": "2021-11-18T19:05:28.498Z"
   },
   {
    "duration": 11,
    "start_time": "2021-11-18T19:05:28.715Z"
   },
   {
    "duration": 6,
    "start_time": "2021-11-18T19:05:28.887Z"
   },
   {
    "duration": 6,
    "start_time": "2021-11-18T19:05:29.080Z"
   },
   {
    "duration": 7,
    "start_time": "2021-11-18T19:05:29.265Z"
   },
   {
    "duration": 2,
    "start_time": "2021-11-18T19:05:29.433Z"
   },
   {
    "duration": 6,
    "start_time": "2021-11-18T19:05:29.613Z"
   },
   {
    "duration": 7,
    "start_time": "2021-11-18T19:05:29.796Z"
   },
   {
    "duration": 15,
    "start_time": "2021-11-18T19:07:44.712Z"
   },
   {
    "duration": 21,
    "start_time": "2021-11-18T19:07:49.140Z"
   },
   {
    "duration": 211,
    "start_time": "2021-11-18T19:07:49.659Z"
   },
   {
    "duration": 5,
    "start_time": "2021-11-18T19:07:51.909Z"
   },
   {
    "duration": 353,
    "start_time": "2021-11-18T19:07:52.115Z"
   },
   {
    "duration": 1259,
    "start_time": "2021-11-18T19:07:52.471Z"
   },
   {
    "duration": 30,
    "start_time": "2021-11-18T19:07:53.732Z"
   },
   {
    "duration": 11,
    "start_time": "2021-11-18T19:07:53.764Z"
   },
   {
    "duration": 820,
    "start_time": "2021-11-18T19:07:53.783Z"
   },
   {
    "duration": 5,
    "start_time": "2021-11-18T19:07:54.605Z"
   },
   {
    "duration": 10,
    "start_time": "2021-11-18T19:07:54.611Z"
   },
   {
    "duration": 535,
    "start_time": "2021-11-18T19:07:55.054Z"
   },
   {
    "duration": 744,
    "start_time": "2021-11-18T19:07:56.459Z"
   },
   {
    "duration": 921,
    "start_time": "2021-11-18T19:07:57.205Z"
   },
   {
    "duration": 342,
    "start_time": "2021-11-18T19:07:58.129Z"
   },
   {
    "duration": 307,
    "start_time": "2021-11-18T19:08:00.207Z"
   },
   {
    "duration": 329,
    "start_time": "2021-11-18T19:08:00.522Z"
   },
   {
    "duration": 21,
    "start_time": "2021-11-18T19:08:02.861Z"
   },
   {
    "duration": 12,
    "start_time": "2021-11-18T19:08:03.304Z"
   },
   {
    "duration": 6,
    "start_time": "2021-11-18T19:08:03.794Z"
   },
   {
    "duration": 7,
    "start_time": "2021-11-18T19:08:04.276Z"
   },
   {
    "duration": 41,
    "start_time": "2021-11-18T19:08:16.673Z"
   },
   {
    "duration": 219,
    "start_time": "2021-11-18T19:08:21.048Z"
   },
   {
    "duration": 30,
    "start_time": "2021-11-18T19:08:38.664Z"
   },
   {
    "duration": 33,
    "start_time": "2021-11-18T19:08:44.569Z"
   },
   {
    "duration": 15,
    "start_time": "2021-11-18T19:09:04.313Z"
   },
   {
    "duration": 12,
    "start_time": "2021-11-18T19:09:37.152Z"
   },
   {
    "duration": 13,
    "start_time": "2021-11-18T19:10:00.094Z"
   },
   {
    "duration": 15,
    "start_time": "2021-11-18T19:10:07.604Z"
   },
   {
    "duration": 12,
    "start_time": "2021-11-18T19:16:12.679Z"
   },
   {
    "duration": 11,
    "start_time": "2021-11-18T19:16:13.946Z"
   },
   {
    "duration": 11,
    "start_time": "2021-11-18T19:16:15.304Z"
   },
   {
    "duration": 9,
    "start_time": "2021-11-18T19:17:04.020Z"
   },
   {
    "duration": 8,
    "start_time": "2021-11-18T19:17:25.207Z"
   },
   {
    "duration": 369,
    "start_time": "2021-11-18T19:17:45.271Z"
   },
   {
    "duration": 8,
    "start_time": "2021-11-18T19:17:53.339Z"
   },
   {
    "duration": 7,
    "start_time": "2021-11-18T19:18:02.529Z"
   },
   {
    "duration": 1200,
    "start_time": "2021-11-18T19:19:35.794Z"
   },
   {
    "duration": 37,
    "start_time": "2021-11-18T19:19:36.996Z"
   },
   {
    "duration": 9,
    "start_time": "2021-11-18T19:19:37.035Z"
   },
   {
    "duration": 24,
    "start_time": "2021-11-18T19:19:37.046Z"
   },
   {
    "duration": 23,
    "start_time": "2021-11-18T19:19:37.073Z"
   },
   {
    "duration": 545,
    "start_time": "2021-11-18T19:19:37.098Z"
   },
   {
    "duration": 5,
    "start_time": "2021-11-18T19:19:37.644Z"
   },
   {
    "duration": 36,
    "start_time": "2021-11-18T19:19:37.651Z"
   },
   {
    "duration": 8,
    "start_time": "2021-11-18T19:19:37.690Z"
   },
   {
    "duration": 9,
    "start_time": "2021-11-18T19:19:37.700Z"
   },
   {
    "duration": 5,
    "start_time": "2021-11-18T19:19:37.711Z"
   },
   {
    "duration": 9,
    "start_time": "2021-11-18T19:19:37.717Z"
   },
   {
    "duration": 6,
    "start_time": "2021-11-18T19:19:37.728Z"
   },
   {
    "duration": 30,
    "start_time": "2021-11-18T19:19:37.736Z"
   },
   {
    "duration": 7,
    "start_time": "2021-11-18T19:19:37.768Z"
   },
   {
    "duration": 30,
    "start_time": "2021-11-18T19:19:37.778Z"
   },
   {
    "duration": 6,
    "start_time": "2021-11-18T19:19:37.810Z"
   },
   {
    "duration": 34,
    "start_time": "2021-11-18T19:19:37.818Z"
   },
   {
    "duration": 68,
    "start_time": "2021-11-18T19:19:37.855Z"
   },
   {
    "duration": 21,
    "start_time": "2021-11-18T19:19:37.924Z"
   },
   {
    "duration": 7,
    "start_time": "2021-11-18T19:19:37.947Z"
   },
   {
    "duration": 21,
    "start_time": "2021-11-18T19:19:37.956Z"
   },
   {
    "duration": 21,
    "start_time": "2021-11-18T19:19:37.983Z"
   },
   {
    "duration": 19,
    "start_time": "2021-11-18T19:19:38.006Z"
   },
   {
    "duration": 4,
    "start_time": "2021-11-18T19:19:38.026Z"
   },
   {
    "duration": 16,
    "start_time": "2021-11-18T19:19:38.031Z"
   },
   {
    "duration": 27,
    "start_time": "2021-11-18T19:19:38.049Z"
   },
   {
    "duration": 18,
    "start_time": "2021-11-18T19:19:38.079Z"
   },
   {
    "duration": 12,
    "start_time": "2021-11-18T19:19:38.099Z"
   },
   {
    "duration": 9,
    "start_time": "2021-11-18T19:19:38.113Z"
   },
   {
    "duration": 12,
    "start_time": "2021-11-18T19:19:38.124Z"
   },
   {
    "duration": 13,
    "start_time": "2021-11-18T19:19:38.138Z"
   },
   {
    "duration": 31,
    "start_time": "2021-11-18T19:19:38.153Z"
   },
   {
    "duration": 17,
    "start_time": "2021-11-18T19:19:38.188Z"
   },
   {
    "duration": 20,
    "start_time": "2021-11-18T19:19:38.207Z"
   },
   {
    "duration": 210,
    "start_time": "2021-11-18T19:19:38.229Z"
   },
   {
    "duration": 5,
    "start_time": "2021-11-18T19:19:38.441Z"
   },
   {
    "duration": 389,
    "start_time": "2021-11-18T19:19:38.448Z"
   },
   {
    "duration": 1330,
    "start_time": "2021-11-18T19:19:38.839Z"
   },
   {
    "duration": 28,
    "start_time": "2021-11-18T19:19:40.172Z"
   },
   {
    "duration": 7,
    "start_time": "2021-11-18T19:19:40.202Z"
   },
   {
    "duration": 886,
    "start_time": "2021-11-18T19:19:40.210Z"
   },
   {
    "duration": 5,
    "start_time": "2021-11-18T19:19:41.098Z"
   },
   {
    "duration": 20,
    "start_time": "2021-11-18T19:19:41.104Z"
   },
   {
    "duration": 624,
    "start_time": "2021-11-18T19:19:41.126Z"
   },
   {
    "duration": 802,
    "start_time": "2021-11-18T19:19:41.752Z"
   },
   {
    "duration": 944,
    "start_time": "2021-11-18T19:19:42.564Z"
   },
   {
    "duration": 333,
    "start_time": "2021-11-18T19:19:43.510Z"
   },
   {
    "duration": 394,
    "start_time": "2021-11-18T19:19:43.845Z"
   },
   {
    "duration": 371,
    "start_time": "2021-11-18T19:19:44.240Z"
   },
   {
    "duration": 11,
    "start_time": "2021-11-18T19:19:44.613Z"
   },
   {
    "duration": 10,
    "start_time": "2021-11-18T19:19:44.625Z"
   },
   {
    "duration": 30,
    "start_time": "2021-11-18T19:19:44.637Z"
   },
   {
    "duration": 13,
    "start_time": "2021-11-18T19:19:44.671Z"
   },
   {
    "duration": 38,
    "start_time": "2021-11-18T19:19:44.687Z"
   },
   {
    "duration": 345,
    "start_time": "2021-11-18T19:19:44.726Z"
   },
   {
    "duration": 41,
    "start_time": "2021-11-18T19:19:45.073Z"
   },
   {
    "duration": 61,
    "start_time": "2021-11-18T19:19:45.116Z"
   },
   {
    "duration": 15,
    "start_time": "2021-11-18T19:19:45.180Z"
   },
   {
    "duration": 12,
    "start_time": "2021-11-18T19:19:45.197Z"
   },
   {
    "duration": 12,
    "start_time": "2021-11-18T19:19:45.212Z"
   },
   {
    "duration": 5,
    "start_time": "2021-11-18T19:19:45.226Z"
   },
   {
    "duration": 16,
    "start_time": "2021-11-18T19:19:45.264Z"
   },
   {
    "duration": 9,
    "start_time": "2021-11-18T19:19:57.173Z"
   },
   {
    "duration": 426,
    "start_time": "2021-11-18T19:20:04.068Z"
   },
   {
    "duration": 9,
    "start_time": "2021-11-18T19:20:10.952Z"
   },
   {
    "duration": 9,
    "start_time": "2021-11-18T19:21:14.752Z"
   },
   {
    "duration": 7,
    "start_time": "2021-11-18T19:21:27.718Z"
   },
   {
    "duration": 9,
    "start_time": "2021-11-18T19:21:35.939Z"
   },
   {
    "duration": 1164,
    "start_time": "2021-11-18T19:23:00.698Z"
   },
   {
    "duration": 41,
    "start_time": "2021-11-18T19:23:01.864Z"
   },
   {
    "duration": 11,
    "start_time": "2021-11-18T19:23:01.907Z"
   },
   {
    "duration": 29,
    "start_time": "2021-11-18T19:23:01.920Z"
   },
   {
    "duration": 32,
    "start_time": "2021-11-18T19:23:01.951Z"
   },
   {
    "duration": 740,
    "start_time": "2021-11-18T19:23:01.984Z"
   },
   {
    "duration": 5,
    "start_time": "2021-11-18T19:23:02.726Z"
   },
   {
    "duration": 13,
    "start_time": "2021-11-18T19:23:02.734Z"
   },
   {
    "duration": 20,
    "start_time": "2021-11-18T19:23:02.749Z"
   },
   {
    "duration": 14,
    "start_time": "2021-11-18T19:23:02.776Z"
   },
   {
    "duration": 6,
    "start_time": "2021-11-18T19:23:02.792Z"
   },
   {
    "duration": 12,
    "start_time": "2021-11-18T19:23:02.800Z"
   },
   {
    "duration": 7,
    "start_time": "2021-11-18T19:23:02.814Z"
   },
   {
    "duration": 7,
    "start_time": "2021-11-18T19:23:02.823Z"
   },
   {
    "duration": 36,
    "start_time": "2021-11-18T19:23:02.832Z"
   },
   {
    "duration": 13,
    "start_time": "2021-11-18T19:23:02.877Z"
   },
   {
    "duration": 7,
    "start_time": "2021-11-18T19:23:02.892Z"
   },
   {
    "duration": 17,
    "start_time": "2021-11-18T19:23:02.900Z"
   },
   {
    "duration": 30,
    "start_time": "2021-11-18T19:23:02.919Z"
   },
   {
    "duration": 10,
    "start_time": "2021-11-18T19:23:02.951Z"
   },
   {
    "duration": 11,
    "start_time": "2021-11-18T19:23:02.968Z"
   },
   {
    "duration": 14,
    "start_time": "2021-11-18T19:23:02.981Z"
   },
   {
    "duration": 24,
    "start_time": "2021-11-18T19:23:02.999Z"
   },
   {
    "duration": 19,
    "start_time": "2021-11-18T19:23:03.026Z"
   },
   {
    "duration": 3,
    "start_time": "2021-11-18T19:23:03.047Z"
   },
   {
    "duration": 25,
    "start_time": "2021-11-18T19:23:03.052Z"
   },
   {
    "duration": 13,
    "start_time": "2021-11-18T19:23:03.080Z"
   },
   {
    "duration": 23,
    "start_time": "2021-11-18T19:23:03.095Z"
   },
   {
    "duration": 15,
    "start_time": "2021-11-18T19:23:03.120Z"
   },
   {
    "duration": 13,
    "start_time": "2021-11-18T19:23:03.137Z"
   },
   {
    "duration": 9,
    "start_time": "2021-11-18T19:23:03.152Z"
   },
   {
    "duration": 26,
    "start_time": "2021-11-18T19:23:03.163Z"
   },
   {
    "duration": 31,
    "start_time": "2021-11-18T19:23:03.190Z"
   },
   {
    "duration": 34,
    "start_time": "2021-11-18T19:23:03.223Z"
   },
   {
    "duration": 37,
    "start_time": "2021-11-18T19:23:03.260Z"
   },
   {
    "duration": 213,
    "start_time": "2021-11-18T19:23:03.299Z"
   },
   {
    "duration": 5,
    "start_time": "2021-11-18T19:23:03.514Z"
   },
   {
    "duration": 400,
    "start_time": "2021-11-18T19:23:03.520Z"
   },
   {
    "duration": 1250,
    "start_time": "2021-11-18T19:23:03.922Z"
   },
   {
    "duration": 25,
    "start_time": "2021-11-18T19:23:05.175Z"
   },
   {
    "duration": 6,
    "start_time": "2021-11-18T19:23:05.202Z"
   },
   {
    "duration": 879,
    "start_time": "2021-11-18T19:23:05.211Z"
   },
   {
    "duration": 7,
    "start_time": "2021-11-18T19:23:06.092Z"
   },
   {
    "duration": 9,
    "start_time": "2021-11-18T19:23:06.101Z"
   },
   {
    "duration": 576,
    "start_time": "2021-11-18T19:23:06.112Z"
   },
   {
    "duration": 760,
    "start_time": "2021-11-18T19:23:06.691Z"
   },
   {
    "duration": 934,
    "start_time": "2021-11-18T19:23:07.454Z"
   },
   {
    "duration": 329,
    "start_time": "2021-11-18T19:23:08.390Z"
   },
   {
    "duration": 374,
    "start_time": "2021-11-18T19:23:08.721Z"
   },
   {
    "duration": 315,
    "start_time": "2021-11-18T19:23:09.098Z"
   },
   {
    "duration": 11,
    "start_time": "2021-11-18T19:23:09.415Z"
   },
   {
    "duration": 11,
    "start_time": "2021-11-18T19:23:09.427Z"
   },
   {
    "duration": 28,
    "start_time": "2021-11-18T19:23:09.440Z"
   },
   {
    "duration": 12,
    "start_time": "2021-11-18T19:23:09.470Z"
   },
   {
    "duration": 37,
    "start_time": "2021-11-18T19:23:09.485Z"
   },
   {
    "duration": 239,
    "start_time": "2021-11-18T19:23:09.524Z"
   },
   {
    "duration": 34,
    "start_time": "2021-11-18T19:23:09.765Z"
   },
   {
    "duration": 27,
    "start_time": "2021-11-18T19:23:09.801Z"
   },
   {
    "duration": 41,
    "start_time": "2021-11-18T19:23:09.830Z"
   },
   {
    "duration": 18,
    "start_time": "2021-11-18T19:23:09.874Z"
   },
   {
    "duration": 13,
    "start_time": "2021-11-18T19:23:09.893Z"
   },
   {
    "duration": 19,
    "start_time": "2021-11-18T19:23:09.907Z"
   },
   {
    "duration": 26,
    "start_time": "2021-11-18T19:23:09.928Z"
   },
   {
    "duration": 17,
    "start_time": "2021-11-18T19:24:36.469Z"
   },
   {
    "duration": 8,
    "start_time": "2021-11-18T19:24:43.985Z"
   },
   {
    "duration": 8,
    "start_time": "2021-11-18T19:27:01.888Z"
   },
   {
    "duration": 8,
    "start_time": "2021-11-18T19:27:19.230Z"
   },
   {
    "duration": 9,
    "start_time": "2021-11-18T19:29:21.654Z"
   },
   {
    "duration": 7,
    "start_time": "2021-11-18T19:29:33.554Z"
   },
   {
    "duration": 8,
    "start_time": "2021-11-18T19:29:42.106Z"
   },
   {
    "duration": 8,
    "start_time": "2021-11-18T19:30:31.222Z"
   },
   {
    "duration": 9,
    "start_time": "2021-11-18T19:30:42.891Z"
   },
   {
    "duration": 12,
    "start_time": "2021-11-18T19:30:48.582Z"
   },
   {
    "duration": 1284,
    "start_time": "2021-11-18T19:31:05.465Z"
   },
   {
    "duration": 55,
    "start_time": "2021-11-18T19:31:06.751Z"
   },
   {
    "duration": 11,
    "start_time": "2021-11-18T19:31:06.808Z"
   },
   {
    "duration": 16,
    "start_time": "2021-11-18T19:31:06.821Z"
   },
   {
    "duration": 40,
    "start_time": "2021-11-18T19:31:06.839Z"
   },
   {
    "duration": 736,
    "start_time": "2021-11-18T19:31:06.882Z"
   },
   {
    "duration": 5,
    "start_time": "2021-11-18T19:31:07.620Z"
   },
   {
    "duration": 14,
    "start_time": "2021-11-18T19:31:07.629Z"
   },
   {
    "duration": 24,
    "start_time": "2021-11-18T19:31:07.646Z"
   },
   {
    "duration": 23,
    "start_time": "2021-11-18T19:31:07.673Z"
   },
   {
    "duration": 7,
    "start_time": "2021-11-18T19:31:07.698Z"
   },
   {
    "duration": 21,
    "start_time": "2021-11-18T19:31:07.706Z"
   },
   {
    "duration": 5,
    "start_time": "2021-11-18T19:31:07.729Z"
   },
   {
    "duration": 9,
    "start_time": "2021-11-18T19:31:07.735Z"
   },
   {
    "duration": 24,
    "start_time": "2021-11-18T19:31:07.746Z"
   },
   {
    "duration": 19,
    "start_time": "2021-11-18T19:31:07.773Z"
   },
   {
    "duration": 8,
    "start_time": "2021-11-18T19:31:07.796Z"
   },
   {
    "duration": 18,
    "start_time": "2021-11-18T19:31:07.806Z"
   },
   {
    "duration": 17,
    "start_time": "2021-11-18T19:31:07.826Z"
   },
   {
    "duration": 23,
    "start_time": "2021-11-18T19:31:07.845Z"
   },
   {
    "duration": 21,
    "start_time": "2021-11-18T19:31:07.873Z"
   },
   {
    "duration": 8,
    "start_time": "2021-11-18T19:31:07.899Z"
   },
   {
    "duration": 15,
    "start_time": "2021-11-18T19:31:07.911Z"
   },
   {
    "duration": 29,
    "start_time": "2021-11-18T19:31:07.929Z"
   },
   {
    "duration": 7,
    "start_time": "2021-11-18T19:31:07.959Z"
   },
   {
    "duration": 23,
    "start_time": "2021-11-18T19:31:07.968Z"
   },
   {
    "duration": 5,
    "start_time": "2021-11-18T19:31:07.994Z"
   },
   {
    "duration": 12,
    "start_time": "2021-11-18T19:31:08.000Z"
   },
   {
    "duration": 8,
    "start_time": "2021-11-18T19:31:08.013Z"
   },
   {
    "duration": 10,
    "start_time": "2021-11-18T19:31:08.023Z"
   },
   {
    "duration": 7,
    "start_time": "2021-11-18T19:31:08.034Z"
   },
   {
    "duration": 39,
    "start_time": "2021-11-18T19:31:08.043Z"
   },
   {
    "duration": 11,
    "start_time": "2021-11-18T19:31:08.085Z"
   },
   {
    "duration": 21,
    "start_time": "2021-11-18T19:31:08.098Z"
   },
   {
    "duration": 21,
    "start_time": "2021-11-18T19:31:08.121Z"
   },
   {
    "duration": 247,
    "start_time": "2021-11-18T19:31:08.144Z"
   },
   {
    "duration": 5,
    "start_time": "2021-11-18T19:31:08.393Z"
   },
   {
    "duration": 509,
    "start_time": "2021-11-18T19:31:08.400Z"
   },
   {
    "duration": 1367,
    "start_time": "2021-11-18T19:31:08.911Z"
   },
   {
    "duration": 27,
    "start_time": "2021-11-18T19:31:10.281Z"
   },
   {
    "duration": 10,
    "start_time": "2021-11-18T19:31:10.310Z"
   },
   {
    "duration": 931,
    "start_time": "2021-11-18T19:31:10.322Z"
   },
   {
    "duration": 13,
    "start_time": "2021-11-18T19:31:11.255Z"
   },
   {
    "duration": 23,
    "start_time": "2021-11-18T19:31:11.278Z"
   },
   {
    "duration": 610,
    "start_time": "2021-11-18T19:31:11.303Z"
   },
   {
    "duration": 812,
    "start_time": "2021-11-18T19:31:11.915Z"
   },
   {
    "duration": 1082,
    "start_time": "2021-11-18T19:31:12.728Z"
   },
   {
    "duration": 360,
    "start_time": "2021-11-18T19:31:13.812Z"
   },
   {
    "duration": 377,
    "start_time": "2021-11-18T19:31:14.175Z"
   },
   {
    "duration": 352,
    "start_time": "2021-11-18T19:31:14.553Z"
   },
   {
    "duration": 10,
    "start_time": "2021-11-18T19:31:14.907Z"
   },
   {
    "duration": 25,
    "start_time": "2021-11-18T19:31:14.919Z"
   },
   {
    "duration": 29,
    "start_time": "2021-11-18T19:31:14.946Z"
   },
   {
    "duration": 13,
    "start_time": "2021-11-18T19:31:14.978Z"
   },
   {
    "duration": 61,
    "start_time": "2021-11-18T19:31:14.993Z"
   },
   {
    "duration": 234,
    "start_time": "2021-11-18T19:31:15.056Z"
   },
   {
    "duration": 29,
    "start_time": "2021-11-18T19:31:15.292Z"
   },
   {
    "duration": 45,
    "start_time": "2021-11-18T19:31:15.323Z"
   },
   {
    "duration": 25,
    "start_time": "2021-11-18T19:31:15.371Z"
   },
   {
    "duration": 13,
    "start_time": "2021-11-18T19:31:15.398Z"
   },
   {
    "duration": 11,
    "start_time": "2021-11-18T19:31:15.412Z"
   },
   {
    "duration": 7,
    "start_time": "2021-11-18T19:31:15.425Z"
   },
   {
    "duration": 26,
    "start_time": "2021-11-18T19:31:15.467Z"
   },
   {
    "duration": 9,
    "start_time": "2021-11-18T19:31:15.495Z"
   },
   {
    "duration": 1197,
    "start_time": "2021-11-19T09:19:58.874Z"
   },
   {
    "duration": 41,
    "start_time": "2021-11-19T09:20:00.073Z"
   },
   {
    "duration": 13,
    "start_time": "2021-11-19T09:20:00.116Z"
   },
   {
    "duration": 24,
    "start_time": "2021-11-19T09:20:00.131Z"
   },
   {
    "duration": 24,
    "start_time": "2021-11-19T09:20:00.156Z"
   },
   {
    "duration": 113635,
    "start_time": "2021-11-19T09:20:00.182Z"
   },
   {
    "duration": 7,
    "start_time": "2021-11-19T09:21:53.820Z"
   },
   {
    "duration": 30,
    "start_time": "2021-11-19T09:21:53.831Z"
   },
   {
    "duration": 20,
    "start_time": "2021-11-19T09:21:53.863Z"
   },
   {
    "duration": 21,
    "start_time": "2021-11-19T09:21:53.885Z"
   },
   {
    "duration": 13,
    "start_time": "2021-11-19T09:21:53.908Z"
   },
   {
    "duration": 16,
    "start_time": "2021-11-19T09:21:53.923Z"
   },
   {
    "duration": 17,
    "start_time": "2021-11-19T09:21:53.941Z"
   },
   {
    "duration": 14,
    "start_time": "2021-11-19T09:21:53.960Z"
   },
   {
    "duration": 27,
    "start_time": "2021-11-19T09:21:53.976Z"
   },
   {
    "duration": 26,
    "start_time": "2021-11-19T09:21:54.005Z"
   },
   {
    "duration": 30,
    "start_time": "2021-11-19T09:21:54.033Z"
   },
   {
    "duration": 34,
    "start_time": "2021-11-19T09:21:54.064Z"
   },
   {
    "duration": 24,
    "start_time": "2021-11-19T09:21:54.099Z"
   },
   {
    "duration": 28,
    "start_time": "2021-11-19T09:21:54.125Z"
   },
   {
    "duration": 24,
    "start_time": "2021-11-19T09:21:54.155Z"
   },
   {
    "duration": 25,
    "start_time": "2021-11-19T09:21:54.180Z"
   },
   {
    "duration": 16,
    "start_time": "2021-11-19T09:21:54.212Z"
   },
   {
    "duration": 37,
    "start_time": "2021-11-19T09:21:54.230Z"
   },
   {
    "duration": 7,
    "start_time": "2021-11-19T09:21:54.269Z"
   },
   {
    "duration": 29,
    "start_time": "2021-11-19T09:21:54.277Z"
   },
   {
    "duration": 14,
    "start_time": "2021-11-19T09:21:54.309Z"
   },
   {
    "duration": 30,
    "start_time": "2021-11-19T09:21:54.325Z"
   },
   {
    "duration": 34,
    "start_time": "2021-11-19T09:21:54.357Z"
   },
   {
    "duration": 25,
    "start_time": "2021-11-19T09:21:54.392Z"
   },
   {
    "duration": 20,
    "start_time": "2021-11-19T09:21:54.419Z"
   },
   {
    "duration": 16,
    "start_time": "2021-11-19T09:21:54.441Z"
   },
   {
    "duration": 24,
    "start_time": "2021-11-19T09:21:54.459Z"
   },
   {
    "duration": 44,
    "start_time": "2021-11-19T09:21:54.485Z"
   },
   {
    "duration": 25,
    "start_time": "2021-11-19T09:21:54.531Z"
   },
   {
    "duration": 320,
    "start_time": "2021-11-19T09:21:54.558Z"
   },
   {
    "duration": 7,
    "start_time": "2021-11-19T09:21:54.907Z"
   },
   {
    "duration": 644,
    "start_time": "2021-11-19T09:21:54.916Z"
   },
   {
    "duration": 1508,
    "start_time": "2021-11-19T09:21:55.561Z"
   },
   {
    "duration": 22,
    "start_time": "2021-11-19T09:21:57.071Z"
   },
   {
    "duration": 6,
    "start_time": "2021-11-19T09:21:57.106Z"
   },
   {
    "duration": 960,
    "start_time": "2021-11-19T09:21:57.114Z"
   },
   {
    "duration": 4,
    "start_time": "2021-11-19T09:21:58.076Z"
   },
   {
    "duration": 39,
    "start_time": "2021-11-19T09:21:58.082Z"
   },
   {
    "duration": 583,
    "start_time": "2021-11-19T09:21:58.123Z"
   },
   {
    "duration": 887,
    "start_time": "2021-11-19T09:21:58.709Z"
   },
   {
    "duration": 950,
    "start_time": "2021-11-19T09:21:59.598Z"
   },
   {
    "duration": 398,
    "start_time": "2021-11-19T09:22:00.550Z"
   },
   {
    "duration": 415,
    "start_time": "2021-11-19T09:22:00.950Z"
   },
   {
    "duration": 357,
    "start_time": "2021-11-19T09:22:01.367Z"
   },
   {
    "duration": 13,
    "start_time": "2021-11-19T09:22:01.727Z"
   },
   {
    "duration": 22,
    "start_time": "2021-11-19T09:22:01.742Z"
   },
   {
    "duration": 44,
    "start_time": "2021-11-19T09:22:01.766Z"
   },
   {
    "duration": 190,
    "start_time": "2021-11-19T09:22:01.812Z"
   },
   {
    "duration": 101,
    "start_time": "2021-11-19T09:22:02.004Z"
   },
   {
    "duration": 268,
    "start_time": "2021-11-19T09:22:02.107Z"
   },
   {
    "duration": 46,
    "start_time": "2021-11-19T09:22:02.377Z"
   },
   {
    "duration": 31,
    "start_time": "2021-11-19T09:22:02.425Z"
   },
   {
    "duration": 18,
    "start_time": "2021-11-19T09:22:02.458Z"
   },
   {
    "duration": 31,
    "start_time": "2021-11-19T09:22:02.478Z"
   },
   {
    "duration": 12,
    "start_time": "2021-11-19T09:22:02.511Z"
   },
   {
    "duration": 11,
    "start_time": "2021-11-19T09:22:02.525Z"
   },
   {
    "duration": 14,
    "start_time": "2021-11-19T09:22:02.539Z"
   },
   {
    "duration": 9,
    "start_time": "2021-11-19T09:22:02.555Z"
   },
   {
    "duration": 292,
    "start_time": "2021-11-19T09:42:06.702Z"
   },
   {
    "duration": 5,
    "start_time": "2021-11-19T09:47:57.293Z"
   },
   {
    "duration": 6,
    "start_time": "2021-11-19T09:48:04.533Z"
   },
   {
    "duration": 20,
    "start_time": "2021-11-19T09:48:27.117Z"
   },
   {
    "duration": 9,
    "start_time": "2021-11-19T09:49:11.941Z"
   },
   {
    "duration": 9,
    "start_time": "2021-11-19T09:51:20.920Z"
   },
   {
    "duration": 21,
    "start_time": "2021-11-19T09:51:24.690Z"
   },
   {
    "duration": 216,
    "start_time": "2021-11-19T13:45:09.671Z"
   },
   {
    "duration": 1140,
    "start_time": "2021-11-19T13:45:27.924Z"
   },
   {
    "duration": 43,
    "start_time": "2021-11-19T13:45:29.067Z"
   },
   {
    "duration": 12,
    "start_time": "2021-11-19T13:45:29.112Z"
   },
   {
    "duration": 16,
    "start_time": "2021-11-19T13:45:29.126Z"
   },
   {
    "duration": 15,
    "start_time": "2021-11-19T13:45:29.144Z"
   },
   {
    "duration": 331,
    "start_time": "2021-11-19T13:45:29.161Z"
   },
   {
    "duration": 6,
    "start_time": "2021-11-19T13:45:29.495Z"
   },
   {
    "duration": 13,
    "start_time": "2021-11-19T13:45:29.504Z"
   },
   {
    "duration": 5,
    "start_time": "2021-11-19T13:45:29.519Z"
   },
   {
    "duration": 10,
    "start_time": "2021-11-19T13:45:29.525Z"
   },
   {
    "duration": 4,
    "start_time": "2021-11-19T13:45:29.537Z"
   },
   {
    "duration": 7,
    "start_time": "2021-11-19T13:45:29.543Z"
   },
   {
    "duration": 46,
    "start_time": "2021-11-19T13:45:29.552Z"
   },
   {
    "duration": 7,
    "start_time": "2021-11-19T13:45:29.600Z"
   },
   {
    "duration": 8,
    "start_time": "2021-11-19T13:45:29.609Z"
   },
   {
    "duration": 12,
    "start_time": "2021-11-19T13:45:29.619Z"
   },
   {
    "duration": 6,
    "start_time": "2021-11-19T13:45:29.633Z"
   },
   {
    "duration": 14,
    "start_time": "2021-11-19T13:45:29.641Z"
   },
   {
    "duration": 36,
    "start_time": "2021-11-19T13:45:29.657Z"
   },
   {
    "duration": 6,
    "start_time": "2021-11-19T13:45:29.695Z"
   },
   {
    "duration": 7,
    "start_time": "2021-11-19T13:45:29.704Z"
   },
   {
    "duration": 7,
    "start_time": "2021-11-19T13:45:29.713Z"
   },
   {
    "duration": 6,
    "start_time": "2021-11-19T13:45:29.725Z"
   },
   {
    "duration": 17,
    "start_time": "2021-11-19T13:45:29.733Z"
   },
   {
    "duration": 4,
    "start_time": "2021-11-19T13:45:29.751Z"
   },
   {
    "duration": 11,
    "start_time": "2021-11-19T13:45:29.793Z"
   },
   {
    "duration": 5,
    "start_time": "2021-11-19T13:45:29.806Z"
   },
   {
    "duration": 15,
    "start_time": "2021-11-19T13:45:29.813Z"
   },
   {
    "duration": 5,
    "start_time": "2021-11-19T13:45:29.830Z"
   },
   {
    "duration": 8,
    "start_time": "2021-11-19T13:45:29.836Z"
   },
   {
    "duration": 5,
    "start_time": "2021-11-19T13:45:29.845Z"
   },
   {
    "duration": 9,
    "start_time": "2021-11-19T13:45:29.851Z"
   },
   {
    "duration": 34,
    "start_time": "2021-11-19T13:45:29.861Z"
   },
   {
    "duration": 17,
    "start_time": "2021-11-19T13:45:29.897Z"
   },
   {
    "duration": 19,
    "start_time": "2021-11-19T13:45:29.916Z"
   },
   {
    "duration": 231,
    "start_time": "2021-11-19T13:45:29.937Z"
   },
   {
    "duration": 5,
    "start_time": "2021-11-19T13:45:30.169Z"
   },
   {
    "duration": 384,
    "start_time": "2021-11-19T13:45:30.175Z"
   },
   {
    "duration": 1319,
    "start_time": "2021-11-19T13:45:30.561Z"
   },
   {
    "duration": 35,
    "start_time": "2021-11-19T13:45:31.882Z"
   },
   {
    "duration": 6,
    "start_time": "2021-11-19T13:45:31.918Z"
   },
   {
    "duration": 878,
    "start_time": "2021-11-19T13:45:31.925Z"
   },
   {
    "duration": 7,
    "start_time": "2021-11-19T13:45:32.806Z"
   },
   {
    "duration": 31,
    "start_time": "2021-11-19T13:45:32.815Z"
   },
   {
    "duration": 583,
    "start_time": "2021-11-19T13:45:32.848Z"
   },
   {
    "duration": 814,
    "start_time": "2021-11-19T13:45:33.432Z"
   },
   {
    "duration": 611,
    "start_time": "2021-11-19T13:45:34.248Z"
   },
   {
    "duration": 365,
    "start_time": "2021-11-19T13:45:34.861Z"
   },
   {
    "duration": 358,
    "start_time": "2021-11-19T13:45:35.228Z"
   },
   {
    "duration": 387,
    "start_time": "2021-11-19T13:45:35.588Z"
   },
   {
    "duration": 370,
    "start_time": "2021-11-19T13:45:35.977Z"
   },
   {
    "duration": 10,
    "start_time": "2021-11-19T13:45:36.349Z"
   },
   {
    "duration": 34,
    "start_time": "2021-11-19T13:45:36.361Z"
   },
   {
    "duration": 19,
    "start_time": "2021-11-19T13:45:36.398Z"
   },
   {
    "duration": 29,
    "start_time": "2021-11-19T13:45:36.418Z"
   },
   {
    "duration": 68,
    "start_time": "2021-11-19T13:45:36.449Z"
   },
   {
    "duration": 237,
    "start_time": "2021-11-19T13:45:36.519Z"
   },
   {
    "duration": 43,
    "start_time": "2021-11-19T13:45:36.758Z"
   },
   {
    "duration": 26,
    "start_time": "2021-11-19T13:45:36.803Z"
   },
   {
    "duration": 36,
    "start_time": "2021-11-19T13:45:36.831Z"
   },
   {
    "duration": 22,
    "start_time": "2021-11-19T13:45:36.869Z"
   },
   {
    "duration": 15,
    "start_time": "2021-11-19T13:45:36.893Z"
   },
   {
    "duration": 21,
    "start_time": "2021-11-19T13:45:36.911Z"
   },
   {
    "duration": 38,
    "start_time": "2021-11-19T13:45:36.934Z"
   },
   {
    "duration": 54,
    "start_time": "2021-11-19T13:45:36.974Z"
   },
   {
    "duration": 13,
    "start_time": "2021-11-19T13:45:37.030Z"
   },
   {
    "duration": 20,
    "start_time": "2021-11-19T13:45:37.045Z"
   },
   {
    "duration": 923,
    "start_time": "2021-11-19T13:47:11.651Z"
   },
   {
    "duration": 9,
    "start_time": "2021-11-19T13:50:08.275Z"
   },
   {
    "duration": 352,
    "start_time": "2021-11-19T13:56:50.142Z"
   },
   {
    "duration": 1152,
    "start_time": "2021-11-19T13:57:31.368Z"
   },
   {
    "duration": 37,
    "start_time": "2021-11-19T13:57:32.521Z"
   },
   {
    "duration": 22,
    "start_time": "2021-11-19T13:57:32.560Z"
   },
   {
    "duration": 39,
    "start_time": "2021-11-19T13:57:32.584Z"
   },
   {
    "duration": 40,
    "start_time": "2021-11-19T13:57:32.624Z"
   },
   {
    "duration": 697,
    "start_time": "2021-11-19T13:57:32.665Z"
   },
   {
    "duration": 5,
    "start_time": "2021-11-19T13:57:33.363Z"
   },
   {
    "duration": 50,
    "start_time": "2021-11-19T13:57:33.370Z"
   },
   {
    "duration": 27,
    "start_time": "2021-11-19T13:57:33.422Z"
   },
   {
    "duration": 43,
    "start_time": "2021-11-19T13:57:33.450Z"
   },
   {
    "duration": 42,
    "start_time": "2021-11-19T13:57:33.495Z"
   },
   {
    "duration": 29,
    "start_time": "2021-11-19T13:57:33.539Z"
   },
   {
    "duration": 34,
    "start_time": "2021-11-19T13:57:33.570Z"
   },
   {
    "duration": 28,
    "start_time": "2021-11-19T13:57:33.607Z"
   },
   {
    "duration": 21,
    "start_time": "2021-11-19T13:57:33.636Z"
   },
   {
    "duration": 30,
    "start_time": "2021-11-19T13:57:33.658Z"
   },
   {
    "duration": 20,
    "start_time": "2021-11-19T13:57:33.689Z"
   },
   {
    "duration": 40,
    "start_time": "2021-11-19T13:57:33.711Z"
   },
   {
    "duration": 32,
    "start_time": "2021-11-19T13:57:33.753Z"
   },
   {
    "duration": 28,
    "start_time": "2021-11-19T13:57:33.786Z"
   },
   {
    "duration": 33,
    "start_time": "2021-11-19T13:57:33.816Z"
   },
   {
    "duration": 24,
    "start_time": "2021-11-19T13:57:33.850Z"
   },
   {
    "duration": 43,
    "start_time": "2021-11-19T13:57:33.877Z"
   },
   {
    "duration": 52,
    "start_time": "2021-11-19T13:57:33.923Z"
   },
   {
    "duration": 20,
    "start_time": "2021-11-19T13:57:33.976Z"
   },
   {
    "duration": 33,
    "start_time": "2021-11-19T13:57:33.999Z"
   },
   {
    "duration": 27,
    "start_time": "2021-11-19T13:57:34.034Z"
   },
   {
    "duration": 47,
    "start_time": "2021-11-19T13:57:34.063Z"
   },
   {
    "duration": 35,
    "start_time": "2021-11-19T13:57:34.112Z"
   },
   {
    "duration": 32,
    "start_time": "2021-11-19T13:57:34.149Z"
   },
   {
    "duration": 5,
    "start_time": "2021-11-19T13:57:34.182Z"
   },
   {
    "duration": 33,
    "start_time": "2021-11-19T13:57:34.188Z"
   },
   {
    "duration": 42,
    "start_time": "2021-11-19T13:57:34.223Z"
   },
   {
    "duration": 32,
    "start_time": "2021-11-19T13:57:34.266Z"
   },
   {
    "duration": 32,
    "start_time": "2021-11-19T13:57:34.301Z"
   },
   {
    "duration": 236,
    "start_time": "2021-11-19T13:57:34.335Z"
   },
   {
    "duration": 4,
    "start_time": "2021-11-19T13:57:34.573Z"
   },
   {
    "duration": 382,
    "start_time": "2021-11-19T13:57:34.590Z"
   },
   {
    "duration": 1359,
    "start_time": "2021-11-19T13:57:34.974Z"
   },
   {
    "duration": 33,
    "start_time": "2021-11-19T13:57:36.335Z"
   },
   {
    "duration": 16,
    "start_time": "2021-11-19T13:57:36.370Z"
   },
   {
    "duration": 900,
    "start_time": "2021-11-19T13:57:36.391Z"
   },
   {
    "duration": 6,
    "start_time": "2021-11-19T13:57:37.294Z"
   },
   {
    "duration": 33,
    "start_time": "2021-11-19T13:57:37.303Z"
   },
   {
    "duration": 629,
    "start_time": "2021-11-19T13:57:37.338Z"
   },
   {
    "duration": 825,
    "start_time": "2021-11-19T13:57:37.969Z"
   },
   {
    "duration": 993,
    "start_time": "2021-11-19T13:57:38.796Z"
   },
   {
    "duration": 2,
    "start_time": "2021-11-19T13:57:39.792Z"
   },
   {
    "duration": 353,
    "start_time": "2021-11-19T13:57:39.796Z"
   },
   {
    "duration": 341,
    "start_time": "2021-11-19T13:57:40.151Z"
   },
   {
    "duration": 385,
    "start_time": "2021-11-19T13:57:40.495Z"
   },
   {
    "duration": 369,
    "start_time": "2021-11-19T13:57:40.881Z"
   },
   {
    "duration": 10,
    "start_time": "2021-11-19T13:57:41.251Z"
   },
   {
    "duration": 52,
    "start_time": "2021-11-19T13:57:41.263Z"
   },
   {
    "duration": 21,
    "start_time": "2021-11-19T13:57:41.317Z"
   },
   {
    "duration": 53,
    "start_time": "2021-11-19T13:57:41.339Z"
   },
   {
    "duration": 51,
    "start_time": "2021-11-19T13:57:41.394Z"
   },
   {
    "duration": 240,
    "start_time": "2021-11-19T13:57:41.447Z"
   },
   {
    "duration": 33,
    "start_time": "2021-11-19T13:57:41.688Z"
   },
   {
    "duration": 53,
    "start_time": "2021-11-19T13:57:41.723Z"
   },
   {
    "duration": 38,
    "start_time": "2021-11-19T13:57:41.778Z"
   },
   {
    "duration": 24,
    "start_time": "2021-11-19T13:57:41.818Z"
   },
   {
    "duration": 29,
    "start_time": "2021-11-19T13:57:41.843Z"
   },
   {
    "duration": 34,
    "start_time": "2021-11-19T13:57:41.874Z"
   },
   {
    "duration": 38,
    "start_time": "2021-11-19T13:57:41.909Z"
   },
   {
    "duration": 39,
    "start_time": "2021-11-19T13:57:41.949Z"
   },
   {
    "duration": 39,
    "start_time": "2021-11-19T13:57:41.989Z"
   },
   {
    "duration": 511,
    "start_time": "2021-11-19T14:00:02.027Z"
   },
   {
    "duration": 330,
    "start_time": "2021-11-19T14:01:38.577Z"
   },
   {
    "duration": 451,
    "start_time": "2021-11-19T14:02:05.687Z"
   },
   {
    "duration": 366,
    "start_time": "2021-11-19T14:03:03.184Z"
   },
   {
    "duration": 10,
    "start_time": "2021-11-19T14:12:57.748Z"
   },
   {
    "duration": 10,
    "start_time": "2021-11-19T14:13:26.439Z"
   },
   {
    "duration": 8,
    "start_time": "2021-11-19T14:13:43.163Z"
   },
   {
    "duration": 12,
    "start_time": "2021-11-19T14:13:50.900Z"
   },
   {
    "duration": 7,
    "start_time": "2021-11-19T14:14:25.366Z"
   },
   {
    "duration": 5,
    "start_time": "2021-11-19T14:14:40.624Z"
   },
   {
    "duration": 1488,
    "start_time": "2021-11-19T16:13:38.198Z"
   },
   {
    "duration": 42,
    "start_time": "2021-11-19T16:13:39.688Z"
   },
   {
    "duration": 16,
    "start_time": "2021-11-19T16:13:39.733Z"
   },
   {
    "duration": 17,
    "start_time": "2021-11-19T16:13:39.751Z"
   },
   {
    "duration": 38,
    "start_time": "2021-11-19T16:13:39.770Z"
   },
   {
    "duration": 66851,
    "start_time": "2021-11-19T16:13:39.810Z"
   },
   {
    "duration": 5,
    "start_time": "2021-11-19T16:14:46.663Z"
   },
   {
    "duration": 20,
    "start_time": "2021-11-19T16:14:46.670Z"
   },
   {
    "duration": 4,
    "start_time": "2021-11-19T16:14:46.707Z"
   },
   {
    "duration": 16,
    "start_time": "2021-11-19T16:14:46.713Z"
   },
   {
    "duration": 6,
    "start_time": "2021-11-19T16:14:46.730Z"
   },
   {
    "duration": 10,
    "start_time": "2021-11-19T16:14:46.737Z"
   },
   {
    "duration": 4,
    "start_time": "2021-11-19T16:14:46.748Z"
   },
   {
    "duration": 7,
    "start_time": "2021-11-19T16:14:46.754Z"
   },
   {
    "duration": 9,
    "start_time": "2021-11-19T16:14:46.762Z"
   },
   {
    "duration": 42,
    "start_time": "2021-11-19T16:14:46.772Z"
   },
   {
    "duration": 5,
    "start_time": "2021-11-19T16:14:46.816Z"
   },
   {
    "duration": 16,
    "start_time": "2021-11-19T16:14:46.823Z"
   },
   {
    "duration": 6,
    "start_time": "2021-11-19T16:14:46.841Z"
   },
   {
    "duration": 6,
    "start_time": "2021-11-19T16:14:46.849Z"
   },
   {
    "duration": 19,
    "start_time": "2021-11-19T16:14:46.856Z"
   },
   {
    "duration": 32,
    "start_time": "2021-11-19T16:14:46.876Z"
   },
   {
    "duration": 7,
    "start_time": "2021-11-19T16:14:46.912Z"
   },
   {
    "duration": 22,
    "start_time": "2021-11-19T16:14:46.921Z"
   },
   {
    "duration": 4,
    "start_time": "2021-11-19T16:14:46.944Z"
   },
   {
    "duration": 7,
    "start_time": "2021-11-19T16:14:46.950Z"
   },
   {
    "duration": 4,
    "start_time": "2021-11-19T16:14:46.959Z"
   },
   {
    "duration": 47,
    "start_time": "2021-11-19T16:14:46.965Z"
   },
   {
    "duration": 5,
    "start_time": "2021-11-19T16:14:47.014Z"
   },
   {
    "duration": 7,
    "start_time": "2021-11-19T16:14:47.020Z"
   },
   {
    "duration": 5,
    "start_time": "2021-11-19T16:14:47.029Z"
   },
   {
    "duration": 7,
    "start_time": "2021-11-19T16:14:47.036Z"
   },
   {
    "duration": 10,
    "start_time": "2021-11-19T16:14:47.045Z"
   },
   {
    "duration": 21,
    "start_time": "2021-11-19T16:14:47.057Z"
   },
   {
    "duration": 42,
    "start_time": "2021-11-19T16:14:47.079Z"
   },
   {
    "duration": 284,
    "start_time": "2021-11-19T16:14:47.122Z"
   },
   {
    "duration": 5,
    "start_time": "2021-11-19T16:14:47.408Z"
   },
   {
    "duration": 463,
    "start_time": "2021-11-19T16:14:47.415Z"
   },
   {
    "duration": 1704,
    "start_time": "2021-11-19T16:14:47.879Z"
   },
   {
    "duration": 31,
    "start_time": "2021-11-19T16:14:49.584Z"
   },
   {
    "duration": 9,
    "start_time": "2021-11-19T16:14:49.617Z"
   },
   {
    "duration": 829,
    "start_time": "2021-11-19T16:14:49.628Z"
   },
   {
    "duration": 42,
    "start_time": "2021-11-19T16:14:50.475Z"
   },
   {
    "duration": 52,
    "start_time": "2021-11-19T16:14:50.535Z"
   },
   {
    "duration": 454,
    "start_time": "2021-11-19T16:14:50.589Z"
   },
   {
    "duration": 724,
    "start_time": "2021-11-19T16:14:51.045Z"
   },
   {
    "duration": 347,
    "start_time": "2021-11-19T16:14:51.770Z"
   },
   {
    "duration": 3,
    "start_time": "2021-11-19T16:14:52.118Z"
   },
   {
    "duration": 266,
    "start_time": "2021-11-19T16:14:52.123Z"
   },
   {
    "duration": 346,
    "start_time": "2021-11-19T16:14:52.390Z"
   },
   {
    "duration": 244,
    "start_time": "2021-11-19T16:14:52.738Z"
   },
   {
    "duration": 288,
    "start_time": "2021-11-19T16:14:52.984Z"
   },
   {
    "duration": 10,
    "start_time": "2021-11-19T16:14:53.273Z"
   },
   {
    "duration": 26,
    "start_time": "2021-11-19T16:14:53.285Z"
   },
   {
    "duration": 17,
    "start_time": "2021-11-19T16:14:53.312Z"
   },
   {
    "duration": 11,
    "start_time": "2021-11-19T16:14:53.331Z"
   },
   {
    "duration": 45,
    "start_time": "2021-11-19T16:14:53.344Z"
   },
   {
    "duration": 316,
    "start_time": "2021-11-19T16:14:53.391Z"
   },
   {
    "duration": 29,
    "start_time": "2021-11-19T16:14:53.709Z"
   },
   {
    "duration": 27,
    "start_time": "2021-11-19T16:14:53.740Z"
   },
   {
    "duration": 123,
    "start_time": "2021-11-19T16:14:53.768Z"
   },
   {
    "duration": 14,
    "start_time": "2021-11-19T16:14:53.893Z"
   },
   {
    "duration": 10,
    "start_time": "2021-11-19T16:14:53.909Z"
   },
   {
    "duration": 14,
    "start_time": "2021-11-19T16:14:53.921Z"
   },
   {
    "duration": 12,
    "start_time": "2021-11-19T16:14:53.936Z"
   },
   {
    "duration": 23,
    "start_time": "2021-11-19T16:14:53.950Z"
   },
   {
    "duration": 34,
    "start_time": "2021-11-19T16:14:53.975Z"
   }
  ],
  "kernelspec": {
   "display_name": "Python 3",
   "language": "python",
   "name": "python3"
  },
  "language_info": {
   "codemirror_mode": {
    "name": "ipython",
    "version": 3
   },
   "file_extension": ".py",
   "mimetype": "text/x-python",
   "name": "python",
   "nbconvert_exporter": "python",
   "pygments_lexer": "ipython3",
   "version": "3.7.8"
  },
  "toc": {
   "base_numbering": 1,
   "nav_menu": {},
   "number_sections": true,
   "sideBar": true,
   "skip_h1_title": true,
   "title_cell": "Table of Contents",
   "title_sidebar": "Contents",
   "toc_cell": false,
   "toc_position": {},
   "toc_section_display": true,
   "toc_window_display": false
  }
 },
 "nbformat": 4,
 "nbformat_minor": 2
}